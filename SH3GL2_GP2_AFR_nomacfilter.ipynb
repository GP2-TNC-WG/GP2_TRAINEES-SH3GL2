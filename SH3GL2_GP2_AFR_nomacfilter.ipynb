{
 "cells": [
  {
   "cell_type": "markdown",
   "metadata": {},
   "source": [
    "# SH3GL2 - Single gene analysis in GP2 data"
   ]
  },
  {
   "cell_type": "markdown",
   "metadata": {},
   "source": [
    "## Description\n",
    "\n",
    "Using \"individual level data\""
   ]
  },
  {
   "cell_type": "markdown",
   "metadata": {},
   "source": [
    "### 0. Getting Started\n",
    "\n",
    "- Loading Python libraries\n",
    "- Defining functions\n",
    "- Installing packages\n",
    "\n",
    "### 1. Copy data from workspace to cloud environment\n",
    "\n",
    "### 2. Extract SH3GL2\n",
    "\n",
    "### 3. Annotate SH3GL2 variants\n",
    "\n",
    "### 4. Extract coding/non-syn variants\n",
    "\n",
    "### 5. Calculate frequency in cases versus controls\n",
    "\n",
    "### 6. Calculate frequency (homozygotes) in cases versus controls\n",
    "\n",
    "### 7. Save out results"
   ]
  },
  {
   "cell_type": "markdown",
   "metadata": {},
   "source": [
    "## Getting Started"
   ]
  },
  {
   "cell_type": "markdown",
   "metadata": {},
   "source": [
    "### Loading Python libraries"
   ]
  },
  {
   "cell_type": "markdown",
   "metadata": {},
   "source": [
    "### Defining functions"
   ]
  },
  {
   "cell_type": "code",
   "execution_count": 1,
   "metadata": {
    "code_folding": []
   },
   "outputs": [],
   "source": [
    "# Use the os package to interact with the environment\n",
    "import os\n",
    "\n",
    "# Bring in Pandas for Dataframe functionality\n",
    "import pandas as pd\n",
    "\n",
    "# Numpy for basics\n",
    "import numpy as np\n",
    "\n",
    "# Use StringIO for working with file contents\n",
    "from io import StringIO\n",
    "\n",
    "# Enable IPython to display matplotlib graphs\n",
    "import matplotlib.pyplot as plt\n",
    "%matplotlib inline\n",
    "\n",
    "# Enable interaction with the FireCloud API\n",
    "from firecloud import api as fapi\n",
    "\n",
    "# Import the iPython HTML rendering for displaying links to Google Cloud Console\n",
    "from IPython.core.display import display, HTML\n",
    "\n",
    "# Import urllib modules for building URLs to Google Cloud Console\n",
    "import urllib.parse\n",
    "\n",
    "# BigQuery for querying data\n",
    "from google.cloud import bigquery\n",
    "\n",
    "#Import Sys\n",
    "import sys as sys"
   ]
  },
  {
   "cell_type": "code",
   "execution_count": 2,
   "metadata": {
    "code_folding": []
   },
   "outputs": [],
   "source": [
    "# Utility routine for printing a shell command before executing it\n",
    "def shell_do(command):\n",
    "    print(f'Executing: {command}', file=sys.stderr)\n",
    "    !$command\n",
    "    \n",
    "def shell_return(command):\n",
    "    print(f'Executing: {command}', file=sys.stderr)\n",
    "    output = !$command\n",
    "    return '\\n'.join(output)\n",
    "\n",
    "# Utility routine for printing a query before executing it\n",
    "def bq_query(query):\n",
    "    print(f'Executing: {query}', file=sys.stderr)\n",
    "    return pd.read_gbq(query, project_id=BILLING_PROJECT_ID, dialect='standard')\n",
    "\n",
    "# Utility routine for display a message and a link\n",
    "def display_html_link(description, link_text, url):\n",
    "    html = f'''\n",
    "    <p>\n",
    "    </p>\n",
    "    <p>\n",
    "    {description}\n",
    "    <a target=_blank href=\"{url}\">{link_text}</a>.\n",
    "    </p>\n",
    "    '''\n",
    "\n",
    "    display(HTML(html))\n",
    "\n",
    "# Utility routines for reading files from Google Cloud Storage\n",
    "def gcs_read_file(path):\n",
    "    \"\"\"Return the contents of a file in GCS\"\"\"\n",
    "    contents = !gsutil -u {BILLING_PROJECT_ID} cat {path}\n",
    "    return '\\n'.join(contents)\n",
    "    \n",
    "def gcs_read_csv(path, sep=None):\n",
    "    \"\"\"Return a DataFrame from the contents of a delimited file in GCS\"\"\"\n",
    "    return pd.read_csv(StringIO(gcs_read_file(path)), sep=sep, engine='python')\n",
    "\n",
    "# Utility routine for displaying a message and link to Cloud Console\n",
    "def link_to_cloud_console_gcs(description, link_text, gcs_path):\n",
    "    url = '{}?{}'.format(\n",
    "        os.path.join('https://console.cloud.google.com/storage/browser',\n",
    "                     gcs_path.replace(\"gs://\",\"\")),\n",
    "        urllib.parse.urlencode({'userProject': BILLING_PROJECT_ID}))\n",
    "\n",
    "    display_html_link(description, link_text, url)"
   ]
  },
  {
   "cell_type": "markdown",
   "metadata": {},
   "source": [
    "### Set paths"
   ]
  },
  {
   "cell_type": "code",
   "execution_count": 3,
   "metadata": {
    "code_folding": []
   },
   "outputs": [
    {
     "name": "stdout",
     "output_type": "stream",
     "text": [
      "Billing and Workspace\n",
      "Workspace Name: Endophilin-A\n",
      "Billing Project: terra-18d8e41c\n",
      "Workspace Bucket, where you can upload and download data: gs://fc-f7a400c1-827e-48f8-b7b6-90c488a000a4\n",
      "\n",
      "GP2 v5.0\n",
      "Path to GP2 v5.0 Clinical Data: gs://gp2tier2/release5_11052023/clinical_data\n",
      "Path to GP2 v5.0 Raw Genotype Data: gs://gp2tier2/release5_11052023/raw_genotypes\n",
      "Path to GP2 v5.0 Imputed Genotype Data: gs://gp2tier2/release5_11052023/imputed_genotypes\n",
      "AMP-PD v3.0\n",
      "Path to AMP-PD v3.0 Clinical Data: gs://amp-pd-data/releases/2022_v3release_1115/clinical\n",
      "Path to AMP-PD v3.0 WGS Data: gs://amp-pd-genomics/releases/2022_v3release_1115/wgs-WB-DWGS/plink\n",
      "Path to AMP-PD v3.0 WGS Data: gs://amp-pd-genomics/releases/2022_v3release_1115/wgs-WB-DWGS/plink/pfiles\n",
      "\n"
     ]
    }
   ],
   "source": [
    "# Set up billing project and data path variables\n",
    "BILLING_PROJECT_ID = os.environ['GOOGLE_PROJECT']\n",
    "WORKSPACE_NAMESPACE = os.environ['WORKSPACE_NAMESPACE']\n",
    "WORKSPACE_NAME = os.environ['WORKSPACE_NAME']\n",
    "WORKSPACE_BUCKET = os.environ['WORKSPACE_BUCKET']\n",
    "\n",
    "WORKSPACE_ATTRIBUTES = fapi.get_workspace(WORKSPACE_NAMESPACE, WORKSPACE_NAME).json().get('workspace',{}).get('attributes',{})\n",
    "\n",
    "## Print the information to check we are in the proper release and billing \n",
    "## This will be different for you, the user, depending on the billing project your workspace is on\n",
    "print('Billing and Workspace')\n",
    "print(f'Workspace Name: {WORKSPACE_NAME}')\n",
    "print(f'Billing Project: {BILLING_PROJECT_ID}')\n",
    "print(f'Workspace Bucket, where you can upload and download data: {WORKSPACE_BUCKET}')\n",
    "print('')\n",
    "\n",
    "\n",
    "## GP2 v5.0\n",
    "## Explicitly define release v5.0 path \n",
    "GP2_RELEASE_PATH = 'gs://gp2tier2/release5_11052023'\n",
    "GP2_CLINICAL_RELEASE_PATH = f'{GP2_RELEASE_PATH}/clinical_data'\n",
    "GP2_RAW_GENO_PATH = f'{GP2_RELEASE_PATH}/raw_genotypes'\n",
    "GP2_IMPUTED_GENO_PATH = f'{GP2_RELEASE_PATH}/imputed_genotypes'\n",
    "print('GP2 v5.0')\n",
    "print(f'Path to GP2 v5.0 Clinical Data: {GP2_CLINICAL_RELEASE_PATH}')\n",
    "print(f'Path to GP2 v5.0 Raw Genotype Data: {GP2_RAW_GENO_PATH}')\n",
    "print(f'Path to GP2 v5.0 Imputed Genotype Data: {GP2_IMPUTED_GENO_PATH}')\n",
    "\n",
    "\n",
    "## AMP-PD v3.0\n",
    "## Explicitly define release v3.0 path \n",
    "AMP_RELEASE_PATH = 'gs://amp-pd-data/releases/2022_v3release_1115'\n",
    "AMP_CLINICAL_RELEASE_PATH = f'{AMP_RELEASE_PATH}/clinical'\n",
    "\n",
    "AMP_WGS_RELEASE_PATH = 'gs://amp-pd-genomics/releases/2022_v3release_1115/wgs-WB-DWGS'\n",
    "AMP_WGS_RELEASE_PLINK_PATH = os.path.join(AMP_WGS_RELEASE_PATH, 'plink')\n",
    "AMP_WGS_RELEASE_PLINK_PFILES = os.path.join(AMP_WGS_RELEASE_PLINK_PATH, 'pfiles')\n",
    "\n",
    "print('AMP-PD v3.0')\n",
    "print(f'Path to AMP-PD v3.0 Clinical Data: {AMP_CLINICAL_RELEASE_PATH}')\n",
    "print(f'Path to AMP-PD v3.0 WGS Data: {AMP_WGS_RELEASE_PLINK_PATH}')\n",
    "print(f'Path to AMP-PD v3.0 WGS Data: {AMP_WGS_RELEASE_PLINK_PFILES}')\n",
    "print('')"
   ]
  },
  {
   "cell_type": "markdown",
   "metadata": {},
   "source": [
    "### Install packages"
   ]
  },
  {
   "cell_type": "markdown",
   "metadata": {},
   "source": [
    "#### Install Plink 1.9 and Plink 2.0"
   ]
  },
  {
   "cell_type": "code",
   "execution_count": 4,
   "metadata": {},
   "outputs": [
    {
     "name": "stdout",
     "output_type": "stream",
     "text": [
      "Plink1.9 is already installed in /home/jupyter/tools/\n",
      "Plink2 is already installed in /home/jupyter/tools/\n"
     ]
    }
   ],
   "source": [
    "%%bash\n",
    "\n",
    "mkdir -p ~/tools\n",
    "cd ~/tools\n",
    "\n",
    "if test -e /home/jupyter/tools/plink; then\n",
    "echo \"Plink1.9 is already installed in /home/jupyter/tools/\"\n",
    "\n",
    "else\n",
    "echo -e \"Downloading plink \\n    -------\"\n",
    "wget -N http://s3.amazonaws.com/plink1-assets/plink_linux_x86_64_20190304.zip \n",
    "unzip -o plink_linux_x86_64_20190304.zip\n",
    "echo -e \"\\n plink downloaded and unzipped in /home/jupyter/tools \\n \"\n",
    "\n",
    "fi\n",
    "\n",
    "\n",
    "if test -e /home/jupyter/tools/plink2; then\n",
    "echo \"Plink2 is already installed in /home/jupyter/tools/\"\n",
    "\n",
    "else\n",
    "echo -e \"Downloading plink2 \\n    -------\"\n",
    "wget -N https://s3.amazonaws.com/plink2-assets/alpha3/plink2_linux_avx2_20220603.zip\n",
    "unzip -o plink2_linux_avx2_20220603.zip\n",
    "echo -e \"\\n plink2 downloaded and unzipped in /home/jupyter/tools \\n \"\n",
    "\n",
    "fi"
   ]
  },
  {
   "cell_type": "code",
   "execution_count": 5,
   "metadata": {
    "scrolled": true
   },
   "outputs": [
    {
     "name": "stdout",
     "output_type": "stream",
     "text": [
      "annovar\n",
      "annovar.latest.tar.gz\n",
      "LICENSE\n",
      "plink\n",
      "plink2\n",
      "plink2_linux_avx2_20220603.zip\n",
      "plink_linux_x86_64_20190304.zip\n",
      "prettify\n",
      "toy.map\n",
      "toy.ped\n"
     ]
    }
   ],
   "source": [
    "%%bash\n",
    "ls /home/jupyter/tools/"
   ]
  },
  {
   "cell_type": "markdown",
   "metadata": {},
   "source": [
    "#### Remote restrictions"
   ]
  },
  {
   "cell_type": "code",
   "execution_count": 6,
   "metadata": {},
   "outputs": [],
   "source": [
    "%%bash\n",
    "\n",
    "# chmod plink 1.9 \n",
    "chmod u+x /home/jupyter/tools/plink"
   ]
  },
  {
   "cell_type": "code",
   "execution_count": 7,
   "metadata": {},
   "outputs": [],
   "source": [
    "%%bash\n",
    "\n",
    "# chmod plink 2.0\n",
    "chmod u+x /home/jupyter/tools/plink2"
   ]
  },
  {
   "cell_type": "markdown",
   "metadata": {},
   "source": [
    "### Install ANNOVAR"
   ]
  },
  {
   "cell_type": "code",
   "execution_count": 8,
   "metadata": {},
   "outputs": [
    {
     "name": "stdout",
     "output_type": "stream",
     "text": [
      "annovar is already installed in /home/jupyter/tools/\n"
     ]
    }
   ],
   "source": [
    "%%bash\n",
    "\n",
    "# Install ANNOVAR:\n",
    "# https://www.openbioinformatics.org/annovar/annovar_download_form.php\n",
    "\n",
    "if test -e /home/jupyter/tools/annovar; then\n",
    "\n",
    "echo \"annovar is already installed in /home/jupyter/tools/\"\n",
    "else\n",
    "echo \"annovar is not installed\"\n",
    "cd /home/jupyter/tools/\n",
    "\n",
    "wget http://www.openbioinformatics.org/annovar/download/0wgxR2rIVP/annovar.latest.tar.gz\n",
    "\n",
    "tar xvfz annovar.latest.tar.gz\n",
    "\n",
    "fi"
   ]
  },
  {
   "cell_type": "code",
   "execution_count": 9,
   "metadata": {
    "scrolled": true
   },
   "outputs": [
    {
     "name": "stdout",
     "output_type": "stream",
     "text": [
      "annovar\n",
      "annovar.latest.tar.gz\n",
      "LICENSE\n",
      "plink\n",
      "plink2\n",
      "plink2_linux_avx2_20220603.zip\n",
      "plink_linux_x86_64_20190304.zip\n",
      "prettify\n",
      "toy.map\n",
      "toy.ped\n"
     ]
    }
   ],
   "source": [
    "%%bash\n",
    "ls /home/jupyter/tools/"
   ]
  },
  {
   "cell_type": "markdown",
   "metadata": {},
   "source": [
    "#### Install ANNOVAR: Download sources of annotation "
   ]
  },
  {
   "cell_type": "code",
   "execution_count": 10,
   "metadata": {
    "scrolled": true
   },
   "outputs": [
    {
     "name": "stderr",
     "output_type": "stream",
     "text": [
      "NOTICE: Web-based checking to see whether ANNOVAR new version is available ... Done\n",
      "NOTICE: Downloading annotation database http://www.openbioinformatics.org/annovar/download/hg38_refGene.txt.gz ... OK\n",
      "NOTICE: Downloading annotation database http://www.openbioinformatics.org/annovar/download/hg38_refGeneMrna.fa.gz ... OK\n",
      "NOTICE: Downloading annotation database http://www.openbioinformatics.org/annovar/download/hg38_refGeneVersion.txt.gz ... OK\n",
      "NOTICE: Uncompressing downloaded files\n",
      "NOTICE: Finished downloading annotation files for hg38 build version, with files saved at the 'humandb' directory\n",
      "NOTICE: Web-based checking to see whether ANNOVAR new version is available ... Done\n",
      "NOTICE: Downloading annotation database http://www.openbioinformatics.org/annovar/download/hg38_clinvar_20140902.txt.gz ... OK\n",
      "NOTICE: Downloading annotation database http://www.openbioinformatics.org/annovar/download/hg38_clinvar_20140902.txt.idx.gz ... OK\n",
      "NOTICE: Uncompressing downloaded files\n",
      "NOTICE: Finished downloading annotation files for hg38 build version, with files saved at the 'humandb' directory\n"
     ]
    }
   ],
   "source": [
    "%%bash\n",
    "\n",
    "cd /home/jupyter/tools/annovar/\n",
    "\n",
    "perl annotate_variation.pl -buildver hg38 -downdb -webfrom annovar refGene humandb/\n",
    "perl annotate_variation.pl -buildver hg38 -downdb -webfrom annovar clinvar_20140902 humandb/\n",
    "#perl annotate_variation.pl -buildver hg38 -downdb cytoBand humandb/\n",
    "#perl annotate_variation.pl -buildver hg38 -downdb -webfrom annovar ensGene humandb/\n",
    "#perl annotate_variation.pl -buildver hg38 -downdb -webfrom annovar exac03 humandb/ \n",
    "#perl annotate_variation.pl -buildver hg38 -downdb -webfrom annovar avsnp147 humandb/ \n",
    "#perl annotate_variation.pl -buildver hg38 -downdb -webfrom annovar dbnsfp30a humandb/\n",
    "#perl annotate_variation.pl -buildver hg38 -downdb -webfrom annovar gnomad211_genome humandb/\n",
    "#perl annotate_variation.pl -buildver hg38 -downdb -webfrom annovar ljb26_all humandb/"
   ]
  },
  {
   "cell_type": "code",
   "execution_count": 11,
   "metadata": {
    "scrolled": true
   },
   "outputs": [
    {
     "name": "stdout",
     "output_type": "stream",
     "text": [
      "annotate_variation.pl\n",
      "coding_change.pl\n",
      "convert2annovar.pl\n",
      "example\n",
      "humandb\n",
      "retrieve_seq_from_fasta.pl\n",
      "table_annovar.pl\n",
      "variants_reduction.pl\n"
     ]
    }
   ],
   "source": [
    "%%bash\n",
    "ls /home/jupyter/tools/annovar/"
   ]
  },
  {
   "cell_type": "markdown",
   "metadata": {},
   "source": [
    "## AFRICAN"
   ]
  },
  {
   "cell_type": "markdown",
   "metadata": {},
   "source": [
    "## Copy data from GP2 bucket to workspace"
   ]
  },
  {
   "cell_type": "code",
   "execution_count": 4,
   "metadata": {
    "scrolled": false
   },
   "outputs": [
    {
     "name": "stdout",
     "output_type": "stream",
     "text": [
      "Making a working directory\n"
     ]
    },
    {
     "name": "stderr",
     "output_type": "stream",
     "text": [
      "Executing: mkdir -p /home/jupyter/SH3GL2_GP2/\n"
     ]
    }
   ],
   "source": [
    "# Make a directory\n",
    "print(\"Making a working directory\")\n",
    "WORK_DIR = f'/home/jupyter/SH3GL2_GP2/'\n",
    "shell_do(f'mkdir -p {WORK_DIR}')  # f' means f-string - contains expressions to execute the code"
   ]
  },
  {
   "cell_type": "code",
   "execution_count": 6,
   "metadata": {
    "scrolled": true
   },
   "outputs": [
    {
     "name": "stderr",
     "output_type": "stream",
     "text": [
      "Executing: gsutil -u terra-18d8e41c ls gs://gp2tier2/release5_11052023/imputed_genotypes/AFR/\n"
     ]
    },
    {
     "name": "stdout",
     "output_type": "stream",
     "text": [
      "gs://gp2tier2/release5_11052023/imputed_genotypes/AFR/chr10_AFR_release5.log\r\n",
      "gs://gp2tier2/release5_11052023/imputed_genotypes/AFR/chr10_AFR_release5.pgen\r\n",
      "gs://gp2tier2/release5_11052023/imputed_genotypes/AFR/chr10_AFR_release5.psam\r\n",
      "gs://gp2tier2/release5_11052023/imputed_genotypes/AFR/chr10_AFR_release5.pvar\r\n",
      "gs://gp2tier2/release5_11052023/imputed_genotypes/AFR/chr10_AFR_release5_no_mac_filter.log\r\n",
      "gs://gp2tier2/release5_11052023/imputed_genotypes/AFR/chr10_AFR_release5_no_mac_filter.pgen\r\n",
      "gs://gp2tier2/release5_11052023/imputed_genotypes/AFR/chr10_AFR_release5_no_mac_filter.psam\r\n",
      "gs://gp2tier2/release5_11052023/imputed_genotypes/AFR/chr10_AFR_release5_no_mac_filter.pvar\r\n",
      "gs://gp2tier2/release5_11052023/imputed_genotypes/AFR/chr11_AFR_release5.log\r\n",
      "gs://gp2tier2/release5_11052023/imputed_genotypes/AFR/chr11_AFR_release5.pgen\r\n",
      "gs://gp2tier2/release5_11052023/imputed_genotypes/AFR/chr11_AFR_release5.psam\r\n",
      "gs://gp2tier2/release5_11052023/imputed_genotypes/AFR/chr11_AFR_release5.pvar\r\n",
      "gs://gp2tier2/release5_11052023/imputed_genotypes/AFR/chr11_AFR_release5_no_mac_filter.log\r\n",
      "gs://gp2tier2/release5_11052023/imputed_genotypes/AFR/chr11_AFR_release5_no_mac_filter.pgen\r\n",
      "gs://gp2tier2/release5_11052023/imputed_genotypes/AFR/chr11_AFR_release5_no_mac_filter.psam\r\n",
      "gs://gp2tier2/release5_11052023/imputed_genotypes/AFR/chr11_AFR_release5_no_mac_filter.pvar\r\n",
      "gs://gp2tier2/release5_11052023/imputed_genotypes/AFR/chr12_AFR_release5.log\r\n",
      "gs://gp2tier2/release5_11052023/imputed_genotypes/AFR/chr12_AFR_release5.pgen\r\n",
      "gs://gp2tier2/release5_11052023/imputed_genotypes/AFR/chr12_AFR_release5.psam\r\n",
      "gs://gp2tier2/release5_11052023/imputed_genotypes/AFR/chr12_AFR_release5.pvar\r\n",
      "gs://gp2tier2/release5_11052023/imputed_genotypes/AFR/chr12_AFR_release5_no_mac_filter.log\r\n",
      "gs://gp2tier2/release5_11052023/imputed_genotypes/AFR/chr12_AFR_release5_no_mac_filter.pgen\r\n",
      "gs://gp2tier2/release5_11052023/imputed_genotypes/AFR/chr12_AFR_release5_no_mac_filter.psam\r\n",
      "gs://gp2tier2/release5_11052023/imputed_genotypes/AFR/chr12_AFR_release5_no_mac_filter.pvar\r\n",
      "gs://gp2tier2/release5_11052023/imputed_genotypes/AFR/chr13_AFR_release5.log\r\n",
      "gs://gp2tier2/release5_11052023/imputed_genotypes/AFR/chr13_AFR_release5.pgen\r\n",
      "gs://gp2tier2/release5_11052023/imputed_genotypes/AFR/chr13_AFR_release5.psam\r\n",
      "gs://gp2tier2/release5_11052023/imputed_genotypes/AFR/chr13_AFR_release5.pvar\r\n",
      "gs://gp2tier2/release5_11052023/imputed_genotypes/AFR/chr13_AFR_release5_no_mac_filter.log\r\n",
      "gs://gp2tier2/release5_11052023/imputed_genotypes/AFR/chr13_AFR_release5_no_mac_filter.pgen\r\n",
      "gs://gp2tier2/release5_11052023/imputed_genotypes/AFR/chr13_AFR_release5_no_mac_filter.psam\r\n",
      "gs://gp2tier2/release5_11052023/imputed_genotypes/AFR/chr13_AFR_release5_no_mac_filter.pvar\r\n",
      "gs://gp2tier2/release5_11052023/imputed_genotypes/AFR/chr14_AFR_release5.log\r\n",
      "gs://gp2tier2/release5_11052023/imputed_genotypes/AFR/chr14_AFR_release5.pgen\r\n",
      "gs://gp2tier2/release5_11052023/imputed_genotypes/AFR/chr14_AFR_release5.psam\r\n",
      "gs://gp2tier2/release5_11052023/imputed_genotypes/AFR/chr14_AFR_release5.pvar\r\n",
      "gs://gp2tier2/release5_11052023/imputed_genotypes/AFR/chr14_AFR_release5_no_mac_filter.log\r\n",
      "gs://gp2tier2/release5_11052023/imputed_genotypes/AFR/chr14_AFR_release5_no_mac_filter.pgen\r\n",
      "gs://gp2tier2/release5_11052023/imputed_genotypes/AFR/chr14_AFR_release5_no_mac_filter.psam\r\n",
      "gs://gp2tier2/release5_11052023/imputed_genotypes/AFR/chr14_AFR_release5_no_mac_filter.pvar\r\n",
      "gs://gp2tier2/release5_11052023/imputed_genotypes/AFR/chr15_AFR_release5.log\r\n",
      "gs://gp2tier2/release5_11052023/imputed_genotypes/AFR/chr15_AFR_release5.pgen\r\n",
      "gs://gp2tier2/release5_11052023/imputed_genotypes/AFR/chr15_AFR_release5.psam\r\n",
      "gs://gp2tier2/release5_11052023/imputed_genotypes/AFR/chr15_AFR_release5.pvar\r\n",
      "gs://gp2tier2/release5_11052023/imputed_genotypes/AFR/chr15_AFR_release5_no_mac_filter.log\r\n",
      "gs://gp2tier2/release5_11052023/imputed_genotypes/AFR/chr15_AFR_release5_no_mac_filter.pgen\r\n",
      "gs://gp2tier2/release5_11052023/imputed_genotypes/AFR/chr15_AFR_release5_no_mac_filter.psam\r\n",
      "gs://gp2tier2/release5_11052023/imputed_genotypes/AFR/chr15_AFR_release5_no_mac_filter.pvar\r\n",
      "gs://gp2tier2/release5_11052023/imputed_genotypes/AFR/chr16_AFR_release5.log\r\n",
      "gs://gp2tier2/release5_11052023/imputed_genotypes/AFR/chr16_AFR_release5.pgen\r\n",
      "gs://gp2tier2/release5_11052023/imputed_genotypes/AFR/chr16_AFR_release5.psam\r\n",
      "gs://gp2tier2/release5_11052023/imputed_genotypes/AFR/chr16_AFR_release5.pvar\r\n",
      "gs://gp2tier2/release5_11052023/imputed_genotypes/AFR/chr16_AFR_release5_no_mac_filter.log\r\n",
      "gs://gp2tier2/release5_11052023/imputed_genotypes/AFR/chr16_AFR_release5_no_mac_filter.pgen\r\n",
      "gs://gp2tier2/release5_11052023/imputed_genotypes/AFR/chr16_AFR_release5_no_mac_filter.psam\r\n",
      "gs://gp2tier2/release5_11052023/imputed_genotypes/AFR/chr16_AFR_release5_no_mac_filter.pvar\r\n",
      "gs://gp2tier2/release5_11052023/imputed_genotypes/AFR/chr17_AFR_release5.log\r\n",
      "gs://gp2tier2/release5_11052023/imputed_genotypes/AFR/chr17_AFR_release5.pgen\r\n",
      "gs://gp2tier2/release5_11052023/imputed_genotypes/AFR/chr17_AFR_release5.psam\r\n",
      "gs://gp2tier2/release5_11052023/imputed_genotypes/AFR/chr17_AFR_release5.pvar\r\n",
      "gs://gp2tier2/release5_11052023/imputed_genotypes/AFR/chr17_AFR_release5_no_mac_filter.log\r\n",
      "gs://gp2tier2/release5_11052023/imputed_genotypes/AFR/chr17_AFR_release5_no_mac_filter.pgen\r\n",
      "gs://gp2tier2/release5_11052023/imputed_genotypes/AFR/chr17_AFR_release5_no_mac_filter.psam\r\n",
      "gs://gp2tier2/release5_11052023/imputed_genotypes/AFR/chr17_AFR_release5_no_mac_filter.pvar\r\n",
      "gs://gp2tier2/release5_11052023/imputed_genotypes/AFR/chr18_AFR_release5.log\r\n",
      "gs://gp2tier2/release5_11052023/imputed_genotypes/AFR/chr18_AFR_release5.pgen\r\n",
      "gs://gp2tier2/release5_11052023/imputed_genotypes/AFR/chr18_AFR_release5.psam\r\n",
      "gs://gp2tier2/release5_11052023/imputed_genotypes/AFR/chr18_AFR_release5.pvar\r\n",
      "gs://gp2tier2/release5_11052023/imputed_genotypes/AFR/chr18_AFR_release5_no_mac_filter.log\r\n",
      "gs://gp2tier2/release5_11052023/imputed_genotypes/AFR/chr18_AFR_release5_no_mac_filter.pgen\r\n",
      "gs://gp2tier2/release5_11052023/imputed_genotypes/AFR/chr18_AFR_release5_no_mac_filter.psam\r\n",
      "gs://gp2tier2/release5_11052023/imputed_genotypes/AFR/chr18_AFR_release5_no_mac_filter.pvar\r\n",
      "gs://gp2tier2/release5_11052023/imputed_genotypes/AFR/chr19_AFR_release5.log\r\n",
      "gs://gp2tier2/release5_11052023/imputed_genotypes/AFR/chr19_AFR_release5.pgen\r\n",
      "gs://gp2tier2/release5_11052023/imputed_genotypes/AFR/chr19_AFR_release5.psam\r\n",
      "gs://gp2tier2/release5_11052023/imputed_genotypes/AFR/chr19_AFR_release5.pvar\r\n",
      "gs://gp2tier2/release5_11052023/imputed_genotypes/AFR/chr19_AFR_release5_no_mac_filter.log\r\n",
      "gs://gp2tier2/release5_11052023/imputed_genotypes/AFR/chr19_AFR_release5_no_mac_filter.pgen\r\n",
      "gs://gp2tier2/release5_11052023/imputed_genotypes/AFR/chr19_AFR_release5_no_mac_filter.psam\r\n",
      "gs://gp2tier2/release5_11052023/imputed_genotypes/AFR/chr19_AFR_release5_no_mac_filter.pvar\r\n",
      "gs://gp2tier2/release5_11052023/imputed_genotypes/AFR/chr1_AFR_release5.log\r\n",
      "gs://gp2tier2/release5_11052023/imputed_genotypes/AFR/chr1_AFR_release5.pgen\r\n",
      "gs://gp2tier2/release5_11052023/imputed_genotypes/AFR/chr1_AFR_release5.psam\r\n",
      "gs://gp2tier2/release5_11052023/imputed_genotypes/AFR/chr1_AFR_release5.pvar\r\n",
      "gs://gp2tier2/release5_11052023/imputed_genotypes/AFR/chr1_AFR_release5_no_mac_filter.log\r\n",
      "gs://gp2tier2/release5_11052023/imputed_genotypes/AFR/chr1_AFR_release5_no_mac_filter.pgen\r\n",
      "gs://gp2tier2/release5_11052023/imputed_genotypes/AFR/chr1_AFR_release5_no_mac_filter.psam\r\n",
      "gs://gp2tier2/release5_11052023/imputed_genotypes/AFR/chr1_AFR_release5_no_mac_filter.pvar\r\n",
      "gs://gp2tier2/release5_11052023/imputed_genotypes/AFR/chr20_AFR_release5.log\r\n",
      "gs://gp2tier2/release5_11052023/imputed_genotypes/AFR/chr20_AFR_release5.pgen\r\n",
      "gs://gp2tier2/release5_11052023/imputed_genotypes/AFR/chr20_AFR_release5.psam\r\n",
      "gs://gp2tier2/release5_11052023/imputed_genotypes/AFR/chr20_AFR_release5.pvar\r\n",
      "gs://gp2tier2/release5_11052023/imputed_genotypes/AFR/chr20_AFR_release5_no_mac_filter.log\r\n",
      "gs://gp2tier2/release5_11052023/imputed_genotypes/AFR/chr20_AFR_release5_no_mac_filter.pgen\r\n",
      "gs://gp2tier2/release5_11052023/imputed_genotypes/AFR/chr20_AFR_release5_no_mac_filter.psam\r\n",
      "gs://gp2tier2/release5_11052023/imputed_genotypes/AFR/chr20_AFR_release5_no_mac_filter.pvar\r\n",
      "gs://gp2tier2/release5_11052023/imputed_genotypes/AFR/chr21_AFR_release5.log\r\n",
      "gs://gp2tier2/release5_11052023/imputed_genotypes/AFR/chr21_AFR_release5.pgen\r\n",
      "gs://gp2tier2/release5_11052023/imputed_genotypes/AFR/chr21_AFR_release5.psam\r\n",
      "gs://gp2tier2/release5_11052023/imputed_genotypes/AFR/chr21_AFR_release5.pvar\r\n",
      "gs://gp2tier2/release5_11052023/imputed_genotypes/AFR/chr21_AFR_release5_no_mac_filter.log\r\n",
      "gs://gp2tier2/release5_11052023/imputed_genotypes/AFR/chr21_AFR_release5_no_mac_filter.pgen\r\n",
      "gs://gp2tier2/release5_11052023/imputed_genotypes/AFR/chr21_AFR_release5_no_mac_filter.psam\r\n",
      "gs://gp2tier2/release5_11052023/imputed_genotypes/AFR/chr21_AFR_release5_no_mac_filter.pvar\r\n",
      "gs://gp2tier2/release5_11052023/imputed_genotypes/AFR/chr22_AFR_release5.log\r\n",
      "gs://gp2tier2/release5_11052023/imputed_genotypes/AFR/chr22_AFR_release5.pgen\r\n",
      "gs://gp2tier2/release5_11052023/imputed_genotypes/AFR/chr22_AFR_release5.psam\r\n",
      "gs://gp2tier2/release5_11052023/imputed_genotypes/AFR/chr22_AFR_release5.pvar\r\n",
      "gs://gp2tier2/release5_11052023/imputed_genotypes/AFR/chr22_AFR_release5_no_mac_filter.log\r\n",
      "gs://gp2tier2/release5_11052023/imputed_genotypes/AFR/chr22_AFR_release5_no_mac_filter.pgen\r\n",
      "gs://gp2tier2/release5_11052023/imputed_genotypes/AFR/chr22_AFR_release5_no_mac_filter.psam\r\n",
      "gs://gp2tier2/release5_11052023/imputed_genotypes/AFR/chr22_AFR_release5_no_mac_filter.pvar\r\n",
      "gs://gp2tier2/release5_11052023/imputed_genotypes/AFR/chr2_AFR_release5.log\r\n",
      "gs://gp2tier2/release5_11052023/imputed_genotypes/AFR/chr2_AFR_release5.pgen\r\n",
      "gs://gp2tier2/release5_11052023/imputed_genotypes/AFR/chr2_AFR_release5.psam\r\n",
      "gs://gp2tier2/release5_11052023/imputed_genotypes/AFR/chr2_AFR_release5.pvar\r\n",
      "gs://gp2tier2/release5_11052023/imputed_genotypes/AFR/chr2_AFR_release5_no_mac_filter.log\r\n",
      "gs://gp2tier2/release5_11052023/imputed_genotypes/AFR/chr2_AFR_release5_no_mac_filter.pgen\r\n",
      "gs://gp2tier2/release5_11052023/imputed_genotypes/AFR/chr2_AFR_release5_no_mac_filter.psam\r\n",
      "gs://gp2tier2/release5_11052023/imputed_genotypes/AFR/chr2_AFR_release5_no_mac_filter.pvar\r\n",
      "gs://gp2tier2/release5_11052023/imputed_genotypes/AFR/chr3_AFR_release5.log\r\n",
      "gs://gp2tier2/release5_11052023/imputed_genotypes/AFR/chr3_AFR_release5.pgen\r\n",
      "gs://gp2tier2/release5_11052023/imputed_genotypes/AFR/chr3_AFR_release5.psam\r\n",
      "gs://gp2tier2/release5_11052023/imputed_genotypes/AFR/chr3_AFR_release5.pvar\r\n",
      "gs://gp2tier2/release5_11052023/imputed_genotypes/AFR/chr3_AFR_release5_no_mac_filter.log\r\n",
      "gs://gp2tier2/release5_11052023/imputed_genotypes/AFR/chr3_AFR_release5_no_mac_filter.pgen\r\n",
      "gs://gp2tier2/release5_11052023/imputed_genotypes/AFR/chr3_AFR_release5_no_mac_filter.psam\r\n",
      "gs://gp2tier2/release5_11052023/imputed_genotypes/AFR/chr3_AFR_release5_no_mac_filter.pvar\r\n",
      "gs://gp2tier2/release5_11052023/imputed_genotypes/AFR/chr4_AFR_release5.log\r\n",
      "gs://gp2tier2/release5_11052023/imputed_genotypes/AFR/chr4_AFR_release5.pgen\r\n",
      "gs://gp2tier2/release5_11052023/imputed_genotypes/AFR/chr4_AFR_release5.psam\r\n",
      "gs://gp2tier2/release5_11052023/imputed_genotypes/AFR/chr4_AFR_release5.pvar\r\n",
      "gs://gp2tier2/release5_11052023/imputed_genotypes/AFR/chr4_AFR_release5_no_mac_filter.log\r\n",
      "gs://gp2tier2/release5_11052023/imputed_genotypes/AFR/chr4_AFR_release5_no_mac_filter.pgen\r\n",
      "gs://gp2tier2/release5_11052023/imputed_genotypes/AFR/chr4_AFR_release5_no_mac_filter.psam\r\n",
      "gs://gp2tier2/release5_11052023/imputed_genotypes/AFR/chr4_AFR_release5_no_mac_filter.pvar\r\n",
      "gs://gp2tier2/release5_11052023/imputed_genotypes/AFR/chr5_AFR_release5.log\r\n",
      "gs://gp2tier2/release5_11052023/imputed_genotypes/AFR/chr5_AFR_release5.pgen\r\n",
      "gs://gp2tier2/release5_11052023/imputed_genotypes/AFR/chr5_AFR_release5.psam\r\n",
      "gs://gp2tier2/release5_11052023/imputed_genotypes/AFR/chr5_AFR_release5.pvar\r\n",
      "gs://gp2tier2/release5_11052023/imputed_genotypes/AFR/chr5_AFR_release5_no_mac_filter.log\r\n",
      "gs://gp2tier2/release5_11052023/imputed_genotypes/AFR/chr5_AFR_release5_no_mac_filter.pgen\r\n",
      "gs://gp2tier2/release5_11052023/imputed_genotypes/AFR/chr5_AFR_release5_no_mac_filter.psam\r\n",
      "gs://gp2tier2/release5_11052023/imputed_genotypes/AFR/chr5_AFR_release5_no_mac_filter.pvar\r\n",
      "gs://gp2tier2/release5_11052023/imputed_genotypes/AFR/chr6_AFR_release5.log\r\n",
      "gs://gp2tier2/release5_11052023/imputed_genotypes/AFR/chr6_AFR_release5.pgen\r\n",
      "gs://gp2tier2/release5_11052023/imputed_genotypes/AFR/chr6_AFR_release5.psam\r\n",
      "gs://gp2tier2/release5_11052023/imputed_genotypes/AFR/chr6_AFR_release5.pvar\r\n",
      "gs://gp2tier2/release5_11052023/imputed_genotypes/AFR/chr6_AFR_release5_no_mac_filter.log\r\n",
      "gs://gp2tier2/release5_11052023/imputed_genotypes/AFR/chr6_AFR_release5_no_mac_filter.pgen\r\n",
      "gs://gp2tier2/release5_11052023/imputed_genotypes/AFR/chr6_AFR_release5_no_mac_filter.psam\r\n",
      "gs://gp2tier2/release5_11052023/imputed_genotypes/AFR/chr6_AFR_release5_no_mac_filter.pvar\r\n",
      "gs://gp2tier2/release5_11052023/imputed_genotypes/AFR/chr7_AFR_release5.log\r\n",
      "gs://gp2tier2/release5_11052023/imputed_genotypes/AFR/chr7_AFR_release5.pgen\r\n",
      "gs://gp2tier2/release5_11052023/imputed_genotypes/AFR/chr7_AFR_release5.psam\r\n",
      "gs://gp2tier2/release5_11052023/imputed_genotypes/AFR/chr7_AFR_release5.pvar\r\n",
      "gs://gp2tier2/release5_11052023/imputed_genotypes/AFR/chr7_AFR_release5_no_mac_filter.log\r\n",
      "gs://gp2tier2/release5_11052023/imputed_genotypes/AFR/chr7_AFR_release5_no_mac_filter.pgen\r\n",
      "gs://gp2tier2/release5_11052023/imputed_genotypes/AFR/chr7_AFR_release5_no_mac_filter.psam\r\n",
      "gs://gp2tier2/release5_11052023/imputed_genotypes/AFR/chr7_AFR_release5_no_mac_filter.pvar\r\n",
      "gs://gp2tier2/release5_11052023/imputed_genotypes/AFR/chr8_AFR_release5.log\r\n",
      "gs://gp2tier2/release5_11052023/imputed_genotypes/AFR/chr8_AFR_release5.pgen\r\n",
      "gs://gp2tier2/release5_11052023/imputed_genotypes/AFR/chr8_AFR_release5.psam\r\n",
      "gs://gp2tier2/release5_11052023/imputed_genotypes/AFR/chr8_AFR_release5.pvar\r\n",
      "gs://gp2tier2/release5_11052023/imputed_genotypes/AFR/chr8_AFR_release5_no_mac_filter.log\r\n",
      "gs://gp2tier2/release5_11052023/imputed_genotypes/AFR/chr8_AFR_release5_no_mac_filter.pgen\r\n",
      "gs://gp2tier2/release5_11052023/imputed_genotypes/AFR/chr8_AFR_release5_no_mac_filter.psam\r\n",
      "gs://gp2tier2/release5_11052023/imputed_genotypes/AFR/chr8_AFR_release5_no_mac_filter.pvar\r\n",
      "gs://gp2tier2/release5_11052023/imputed_genotypes/AFR/chr9_AFR_release5.log\r\n",
      "gs://gp2tier2/release5_11052023/imputed_genotypes/AFR/chr9_AFR_release5.pgen\r\n",
      "gs://gp2tier2/release5_11052023/imputed_genotypes/AFR/chr9_AFR_release5.psam\r\n",
      "gs://gp2tier2/release5_11052023/imputed_genotypes/AFR/chr9_AFR_release5.pvar\r\n",
      "gs://gp2tier2/release5_11052023/imputed_genotypes/AFR/chr9_AFR_release5_no_mac_filter.log\r\n",
      "gs://gp2tier2/release5_11052023/imputed_genotypes/AFR/chr9_AFR_release5_no_mac_filter.pgen\r\n",
      "gs://gp2tier2/release5_11052023/imputed_genotypes/AFR/chr9_AFR_release5_no_mac_filter.psam\r\n",
      "gs://gp2tier2/release5_11052023/imputed_genotypes/AFR/chr9_AFR_release5_no_mac_filter.pvar\r\n",
      "gs://gp2tier2/release5_11052023/imputed_genotypes/AFR/chrX_AFR_release5.log\r\n",
      "gs://gp2tier2/release5_11052023/imputed_genotypes/AFR/chrX_AFR_release5.pgen\r\n",
      "gs://gp2tier2/release5_11052023/imputed_genotypes/AFR/chrX_AFR_release5.psam\r\n",
      "gs://gp2tier2/release5_11052023/imputed_genotypes/AFR/chrX_AFR_release5.pvar\r\n",
      "gs://gp2tier2/release5_11052023/imputed_genotypes/AFR/chrX_AFR_release5_no_mac_filter.log\r\n",
      "gs://gp2tier2/release5_11052023/imputed_genotypes/AFR/chrX_AFR_release5_no_mac_filter.pgen\r\n",
      "gs://gp2tier2/release5_11052023/imputed_genotypes/AFR/chrX_AFR_release5_no_mac_filter.psam\r\n",
      "gs://gp2tier2/release5_11052023/imputed_genotypes/AFR/chrX_AFR_release5_no_mac_filter.pvar\r\n"
     ]
    }
   ],
   "source": [
    "# Check directory where GP2 data is\n",
    "shell_do(f'gsutil -u {BILLING_PROJECT_ID} ls {GP2_IMPUTED_GENO_PATH}/AFR/')"
   ]
  },
  {
   "cell_type": "code",
   "execution_count": 7,
   "metadata": {
    "scrolled": true
   },
   "outputs": [
    {
     "name": "stderr",
     "output_type": "stream",
     "text": [
      "Executing: gsutil -u terra-18d8e41c -m cp -r gs://gp2tier2/release5_11052023/imputed_genotypes/AFR/chr9_AFR_release5_no_mac_filter* /home/jupyter/SH3GL2_GP2/\n"
     ]
    },
    {
     "name": "stdout",
     "output_type": "stream",
     "text": [
      "Copying gs://gp2tier2/release5_11052023/imputed_genotypes/AFR/chr9_AFR_release5_no_mac_filter.pvar...\n",
      "Copying gs://gp2tier2/release5_11052023/imputed_genotypes/AFR/chr9_AFR_release5_no_mac_filter.psam...\n",
      "Copying gs://gp2tier2/release5_11052023/imputed_genotypes/AFR/chr9_AFR_release5_no_mac_filter.log...\n",
      "Copying gs://gp2tier2/release5_11052023/imputed_genotypes/AFR/chr9_AFR_release5_no_mac_filter.pgen...\n",
      "| [4/4 files][  2.1 GiB/  2.1 GiB] 100% Done  40.4 MiB/s ETA 00:00:00           \n",
      "Operation completed over 4 objects/2.1 GiB.                                      \n"
     ]
    }
   ],
   "source": [
    "shell_do(f'gsutil -u {BILLING_PROJECT_ID} -m cp -r {GP2_IMPUTED_GENO_PATH}/AFR/chr9_AFR_release5_no_mac_filter* {WORK_DIR}')"
   ]
  },
  {
   "cell_type": "markdown",
   "metadata": {},
   "source": [
    "### Create a covariate file with GP2 data"
   ]
  },
  {
   "cell_type": "code",
   "execution_count": 5,
   "metadata": {
    "scrolled": false
   },
   "outputs": [
    {
     "name": "stderr",
     "output_type": "stream",
     "text": [
      "Executing: gsutil -u terra-18d8e41c ls gs://gp2tier2/release5_11052023/clinical_data\n"
     ]
    },
    {
     "name": "stdout",
     "output_type": "stream",
     "text": [
      "gs://gp2tier2/release5_11052023/clinical_data/master_key_release5_final.csv\r\n",
      "gs://gp2tier2/release5_11052023/clinical_data/release5_data_dictionary.csv\r\n"
     ]
    },
    {
     "name": "stderr",
     "output_type": "stream",
     "text": [
      "Executing: gsutil -u terra-18d8e41c -m cp -r gs://gp2tier2/release5_11052023/clinical_data/master_key_release5_final.csv /home/jupyter/SH3GL2_GP2/\n"
     ]
    },
    {
     "name": "stdout",
     "output_type": "stream",
     "text": [
      "Copying gs://gp2tier2/release5_11052023/clinical_data/master_key_release5_final.csv...\n",
      "/ [1/1 files][  2.5 MiB/  2.5 MiB] 100% Done                                    \n",
      "Operation completed over 1 objects/2.5 MiB.                                      \n"
     ]
    }
   ],
   "source": [
    "shell_do(f'gsutil -u {BILLING_PROJECT_ID} ls {GP2_CLINICAL_RELEASE_PATH}')\n",
    "shell_do(f'gsutil -u {BILLING_PROJECT_ID} -m cp -r {GP2_CLINICAL_RELEASE_PATH}/master_key_release5_final.csv {WORK_DIR}')"
   ]
  },
  {
   "cell_type": "code",
   "execution_count": 6,
   "metadata": {
    "scrolled": false
   },
   "outputs": [
    {
     "data": {
      "text/plain": [
       "Index(['GP2ID', 'GP2sampleID', 'manifest_id', 'phenotype', 'pheno_for_qc',\n",
       "       'other_pheno', 'sex_for_qc', 'age', 'age_of_onset', 'age_at_diagnosis',\n",
       "       'age_at_death', 'race_for_qc', 'family_history', 'region_for_qc',\n",
       "       'study', 'pruned', 'pruned_reason', 'label', 'related'],\n",
       "      dtype='object')"
      ]
     },
     "execution_count": 6,
     "metadata": {},
     "output_type": "execute_result"
    }
   ],
   "source": [
    "cov = pd.read_csv(f'{WORK_DIR}/master_key_release5_final.csv')\n",
    "cov.columns"
   ]
  },
  {
   "cell_type": "code",
   "execution_count": 7,
   "metadata": {
    "scrolled": false
   },
   "outputs": [],
   "source": [
    "cov_reduced = cov[['GP2sampleID','GP2sampleID','sex_for_qc', 'age', 'phenotype']]\n",
    "cov_reduced.columns = ['FID','IID', 'SEX','AGE','PHENO']\n",
    "#cov_reduced"
   ]
  },
  {
   "cell_type": "code",
   "execution_count": 8,
   "metadata": {},
   "outputs": [],
   "source": [
    "conditions = [\n",
    "    (cov_reduced['PHENO'] == \"PD\"),\n",
    "    (cov_reduced['PHENO'] == \"Control\")]"
   ]
  },
  {
   "cell_type": "code",
   "execution_count": 9,
   "metadata": {
    "scrolled": true
   },
   "outputs": [
    {
     "name": "stderr",
     "output_type": "stream",
     "text": [
      "/opt/conda/lib/python3.7/site-packages/ipykernel_launcher.py:2: SettingWithCopyWarning: \n",
      "A value is trying to be set on a copy of a slice from a DataFrame.\n",
      "Try using .loc[row_indexer,col_indexer] = value instead\n",
      "\n",
      "See the caveats in the documentation: https://pandas.pydata.org/pandas-docs/stable/user_guide/indexing.html#returning-a-view-versus-a-copy\n",
      "  \n"
     ]
    }
   ],
   "source": [
    "choices = [2,1]\n",
    "cov_reduced['PHENOTYPE'] = np.select(conditions, choices, default=-9).astype(np.int64)"
   ]
  },
  {
   "cell_type": "code",
   "execution_count": 10,
   "metadata": {
    "scrolled": false
   },
   "outputs": [
    {
     "name": "stderr",
     "output_type": "stream",
     "text": [
      "/opt/conda/lib/python3.7/site-packages/pandas/core/frame.py:4913: SettingWithCopyWarning: \n",
      "A value is trying to be set on a copy of a slice from a DataFrame\n",
      "\n",
      "See the caveats in the documentation: https://pandas.pydata.org/pandas-docs/stable/user_guide/indexing.html#returning-a-view-versus-a-copy\n",
      "  errors=errors,\n"
     ]
    }
   ],
   "source": [
    "cov_reduced.reset_index(inplace=True)\n",
    "cov_reduced.drop(columns=[\"index\"], inplace=True)"
   ]
  },
  {
   "cell_type": "code",
   "execution_count": 11,
   "metadata": {},
   "outputs": [],
   "source": [
    "cov_reduced.drop(columns=['PHENO'], inplace=True)"
   ]
  },
  {
   "cell_type": "code",
   "execution_count": 12,
   "metadata": {},
   "outputs": [],
   "source": [
    "sex = cov_reduced[['FID','IID','SEX']]\n",
    "sex.to_csv(f'{WORK_DIR}/SEX.txt',index=False, sep=\"\\t\")"
   ]
  },
  {
   "cell_type": "code",
   "execution_count": 13,
   "metadata": {},
   "outputs": [],
   "source": [
    "pheno = cov_reduced[['FID','IID','PHENOTYPE']]\n",
    "pheno.to_csv(f'{WORK_DIR}/PHENO.txt',index=False, sep=\"\\t\")"
   ]
  },
  {
   "cell_type": "markdown",
   "metadata": {},
   "source": [
    "## Extract SH3GL2"
   ]
  },
  {
   "cell_type": "code",
   "execution_count": 14,
   "metadata": {
    "scrolled": false
   },
   "outputs": [
    {
     "name": "stdout",
     "output_type": "stream",
     "text": [
      "PLINK v2.00a3.3LM AVX2 Intel (3 Jun 2022)      www.cog-genomics.org/plink/2.0/\n",
      "(C) 2005-2022 Shaun Purcell, Christopher Chang   GNU General Public License v3\n",
      "Logging to pheno_SH3GL2_AFR.log.\n",
      "Options in effect:\n",
      "  --chr 9\n",
      "  --from-bp 17579066\n",
      "  --make-bed\n",
      "  --out pheno_SH3GL2_AFR\n",
      "  --pfile chr9_AFR_release5_no_mac_filter\n",
      "  --to-bp 17797124\n",
      "\n",
      "Start time: Thu Nov 23 16:25:23 2023\n",
      "14998 MiB RAM detected; reserving 7499 MiB for main workspace.\n",
      "Using up to 4 compute threads.\n",
      "2353 samples (986 females, 1367 males; 2353 founders) loaded from\n",
      "chr9_AFR_release5_no_mac_filter.psam.\n",
      "7316050 variants loaded from chr9_AFR_release5_no_mac_filter.pvar.\n",
      "1 binary phenotype loaded (855 cases, 1488 controls).\n",
      "19513 variants remaining after main filters.\n",
      "Writing pheno_SH3GL2_AFR.fam ... done.\n",
      "Writing pheno_SH3GL2_AFR.bim ... done.\n",
      "Writing pheno_SH3GL2_AFR.bed ... 0%\b\bdone.\n",
      "End time: Thu Nov 23 16:25:30 2023\n"
     ]
    }
   ],
   "source": [
    "%%bash\n",
    "\n",
    "WORK_DIR='/home/jupyter/SH3GL2_GP2/'\n",
    "cd $WORK_DIR\n",
    "\n",
    "# SH3GL2: gene positions on hg38 (from https://useast.ensembl.org/index.html)\n",
    "/home/jupyter/tools/plink2 \\\n",
    "--pfile chr9_AFR_release5_no_mac_filter \\\n",
    "--chr 9 \\\n",
    "--from-bp 17579066  \\\n",
    "--to-bp 17797124 \\\n",
    "--make-bed \\\n",
    "--out pheno_SH3GL2_AFR"
   ]
  },
  {
   "cell_type": "markdown",
   "metadata": {},
   "source": [
    "### Visualize plink files bim, fam and bed"
   ]
  },
  {
   "cell_type": "code",
   "execution_count": 15,
   "metadata": {
    "scrolled": true
   },
   "outputs": [
    {
     "name": "stdout",
     "output_type": "stream",
     "text": [
      "9\tchr9:17579077:T:G\t0\t17579077\tG\tT\n",
      "9\tchr9:17579083:C:T\t0\t17579083\tT\tC\n",
      "9\tchr9:17579091:C:A\t0\t17579091\tA\tC\n",
      "9\tchr9:17579092:G:A\t0\t17579092\tA\tG\n",
      "9\tchr9:17579096:C:T\t0\t17579096\tT\tC\n",
      "9\tchr9:17579097:C:T\t0\t17579097\tT\tC\n",
      "9\tchr9:17579105:C:T\t0\t17579105\tT\tC\n",
      "9\tchr9:17579122:C:T\t0\t17579122\tT\tC\n",
      "9\tchr9:17579123:A:G\t0\t17579123\tG\tA\n",
      "9\tchr9:17579124:T:A\t0\t17579124\tA\tT\n"
     ]
    }
   ],
   "source": [
    "%%bash\n",
    "\n",
    "# Visualize bim file\n",
    "WORK_DIR='/home/jupyter/SH3GL2_GP2/'\n",
    "cd $WORK_DIR\n",
    "\n",
    "head pheno_SH3GL2_AFR.bim"
   ]
  },
  {
   "cell_type": "code",
   "execution_count": 16,
   "metadata": {},
   "outputs": [
    {
     "name": "stdout",
     "output_type": "stream",
     "text": [
      "0\tBCM_000173_s1\t0\t0\t1\t2\n",
      "0\tBCM_000224_s1\t0\t0\t1\t2\n",
      "0\tBCM_000286_s1\t0\t0\t1\t2\n",
      "0\tBCM_000287_s1\t0\t0\t1\t2\n",
      "0\tBCM_000315_s1\t0\t0\t2\t2\n",
      "0\tBCM_000358_s1\t0\t0\t1\t2\n",
      "0\tBCM_000402_s1\t0\t0\t2\t1\n",
      "0\tBCM_000415_s1\t0\t0\t1\t2\n",
      "0\tBCM_000613_s1\t0\t0\t1\t1\n",
      "0\tBCM_000729_s1\t0\t0\t2\t1\n"
     ]
    }
   ],
   "source": [
    "%%bash\n",
    "\n",
    "# Visualize fam file\n",
    "WORK_DIR='/home/jupyter/SH3GL2_GP2/'\n",
    "cd $WORK_DIR\n",
    "\n",
    "head pheno_SH3GL2_AFR.fam"
   ]
  },
  {
   "cell_type": "code",
   "execution_count": 17,
   "metadata": {},
   "outputs": [
    {
     "name": "stdout",
     "output_type": "stream",
     "text": [
      "PLINK v1.90b6.9 64-bit (4 Mar 2019)            www.cog-genomics.org/plink/1.9/\n",
      "(C) 2005-2019 Shaun Purcell, Christopher Chang   GNU General Public License v3\n",
      "Logging to pheno_SH3GL2_AFR_nomacfilter.log.\n",
      "Options in effect:\n",
      "  --bfile pheno_SH3GL2_AFR\n",
      "  --out pheno_SH3GL2_AFR_nomacfilter\n",
      "  --recode vcf-fid\n",
      "\n",
      "14998 MB RAM detected; reserving 7499 MB for main workspace.\n",
      "19513 variants loaded from .bim file.\n",
      "2353 people (1367 males, 986 females) loaded from .fam.\n",
      "2343 phenotype values loaded from .fam.\n",
      "Using 1 thread (no multithreaded calculations invoked).\n",
      "Before main variant filters, 2353 founders and 0 nonfounders present.\n",
      "Calculating allele frequencies... 0%\b\b1%\b\b2%\b\b3%\b\b4%\b\b5%\b\b6%\b\b7%\b\b8%\b\b9%\b\b10%\b\b\b11%\b\b\b12%\b\b\b13%\b\b\b14%\b\b\b15%\b\b\b16%\b\b\b17%\b\b\b18%\b\b\b19%\b\b\b20%\b\b\b21%\b\b\b22%\b\b\b23%\b\b\b24%\b\b\b25%\b\b\b26%\b\b\b27%\b\b\b28%\b\b\b29%\b\b\b30%\b\b\b31%\b\b\b32%\b\b\b33%\b\b\b34%\b\b\b35%\b\b\b36%\b\b\b37%\b\b\b38%\b\b\b39%\b\b\b40%\b\b\b41%\b\b\b42%\b\b\b43%\b\b\b44%\b\b\b45%\b\b\b46%\b\b\b47%\b\b\b48%\b\b\b49%\b\b\b50%\b\b\b51%\b\b\b52%\b\b\b53%\b\b\b54%\b\b\b55%\b\b\b56%\b\b\b57%\b\b\b58%\b\b\b59%\b\b\b60%\b\b\b61%\b\b\b62%\b\b\b63%\b\b\b64%\b\b\b65%\b\b\b66%\b\b\b67%\b\b\b68%\b\b\b69%\b\b\b70%\b\b\b71%\b\b\b72%\b\b\b73%\b\b\b74%\b\b\b75%\b\b\b76%\b\b\b77%\b\b\b78%\b\b\b79%\b\b\b80%\b\b\b81%\b\b\b82%\b\b\b83%\b\b\b84%\b\b\b85%\b\b\b86%\b\b\b87%\b\b\b88%\b\b\b89%\b\b\b90%\b\b\b91%\b\b\b92%\b\b\b93%\b\b\b94%\b\b\b95%\b\b\b96%\b\b\b97%\b\b\b98%\b\b\b99%\b\b\b\b done.\n",
      "Total genotyping rate is 0.998807.\n",
      "19513 variants and 2353 people pass filters and QC.\n",
      "Among remaining phenotypes, 855 are cases and 1488 are controls.  (10\n",
      "phenotypes are missing.)\n",
      "--recode vcf-fid to pheno_SH3GL2_AFR_nomacfilter.vcf ... 0%\b\b1%\b\b2%\b\b3%\b\b4%\b\b5%\b\b6%\b\b7%\b\b8%\b\b9%\b\b10%\b\b\b11%\b\b\b12%\b\b\b13%\b\b\b14%\b\b\b15%\b\b\b16%\b\b\b17%\b\b\b18%\b\b\b19%\b\b\b20%\b\b\b21%\b\b\b22%\b\b\b23%\b\b\b24%\b\b\b25%\b\b\b26%\b\b\b27%\b\b\b28%\b\b\b29%\b\b\b30%\b\b\b31%\b\b\b32%\b\b\b33%\b\b\b34%\b\b\b35%\b\b\b36%\b\b\b37%\b\b\b38%\b\b\b39%\b\b\b40%\b\b\b41%\b\b\b42%\b\b\b43%\b\b\b44%\b\b\b45%\b\b\b46%\b\b\b47%\b\b\b48%\b\b\b49%\b\b\b50%\b\b\b51%\b\b\b52%\b\b\b53%\b\b\b54%\b\b\b55%\b\b\b56%\b\b\b57%\b\b\b58%\b\b\b59%\b\b\b60%\b\b\b61%\b\b\b62%\b\b\b63%\b\b\b64%\b\b\b65%\b\b\b66%\b\b\b67%\b\b\b68%\b\b\b69%\b\b\b70%\b\b\b71%\b\b\b72%\b\b\b73%\b\b\b74%\b\b\b75%\b\b\b76%\b\b\b77%\b\b\b78%\b\b\b79%\b\b\b80%\b\b\b81%\b\b\b82%\b\b\b83%\b\b\b84%\b\b\b85%\b\b\b86%\b\b\b87%\b\b\b88%\b\b\b89%\b\b\b90%\b\b\b91%\b\b\b92%\b\b\b93%\b\b\b94%\b\b\b95%\b\b\b96%\b\b\b97%\b\b\b98%\b\b\b99%\b\b\bdone.\n"
     ]
    }
   ],
   "source": [
    "%%bash\n",
    "\n",
    "WORK_DIR='/home/jupyter/SH3GL2_GP2/'\n",
    "cd $WORK_DIR\n",
    "\n",
    "# Turn binary files into VCF\n",
    "/home/jupyter/tools/plink \\\n",
    "--bfile pheno_SH3GL2_AFR \\\n",
    "--recode vcf-fid \\\n",
    "--out pheno_SH3GL2_AFR_nomacfilter"
   ]
  },
  {
   "cell_type": "markdown",
   "metadata": {},
   "source": [
    "## Annotate SH3GL2 variants"
   ]
  },
  {
   "cell_type": "code",
   "execution_count": 18,
   "metadata": {},
   "outputs": [
    {
     "name": "stderr",
     "output_type": "stream",
     "text": [
      "[bgzip] can't create pheno_SH3GL2_AFR_nomacfilter.vcf.gz: File exists\n"
     ]
    }
   ],
   "source": [
    "%%bash\n",
    "\n",
    "WORK_DIR='/home/jupyter/SH3GL2_GP2/'\n",
    "cd $WORK_DIR\n",
    "export PATH=$PATH:/home/jupyter/tools/rvtests/third/tabix-0.2.6/\n",
    "\n",
    "### Bgzip and Tabix\n",
    "bgzip pheno_SH3GL2_AFR_nomacfilter.vcf\n",
    "\n",
    "tabix -f -p vcf pheno_SH3GL2_AFR_nomacfilter.vcf.gz"
   ]
  },
  {
   "cell_type": "code",
   "execution_count": 19,
   "metadata": {
    "scrolled": true
   },
   "outputs": [
    {
     "name": "stderr",
     "output_type": "stream",
     "text": [
      "\n",
      "NOTICE: Running with system command <convert2annovar.pl  -includeinfo -allsample -withfreq -format vcf4 pheno_SH3GL2_AFR_nomacfilter.vcf.gz > pheno_SH3GL2_AFR.annovar.avinput>\n",
      "NOTICE: Finished reading 19520 lines from VCF file\n",
      "NOTICE: A total of 19513 locus in VCF file passed QC threshold, representing 18368 SNPs (10925 transitions and 7443 transversions) and 1145 indels/substitutions\n",
      "NOTICE: Finished writing allele frequencies based on 43219904 SNP genotypes (25706525 transitions and 17513379 transversions) and 2694185 indels/substitutions for 2353 samples\n",
      "\n",
      "NOTICE: Running with system command </home/jupyter/tools/annovar/table_annovar.pl pheno_SH3GL2_AFR.annovar.avinput /home/jupyter/tools/annovar/humandb/ -buildver hg38 -outfile pheno_SH3GL2_AFR.annovar -remove -protocol refGene,clinvar_20140902 -operation g,f --nopolish -nastring . -otherinfo>\n",
      "-----------------------------------------------------------------\n",
      "NOTICE: Processing operation=g protocol=refGene\n",
      "\n",
      "NOTICE: Running with system command <annotate_variation.pl -geneanno -buildver hg38 -dbtype refGene -outfile pheno_SH3GL2_AFR.annovar.refGene -exonsort -nofirstcodondel pheno_SH3GL2_AFR.annovar.avinput /home/jupyter/tools/annovar/humandb/>\n",
      "NOTICE: Output files are written to pheno_SH3GL2_AFR.annovar.refGene.variant_function, pheno_SH3GL2_AFR.annovar.refGene.exonic_variant_function\n",
      "NOTICE: Reading gene annotation from /home/jupyter/tools/annovar/humandb/hg38_refGene.txt ... Done with 88819 transcripts (including 21511 without coding sequence annotation) for 28307 unique genes\n",
      "NOTICE: Processing next batch with 19513 unique variants in 19513 input lines\n",
      "NOTICE: Reading FASTA sequences from /home/jupyter/tools/annovar/humandb/hg38_refGeneMrna.fa ... Done with 1 sequences\n",
      "WARNING: A total of 606 sequences will be ignored due to lack of correct ORF annotation\n",
      "-----------------------------------------------------------------\n",
      "NOTICE: Processing operation=f protocol=clinvar_20140902\n",
      "\n",
      "NOTICE: Running system command <annotate_variation.pl -filter -dbtype clinvar_20140902 -buildver hg38 -outfile pheno_SH3GL2_AFR.annovar pheno_SH3GL2_AFR.annovar.avinput /home/jupyter/tools/annovar/humandb/>\n",
      "NOTICE: the --dbtype clinvar_20140902 is assumed to be in generic ANNOVAR database format\n",
      "NOTICE: Output file with variants matching filtering criteria is written to pheno_SH3GL2_AFR.annovar.hg38_clinvar_20140902_dropped, and output file with other variants is written to pheno_SH3GL2_AFR.annovar.hg38_clinvar_20140902_filtered\n",
      "NOTICE: Processing next batch with 19513 unique variants in 19513 input lines\n",
      "NOTICE: Database index loaded. Total number of bins is 44781 and the number of bins to be scanned is 1\n",
      "NOTICE: Scanning filter database /home/jupyter/tools/annovar/humandb/hg38_clinvar_20140902.txt...Done\n",
      "-----------------------------------------------------------------\n",
      "NOTICE: Multianno output file is written to pheno_SH3GL2_AFR.annovar.hg38_multianno.txt\n",
      "NOTICE: Reading from pheno_SH3GL2_AFR.annovar.hg38_multianno.txt\n",
      "-----------------------------------------------------------------\n",
      "NOTICE: VCF output is written to pheno_SH3GL2_AFR.annovar.hg38_multianno.vcf\n"
     ]
    }
   ],
   "source": [
    "%%bash\n",
    "\n",
    "WORK_DIR='/home/jupyter/SH3GL2_GP2/'\n",
    "cd $WORK_DIR\n",
    "\n",
    "### Annotate variants using ANNOVAR: https://annovar.openbioinformatics.org/en/latest/ \n",
    "perl /home/jupyter/tools/annovar/table_annovar.pl pheno_SH3GL2_AFR_nomacfilter.vcf.gz /home/jupyter/tools/annovar/humandb/ -buildver hg38 \\\n",
    "-out pheno_SH3GL2_AFR.annovar \\\n",
    "-remove -protocol refGene,clinvar_20140902 \\\n",
    "-operation g,f \\\n",
    "--nopolish \\\n",
    "-nastring . \\\n",
    "-vcfinput"
   ]
  },
  {
   "cell_type": "markdown",
   "metadata": {},
   "source": [
    "## Extract coding and non-syn variants"
   ]
  },
  {
   "cell_type": "code",
   "execution_count": 5,
   "metadata": {
    "scrolled": false
   },
   "outputs": [],
   "source": [
    "# Visualize multianno file\n",
    "SH3GL2_AFR = pd.read_csv(f'{WORK_DIR}/pheno_SH3GL2_AFR.annovar.hg38_multianno.txt', sep = '\\t')"
   ]
  },
  {
   "cell_type": "code",
   "execution_count": 6,
   "metadata": {},
   "outputs": [],
   "source": [
    "SH3GL2_AFR['Chr_bp'] = SH3GL2_AFR['Chr'].astype(str) + ':' + SH3GL2_AFR['Start'].astype(str) + ':' + SH3GL2_AFR['End'].astype(str)"
   ]
  },
  {
   "cell_type": "code",
   "execution_count": 7,
   "metadata": {},
   "outputs": [],
   "source": [
    "SH3GL2_AFR = SH3GL2_AFR.drop_duplicates(subset=['Chr_bp'])"
   ]
  },
  {
   "cell_type": "code",
   "execution_count": 8,
   "metadata": {},
   "outputs": [],
   "source": [
    "SH3GL2_AFR = SH3GL2_AFR[SH3GL2_AFR['Gene.refGene']=='SH3GL2']"
   ]
  },
  {
   "cell_type": "code",
   "execution_count": 9,
   "metadata": {
    "scrolled": false
   },
   "outputs": [
    {
     "data": {
      "text/plain": [
       "Chr              18929\n",
       "Start            18929\n",
       "End              18929\n",
       "Ref              18929\n",
       "Alt              18929\n",
       "                 ...  \n",
       "Otherinfo2362    18929\n",
       "Otherinfo2363    18929\n",
       "Otherinfo2364    18929\n",
       "Otherinfo2365    18929\n",
       "Chr_bp           18929\n",
       "Length: 2377, dtype: int64"
      ]
     },
     "execution_count": 9,
     "metadata": {},
     "output_type": "execute_result"
    }
   ],
   "source": [
    "SH3GL2_AFR.count()"
   ]
  },
  {
   "cell_type": "code",
   "execution_count": 10,
   "metadata": {},
   "outputs": [
    {
     "data": {
      "text/html": [
       "<div>\n",
       "<style scoped>\n",
       "    .dataframe tbody tr th:only-of-type {\n",
       "        vertical-align: middle;\n",
       "    }\n",
       "\n",
       "    .dataframe tbody tr th {\n",
       "        vertical-align: top;\n",
       "    }\n",
       "\n",
       "    .dataframe thead th {\n",
       "        text-align: right;\n",
       "    }\n",
       "</style>\n",
       "<table border=\"1\" class=\"dataframe\">\n",
       "  <thead>\n",
       "    <tr style=\"text-align: right;\">\n",
       "      <th></th>\n",
       "      <th>Chr_bp</th>\n",
       "      <th>Gene.refGene</th>\n",
       "      <th>Func.refGene</th>\n",
       "      <th>ExonicFunc.refGene</th>\n",
       "    </tr>\n",
       "  </thead>\n",
       "  <tbody>\n",
       "    <tr>\n",
       "      <th>0</th>\n",
       "      <td>9:17579077:17579077</td>\n",
       "      <td>SH3GL2</td>\n",
       "      <td>UTR5</td>\n",
       "      <td>.</td>\n",
       "    </tr>\n",
       "    <tr>\n",
       "      <th>1</th>\n",
       "      <td>9:17579083:17579083</td>\n",
       "      <td>SH3GL2</td>\n",
       "      <td>UTR5</td>\n",
       "      <td>.</td>\n",
       "    </tr>\n",
       "    <tr>\n",
       "      <th>2</th>\n",
       "      <td>9:17579091:17579091</td>\n",
       "      <td>SH3GL2</td>\n",
       "      <td>UTR5</td>\n",
       "      <td>.</td>\n",
       "    </tr>\n",
       "    <tr>\n",
       "      <th>3</th>\n",
       "      <td>9:17579092:17579092</td>\n",
       "      <td>SH3GL2</td>\n",
       "      <td>UTR5</td>\n",
       "      <td>.</td>\n",
       "    </tr>\n",
       "    <tr>\n",
       "      <th>4</th>\n",
       "      <td>9:17579096:17579096</td>\n",
       "      <td>SH3GL2</td>\n",
       "      <td>UTR5</td>\n",
       "      <td>.</td>\n",
       "    </tr>\n",
       "    <tr>\n",
       "      <th>...</th>\n",
       "      <td>...</td>\n",
       "      <td>...</td>\n",
       "      <td>...</td>\n",
       "      <td>...</td>\n",
       "    </tr>\n",
       "    <tr>\n",
       "      <th>19508</th>\n",
       "      <td>9:17797011:17797011</td>\n",
       "      <td>SH3GL2</td>\n",
       "      <td>UTR3</td>\n",
       "      <td>.</td>\n",
       "    </tr>\n",
       "    <tr>\n",
       "      <th>19509</th>\n",
       "      <td>9:17797040:17797040</td>\n",
       "      <td>SH3GL2</td>\n",
       "      <td>UTR3</td>\n",
       "      <td>.</td>\n",
       "    </tr>\n",
       "    <tr>\n",
       "      <th>19510</th>\n",
       "      <td>9:17797079:17797079</td>\n",
       "      <td>SH3GL2</td>\n",
       "      <td>UTR3</td>\n",
       "      <td>.</td>\n",
       "    </tr>\n",
       "    <tr>\n",
       "      <th>19511</th>\n",
       "      <td>9:17797083:17797083</td>\n",
       "      <td>SH3GL2</td>\n",
       "      <td>UTR3</td>\n",
       "      <td>.</td>\n",
       "    </tr>\n",
       "    <tr>\n",
       "      <th>19512</th>\n",
       "      <td>9:17797093:17797093</td>\n",
       "      <td>SH3GL2</td>\n",
       "      <td>UTR3</td>\n",
       "      <td>.</td>\n",
       "    </tr>\n",
       "  </tbody>\n",
       "</table>\n",
       "<p>18929 rows × 4 columns</p>\n",
       "</div>"
      ],
      "text/plain": [
       "                    Chr_bp Gene.refGene Func.refGene ExonicFunc.refGene\n",
       "0      9:17579077:17579077       SH3GL2         UTR5                  .\n",
       "1      9:17579083:17579083       SH3GL2         UTR5                  .\n",
       "2      9:17579091:17579091       SH3GL2         UTR5                  .\n",
       "3      9:17579092:17579092       SH3GL2         UTR5                  .\n",
       "4      9:17579096:17579096       SH3GL2         UTR5                  .\n",
       "...                    ...          ...          ...                ...\n",
       "19508  9:17797011:17797011       SH3GL2         UTR3                  .\n",
       "19509  9:17797040:17797040       SH3GL2         UTR3                  .\n",
       "19510  9:17797079:17797079       SH3GL2         UTR3                  .\n",
       "19511  9:17797083:17797083       SH3GL2         UTR3                  .\n",
       "19512  9:17797093:17797093       SH3GL2         UTR3                  .\n",
       "\n",
       "[18929 rows x 4 columns]"
      ]
     },
     "execution_count": 10,
     "metadata": {},
     "output_type": "execute_result"
    }
   ],
   "source": [
    "reduced_SH3GL2_AFR = SH3GL2_AFR[[\"Chr_bp\", \"Gene.refGene\", 'Func.refGene','ExonicFunc.refGene']]\n",
    "reduced_SH3GL2_AFR"
   ]
  },
  {
   "cell_type": "code",
   "execution_count": 11,
   "metadata": {},
   "outputs": [],
   "source": [
    "reduced_SH3GL2_AFR.to_csv(f'{WORKSPACE_BUCKET}/reduced_SH3GL2_AFR.txt', sep = '\\t', index = False, header= True)"
   ]
  },
  {
   "cell_type": "code",
   "execution_count": 10,
   "metadata": {},
   "outputs": [
    {
     "data": {
      "text/plain": [
       "intronic    18735\n",
       "UTR3          107\n",
       "exonic         51\n",
       "UTR5           36\n",
       "Name: Func.refGene, dtype: int64"
      ]
     },
     "execution_count": 10,
     "metadata": {},
     "output_type": "execute_result"
    }
   ],
   "source": [
    "SH3GL2_AFR['Func.refGene'].value_counts()"
   ]
  },
  {
   "cell_type": "code",
   "execution_count": 11,
   "metadata": {},
   "outputs": [
    {
     "data": {
      "text/plain": [
       ".                    18878\n",
       "nonsynonymous SNV       26\n",
       "synonymous SNV          25\n",
       "Name: ExonicFunc.refGene, dtype: int64"
      ]
     },
     "execution_count": 11,
     "metadata": {},
     "output_type": "execute_result"
    }
   ],
   "source": [
    "SH3GL2_AFR['ExonicFunc.refGene'].value_counts()"
   ]
  },
  {
   "cell_type": "code",
   "execution_count": 12,
   "metadata": {
    "scrolled": true
   },
   "outputs": [
    {
     "data": {
      "text/plain": [
       "Chr              51\n",
       "Start            51\n",
       "End              51\n",
       "Ref              51\n",
       "Alt              51\n",
       "                 ..\n",
       "Otherinfo2362    51\n",
       "Otherinfo2363    51\n",
       "Otherinfo2364    51\n",
       "Otherinfo2365    51\n",
       "Chr_bp           51\n",
       "Length: 2377, dtype: int64"
      ]
     },
     "execution_count": 12,
     "metadata": {},
     "output_type": "execute_result"
    }
   ],
   "source": [
    "# Filter exonic variants\n",
    "coding_AFR = SH3GL2_AFR[SH3GL2_AFR['Func.refGene'] == 'exonic']\n",
    "coding_AFR.count()"
   ]
  },
  {
   "cell_type": "code",
   "execution_count": 13,
   "metadata": {},
   "outputs": [
    {
     "data": {
      "text/plain": [
       "Chr              25\n",
       "Start            25\n",
       "End              25\n",
       "Ref              25\n",
       "Alt              25\n",
       "                 ..\n",
       "Otherinfo2362    25\n",
       "Otherinfo2363    25\n",
       "Otherinfo2364    25\n",
       "Otherinfo2365    25\n",
       "Chr_bp           25\n",
       "Length: 2377, dtype: int64"
      ]
     },
     "execution_count": 13,
     "metadata": {},
     "output_type": "execute_result"
    }
   ],
   "source": [
    "# Filter exonic and syn vars\n",
    "coding_synonymous_AFR = SH3GL2_AFR[(SH3GL2_AFR['Func.refGene'] == 'exonic') & (SH3GL2_AFR['ExonicFunc.refGene'] == 'synonymous SNV')]\n",
    "coding_synonymous_AFR.count()"
   ]
  },
  {
   "cell_type": "code",
   "execution_count": 14,
   "metadata": {},
   "outputs": [
    {
     "data": {
      "text/plain": [
       "Chr              26\n",
       "Start            26\n",
       "End              26\n",
       "Ref              26\n",
       "Alt              26\n",
       "                 ..\n",
       "Otherinfo2362    26\n",
       "Otherinfo2363    26\n",
       "Otherinfo2364    26\n",
       "Otherinfo2365    26\n",
       "Chr_bp           26\n",
       "Length: 2377, dtype: int64"
      ]
     },
     "execution_count": 14,
     "metadata": {},
     "output_type": "execute_result"
    }
   ],
   "source": [
    "# Filter exonic and non-syn vars\n",
    "coding_nonsynonymous_AFR = SH3GL2_AFR[(SH3GL2_AFR['Func.refGene'] == 'exonic') & (SH3GL2_AFR['ExonicFunc.refGene'] == 'nonsynonymous SNV')]\n",
    "coding_nonsynonymous_AFR.count()"
   ]
  },
  {
   "cell_type": "code",
   "execution_count": 15,
   "metadata": {},
   "outputs": [
    {
     "data": {
      "text/html": [
       "<div>\n",
       "<style scoped>\n",
       "    .dataframe tbody tr th:only-of-type {\n",
       "        vertical-align: middle;\n",
       "    }\n",
       "\n",
       "    .dataframe tbody tr th {\n",
       "        vertical-align: top;\n",
       "    }\n",
       "\n",
       "    .dataframe thead th {\n",
       "        text-align: right;\n",
       "    }\n",
       "</style>\n",
       "<table border=\"1\" class=\"dataframe\">\n",
       "  <thead>\n",
       "    <tr style=\"text-align: right;\">\n",
       "      <th></th>\n",
       "      <th>Chr</th>\n",
       "      <th>Start</th>\n",
       "      <th>End</th>\n",
       "      <th>Ref</th>\n",
       "      <th>Alt</th>\n",
       "      <th>Func.refGene</th>\n",
       "      <th>Gene.refGene</th>\n",
       "      <th>GeneDetail.refGene</th>\n",
       "      <th>ExonicFunc.refGene</th>\n",
       "      <th>AAChange.refGene</th>\n",
       "      <th>...</th>\n",
       "      <th>Otherinfo2357</th>\n",
       "      <th>Otherinfo2358</th>\n",
       "      <th>Otherinfo2359</th>\n",
       "      <th>Otherinfo2360</th>\n",
       "      <th>Otherinfo2361</th>\n",
       "      <th>Otherinfo2362</th>\n",
       "      <th>Otherinfo2363</th>\n",
       "      <th>Otherinfo2364</th>\n",
       "      <th>Otherinfo2365</th>\n",
       "      <th>Chr_bp</th>\n",
       "    </tr>\n",
       "  </thead>\n",
       "  <tbody>\n",
       "    <tr>\n",
       "      <th>15008</th>\n",
       "      <td>9</td>\n",
       "      <td>17747126</td>\n",
       "      <td>17747126</td>\n",
       "      <td>A</td>\n",
       "      <td>T</td>\n",
       "      <td>exonic</td>\n",
       "      <td>SH3GL2</td>\n",
       "      <td>.</td>\n",
       "      <td>nonsynonymous SNV</td>\n",
       "      <td>SH3GL2:NM_003026:exon2:c.A106T:p.M36L</td>\n",
       "      <td>...</td>\n",
       "      <td>0/0</td>\n",
       "      <td>0/0</td>\n",
       "      <td>0/0</td>\n",
       "      <td>0/0</td>\n",
       "      <td>0/0</td>\n",
       "      <td>0/0</td>\n",
       "      <td>0/0</td>\n",
       "      <td>0/0</td>\n",
       "      <td>0/0</td>\n",
       "      <td>9:17747126:17747126</td>\n",
       "    </tr>\n",
       "    <tr>\n",
       "      <th>16351</th>\n",
       "      <td>9</td>\n",
       "      <td>17761500</td>\n",
       "      <td>17761500</td>\n",
       "      <td>C</td>\n",
       "      <td>G</td>\n",
       "      <td>exonic</td>\n",
       "      <td>SH3GL2</td>\n",
       "      <td>.</td>\n",
       "      <td>nonsynonymous SNV</td>\n",
       "      <td>SH3GL2:NM_003026:exon3:c.C178G:p.P60A</td>\n",
       "      <td>...</td>\n",
       "      <td>0/0</td>\n",
       "      <td>0/0</td>\n",
       "      <td>0/0</td>\n",
       "      <td>0/0</td>\n",
       "      <td>0/0</td>\n",
       "      <td>0/0</td>\n",
       "      <td>0/0</td>\n",
       "      <td>0/0</td>\n",
       "      <td>0/0</td>\n",
       "      <td>9:17761500:17761500</td>\n",
       "    </tr>\n",
       "    <tr>\n",
       "      <th>18578</th>\n",
       "      <td>9</td>\n",
       "      <td>17786465</td>\n",
       "      <td>17786465</td>\n",
       "      <td>C</td>\n",
       "      <td>T</td>\n",
       "      <td>exonic</td>\n",
       "      <td>SH3GL2</td>\n",
       "      <td>.</td>\n",
       "      <td>nonsynonymous SNV</td>\n",
       "      <td>SH3GL2:NM_003026:exon4:c.C272T:p.A91V</td>\n",
       "      <td>...</td>\n",
       "      <td>0/0</td>\n",
       "      <td>0/0</td>\n",
       "      <td>0/0</td>\n",
       "      <td>0/0</td>\n",
       "      <td>0/0</td>\n",
       "      <td>0/0</td>\n",
       "      <td>0/0</td>\n",
       "      <td>0/0</td>\n",
       "      <td>0/0</td>\n",
       "      <td>9:17786465:17786465</td>\n",
       "    </tr>\n",
       "    <tr>\n",
       "      <th>18579</th>\n",
       "      <td>9</td>\n",
       "      <td>17786478</td>\n",
       "      <td>17786478</td>\n",
       "      <td>G</td>\n",
       "      <td>C</td>\n",
       "      <td>exonic</td>\n",
       "      <td>SH3GL2</td>\n",
       "      <td>.</td>\n",
       "      <td>nonsynonymous SNV</td>\n",
       "      <td>SH3GL2:NM_003026:exon4:c.G285C:p.E95D</td>\n",
       "      <td>...</td>\n",
       "      <td>0/0</td>\n",
       "      <td>0/0</td>\n",
       "      <td>0/0</td>\n",
       "      <td>0/0</td>\n",
       "      <td>0/0</td>\n",
       "      <td>0/0</td>\n",
       "      <td>0/0</td>\n",
       "      <td>0/0</td>\n",
       "      <td>0/0</td>\n",
       "      <td>9:17786478:17786478</td>\n",
       "    </tr>\n",
       "    <tr>\n",
       "      <th>18580</th>\n",
       "      <td>9</td>\n",
       "      <td>17786519</td>\n",
       "      <td>17786519</td>\n",
       "      <td>A</td>\n",
       "      <td>G</td>\n",
       "      <td>exonic</td>\n",
       "      <td>SH3GL2</td>\n",
       "      <td>.</td>\n",
       "      <td>nonsynonymous SNV</td>\n",
       "      <td>SH3GL2:NM_003026:exon4:c.A326G:p.N109S</td>\n",
       "      <td>...</td>\n",
       "      <td>0/0</td>\n",
       "      <td>0/0</td>\n",
       "      <td>0/0</td>\n",
       "      <td>0/0</td>\n",
       "      <td>0/0</td>\n",
       "      <td>0/0</td>\n",
       "      <td>0/0</td>\n",
       "      <td>0/0</td>\n",
       "      <td>0/0</td>\n",
       "      <td>9:17786519:17786519</td>\n",
       "    </tr>\n",
       "  </tbody>\n",
       "</table>\n",
       "<p>5 rows × 2377 columns</p>\n",
       "</div>"
      ],
      "text/plain": [
       "       Chr     Start       End Ref Alt Func.refGene Gene.refGene  \\\n",
       "15008    9  17747126  17747126   A   T       exonic       SH3GL2   \n",
       "16351    9  17761500  17761500   C   G       exonic       SH3GL2   \n",
       "18578    9  17786465  17786465   C   T       exonic       SH3GL2   \n",
       "18579    9  17786478  17786478   G   C       exonic       SH3GL2   \n",
       "18580    9  17786519  17786519   A   G       exonic       SH3GL2   \n",
       "\n",
       "      GeneDetail.refGene ExonicFunc.refGene  \\\n",
       "15008                  .  nonsynonymous SNV   \n",
       "16351                  .  nonsynonymous SNV   \n",
       "18578                  .  nonsynonymous SNV   \n",
       "18579                  .  nonsynonymous SNV   \n",
       "18580                  .  nonsynonymous SNV   \n",
       "\n",
       "                             AAChange.refGene  ... Otherinfo2357  \\\n",
       "15008   SH3GL2:NM_003026:exon2:c.A106T:p.M36L  ...           0/0   \n",
       "16351   SH3GL2:NM_003026:exon3:c.C178G:p.P60A  ...           0/0   \n",
       "18578   SH3GL2:NM_003026:exon4:c.C272T:p.A91V  ...           0/0   \n",
       "18579   SH3GL2:NM_003026:exon4:c.G285C:p.E95D  ...           0/0   \n",
       "18580  SH3GL2:NM_003026:exon4:c.A326G:p.N109S  ...           0/0   \n",
       "\n",
       "       Otherinfo2358 Otherinfo2359 Otherinfo2360  Otherinfo2361  \\\n",
       "15008            0/0           0/0           0/0            0/0   \n",
       "16351            0/0           0/0           0/0            0/0   \n",
       "18578            0/0           0/0           0/0            0/0   \n",
       "18579            0/0           0/0           0/0            0/0   \n",
       "18580            0/0           0/0           0/0            0/0   \n",
       "\n",
       "       Otherinfo2362 Otherinfo2363 Otherinfo2364 Otherinfo2365  \\\n",
       "15008            0/0           0/0           0/0           0/0   \n",
       "16351            0/0           0/0           0/0           0/0   \n",
       "18578            0/0           0/0           0/0           0/0   \n",
       "18579            0/0           0/0           0/0           0/0   \n",
       "18580            0/0           0/0           0/0           0/0   \n",
       "\n",
       "                    Chr_bp  \n",
       "15008  9:17747126:17747126  \n",
       "16351  9:17761500:17761500  \n",
       "18578  9:17786465:17786465  \n",
       "18579  9:17786478:17786478  \n",
       "18580  9:17786519:17786519  \n",
       "\n",
       "[5 rows x 2377 columns]"
      ]
     },
     "execution_count": 15,
     "metadata": {},
     "output_type": "execute_result"
    }
   ],
   "source": [
    "coding_nonsynonymous_AFR.to_csv(f'{WORK_DIR}/coding_nonsynonymous.txt', sep = '\\t', index = False)\n",
    "coding_nonsynonymous_AFR.head()"
   ]
  },
  {
   "cell_type": "code",
   "execution_count": 16,
   "metadata": {},
   "outputs": [
    {
     "data": {
      "text/plain": [
       "Chr              18735\n",
       "Start            18735\n",
       "End              18735\n",
       "Ref              18735\n",
       "Alt              18735\n",
       "                 ...  \n",
       "Otherinfo2362    18735\n",
       "Otherinfo2363    18735\n",
       "Otherinfo2364    18735\n",
       "Otherinfo2365    18735\n",
       "Chr_bp           18735\n",
       "Length: 2377, dtype: int64"
      ]
     },
     "execution_count": 16,
     "metadata": {},
     "output_type": "execute_result"
    }
   ],
   "source": [
    "# Filter intronic variants\n",
    "intronic_AFR = SH3GL2_AFR[SH3GL2_AFR['Func.refGene'] == 'intronic']\n",
    "intronic_AFR.count()"
   ]
  },
  {
   "cell_type": "code",
   "execution_count": 17,
   "metadata": {},
   "outputs": [
    {
     "data": {
      "text/plain": [
       "Chr              107\n",
       "Start            107\n",
       "End              107\n",
       "Ref              107\n",
       "Alt              107\n",
       "                ... \n",
       "Otherinfo2362    107\n",
       "Otherinfo2363    107\n",
       "Otherinfo2364    107\n",
       "Otherinfo2365    107\n",
       "Chr_bp           107\n",
       "Length: 2377, dtype: int64"
      ]
     },
     "execution_count": 17,
     "metadata": {},
     "output_type": "execute_result"
    }
   ],
   "source": [
    "# Filter UTR3 variants\n",
    "UTR3_AFR = SH3GL2_AFR[SH3GL2_AFR['Func.refGene'] == ('UTR3')]\n",
    "UTR3_AFR.count()"
   ]
  },
  {
   "cell_type": "code",
   "execution_count": 18,
   "metadata": {},
   "outputs": [
    {
     "data": {
      "text/plain": [
       "Chr              36\n",
       "Start            36\n",
       "End              36\n",
       "Ref              36\n",
       "Alt              36\n",
       "                 ..\n",
       "Otherinfo2362    36\n",
       "Otherinfo2363    36\n",
       "Otherinfo2364    36\n",
       "Otherinfo2365    36\n",
       "Chr_bp           36\n",
       "Length: 2377, dtype: int64"
      ]
     },
     "execution_count": 18,
     "metadata": {},
     "output_type": "execute_result"
    }
   ],
   "source": [
    "# Filter UTR5 variants\n",
    "UTR5_AFR = SH3GL2_AFR[SH3GL2_AFR['Func.refGene'] == ('UTR5')]\n",
    "UTR5_AFR.count()"
   ]
  },
  {
   "cell_type": "code",
   "execution_count": 19,
   "metadata": {},
   "outputs": [],
   "source": [
    "# Calculate freq - cases vs controls"
   ]
  },
  {
   "cell_type": "code",
   "execution_count": 20,
   "metadata": {},
   "outputs": [],
   "source": [
    "reduced_coding_nonsynonymous_AFR = coding_nonsynonymous_AFR[[\"Chr\", \"Start\", \"End\", \"Gene.refGene\"]]\n",
    "reduced_coding_nonsynonymous_AFR.to_csv(f'{WORK_DIR}/reduced_coding_nonsynonymous_AFR.txt', sep = '\\t', index = False, header= False)"
   ]
  },
  {
   "cell_type": "code",
   "execution_count": 21,
   "metadata": {},
   "outputs": [
    {
     "name": "stdout",
     "output_type": "stream",
     "text": [
      "9\t17747126\t17747126\tSH3GL2\n",
      "9\t17761500\t17761500\tSH3GL2\n",
      "9\t17786465\t17786465\tSH3GL2\n",
      "9\t17786478\t17786478\tSH3GL2\n",
      "9\t17786519\t17786519\tSH3GL2\n",
      "9\t17787464\t17787464\tSH3GL2\n",
      "9\t17787509\t17787509\tSH3GL2\n",
      "9\t17789425\t17789425\tSH3GL2\n",
      "9\t17789473\t17789473\tSH3GL2\n",
      "9\t17789485\t17789485\tSH3GL2\n"
     ]
    }
   ],
   "source": [
    "%%bash\n",
    "\n",
    "WORK_DIR='/home/jupyter/SH3GL2_GP2/'\n",
    "cd $WORK_DIR\n",
    "\n",
    "head reduced_coding_nonsynonymous_AFR.txt"
   ]
  },
  {
   "cell_type": "code",
   "execution_count": 22,
   "metadata": {},
   "outputs": [
    {
     "name": "stdout",
     "output_type": "stream",
     "text": [
      "PLINK v1.90b6.9 64-bit (4 Mar 2019)            www.cog-genomics.org/plink/1.9/\n",
      "(C) 2005-2019 Shaun Purcell, Christopher Chang   GNU General Public License v3\n",
      "Logging to coding_nonsynonymous_pheno_SH3GL2_AFR.log.\n",
      "Options in effect:\n",
      "  --allow-no-sex\n",
      "  --assoc\n",
      "  --bfile pheno_SH3GL2_AFR\n",
      "  --ci 0.95\n",
      "  --extract range reduced_coding_nonsynonymous_AFR.txt\n",
      "  --out coding_nonsynonymous_pheno_SH3GL2_AFR\n",
      "\n",
      "14998 MB RAM detected; reserving 7499 MB for main workspace.\n",
      "19513 variants loaded from .bim file.\n",
      "2353 people (1367 males, 986 females) loaded from .fam.\n",
      "2343 phenotype values loaded from .fam.\n",
      "--extract range: 19487 variants excluded.\n",
      "--extract range: 26 variants remaining.\n",
      "Using 1 thread (no multithreaded calculations invoked).\n",
      "Before main variant filters, 2353 founders and 0 nonfounders present.\n",
      "Calculating allele frequencies... 0%\b\b1%\b\b2%\b\b3%\b\b4%\b\b5%\b\b6%\b\b7%\b\b8%\b\b9%\b\b10%\b\b\b11%\b\b\b12%\b\b\b13%\b\b\b14%\b\b\b15%\b\b\b16%\b\b\b17%\b\b\b18%\b\b\b19%\b\b\b20%\b\b\b21%\b\b\b22%\b\b\b23%\b\b\b24%\b\b\b25%\b\b\b26%\b\b\b27%\b\b\b28%\b\b\b29%\b\b\b30%\b\b\b31%\b\b\b32%\b\b\b33%\b\b\b34%\b\b\b35%\b\b\b36%\b\b\b37%\b\b\b38%\b\b\b39%\b\b\b40%\b\b\b41%\b\b\b42%\b\b\b43%\b\b\b44%\b\b\b45%\b\b\b46%\b\b\b47%\b\b\b48%\b\b\b49%\b\b\b50%\b\b\b51%\b\b\b52%\b\b\b53%\b\b\b54%\b\b\b55%\b\b\b56%\b\b\b57%\b\b\b58%\b\b\b59%\b\b\b60%\b\b\b61%\b\b\b62%\b\b\b63%\b\b\b64%\b\b\b65%\b\b\b66%\b\b\b67%\b\b\b68%\b\b\b69%\b\b\b70%\b\b\b71%\b\b\b72%\b\b\b73%\b\b\b74%\b\b\b75%\b\b\b76%\b\b\b77%\b\b\b78%\b\b\b79%\b\b\b80%\b\b\b81%\b\b\b82%\b\b\b83%\b\b\b84%\b\b\b85%\b\b\b86%\b\b\b87%\b\b\b88%\b\b\b89%\b\b\b90%\b\b\b91%\b\b\b92%\b\b\b93%\b\b\b94%\b\b\b95%\b\b\b96%\b\b\b97%\b\b\b98%\b\b\b99%\b\b\b\b done.\n",
      "Total genotyping rate is 0.999951.\n",
      "26 variants and 2353 people pass filters and QC.\n",
      "Among remaining phenotypes, 855 are cases and 1488 are controls.  (10\n",
      "phenotypes are missing.)\n",
      "Writing C/C --assoc report to coding_nonsynonymous_pheno_SH3GL2_AFR.assoc ...\n",
      "0%\b\bdone.\n"
     ]
    }
   ],
   "source": [
    "%%bash\n",
    "\n",
    "WORK_DIR='/home/jupyter/SH3GL2_GP2/'\n",
    "cd $WORK_DIR\n",
    "\n",
    "/home/jupyter/tools/plink --bfile pheno_SH3GL2_AFR --extract range reduced_coding_nonsynonymous_AFR.txt --assoc --ci 0.95 --out coding_nonsynonymous_pheno_SH3GL2_AFR --allow-no-sex"
   ]
  },
  {
   "cell_type": "code",
   "execution_count": 23,
   "metadata": {},
   "outputs": [
    {
     "data": {
      "text/html": [
       "<div>\n",
       "<style scoped>\n",
       "    .dataframe tbody tr th:only-of-type {\n",
       "        vertical-align: middle;\n",
       "    }\n",
       "\n",
       "    .dataframe tbody tr th {\n",
       "        vertical-align: top;\n",
       "    }\n",
       "\n",
       "    .dataframe thead th {\n",
       "        text-align: right;\n",
       "    }\n",
       "</style>\n",
       "<table border=\"1\" class=\"dataframe\">\n",
       "  <thead>\n",
       "    <tr style=\"text-align: right;\">\n",
       "      <th></th>\n",
       "      <th>CHR</th>\n",
       "      <th>SNP</th>\n",
       "      <th>BP</th>\n",
       "      <th>A1</th>\n",
       "      <th>F_A</th>\n",
       "      <th>F_U</th>\n",
       "      <th>A2</th>\n",
       "      <th>CHISQ</th>\n",
       "      <th>P</th>\n",
       "      <th>OR</th>\n",
       "      <th>SE</th>\n",
       "      <th>L95</th>\n",
       "      <th>U95</th>\n",
       "    </tr>\n",
       "  </thead>\n",
       "  <tbody>\n",
       "    <tr>\n",
       "      <th>0</th>\n",
       "      <td>9</td>\n",
       "      <td>chr9:17747126:A:T</td>\n",
       "      <td>17747126</td>\n",
       "      <td>T</td>\n",
       "      <td>0.000000</td>\n",
       "      <td>0.000000</td>\n",
       "      <td>A</td>\n",
       "      <td>NaN</td>\n",
       "      <td>NaN</td>\n",
       "      <td>NaN</td>\n",
       "      <td>NaN</td>\n",
       "      <td>NaN</td>\n",
       "      <td>NaN</td>\n",
       "    </tr>\n",
       "    <tr>\n",
       "      <th>1</th>\n",
       "      <td>9</td>\n",
       "      <td>chr9:17761500:C:G</td>\n",
       "      <td>17761500</td>\n",
       "      <td>G</td>\n",
       "      <td>0.000000</td>\n",
       "      <td>0.000000</td>\n",
       "      <td>C</td>\n",
       "      <td>NaN</td>\n",
       "      <td>NaN</td>\n",
       "      <td>NaN</td>\n",
       "      <td>NaN</td>\n",
       "      <td>NaN</td>\n",
       "      <td>NaN</td>\n",
       "    </tr>\n",
       "    <tr>\n",
       "      <th>2</th>\n",
       "      <td>9</td>\n",
       "      <td>chr9:17786465:C:T</td>\n",
       "      <td>17786465</td>\n",
       "      <td>T</td>\n",
       "      <td>0.000000</td>\n",
       "      <td>0.000000</td>\n",
       "      <td>C</td>\n",
       "      <td>NaN</td>\n",
       "      <td>NaN</td>\n",
       "      <td>NaN</td>\n",
       "      <td>NaN</td>\n",
       "      <td>NaN</td>\n",
       "      <td>NaN</td>\n",
       "    </tr>\n",
       "    <tr>\n",
       "      <th>3</th>\n",
       "      <td>9</td>\n",
       "      <td>chr9:17786478:G:C</td>\n",
       "      <td>17786478</td>\n",
       "      <td>C</td>\n",
       "      <td>0.000000</td>\n",
       "      <td>0.000000</td>\n",
       "      <td>G</td>\n",
       "      <td>NaN</td>\n",
       "      <td>NaN</td>\n",
       "      <td>NaN</td>\n",
       "      <td>NaN</td>\n",
       "      <td>NaN</td>\n",
       "      <td>NaN</td>\n",
       "    </tr>\n",
       "    <tr>\n",
       "      <th>4</th>\n",
       "      <td>9</td>\n",
       "      <td>chr9:17786519:A:G</td>\n",
       "      <td>17786519</td>\n",
       "      <td>G</td>\n",
       "      <td>0.000000</td>\n",
       "      <td>0.000000</td>\n",
       "      <td>A</td>\n",
       "      <td>NaN</td>\n",
       "      <td>NaN</td>\n",
       "      <td>NaN</td>\n",
       "      <td>NaN</td>\n",
       "      <td>NaN</td>\n",
       "      <td>NaN</td>\n",
       "    </tr>\n",
       "    <tr>\n",
       "      <th>5</th>\n",
       "      <td>9</td>\n",
       "      <td>chr9:17787464:T:G</td>\n",
       "      <td>17787464</td>\n",
       "      <td>G</td>\n",
       "      <td>0.000000</td>\n",
       "      <td>0.000000</td>\n",
       "      <td>T</td>\n",
       "      <td>NaN</td>\n",
       "      <td>NaN</td>\n",
       "      <td>NaN</td>\n",
       "      <td>NaN</td>\n",
       "      <td>NaN</td>\n",
       "      <td>NaN</td>\n",
       "    </tr>\n",
       "    <tr>\n",
       "      <th>6</th>\n",
       "      <td>9</td>\n",
       "      <td>chr9:17787509:T:C</td>\n",
       "      <td>17787509</td>\n",
       "      <td>C</td>\n",
       "      <td>0.000000</td>\n",
       "      <td>0.000000</td>\n",
       "      <td>T</td>\n",
       "      <td>NaN</td>\n",
       "      <td>NaN</td>\n",
       "      <td>NaN</td>\n",
       "      <td>NaN</td>\n",
       "      <td>NaN</td>\n",
       "      <td>NaN</td>\n",
       "    </tr>\n",
       "    <tr>\n",
       "      <th>7</th>\n",
       "      <td>9</td>\n",
       "      <td>chr9:17789425:G:T</td>\n",
       "      <td>17789425</td>\n",
       "      <td>T</td>\n",
       "      <td>0.000000</td>\n",
       "      <td>0.000000</td>\n",
       "      <td>G</td>\n",
       "      <td>NaN</td>\n",
       "      <td>NaN</td>\n",
       "      <td>NaN</td>\n",
       "      <td>NaN</td>\n",
       "      <td>NaN</td>\n",
       "      <td>NaN</td>\n",
       "    </tr>\n",
       "    <tr>\n",
       "      <th>8</th>\n",
       "      <td>9</td>\n",
       "      <td>chr9:17789473:C:G</td>\n",
       "      <td>17789473</td>\n",
       "      <td>G</td>\n",
       "      <td>0.000000</td>\n",
       "      <td>0.000000</td>\n",
       "      <td>C</td>\n",
       "      <td>NaN</td>\n",
       "      <td>NaN</td>\n",
       "      <td>NaN</td>\n",
       "      <td>NaN</td>\n",
       "      <td>NaN</td>\n",
       "      <td>NaN</td>\n",
       "    </tr>\n",
       "    <tr>\n",
       "      <th>9</th>\n",
       "      <td>9</td>\n",
       "      <td>chr9:17789485:C:G</td>\n",
       "      <td>17789485</td>\n",
       "      <td>G</td>\n",
       "      <td>0.000000</td>\n",
       "      <td>0.000000</td>\n",
       "      <td>C</td>\n",
       "      <td>NaN</td>\n",
       "      <td>NaN</td>\n",
       "      <td>NaN</td>\n",
       "      <td>NaN</td>\n",
       "      <td>NaN</td>\n",
       "      <td>NaN</td>\n",
       "    </tr>\n",
       "    <tr>\n",
       "      <th>10</th>\n",
       "      <td>9</td>\n",
       "      <td>chr9:17789544:G:T</td>\n",
       "      <td>17789544</td>\n",
       "      <td>T</td>\n",
       "      <td>0.000000</td>\n",
       "      <td>0.000000</td>\n",
       "      <td>G</td>\n",
       "      <td>NaN</td>\n",
       "      <td>NaN</td>\n",
       "      <td>NaN</td>\n",
       "      <td>NaN</td>\n",
       "      <td>NaN</td>\n",
       "      <td>NaN</td>\n",
       "    </tr>\n",
       "    <tr>\n",
       "      <th>11</th>\n",
       "      <td>9</td>\n",
       "      <td>chr9:17789545:A:G</td>\n",
       "      <td>17789545</td>\n",
       "      <td>G</td>\n",
       "      <td>0.000000</td>\n",
       "      <td>0.000000</td>\n",
       "      <td>A</td>\n",
       "      <td>NaN</td>\n",
       "      <td>NaN</td>\n",
       "      <td>NaN</td>\n",
       "      <td>NaN</td>\n",
       "      <td>NaN</td>\n",
       "      <td>NaN</td>\n",
       "    </tr>\n",
       "    <tr>\n",
       "      <th>12</th>\n",
       "      <td>9</td>\n",
       "      <td>chr9:17791272:G:C</td>\n",
       "      <td>17791272</td>\n",
       "      <td>C</td>\n",
       "      <td>0.000000</td>\n",
       "      <td>0.000000</td>\n",
       "      <td>G</td>\n",
       "      <td>NaN</td>\n",
       "      <td>NaN</td>\n",
       "      <td>NaN</td>\n",
       "      <td>NaN</td>\n",
       "      <td>NaN</td>\n",
       "      <td>NaN</td>\n",
       "    </tr>\n",
       "    <tr>\n",
       "      <th>13</th>\n",
       "      <td>9</td>\n",
       "      <td>chr9:17791276:G:C</td>\n",
       "      <td>17791276</td>\n",
       "      <td>C</td>\n",
       "      <td>0.000000</td>\n",
       "      <td>0.000000</td>\n",
       "      <td>G</td>\n",
       "      <td>NaN</td>\n",
       "      <td>NaN</td>\n",
       "      <td>NaN</td>\n",
       "      <td>NaN</td>\n",
       "      <td>NaN</td>\n",
       "      <td>NaN</td>\n",
       "    </tr>\n",
       "    <tr>\n",
       "      <th>14</th>\n",
       "      <td>9</td>\n",
       "      <td>chr9:17791290:G:C</td>\n",
       "      <td>17791290</td>\n",
       "      <td>C</td>\n",
       "      <td>0.000000</td>\n",
       "      <td>0.000000</td>\n",
       "      <td>G</td>\n",
       "      <td>NaN</td>\n",
       "      <td>NaN</td>\n",
       "      <td>NaN</td>\n",
       "      <td>NaN</td>\n",
       "      <td>NaN</td>\n",
       "      <td>NaN</td>\n",
       "    </tr>\n",
       "    <tr>\n",
       "      <th>15</th>\n",
       "      <td>9</td>\n",
       "      <td>chr9:17791294:G:T</td>\n",
       "      <td>17791294</td>\n",
       "      <td>T</td>\n",
       "      <td>0.000000</td>\n",
       "      <td>0.000000</td>\n",
       "      <td>G</td>\n",
       "      <td>NaN</td>\n",
       "      <td>NaN</td>\n",
       "      <td>NaN</td>\n",
       "      <td>NaN</td>\n",
       "      <td>NaN</td>\n",
       "      <td>NaN</td>\n",
       "    </tr>\n",
       "    <tr>\n",
       "      <th>16</th>\n",
       "      <td>9</td>\n",
       "      <td>chr9:17791308:G:C</td>\n",
       "      <td>17791308</td>\n",
       "      <td>C</td>\n",
       "      <td>0.000000</td>\n",
       "      <td>0.000000</td>\n",
       "      <td>G</td>\n",
       "      <td>NaN</td>\n",
       "      <td>NaN</td>\n",
       "      <td>NaN</td>\n",
       "      <td>NaN</td>\n",
       "      <td>NaN</td>\n",
       "      <td>NaN</td>\n",
       "    </tr>\n",
       "    <tr>\n",
       "      <th>17</th>\n",
       "      <td>9</td>\n",
       "      <td>chr9:17793420:T:C</td>\n",
       "      <td>17793420</td>\n",
       "      <td>C</td>\n",
       "      <td>0.000000</td>\n",
       "      <td>0.000000</td>\n",
       "      <td>T</td>\n",
       "      <td>NaN</td>\n",
       "      <td>NaN</td>\n",
       "      <td>NaN</td>\n",
       "      <td>NaN</td>\n",
       "      <td>NaN</td>\n",
       "      <td>NaN</td>\n",
       "    </tr>\n",
       "    <tr>\n",
       "      <th>18</th>\n",
       "      <td>9</td>\n",
       "      <td>chr9:17793437:A:G</td>\n",
       "      <td>17793437</td>\n",
       "      <td>G</td>\n",
       "      <td>0.001171</td>\n",
       "      <td>0.001009</td>\n",
       "      <td>A</td>\n",
       "      <td>0.02676</td>\n",
       "      <td>0.8701</td>\n",
       "      <td>1.161</td>\n",
       "      <td>0.9134</td>\n",
       "      <td>0.1938</td>\n",
       "      <td>6.955</td>\n",
       "    </tr>\n",
       "    <tr>\n",
       "      <th>19</th>\n",
       "      <td>9</td>\n",
       "      <td>chr9:17793450:C:G</td>\n",
       "      <td>17793450</td>\n",
       "      <td>G</td>\n",
       "      <td>0.000000</td>\n",
       "      <td>0.000000</td>\n",
       "      <td>C</td>\n",
       "      <td>NaN</td>\n",
       "      <td>NaN</td>\n",
       "      <td>NaN</td>\n",
       "      <td>NaN</td>\n",
       "      <td>NaN</td>\n",
       "      <td>NaN</td>\n",
       "    </tr>\n",
       "    <tr>\n",
       "      <th>20</th>\n",
       "      <td>9</td>\n",
       "      <td>chr9:17793461:G:A</td>\n",
       "      <td>17793461</td>\n",
       "      <td>A</td>\n",
       "      <td>0.000000</td>\n",
       "      <td>0.000000</td>\n",
       "      <td>G</td>\n",
       "      <td>NaN</td>\n",
       "      <td>NaN</td>\n",
       "      <td>NaN</td>\n",
       "      <td>NaN</td>\n",
       "      <td>NaN</td>\n",
       "      <td>NaN</td>\n",
       "    </tr>\n",
       "    <tr>\n",
       "      <th>21</th>\n",
       "      <td>9</td>\n",
       "      <td>chr9:17793465:G:T</td>\n",
       "      <td>17793465</td>\n",
       "      <td>T</td>\n",
       "      <td>0.000000</td>\n",
       "      <td>0.000000</td>\n",
       "      <td>G</td>\n",
       "      <td>NaN</td>\n",
       "      <td>NaN</td>\n",
       "      <td>NaN</td>\n",
       "      <td>NaN</td>\n",
       "      <td>NaN</td>\n",
       "      <td>NaN</td>\n",
       "    </tr>\n",
       "    <tr>\n",
       "      <th>22</th>\n",
       "      <td>9</td>\n",
       "      <td>chr9:17795552:A:G</td>\n",
       "      <td>17795552</td>\n",
       "      <td>G</td>\n",
       "      <td>0.000000</td>\n",
       "      <td>0.000000</td>\n",
       "      <td>A</td>\n",
       "      <td>NaN</td>\n",
       "      <td>NaN</td>\n",
       "      <td>NaN</td>\n",
       "      <td>NaN</td>\n",
       "      <td>NaN</td>\n",
       "      <td>NaN</td>\n",
       "    </tr>\n",
       "    <tr>\n",
       "      <th>23</th>\n",
       "      <td>9</td>\n",
       "      <td>chr9:17795560:G:T</td>\n",
       "      <td>17795560</td>\n",
       "      <td>T</td>\n",
       "      <td>0.000000</td>\n",
       "      <td>0.000000</td>\n",
       "      <td>G</td>\n",
       "      <td>NaN</td>\n",
       "      <td>NaN</td>\n",
       "      <td>NaN</td>\n",
       "      <td>NaN</td>\n",
       "      <td>NaN</td>\n",
       "      <td>NaN</td>\n",
       "    </tr>\n",
       "    <tr>\n",
       "      <th>24</th>\n",
       "      <td>9</td>\n",
       "      <td>chr9:17795624:G:A</td>\n",
       "      <td>17795624</td>\n",
       "      <td>A</td>\n",
       "      <td>0.000000</td>\n",
       "      <td>0.000000</td>\n",
       "      <td>G</td>\n",
       "      <td>NaN</td>\n",
       "      <td>NaN</td>\n",
       "      <td>NaN</td>\n",
       "      <td>NaN</td>\n",
       "      <td>NaN</td>\n",
       "      <td>NaN</td>\n",
       "    </tr>\n",
       "    <tr>\n",
       "      <th>25</th>\n",
       "      <td>9</td>\n",
       "      <td>chr9:17795649:A:G</td>\n",
       "      <td>17795649</td>\n",
       "      <td>G</td>\n",
       "      <td>0.000000</td>\n",
       "      <td>0.000000</td>\n",
       "      <td>A</td>\n",
       "      <td>NaN</td>\n",
       "      <td>NaN</td>\n",
       "      <td>NaN</td>\n",
       "      <td>NaN</td>\n",
       "      <td>NaN</td>\n",
       "      <td>NaN</td>\n",
       "    </tr>\n",
       "  </tbody>\n",
       "</table>\n",
       "</div>"
      ],
      "text/plain": [
       "    CHR                SNP        BP A1       F_A       F_U A2    CHISQ  \\\n",
       "0     9  chr9:17747126:A:T  17747126  T  0.000000  0.000000  A      NaN   \n",
       "1     9  chr9:17761500:C:G  17761500  G  0.000000  0.000000  C      NaN   \n",
       "2     9  chr9:17786465:C:T  17786465  T  0.000000  0.000000  C      NaN   \n",
       "3     9  chr9:17786478:G:C  17786478  C  0.000000  0.000000  G      NaN   \n",
       "4     9  chr9:17786519:A:G  17786519  G  0.000000  0.000000  A      NaN   \n",
       "5     9  chr9:17787464:T:G  17787464  G  0.000000  0.000000  T      NaN   \n",
       "6     9  chr9:17787509:T:C  17787509  C  0.000000  0.000000  T      NaN   \n",
       "7     9  chr9:17789425:G:T  17789425  T  0.000000  0.000000  G      NaN   \n",
       "8     9  chr9:17789473:C:G  17789473  G  0.000000  0.000000  C      NaN   \n",
       "9     9  chr9:17789485:C:G  17789485  G  0.000000  0.000000  C      NaN   \n",
       "10    9  chr9:17789544:G:T  17789544  T  0.000000  0.000000  G      NaN   \n",
       "11    9  chr9:17789545:A:G  17789545  G  0.000000  0.000000  A      NaN   \n",
       "12    9  chr9:17791272:G:C  17791272  C  0.000000  0.000000  G      NaN   \n",
       "13    9  chr9:17791276:G:C  17791276  C  0.000000  0.000000  G      NaN   \n",
       "14    9  chr9:17791290:G:C  17791290  C  0.000000  0.000000  G      NaN   \n",
       "15    9  chr9:17791294:G:T  17791294  T  0.000000  0.000000  G      NaN   \n",
       "16    9  chr9:17791308:G:C  17791308  C  0.000000  0.000000  G      NaN   \n",
       "17    9  chr9:17793420:T:C  17793420  C  0.000000  0.000000  T      NaN   \n",
       "18    9  chr9:17793437:A:G  17793437  G  0.001171  0.001009  A  0.02676   \n",
       "19    9  chr9:17793450:C:G  17793450  G  0.000000  0.000000  C      NaN   \n",
       "20    9  chr9:17793461:G:A  17793461  A  0.000000  0.000000  G      NaN   \n",
       "21    9  chr9:17793465:G:T  17793465  T  0.000000  0.000000  G      NaN   \n",
       "22    9  chr9:17795552:A:G  17795552  G  0.000000  0.000000  A      NaN   \n",
       "23    9  chr9:17795560:G:T  17795560  T  0.000000  0.000000  G      NaN   \n",
       "24    9  chr9:17795624:G:A  17795624  A  0.000000  0.000000  G      NaN   \n",
       "25    9  chr9:17795649:A:G  17795649  G  0.000000  0.000000  A      NaN   \n",
       "\n",
       "         P     OR      SE     L95    U95  \n",
       "0      NaN    NaN     NaN     NaN    NaN  \n",
       "1      NaN    NaN     NaN     NaN    NaN  \n",
       "2      NaN    NaN     NaN     NaN    NaN  \n",
       "3      NaN    NaN     NaN     NaN    NaN  \n",
       "4      NaN    NaN     NaN     NaN    NaN  \n",
       "5      NaN    NaN     NaN     NaN    NaN  \n",
       "6      NaN    NaN     NaN     NaN    NaN  \n",
       "7      NaN    NaN     NaN     NaN    NaN  \n",
       "8      NaN    NaN     NaN     NaN    NaN  \n",
       "9      NaN    NaN     NaN     NaN    NaN  \n",
       "10     NaN    NaN     NaN     NaN    NaN  \n",
       "11     NaN    NaN     NaN     NaN    NaN  \n",
       "12     NaN    NaN     NaN     NaN    NaN  \n",
       "13     NaN    NaN     NaN     NaN    NaN  \n",
       "14     NaN    NaN     NaN     NaN    NaN  \n",
       "15     NaN    NaN     NaN     NaN    NaN  \n",
       "16     NaN    NaN     NaN     NaN    NaN  \n",
       "17     NaN    NaN     NaN     NaN    NaN  \n",
       "18  0.8701  1.161  0.9134  0.1938  6.955  \n",
       "19     NaN    NaN     NaN     NaN    NaN  \n",
       "20     NaN    NaN     NaN     NaN    NaN  \n",
       "21     NaN    NaN     NaN     NaN    NaN  \n",
       "22     NaN    NaN     NaN     NaN    NaN  \n",
       "23     NaN    NaN     NaN     NaN    NaN  \n",
       "24     NaN    NaN     NaN     NaN    NaN  \n",
       "25     NaN    NaN     NaN     NaN    NaN  "
      ]
     },
     "execution_count": 23,
     "metadata": {},
     "output_type": "execute_result"
    }
   ],
   "source": [
    "SH3GL2_AFR_freq = pd.read_csv(f'{WORK_DIR}/coding_nonsynonymous_pheno_SH3GL2_AFR.assoc', delim_whitespace=True)\n",
    "SH3GL2_AFR_freq"
   ]
  },
  {
   "cell_type": "code",
   "execution_count": 39,
   "metadata": {},
   "outputs": [
    {
     "name": "stdout",
     "output_type": "stream",
     "text": [
      "PLINK v1.90b6.9 64-bit (4 Mar 2019)            www.cog-genomics.org/plink/1.9/\n",
      "(C) 2005-2019 Shaun Purcell, Christopher Chang   GNU General Public License v3\n",
      "Logging to coding_nonsynonymous_pheno_SH3GL2_AFR.log.\n",
      "Options in effect:\n",
      "  --bfile pheno_SH3GL2_AFR\n",
      "  --extract range reduced_coding_nonsynonymous_AFR.txt\n",
      "  --out coding_nonsynonymous_pheno_SH3GL2_AFR\n",
      "  --recode A\n",
      "\n",
      "14998 MB RAM detected; reserving 7499 MB for main workspace.\n",
      "19513 variants loaded from .bim file.\n",
      "2353 people (1367 males, 986 females) loaded from .fam.\n",
      "2343 phenotype values loaded from .fam.\n",
      "--extract range: 19487 variants excluded.\n",
      "--extract range: 26 variants remaining.\n",
      "Using 1 thread (no multithreaded calculations invoked).\n",
      "Before main variant filters, 2353 founders and 0 nonfounders present.\n",
      "Calculating allele frequencies... 0%\b\b1%\b\b2%\b\b3%\b\b4%\b\b5%\b\b6%\b\b7%\b\b8%\b\b9%\b\b10%\b\b\b11%\b\b\b12%\b\b\b13%\b\b\b14%\b\b\b15%\b\b\b16%\b\b\b17%\b\b\b18%\b\b\b19%\b\b\b20%\b\b\b21%\b\b\b22%\b\b\b23%\b\b\b24%\b\b\b25%\b\b\b26%\b\b\b27%\b\b\b28%\b\b\b29%\b\b\b30%\b\b\b31%\b\b\b32%\b\b\b33%\b\b\b34%\b\b\b35%\b\b\b36%\b\b\b37%\b\b\b38%\b\b\b39%\b\b\b40%\b\b\b41%\b\b\b42%\b\b\b43%\b\b\b44%\b\b\b45%\b\b\b46%\b\b\b47%\b\b\b48%\b\b\b49%\b\b\b50%\b\b\b51%\b\b\b52%\b\b\b53%\b\b\b54%\b\b\b55%\b\b\b56%\b\b\b57%\b\b\b58%\b\b\b59%\b\b\b60%\b\b\b61%\b\b\b62%\b\b\b63%\b\b\b64%\b\b\b65%\b\b\b66%\b\b\b67%\b\b\b68%\b\b\b69%\b\b\b70%\b\b\b71%\b\b\b72%\b\b\b73%\b\b\b74%\b\b\b75%\b\b\b76%\b\b\b77%\b\b\b78%\b\b\b79%\b\b\b80%\b\b\b81%\b\b\b82%\b\b\b83%\b\b\b84%\b\b\b85%\b\b\b86%\b\b\b87%\b\b\b88%\b\b\b89%\b\b\b90%\b\b\b91%\b\b\b92%\b\b\b93%\b\b\b94%\b\b\b95%\b\b\b96%\b\b\b97%\b\b\b98%\b\b\b99%\b\b\b\b done.\n",
      "Total genotyping rate is 0.999951.\n",
      "26 variants and 2353 people pass filters and QC.\n",
      "Among remaining phenotypes, 855 are cases and 1488 are controls.  (10\n",
      "phenotypes are missing.)\n",
      "--recode A to coding_nonsynonymous_pheno_SH3GL2_AFR.raw ... 0%\b\b1%\b\b2%\b\b3%\b\b4%\b\b5%\b\b6%\b\b7%\b\b8%\b\b9%\b\b10%\b\b\b11%\b\b\b12%\b\b\b13%\b\b\b14%\b\b\b15%\b\b\b16%\b\b\b17%\b\b\b18%\b\b\b19%\b\b\b20%\b\b\b21%\b\b\b22%\b\b\b23%\b\b\b24%\b\b\b25%\b\b\b26%\b\b\b27%\b\b\b28%\b\b\b29%\b\b\b30%\b\b\b31%\b\b\b32%\b\b\b33%\b\b\b34%\b\b\b35%\b\b\b36%\b\b\b37%\b\b\b38%\b\b\b39%\b\b\b40%\b\b\b41%\b\b\b42%\b\b\b43%\b\b\b44%\b\b\b45%\b\b\b46%\b\b\b47%\b\b\b48%\b\b\b49%\b\b\b50%\b\b\b51%\b\b\b52%\b\b\b53%\b\b\b54%\b\b\b55%\b\b\b56%\b\b\b57%\b\b\b58%\b\b\b59%\b\b\b60%\b\b\b61%\b\b\b62%\b\b\b63%\b\b\b64%\b\b\b65%\b\b\b66%\b\b\b67%\b\b\b68%\b\b\b69%\b\b\b70%\b\b\b71%\b\b\b72%\b\b\b73%\b\b\b74%\b\b\b75%\b\b\b76%\b\b\b77%\b\b\b78%\b\b\b79%\b\b\b80%\b\b\b81%\b\b\b82%\b\b\b83%\b\b\b84%\b\b\b85%\b\b\b86%\b\b\b87%\b\b\b88%\b\b\b89%\b\b\b90%\b\b\b91%\b\b\b92%\b\b\b93%\b\b\b94%\b\b\b95%\b\b\b96%\b\b\b97%\b\b\b98%\b\b\b99%\b\b\bdone.\n"
     ]
    }
   ],
   "source": [
    "%%bash\n",
    "\n",
    "WORK_DIR='/home/jupyter/SH3GL2_GP2/'\n",
    "cd $WORK_DIR\n",
    "\n",
    "/home/jupyter/tools/plink --bfile pheno_SH3GL2_AFR --extract range reduced_coding_nonsynonymous_AFR.txt --recode A --out coding_nonsynonymous_pheno_SH3GL2_AFR"
   ]
  },
  {
   "cell_type": "code",
   "execution_count": 40,
   "metadata": {
    "scrolled": true
   },
   "outputs": [
    {
     "data": {
      "text/html": [
       "<div>\n",
       "<style scoped>\n",
       "    .dataframe tbody tr th:only-of-type {\n",
       "        vertical-align: middle;\n",
       "    }\n",
       "\n",
       "    .dataframe tbody tr th {\n",
       "        vertical-align: top;\n",
       "    }\n",
       "\n",
       "    .dataframe thead th {\n",
       "        text-align: right;\n",
       "    }\n",
       "</style>\n",
       "<table border=\"1\" class=\"dataframe\">\n",
       "  <thead>\n",
       "    <tr style=\"text-align: right;\">\n",
       "      <th></th>\n",
       "      <th>FID</th>\n",
       "      <th>IID</th>\n",
       "      <th>PAT</th>\n",
       "      <th>MAT</th>\n",
       "      <th>SEX</th>\n",
       "      <th>PHENOTYPE</th>\n",
       "      <th>chr9:17747126:A:T_T</th>\n",
       "      <th>chr9:17761500:C:G_G</th>\n",
       "      <th>chr9:17786465:C:T_T</th>\n",
       "      <th>chr9:17786478:G:C_C</th>\n",
       "      <th>...</th>\n",
       "      <th>chr9:17791308:G:C_C</th>\n",
       "      <th>chr9:17793420:T:C_C</th>\n",
       "      <th>chr9:17793437:A:G_G</th>\n",
       "      <th>chr9:17793450:C:G_G</th>\n",
       "      <th>chr9:17793461:G:A_A</th>\n",
       "      <th>chr9:17793465:G:T_T</th>\n",
       "      <th>chr9:17795552:A:G_G</th>\n",
       "      <th>chr9:17795560:G:T_T</th>\n",
       "      <th>chr9:17795624:G:A_A</th>\n",
       "      <th>chr9:17795649:A:G_G</th>\n",
       "    </tr>\n",
       "  </thead>\n",
       "  <tbody>\n",
       "    <tr>\n",
       "      <th>0</th>\n",
       "      <td>0</td>\n",
       "      <td>BCM_000173_s1</td>\n",
       "      <td>0</td>\n",
       "      <td>0</td>\n",
       "      <td>1</td>\n",
       "      <td>2</td>\n",
       "      <td>0</td>\n",
       "      <td>0</td>\n",
       "      <td>0</td>\n",
       "      <td>0</td>\n",
       "      <td>...</td>\n",
       "      <td>0</td>\n",
       "      <td>0</td>\n",
       "      <td>0.0</td>\n",
       "      <td>0</td>\n",
       "      <td>0</td>\n",
       "      <td>0.0</td>\n",
       "      <td>0</td>\n",
       "      <td>0</td>\n",
       "      <td>0</td>\n",
       "      <td>0</td>\n",
       "    </tr>\n",
       "    <tr>\n",
       "      <th>1</th>\n",
       "      <td>0</td>\n",
       "      <td>BCM_000224_s1</td>\n",
       "      <td>0</td>\n",
       "      <td>0</td>\n",
       "      <td>1</td>\n",
       "      <td>2</td>\n",
       "      <td>0</td>\n",
       "      <td>0</td>\n",
       "      <td>0</td>\n",
       "      <td>0</td>\n",
       "      <td>...</td>\n",
       "      <td>0</td>\n",
       "      <td>0</td>\n",
       "      <td>0.0</td>\n",
       "      <td>0</td>\n",
       "      <td>0</td>\n",
       "      <td>0.0</td>\n",
       "      <td>0</td>\n",
       "      <td>0</td>\n",
       "      <td>0</td>\n",
       "      <td>0</td>\n",
       "    </tr>\n",
       "    <tr>\n",
       "      <th>2</th>\n",
       "      <td>0</td>\n",
       "      <td>BCM_000286_s1</td>\n",
       "      <td>0</td>\n",
       "      <td>0</td>\n",
       "      <td>1</td>\n",
       "      <td>2</td>\n",
       "      <td>0</td>\n",
       "      <td>0</td>\n",
       "      <td>0</td>\n",
       "      <td>0</td>\n",
       "      <td>...</td>\n",
       "      <td>0</td>\n",
       "      <td>0</td>\n",
       "      <td>0.0</td>\n",
       "      <td>0</td>\n",
       "      <td>0</td>\n",
       "      <td>0.0</td>\n",
       "      <td>0</td>\n",
       "      <td>0</td>\n",
       "      <td>0</td>\n",
       "      <td>0</td>\n",
       "    </tr>\n",
       "    <tr>\n",
       "      <th>3</th>\n",
       "      <td>0</td>\n",
       "      <td>BCM_000287_s1</td>\n",
       "      <td>0</td>\n",
       "      <td>0</td>\n",
       "      <td>1</td>\n",
       "      <td>2</td>\n",
       "      <td>0</td>\n",
       "      <td>0</td>\n",
       "      <td>0</td>\n",
       "      <td>0</td>\n",
       "      <td>...</td>\n",
       "      <td>0</td>\n",
       "      <td>0</td>\n",
       "      <td>0.0</td>\n",
       "      <td>0</td>\n",
       "      <td>0</td>\n",
       "      <td>0.0</td>\n",
       "      <td>0</td>\n",
       "      <td>0</td>\n",
       "      <td>0</td>\n",
       "      <td>0</td>\n",
       "    </tr>\n",
       "    <tr>\n",
       "      <th>4</th>\n",
       "      <td>0</td>\n",
       "      <td>BCM_000315_s1</td>\n",
       "      <td>0</td>\n",
       "      <td>0</td>\n",
       "      <td>2</td>\n",
       "      <td>2</td>\n",
       "      <td>0</td>\n",
       "      <td>0</td>\n",
       "      <td>0</td>\n",
       "      <td>0</td>\n",
       "      <td>...</td>\n",
       "      <td>0</td>\n",
       "      <td>0</td>\n",
       "      <td>0.0</td>\n",
       "      <td>0</td>\n",
       "      <td>0</td>\n",
       "      <td>0.0</td>\n",
       "      <td>0</td>\n",
       "      <td>0</td>\n",
       "      <td>0</td>\n",
       "      <td>0</td>\n",
       "    </tr>\n",
       "  </tbody>\n",
       "</table>\n",
       "<p>5 rows × 32 columns</p>\n",
       "</div>"
      ],
      "text/plain": [
       "   FID            IID  PAT  MAT  SEX  PHENOTYPE  chr9:17747126:A:T_T  \\\n",
       "0    0  BCM_000173_s1    0    0    1          2                    0   \n",
       "1    0  BCM_000224_s1    0    0    1          2                    0   \n",
       "2    0  BCM_000286_s1    0    0    1          2                    0   \n",
       "3    0  BCM_000287_s1    0    0    1          2                    0   \n",
       "4    0  BCM_000315_s1    0    0    2          2                    0   \n",
       "\n",
       "   chr9:17761500:C:G_G  chr9:17786465:C:T_T  chr9:17786478:G:C_C  ...  \\\n",
       "0                    0                    0                    0  ...   \n",
       "1                    0                    0                    0  ...   \n",
       "2                    0                    0                    0  ...   \n",
       "3                    0                    0                    0  ...   \n",
       "4                    0                    0                    0  ...   \n",
       "\n",
       "   chr9:17791308:G:C_C  chr9:17793420:T:C_C  chr9:17793437:A:G_G  \\\n",
       "0                    0                    0                  0.0   \n",
       "1                    0                    0                  0.0   \n",
       "2                    0                    0                  0.0   \n",
       "3                    0                    0                  0.0   \n",
       "4                    0                    0                  0.0   \n",
       "\n",
       "   chr9:17793450:C:G_G  chr9:17793461:G:A_A  chr9:17793465:G:T_T  \\\n",
       "0                    0                    0                  0.0   \n",
       "1                    0                    0                  0.0   \n",
       "2                    0                    0                  0.0   \n",
       "3                    0                    0                  0.0   \n",
       "4                    0                    0                  0.0   \n",
       "\n",
       "   chr9:17795552:A:G_G  chr9:17795560:G:T_T  chr9:17795624:G:A_A  \\\n",
       "0                    0                    0                    0   \n",
       "1                    0                    0                    0   \n",
       "2                    0                    0                    0   \n",
       "3                    0                    0                    0   \n",
       "4                    0                    0                    0   \n",
       "\n",
       "   chr9:17795649:A:G_G  \n",
       "0                    0  \n",
       "1                    0  \n",
       "2                    0  \n",
       "3                    0  \n",
       "4                    0  \n",
       "\n",
       "[5 rows x 32 columns]"
      ]
     },
     "execution_count": 40,
     "metadata": {},
     "output_type": "execute_result"
    }
   ],
   "source": [
    "\n",
    "SH3GL2_AFR_recode = pd.read_csv(f'{WORK_DIR}/coding_nonsynonymous_pheno_SH3GL2_AFR.raw', delim_whitespace=True)\n",
    "SH3GL2_AFR_recode.head()"
   ]
  },
  {
   "cell_type": "markdown",
   "metadata": {},
   "source": [
    "## Save out results..!"
   ]
  },
  {
   "cell_type": "code",
   "execution_count": 55,
   "metadata": {
    "scrolled": false
   },
   "outputs": [
    {
     "name": "stderr",
     "output_type": "stream",
     "text": [
      "Executing: gsutil -mu terra-18d8e41c cp -r /home/jupyter/SH3GL2_GP2/ gs://fc-f7a400c1-827e-48f8-b7b6-90c488a000a4\n"
     ]
    },
    {
     "name": "stdout",
     "output_type": "stream",
     "text": [
      "Copying file:///home/jupyter/SH3GL2_GP2/chr9_FIN_release5.log [Content-Type=application/octet-stream]...\n",
      "Copying file:///home/jupyter/SH3GL2_GP2/pheno_SH3GL2_AFR.vcf.gz [Content-Type=text/vcard]...\n",
      "Copying file:///home/jupyter/SH3GL2_GP2/chr9_AJ_release5.pgen [Content-Type=application/octet-stream]...\n",
      "Copying file:///home/jupyter/SH3GL2_GP2/pheno_SH3GL2_MDE.annovar.hg38_multianno.txt [Content-Type=text/plain]...\n",
      "Copying file:///home/jupyter/SH3GL2_GP2/pheno_SH3GL2_AFR.bed [Content-Type=application/octet-stream]...\n",
      "Copying file:///home/jupyter/SH3GL2_GP2/chr9_AAC_release5.psam [Content-Type=application/octet-stream]...\n",
      "Copying file:///home/jupyter/SH3GL2_GP2/reduced_coding_nonsynonymous_EUR.txt [Content-Type=text/plain]...\n",
      "==> NOTE: You are uploading one or more large file(s), which would run          \n",
      "significantly faster if you enable parallel composite uploads. This\n",
      "feature can be enabled by editing the\n",
      "\"parallel_composite_upload_threshold\" value in your .boto\n",
      "configuration file. However, note that if you do this large files will\n",
      "be uploaded as `composite objects\n",
      "<https://cloud.google.com/storage/docs/composite-objects>`_,which\n",
      "means that any user who downloads such objects will need to have a\n",
      "compiled crcmod installed (see \"gsutil help crcmod\"). This is because\n",
      "without a compiled crcmod, computing checksums on composite objects is\n",
      "so slow that gsutil disables downloads of composite objects.\n",
      "\n",
      "Copying file:///home/jupyter/SH3GL2_GP2/pheno_SH3GL2_EUR.annovar.hg38_multianno.vcf [Content-Type=text/vcard]...\n",
      "Copying file:///home/jupyter/SH3GL2_GP2/chr9_AFR_release5.pvar [Content-Type=application/octet-stream]...\n",
      "Copying file:///home/jupyter/SH3GL2_GP2/pheno_SH3GL2_AAC.bed [Content-Type=application/octet-stream]...\n",
      "Copying file:///home/jupyter/SH3GL2_GP2/pheno_SH3GL2_AAC.vcf.gz [Content-Type=text/vcard]...\n",
      "Copying file:///home/jupyter/SH3GL2_GP2/coding_nonsynonymous_EUR_rare_0.05.bim [Content-Type=application/octet-stream]...\n",
      "Copying file:///home/jupyter/SH3GL2_GP2/pheno_SH3GL2_AAC.annovar.avinput [Content-Type=application/octet-stream]...\n",
      "Copying file:///home/jupyter/SH3GL2_GP2/pheno_SH3GL2_FIN.bed [Content-Type=application/octet-stream]...\n",
      "Copying file:///home/jupyter/SH3GL2_GP2/pheno_SH3GL2_AJ.log [Content-Type=application/octet-stream]...\n",
      "Copying file:///home/jupyter/SH3GL2_GP2/chr9_MDE_release5.psam [Content-Type=application/octet-stream]...\n",
      "Copying file:///home/jupyter/SH3GL2_GP2/coding_nonsynonymous_EUR_rare_0.05.fam [Content-Type=application/octet-stream]...\n",
      "Copying file:///home/jupyter/SH3GL2_GP2/coding_nonsynonymous_pheno_SH3GL2_EUR.raw [Content-Type=application/octet-stream]...\n",
      "Copying file:///home/jupyter/SH3GL2_GP2/coding_nonsynonymous_pheno_SH3GL2_AJ.log [Content-Type=application/octet-stream]...\n",
      "Copying file:///home/jupyter/SH3GL2_GP2/chr9_AMR_release5.pgen [Content-Type=application/octet-stream]...\n",
      "Copying file:///home/jupyter/SH3GL2_GP2/chr9_AFR_release5.psam [Content-Type=application/octet-stream]...\n",
      "Copying file:///home/jupyter/SH3GL2_GP2/chr9_CAS_release5.pgen [Content-Type=application/octet-stream]...\n",
      "Copying file:///home/jupyter/SH3GL2_GP2/temp.log [Content-Type=application/octet-stream]...\n",
      "Copying file:///home/jupyter/SH3GL2_GP2/pheno_SH3GL2_AMR.fam [Content-Type=application/octet-stream]...\n",
      "Copying file:///home/jupyter/SH3GL2_GP2/pheno_SH3GL2_CAS.vcf.gz [Content-Type=text/vcard]...\n",
      "Copying file:///home/jupyter/SH3GL2_GP2/pheno_SH3GL2_AJ.bim [Content-Type=application/octet-stream]...\n",
      "Copying file:///home/jupyter/SH3GL2_GP2/pheno_SH3GL2_AMR.vcf.gz.tbi [Content-Type=application/octet-stream]...\n",
      "Copying file:///home/jupyter/SH3GL2_GP2/coding_nonsynonymous_MDE_rare_0.05.log [Content-Type=application/octet-stream]...\n",
      "Copying file:///home/jupyter/SH3GL2_GP2/pheno_SH3GL2_CAS.vcf [Content-Type=text/vcard]...\n",
      "Copying file:///home/jupyter/SH3GL2_GP2/coding_nonsynonymous_CAS_rare_0.05.log [Content-Type=application/octet-stream]...\n",
      "Copying file:///home/jupyter/SH3GL2_GP2/coding_nonsynonymous_AAC_rare_0.05.log [Content-Type=application/octet-stream]...\n",
      "Copying file:///home/jupyter/SH3GL2_GP2/SEX.txt [Content-Type=text/plain]...\n",
      "Copying file:///home/jupyter/SH3GL2_GP2/pheno_SH3GL2_EUR.vcf [Content-Type=text/vcard]...\n",
      "Copying file:///home/jupyter/SH3GL2_GP2/pheno_SH3GL2_EUR.annovar.avinput [Content-Type=application/octet-stream]...\n",
      "Copying file:///home/jupyter/SH3GL2_GP2/pheno_SH3GL2_AJ.vcf.gz [Content-Type=text/vcard]...\n",
      "Copying file:///home/jupyter/SH3GL2_GP2/pheno_SH3GL2_CAS.bed [Content-Type=application/octet-stream]...\n",
      "Copying file:///home/jupyter/SH3GL2_GP2/pheno_SH3GL2_AMR.log [Content-Type=application/octet-stream]...\n",
      "Copying file:///home/jupyter/SH3GL2_GP2/pheno_SH3GL2_AAC.bim [Content-Type=application/octet-stream]...\n",
      "Copying file:///home/jupyter/SH3GL2_GP2/pheno_SH3GL2_AMR.nosex [Content-Type=application/octet-stream]...\n",
      "Copying file:///home/jupyter/SH3GL2_GP2/pheno_SH3GL2_AJ.vcf.gz.tbi [Content-Type=application/octet-stream]...\n",
      "Copying file:///home/jupyter/SH3GL2_GP2/pheno_SH3GL2_AMR.annovar.hg38_multianno.vcf [Content-Type=text/vcard]...\n",
      "Copying file:///home/jupyter/SH3GL2_GP2/chr9_EUR_release5.log [Content-Type=application/octet-stream]...\n",
      "Copying file:///home/jupyter/SH3GL2_GP2/chr9_AMR_release5.log [Content-Type=application/octet-stream]...\n",
      "Copying file:///home/jupyter/SH3GL2_GP2/pheno_SH3GL2_CAS.vcf.gz.tbi [Content-Type=application/octet-stream]...\n",
      "Copying file:///home/jupyter/SH3GL2_GP2/pheno_SH3GL2_AFR.annovar.avinput [Content-Type=application/octet-stream]...\n",
      "Copying file:///home/jupyter/SH3GL2_GP2/pheno_SH3GL2_AJ.annovar.hg38_multianno.vcf [Content-Type=text/vcard]...\n",
      "Copying file:///home/jupyter/SH3GL2_GP2/pheno_SH3GL2_AMR.bim [Content-Type=application/octet-stream]...\n",
      "Copying file:///home/jupyter/SH3GL2_GP2/pheno_SH3GL2_CAS.annovar.hg38_multianno.txt [Content-Type=text/plain]...\n",
      "Copying file:///home/jupyter/SH3GL2_GP2/reduced_coding_nonsynonymous_AAC.txt [Content-Type=text/plain]...\n",
      "Copying file:///home/jupyter/SH3GL2_GP2/reduced_coding_nonsynonymous_FIN.txt [Content-Type=text/plain]...\n",
      "Copying file:///home/jupyter/SH3GL2_GP2/chr9_EUR_release5.psam [Content-Type=application/octet-stream]...\n",
      "Copying file:///home/jupyter/SH3GL2_GP2/chr9_AJ_release5.pvar [Content-Type=application/octet-stream]...\n",
      "Copying file:///home/jupyter/SH3GL2_GP2/chr9_CAS_release5.psam [Content-Type=application/octet-stream]...\n",
      "Copying file:///home/jupyter/SH3GL2_GP2/pheno_SH3GL2_MDE.log [Content-Type=application/octet-stream]...\n",
      "Copying file:///home/jupyter/SH3GL2_GP2/pheno_SH3GL2_FIN.fam [Content-Type=application/octet-stream]...\n",
      "Copying file:///home/jupyter/SH3GL2_GP2/pheno_SH3GL2_CAS.annovar.hg38_multianno.vcf [Content-Type=text/vcard]...\n",
      "Copying file:///home/jupyter/SH3GL2_GP2/pheno_SH3GL2_EUR.fam [Content-Type=application/octet-stream]...\n",
      "Copying file:///home/jupyter/SH3GL2_GP2/coding_nonsynonymous_EUR_rare_0.05.bed [Content-Type=application/octet-stream]...\n",
      "Copying file:///home/jupyter/SH3GL2_GP2/pheno_SH3GL2_AAC.annovar.hg38_multianno.txt [Content-Type=text/plain]...\n",
      "Copying file:///home/jupyter/SH3GL2_GP2/master_key_release4_final.csv [Content-Type=text/csv]...\n",
      "Copying file:///home/jupyter/SH3GL2_GP2/coding_nonsynonymous_AFR_rare_0.05.log [Content-Type=application/octet-stream]...\n",
      "Copying file:///home/jupyter/SH3GL2_GP2/pheno_SH3GL2_FIN.annovar.hg38_multianno.vcf [Content-Type=text/vcard]...\n",
      "Copying file:///home/jupyter/SH3GL2_GP2/coding_nonsynonymous_pheno_SH3GL2_FIN.log [Content-Type=application/octet-stream]...\n",
      "Copying file:///home/jupyter/SH3GL2_GP2/coding_nonsynonymous_pheno_SH3GL2_EUR.assoc [Content-Type=application/octet-stream]...\n",
      "Copying file:///home/jupyter/SH3GL2_GP2/pheno_SH3GL2_AAC.annovar.hg38_multianno.vcf [Content-Type=text/vcard]...\n",
      "Copying file:///home/jupyter/SH3GL2_GP2/coding_nonsynonymous_pheno_SH3GL2_EUR.log [Content-Type=application/octet-stream]...\n",
      "Copying file:///home/jupyter/SH3GL2_GP2/pheno_SH3GL2_AFR.vcf.gz.tbi [Content-Type=application/octet-stream]...\n",
      "Copying file:///home/jupyter/SH3GL2_GP2/coding_nonsynonymous_pheno_SH3GL2_AFR.log [Content-Type=application/octet-stream]...\n",
      "Copying file:///home/jupyter/SH3GL2_GP2/pheno_SH3GL2_AFR.annovar.hg38_multianno.txt [Content-Type=text/plain]...\n",
      "Copying file:///home/jupyter/SH3GL2_GP2/chr9_CAS_release5.log [Content-Type=application/octet-stream]...\n",
      "Copying file:///home/jupyter/SH3GL2_GP2/pheno_SH3GL2_FIN.log [Content-Type=application/octet-stream]...\n",
      "Copying file:///home/jupyter/SH3GL2_GP2/pheno_SH3GL2_AJ.annovar.avinput [Content-Type=application/octet-stream]...\n",
      "Copying file:///home/jupyter/SH3GL2_GP2/reduced_coding_nonsynonymous_AJ.txt [Content-Type=text/plain]...\n",
      "Copying file:///home/jupyter/SH3GL2_GP2/coding_nonsynonymous_pheno_SH3GL2_AAC.log [Content-Type=application/octet-stream]...\n",
      "Copying file:///home/jupyter/SH3GL2_GP2/pheno_SH3GL2_MDE.annovar.avinput [Content-Type=application/octet-stream]...\n",
      "Copying file:///home/jupyter/SH3GL2_GP2/coding_nonsynonymous.txt [Content-Type=text/plain]...\n",
      "Copying file:///home/jupyter/SH3GL2_GP2/pheno_SH3GL2_EUR.vcf.gz [Content-Type=text/vcard]...\n",
      "Copying file:///home/jupyter/SH3GL2_GP2/pheno_SH3GL2_EUR.bim [Content-Type=application/octet-stream]...\n",
      "Copying file:///home/jupyter/SH3GL2_GP2/pheno_SH3GL2_AJ.annovar.hg38_multianno.txt [Content-Type=text/plain]...\n",
      "Copying file:///home/jupyter/SH3GL2_GP2/chr9_EUR_release5.pgen [Content-Type=application/octet-stream]...\n",
      "Copying file:///home/jupyter/SH3GL2_GP2/chr9_AMR_release4.pvar [Content-Type=application/octet-stream]...\n",
      "Copying file:///home/jupyter/SH3GL2_GP2/chr9_AMR_release5.pvar [Content-Type=application/octet-stream]...\n",
      "Copying file:///home/jupyter/SH3GL2_GP2/pheno_SH3GL2_AMR.annovar.avinput [Content-Type=application/octet-stream]...\n",
      "Copying file:///home/jupyter/SH3GL2_GP2/pheno_SH3GL2_CAS.bim [Content-Type=application/octet-stream]...\n",
      "Copying file:///home/jupyter/SH3GL2_GP2/pheno_SH3GL2_AFR.annovar.hg38_multianno.vcf [Content-Type=text/vcard]...\n",
      "Copying file:///home/jupyter/SH3GL2_GP2/pheno_SH3GL2_AJ.bed [Content-Type=application/octet-stream]...\n",
      "Copying file:///home/jupyter/SH3GL2_GP2/reduced_coding_nonsynonymous_AFR.txt [Content-Type=text/plain]...\n",
      "Copying file:///home/jupyter/SH3GL2_GP2/pheno_SH3GL2_AAC.log [Content-Type=application/octet-stream]...\n",
      "Copying file:///home/jupyter/SH3GL2_GP2/reduced_coding_nonsynonymous_AMR.txt [Content-Type=text/plain]...\n",
      "Copying file:///home/jupyter/SH3GL2_GP2/pheno_SH3GL2_AFR.bim [Content-Type=application/octet-stream]...\n",
      "Copying file:///home/jupyter/SH3GL2_GP2/PHENO.txt [Content-Type=text/plain]...  \n",
      "Copying file:///home/jupyter/SH3GL2_GP2/chr9_EUR_release5.pvar [Content-Type=application/octet-stream]...\n",
      "Copying file:///home/jupyter/SH3GL2_GP2/pheno_SH3GL2_AAC.vcf.gz.tbi [Content-Type=application/octet-stream]...\n",
      "Copying file:///home/jupyter/SH3GL2_GP2/chr9_AMR_release5.psam [Content-Type=application/octet-stream]...\n",
      "Copying file:///home/jupyter/SH3GL2_GP2/pheno_SH3GL2_AAC.fam [Content-Type=application/octet-stream]...\n",
      "Copying file:///home/jupyter/SH3GL2_GP2/chr9_AFR_release5.log [Content-Type=application/octet-stream]...\n",
      "Copying file:///home/jupyter/SH3GL2_GP2/pheno_SH3GL2_AFR.fam [Content-Type=application/octet-stream]...\n",
      "Copying file:///home/jupyter/SH3GL2_GP2/pheno_SH3GL2_AFR.log [Content-Type=application/octet-stream]...\n",
      "Copying file:///home/jupyter/SH3GL2_GP2/pheno_SH3GL2_FIN.vcf.gz [Content-Type=text/vcard]...\n",
      "Copying file:///home/jupyter/SH3GL2_GP2/chr9_AMR_release4.psam [Content-Type=application/octet-stream]...\n",
      "Copying file:///home/jupyter/SH3GL2_GP2/pheno_SH3GL2_EUR.log [Content-Type=application/octet-stream]...\n",
      "Copying file:///home/jupyter/SH3GL2_GP2/pheno_SH3GL2_EUR.annovar.hg38_multianno.txt [Content-Type=text/plain]...\n",
      "Copying file:///home/jupyter/SH3GL2_GP2/chr9_FIN_release5.psam [Content-Type=application/octet-stream]...\n",
      "Copying file:///home/jupyter/SH3GL2_GP2/chr9_AAC_release5.log [Content-Type=application/octet-stream]...\n",
      "Copying file:///home/jupyter/SH3GL2_GP2/coding_nonsynonymous_pheno_SH3GL2_MDE.log [Content-Type=application/octet-stream]...\n",
      "Copying file:///home/jupyter/SH3GL2_GP2/pheno_SH3GL2_MDE.vcf.gz [Content-Type=text/vcard]...\n",
      "Copying file:///home/jupyter/SH3GL2_GP2/coding_nonsynonymous_pheno_SH3GL2_EUR.assoc.adjusted [Content-Type=application/octet-stream]...\n",
      "Copying file:///home/jupyter/SH3GL2_GP2/chr9_MDE_release5.log [Content-Type=application/octet-stream]...\n",
      "Copying file:///home/jupyter/SH3GL2_GP2/pheno_SH3GL2_CAS.fam [Content-Type=application/octet-stream]...\n",
      "Copying file:///home/jupyter/SH3GL2_GP2/pheno_SH3GL2_AMR.bed [Content-Type=application/octet-stream]...\n",
      "Copying file:///home/jupyter/SH3GL2_GP2/chr9_AAC_release5.pvar [Content-Type=application/octet-stream]...\n",
      "Copying file:///home/jupyter/SH3GL2_GP2/pheno_SH3GL2_FIN.vcf.gz.tbi [Content-Type=application/octet-stream]...\n",
      "Copying file:///home/jupyter/SH3GL2_GP2/pheno_SH3GL2_CAS.log [Content-Type=application/octet-stream]...\n",
      "Copying file:///home/jupyter/SH3GL2_GP2/chr9_AAC_release5.pgen [Content-Type=application/octet-stream]...\n",
      "Copying file:///home/jupyter/SH3GL2_GP2/pheno_SH3GL2_AMR.vcf.gz [Content-Type=text/vcard]...\n",
      "Copying file:///home/jupyter/SH3GL2_GP2/pheno_SH3GL2_AJ.fam [Content-Type=application/octet-stream]...\n",
      "Copying file:///home/jupyter/SH3GL2_GP2/pheno_SH3GL2_CAS.annovar.avinput [Content-Type=application/octet-stream]...\n",
      "Copying file:///home/jupyter/SH3GL2_GP2/pheno_SH3GL2_EUR.vcf.gz.tbi [Content-Type=application/octet-stream]...\n",
      "Copying file:///home/jupyter/SH3GL2_GP2/chr9_FIN_release5.pgen [Content-Type=application/octet-stream]...\n",
      "Copying file:///home/jupyter/SH3GL2_GP2/chr9_AJ_release5.psam [Content-Type=application/octet-stream]...\n",
      "Copying file:///home/jupyter/SH3GL2_GP2/pheno_SH3GL2_MDE.bim [Content-Type=application/octet-stream]...\n",
      "Copying file:///home/jupyter/SH3GL2_GP2/master_key_release5_final.csv [Content-Type=text/csv]...\n",
      "Copying file:///home/jupyter/SH3GL2_GP2/chr9_AFR_release5.pgen [Content-Type=application/octet-stream]...\n",
      "Copying file:///home/jupyter/SH3GL2_GP2/chr9_FIN_release5.pvar [Content-Type=application/octet-stream]...\n",
      "Copying file:///home/jupyter/SH3GL2_GP2/chr9_AJ_release5.log [Content-Type=application/octet-stream]...\n",
      "Copying file:///home/jupyter/SH3GL2_GP2/pheno_SH3GL2_MDE.fam [Content-Type=application/octet-stream]...\n",
      "Copying file:///home/jupyter/SH3GL2_GP2/pheno_SH3GL2_FIN.annovar.avinput [Content-Type=application/octet-stream]...\n",
      "Copying file:///home/jupyter/SH3GL2_GP2/chr9_MDE_release5.pvar [Content-Type=application/octet-stream]...\n",
      "Copying file:///home/jupyter/SH3GL2_GP2/chr9_AMR_release4.log [Content-Type=application/octet-stream]...\n",
      "Copying file:///home/jupyter/SH3GL2_GP2/coding_nonsynonymous_pheno_SH3GL2_CAS.log [Content-Type=application/octet-stream]...\n",
      "Copying file:///home/jupyter/SH3GL2_GP2/reduced_coding_nonsynonymous_MDE.txt [Content-Type=text/plain]...\n",
      "Copying file:///home/jupyter/SH3GL2_GP2/pheno_SH3GL2_MDE.vcf.gz.tbi [Content-Type=application/octet-stream]...\n",
      "Copying file:///home/jupyter/SH3GL2_GP2/pheno_SH3GL2_FIN.bim [Content-Type=application/octet-stream]...\n",
      "Copying file:///home/jupyter/SH3GL2_GP2/pheno_SH3GL2_FIN.annovar.hg38_multianno.txt [Content-Type=text/plain]...\n",
      "Copying file:///home/jupyter/SH3GL2_GP2/chr9_CAS_release5.pvar [Content-Type=application/octet-stream]...\n",
      "Copying file:///home/jupyter/SH3GL2_GP2/coding_nonsynonymous_pheno_SH3GL2_AMR.log [Content-Type=application/octet-stream]...\n",
      "Copying file:///home/jupyter/SH3GL2_GP2/chr9_AMR_release4.pgen [Content-Type=application/octet-stream]...\n",
      "Copying file:///home/jupyter/SH3GL2_GP2/reduced_coding_nonsynonymous_CAS.txt [Content-Type=text/plain]...\n",
      "Copying file:///home/jupyter/SH3GL2_GP2/coding_nonsynonymous_EUR_rare_0.05.log [Content-Type=application/octet-stream]...\n",
      "Copying file:///home/jupyter/SH3GL2_GP2/pheno_SH3GL2_MDE.bed [Content-Type=application/octet-stream]...\n",
      "Copying file:///home/jupyter/SH3GL2_GP2/chr9_MDE_release5.pgen [Content-Type=application/octet-stream]...\n",
      "Copying file:///home/jupyter/SH3GL2_GP2/coding_nonsynonymous_AMR_rare_0.05.nosex [Content-Type=application/octet-stream]...\n",
      "Copying file:///home/jupyter/SH3GL2_GP2/pheno_SH3GL2_AMR.vcf [Content-Type=text/vcard]...\n",
      "Copying file:///home/jupyter/SH3GL2_GP2/pheno_SH3GL2_MDE.annovar.hg38_multianno.vcf [Content-Type=text/vcard]...\n",
      "Copying file:///home/jupyter/SH3GL2_GP2/pheno_SH3GL2_EUR.bed [Content-Type=application/octet-stream]...\n",
      "Copying file:///home/jupyter/SH3GL2_GP2/pheno_SH3GL2_AMR.annovar.hg38_multianno.txt [Content-Type=text/plain]...\n",
      "Copying file:///home/jupyter/SH3GL2_GP2/coding_nonsynonymous_pheno_SH3GL2_AMR.nosex [Content-Type=application/octet-stream]...\n",
      "Copying file:///home/jupyter/SH3GL2_GP2/coding_nonsynonymous_AMR_rare_0.05.log [Content-Type=application/octet-stream]...\n",
      "| [148/148 files][ 10.5 GiB/ 10.5 GiB] 100% Done  62.0 MiB/s ETA 00:00:00       \n",
      "Operation completed over 148 objects/10.5 GiB.                                   \n"
     ]
    }
   ],
   "source": [
    "shell_do(f'gsutil -mu {BILLING_PROJECT_ID} cp -r {WORK_DIR} {WORKSPACE_BUCKET}')"
   ]
  },
  {
   "cell_type": "code",
   "execution_count": null,
   "metadata": {},
   "outputs": [],
   "source": []
  }
 ],
 "metadata": {
  "kernelspec": {
   "display_name": "Python 3",
   "language": "python",
   "name": "python3"
  },
  "language_info": {
   "codemirror_mode": {
    "name": "ipython",
    "version": 3
   },
   "file_extension": ".py",
   "mimetype": "text/x-python",
   "name": "python",
   "nbconvert_exporter": "python",
   "pygments_lexer": "ipython3",
   "version": "3.7.12"
  },
  "toc": {
   "base_numbering": 1,
   "nav_menu": {
    "height": "248.972px",
    "width": "263.062px"
   },
   "number_sections": true,
   "sideBar": true,
   "skip_h1_title": false,
   "title_cell": "Table of Contents",
   "title_sidebar": "Contents",
   "toc_cell": false,
   "toc_position": {
    "height": "calc(100% - 180px)",
    "left": "10px",
    "top": "150px",
    "width": "268.372px"
   },
   "toc_section_display": true,
   "toc_window_display": false
  }
 },
 "nbformat": 4,
 "nbformat_minor": 2
}
