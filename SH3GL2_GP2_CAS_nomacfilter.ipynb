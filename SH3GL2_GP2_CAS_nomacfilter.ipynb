{
 "cells": [
  {
   "cell_type": "markdown",
   "metadata": {},
   "source": [
    "# SH3GL2 - Single gene analysis in GP2 data"
   ]
  },
  {
   "cell_type": "markdown",
   "metadata": {},
   "source": [
    "## Description\n",
    "\n",
    "Using \"individual level data\""
   ]
  },
  {
   "cell_type": "markdown",
   "metadata": {},
   "source": [
    "### 0. Getting Started\n",
    "\n",
    "- Loading Python libraries\n",
    "- Defining functions\n",
    "- Installing packages\n",
    "\n",
    "### 1. Copy data from workspace to cloud environment\n",
    "\n",
    "### 2. Extract SH3GL2\n",
    "\n",
    "### 3. Annotate SH3GL2 variants\n",
    "\n",
    "### 4. Extract coding/non-syn variants\n",
    "\n",
    "### 5. Calculate frequency in cases versus controls\n",
    "\n",
    "### 6. Calculate frequency (homozygotes) in cases versus controls\n",
    "\n",
    "### 7. Save out results"
   ]
  },
  {
   "cell_type": "markdown",
   "metadata": {},
   "source": [
    "## Getting Started"
   ]
  },
  {
   "cell_type": "markdown",
   "metadata": {},
   "source": [
    "### Loading Python libraries"
   ]
  },
  {
   "cell_type": "markdown",
   "metadata": {},
   "source": [
    "### Defining functions"
   ]
  },
  {
   "cell_type": "code",
   "execution_count": 1,
   "metadata": {
    "code_folding": []
   },
   "outputs": [],
   "source": [
    "# Use the os package to interact with the environment\n",
    "import os\n",
    "\n",
    "# Bring in Pandas for Dataframe functionality\n",
    "import pandas as pd\n",
    "\n",
    "# Numpy for basics\n",
    "import numpy as np\n",
    "\n",
    "# Use StringIO for working with file contents\n",
    "from io import StringIO\n",
    "\n",
    "# Enable IPython to display matplotlib graphs\n",
    "import matplotlib.pyplot as plt\n",
    "%matplotlib inline\n",
    "\n",
    "# Enable interaction with the FireCloud API\n",
    "from firecloud import api as fapi\n",
    "\n",
    "# Import the iPython HTML rendering for displaying links to Google Cloud Console\n",
    "from IPython.core.display import display, HTML\n",
    "\n",
    "# Import urllib modules for building URLs to Google Cloud Console\n",
    "import urllib.parse\n",
    "\n",
    "# BigQuery for querying data\n",
    "from google.cloud import bigquery\n",
    "\n",
    "#Import Sys\n",
    "import sys as sys"
   ]
  },
  {
   "cell_type": "code",
   "execution_count": 2,
   "metadata": {
    "code_folding": []
   },
   "outputs": [],
   "source": [
    "# Utility routine for printing a shell command before executing it\n",
    "def shell_do(command):\n",
    "    print(f'Executing: {command}', file=sys.stderr)\n",
    "    !$command\n",
    "    \n",
    "def shell_return(command):\n",
    "    print(f'Executing: {command}', file=sys.stderr)\n",
    "    output = !$command\n",
    "    return '\\n'.join(output)\n",
    "\n",
    "# Utility routine for printing a query before executing it\n",
    "def bq_query(query):\n",
    "    print(f'Executing: {query}', file=sys.stderr)\n",
    "    return pd.read_gbq(query, project_id=BILLING_PROJECT_ID, dialect='standard')\n",
    "\n",
    "# Utility routine for display a message and a link\n",
    "def display_html_link(description, link_text, url):\n",
    "    html = f'''\n",
    "    <p>\n",
    "    </p>\n",
    "    <p>\n",
    "    {description}\n",
    "    <a target=_blank href=\"{url}\">{link_text}</a>.\n",
    "    </p>\n",
    "    '''\n",
    "\n",
    "    display(HTML(html))\n",
    "\n",
    "# Utility routines for reading files from Google Cloud Storage\n",
    "def gcs_read_file(path):\n",
    "    \"\"\"Return the contents of a file in GCS\"\"\"\n",
    "    contents = !gsutil -u {BILLING_PROJECT_ID} cat {path}\n",
    "    return '\\n'.join(contents)\n",
    "    \n",
    "def gcs_read_csv(path, sep=None):\n",
    "    \"\"\"Return a DataFrame from the contents of a delimited file in GCS\"\"\"\n",
    "    return pd.read_csv(StringIO(gcs_read_file(path)), sep=sep, engine='python')\n",
    "\n",
    "# Utility routine for displaying a message and link to Cloud Console\n",
    "def link_to_cloud_console_gcs(description, link_text, gcs_path):\n",
    "    url = '{}?{}'.format(\n",
    "        os.path.join('https://console.cloud.google.com/storage/browser',\n",
    "                     gcs_path.replace(\"gs://\",\"\")),\n",
    "        urllib.parse.urlencode({'userProject': BILLING_PROJECT_ID}))\n",
    "\n",
    "    display_html_link(description, link_text, url)"
   ]
  },
  {
   "cell_type": "markdown",
   "metadata": {},
   "source": [
    "### Set paths"
   ]
  },
  {
   "cell_type": "code",
   "execution_count": 3,
   "metadata": {
    "code_folding": []
   },
   "outputs": [
    {
     "name": "stdout",
     "output_type": "stream",
     "text": [
      "Billing and Workspace\n",
      "Workspace Name: Endophilin-A\n",
      "Billing Project: terra-18d8e41c\n",
      "Workspace Bucket, where you can upload and download data: gs://fc-f7a400c1-827e-48f8-b7b6-90c488a000a4\n",
      "\n",
      "GP2 v5.0\n",
      "Path to GP2 v5.0 Clinical Data: gs://gp2tier2/release5_11052023/clinical_data\n",
      "Path to GP2 v5.0 Raw Genotype Data: gs://gp2tier2/release5_11052023/raw_genotypes\n",
      "Path to GP2 v5.0 Imputed Genotype Data: gs://gp2tier2/release5_11052023/imputed_genotypes\n",
      "AMP-PD v3.0\n",
      "Path to AMP-PD v3.0 Clinical Data: gs://amp-pd-data/releases/2022_v3release_1115/clinical\n",
      "Path to AMP-PD v3.0 WGS Data: gs://amp-pd-genomics/releases/2022_v3release_1115/wgs-WB-DWGS/plink\n",
      "Path to AMP-PD v3.0 WGS Data: gs://amp-pd-genomics/releases/2022_v3release_1115/wgs-WB-DWGS/plink/pfiles\n",
      "\n"
     ]
    }
   ],
   "source": [
    "# Set up billing project and data path variables\n",
    "BILLING_PROJECT_ID = os.environ['GOOGLE_PROJECT']\n",
    "WORKSPACE_NAMESPACE = os.environ['WORKSPACE_NAMESPACE']\n",
    "WORKSPACE_NAME = os.environ['WORKSPACE_NAME']\n",
    "WORKSPACE_BUCKET = os.environ['WORKSPACE_BUCKET']\n",
    "\n",
    "WORKSPACE_ATTRIBUTES = fapi.get_workspace(WORKSPACE_NAMESPACE, WORKSPACE_NAME).json().get('workspace',{}).get('attributes',{})\n",
    "\n",
    "## Print the information to check we are in the proper release and billing \n",
    "## This will be different for you, the user, depending on the billing project your workspace is on\n",
    "print('Billing and Workspace')\n",
    "print(f'Workspace Name: {WORKSPACE_NAME}')\n",
    "print(f'Billing Project: {BILLING_PROJECT_ID}')\n",
    "print(f'Workspace Bucket, where you can upload and download data: {WORKSPACE_BUCKET}')\n",
    "print('')\n",
    "\n",
    "\n",
    "## GP2 v5.0\n",
    "## Explicitly define release v5.0 path \n",
    "GP2_RELEASE_PATH = 'gs://gp2tier2/release5_11052023'\n",
    "GP2_CLINICAL_RELEASE_PATH = f'{GP2_RELEASE_PATH}/clinical_data'\n",
    "GP2_META_RELEASE_PATH = f'{GP2_RELEASE_PATH}/meta_data'\n",
    "GP2_RAW_GENO_PATH = f'{GP2_RELEASE_PATH}/raw_genotypes'\n",
    "GP2_IMPUTED_GENO_PATH = f'{GP2_RELEASE_PATH}/imputed_genotypes'\n",
    "print('GP2 v5.0')\n",
    "print(f'Path to GP2 v5.0 Clinical Data: {GP2_CLINICAL_RELEASE_PATH}')\n",
    "print(f'Path to GP2 v5.0 Raw Genotype Data: {GP2_RAW_GENO_PATH}')\n",
    "print(f'Path to GP2 v5.0 Imputed Genotype Data: {GP2_IMPUTED_GENO_PATH}')\n",
    "\n",
    "\n",
    "## AMP-PD v3.0\n",
    "## Explicitly define release v3.0 path \n",
    "AMP_RELEASE_PATH = 'gs://amp-pd-data/releases/2022_v3release_1115'\n",
    "AMP_CLINICAL_RELEASE_PATH = f'{AMP_RELEASE_PATH}/clinical'\n",
    "\n",
    "AMP_WGS_RELEASE_PATH = 'gs://amp-pd-genomics/releases/2022_v3release_1115/wgs-WB-DWGS'\n",
    "AMP_WGS_RELEASE_PLINK_PATH = os.path.join(AMP_WGS_RELEASE_PATH, 'plink')\n",
    "AMP_WGS_RELEASE_PLINK_PFILES = os.path.join(AMP_WGS_RELEASE_PLINK_PATH, 'pfiles')\n",
    "\n",
    "print('AMP-PD v3.0')\n",
    "print(f'Path to AMP-PD v3.0 Clinical Data: {AMP_CLINICAL_RELEASE_PATH}')\n",
    "print(f'Path to AMP-PD v3.0 WGS Data: {AMP_WGS_RELEASE_PLINK_PATH}')\n",
    "print(f'Path to AMP-PD v3.0 WGS Data: {AMP_WGS_RELEASE_PLINK_PFILES}')\n",
    "print('')"
   ]
  },
  {
   "cell_type": "markdown",
   "metadata": {},
   "source": [
    "### Install packages"
   ]
  },
  {
   "cell_type": "markdown",
   "metadata": {},
   "source": [
    "#### Install Plink 1.9 and Plink 2.0"
   ]
  },
  {
   "cell_type": "code",
   "execution_count": 4,
   "metadata": {},
   "outputs": [
    {
     "name": "stdout",
     "output_type": "stream",
     "text": [
      "Plink1.9 is already installed in /home/jupyter/tools/\n",
      "Plink2 is already installed in /home/jupyter/tools/\n"
     ]
    }
   ],
   "source": [
    "%%bash\n",
    "\n",
    "mkdir -p ~/tools\n",
    "cd ~/tools\n",
    "\n",
    "if test -e /home/jupyter/tools/plink; then\n",
    "echo \"Plink1.9 is already installed in /home/jupyter/tools/\"\n",
    "\n",
    "else\n",
    "echo -e \"Downloading plink \\n    -------\"\n",
    "wget -N http://s3.amazonaws.com/plink1-assets/plink_linux_x86_64_20190304.zip \n",
    "unzip -o plink_linux_x86_64_20190304.zip\n",
    "echo -e \"\\n plink downloaded and unzipped in /home/jupyter/tools \\n \"\n",
    "\n",
    "fi\n",
    "\n",
    "\n",
    "if test -e /home/jupyter/tools/plink2; then\n",
    "echo \"Plink2 is already installed in /home/jupyter/tools/\"\n",
    "\n",
    "else\n",
    "echo -e \"Downloading plink2 \\n    -------\"\n",
    "wget -N https://s3.amazonaws.com/plink2-assets/alpha3/plink2_linux_avx2_20220603.zip\n",
    "unzip -o plink2_linux_avx2_20220603.zip\n",
    "echo -e \"\\n plink2 downloaded and unzipped in /home/jupyter/tools \\n \"\n",
    "\n",
    "fi"
   ]
  },
  {
   "cell_type": "code",
   "execution_count": 5,
   "metadata": {
    "scrolled": true
   },
   "outputs": [
    {
     "name": "stdout",
     "output_type": "stream",
     "text": [
      "annovar\n",
      "annovar.latest.tar.gz\n",
      "LICENSE\n",
      "plink\n",
      "plink2\n",
      "plink2_linux_avx2_20220603.zip\n",
      "plink_linux_x86_64_20190304.zip\n",
      "prettify\n",
      "toy.map\n",
      "toy.ped\n"
     ]
    }
   ],
   "source": [
    "%%bash\n",
    "ls /home/jupyter/tools/"
   ]
  },
  {
   "cell_type": "markdown",
   "metadata": {},
   "source": [
    "#### Remote restrictions"
   ]
  },
  {
   "cell_type": "code",
   "execution_count": 6,
   "metadata": {},
   "outputs": [],
   "source": [
    "%%bash\n",
    "\n",
    "# chmod plink 1.9 \n",
    "chmod u+x /home/jupyter/tools/plink"
   ]
  },
  {
   "cell_type": "code",
   "execution_count": 7,
   "metadata": {},
   "outputs": [],
   "source": [
    "%%bash\n",
    "\n",
    "# chmod plink 2.0\n",
    "chmod u+x /home/jupyter/tools/plink2"
   ]
  },
  {
   "cell_type": "markdown",
   "metadata": {},
   "source": [
    "### Install ANNOVAR"
   ]
  },
  {
   "cell_type": "code",
   "execution_count": 8,
   "metadata": {},
   "outputs": [
    {
     "name": "stdout",
     "output_type": "stream",
     "text": [
      "annovar is already installed in /home/jupyter/tools/\n"
     ]
    }
   ],
   "source": [
    "%%bash\n",
    "\n",
    "# Install ANNOVAR:\n",
    "# https://www.openbioinformatics.org/annovar/annovar_download_form.php\n",
    "\n",
    "if test -e /home/jupyter/tools/annovar; then\n",
    "\n",
    "echo \"annovar is already installed in /home/jupyter/tools/\"\n",
    "else\n",
    "echo \"annovar is not installed\"\n",
    "cd /home/jupyter/tools/\n",
    "\n",
    "wget http://www.openbioinformatics.org/annovar/download/0wgxR2rIVP/annovar.latest.tar.gz\n",
    "\n",
    "tar xvfz annovar.latest.tar.gz\n",
    "\n",
    "fi"
   ]
  },
  {
   "cell_type": "code",
   "execution_count": 9,
   "metadata": {
    "scrolled": true
   },
   "outputs": [
    {
     "name": "stdout",
     "output_type": "stream",
     "text": [
      "annovar\n",
      "annovar.latest.tar.gz\n",
      "LICENSE\n",
      "plink\n",
      "plink2\n",
      "plink2_linux_avx2_20220603.zip\n",
      "plink_linux_x86_64_20190304.zip\n",
      "prettify\n",
      "toy.map\n",
      "toy.ped\n"
     ]
    }
   ],
   "source": [
    "%%bash\n",
    "ls /home/jupyter/tools/"
   ]
  },
  {
   "cell_type": "markdown",
   "metadata": {},
   "source": [
    "#### Install ANNOVAR: Download sources of annotation "
   ]
  },
  {
   "cell_type": "code",
   "execution_count": 10,
   "metadata": {
    "scrolled": true
   },
   "outputs": [
    {
     "name": "stderr",
     "output_type": "stream",
     "text": [
      "NOTICE: Web-based checking to see whether ANNOVAR new version is available ... Done\n",
      "NOTICE: Downloading annotation database http://www.openbioinformatics.org/annovar/download/hg38_refGene.txt.gz ... OK\n",
      "NOTICE: Downloading annotation database http://www.openbioinformatics.org/annovar/download/hg38_refGeneMrna.fa.gz ... OK\n",
      "NOTICE: Downloading annotation database http://www.openbioinformatics.org/annovar/download/hg38_refGeneVersion.txt.gz ... OK\n",
      "NOTICE: Uncompressing downloaded files\n",
      "NOTICE: Finished downloading annotation files for hg38 build version, with files saved at the 'humandb' directory\n",
      "NOTICE: Web-based checking to see whether ANNOVAR new version is available ... Done\n",
      "NOTICE: Downloading annotation database http://www.openbioinformatics.org/annovar/download/hg38_clinvar_20140902.txt.gz ... OK\n",
      "NOTICE: Downloading annotation database http://www.openbioinformatics.org/annovar/download/hg38_clinvar_20140902.txt.idx.gz ... OK\n",
      "NOTICE: Uncompressing downloaded files\n",
      "NOTICE: Finished downloading annotation files for hg38 build version, with files saved at the 'humandb' directory\n"
     ]
    }
   ],
   "source": [
    "%%bash\n",
    "\n",
    "cd /home/jupyter/tools/annovar/\n",
    "\n",
    "perl annotate_variation.pl -buildver hg38 -downdb -webfrom annovar refGene humandb/\n",
    "perl annotate_variation.pl -buildver hg38 -downdb -webfrom annovar clinvar_20140902 humandb/\n",
    "#perl annotate_variation.pl -buildver hg38 -downdb cytoBand humandb/\n",
    "#perl annotate_variation.pl -buildver hg38 -downdb -webfrom annovar ensGene humandb/\n",
    "#perl annotate_variation.pl -buildver hg38 -downdb -webfrom annovar exac03 humandb/ \n",
    "#perl annotate_variation.pl -buildver hg38 -downdb -webfrom annovar avsnp147 humandb/ \n",
    "#perl annotate_variation.pl -buildver hg38 -downdb -webfrom annovar dbnsfp30a humandb/\n",
    "#perl annotate_variation.pl -buildver hg38 -downdb -webfrom annovar gnomad211_genome humandb/\n",
    "#perl annotate_variation.pl -buildver hg38 -downdb -webfrom annovar ljb26_all humandb/"
   ]
  },
  {
   "cell_type": "code",
   "execution_count": 11,
   "metadata": {
    "scrolled": true
   },
   "outputs": [
    {
     "name": "stdout",
     "output_type": "stream",
     "text": [
      "annotate_variation.pl\n",
      "coding_change.pl\n",
      "convert2annovar.pl\n",
      "example\n",
      "humandb\n",
      "retrieve_seq_from_fasta.pl\n",
      "table_annovar.pl\n",
      "variants_reduction.pl\n"
     ]
    }
   ],
   "source": [
    "%%bash\n",
    "ls /home/jupyter/tools/annovar/"
   ]
  },
  {
   "cell_type": "markdown",
   "metadata": {},
   "source": [
    "## CAS"
   ]
  },
  {
   "cell_type": "markdown",
   "metadata": {},
   "source": [
    "## Copy data from GP2 bucket to workspace (GP2 Release 5 data)"
   ]
  },
  {
   "cell_type": "code",
   "execution_count": 4,
   "metadata": {
    "scrolled": false
   },
   "outputs": [
    {
     "name": "stdout",
     "output_type": "stream",
     "text": [
      "Making a working directory\n"
     ]
    },
    {
     "name": "stderr",
     "output_type": "stream",
     "text": [
      "Executing: mkdir -p /home/jupyter/SH3GL2_GP2/\n"
     ]
    }
   ],
   "source": [
    "# Make a directory\n",
    "print(\"Making a working directory\")\n",
    "WORK_DIR = f'/home/jupyter/SH3GL2_GP2/'\n",
    "shell_do(f'mkdir -p {WORK_DIR}') # f' means f-string - contains expressions to execute the code"
   ]
  },
  {
   "cell_type": "code",
   "execution_count": 5,
   "metadata": {
    "scrolled": true
   },
   "outputs": [
    {
     "name": "stderr",
     "output_type": "stream",
     "text": [
      "Executing: gsutil -u terra-18d8e41c ls gs://gp2tier2/release5_11052023/imputed_genotypes/CAS/\n"
     ]
    },
    {
     "name": "stdout",
     "output_type": "stream",
     "text": [
      "gs://gp2tier2/release5_11052023/imputed_genotypes/CAS/chr10_CAS_release5.log\r\n",
      "gs://gp2tier2/release5_11052023/imputed_genotypes/CAS/chr10_CAS_release5.pgen\r\n",
      "gs://gp2tier2/release5_11052023/imputed_genotypes/CAS/chr10_CAS_release5.psam\r\n",
      "gs://gp2tier2/release5_11052023/imputed_genotypes/CAS/chr10_CAS_release5.pvar\r\n",
      "gs://gp2tier2/release5_11052023/imputed_genotypes/CAS/chr10_CAS_release5_no_mac_filter.log\r\n",
      "gs://gp2tier2/release5_11052023/imputed_genotypes/CAS/chr10_CAS_release5_no_mac_filter.pgen\r\n",
      "gs://gp2tier2/release5_11052023/imputed_genotypes/CAS/chr10_CAS_release5_no_mac_filter.psam\r\n",
      "gs://gp2tier2/release5_11052023/imputed_genotypes/CAS/chr10_CAS_release5_no_mac_filter.pvar\r\n",
      "gs://gp2tier2/release5_11052023/imputed_genotypes/CAS/chr11_CAS_release5.log\r\n",
      "gs://gp2tier2/release5_11052023/imputed_genotypes/CAS/chr11_CAS_release5.pgen\r\n",
      "gs://gp2tier2/release5_11052023/imputed_genotypes/CAS/chr11_CAS_release5.psam\r\n",
      "gs://gp2tier2/release5_11052023/imputed_genotypes/CAS/chr11_CAS_release5.pvar\r\n",
      "gs://gp2tier2/release5_11052023/imputed_genotypes/CAS/chr11_CAS_release5_no_mac_filter.log\r\n",
      "gs://gp2tier2/release5_11052023/imputed_genotypes/CAS/chr11_CAS_release5_no_mac_filter.pgen\r\n",
      "gs://gp2tier2/release5_11052023/imputed_genotypes/CAS/chr11_CAS_release5_no_mac_filter.psam\r\n",
      "gs://gp2tier2/release5_11052023/imputed_genotypes/CAS/chr11_CAS_release5_no_mac_filter.pvar\r\n",
      "gs://gp2tier2/release5_11052023/imputed_genotypes/CAS/chr12_CAS_release5.log\r\n",
      "gs://gp2tier2/release5_11052023/imputed_genotypes/CAS/chr12_CAS_release5.pgen\r\n",
      "gs://gp2tier2/release5_11052023/imputed_genotypes/CAS/chr12_CAS_release5.psam\r\n",
      "gs://gp2tier2/release5_11052023/imputed_genotypes/CAS/chr12_CAS_release5.pvar\r\n",
      "gs://gp2tier2/release5_11052023/imputed_genotypes/CAS/chr12_CAS_release5_no_mac_filter.log\r\n",
      "gs://gp2tier2/release5_11052023/imputed_genotypes/CAS/chr12_CAS_release5_no_mac_filter.pgen\r\n",
      "gs://gp2tier2/release5_11052023/imputed_genotypes/CAS/chr12_CAS_release5_no_mac_filter.psam\r\n",
      "gs://gp2tier2/release5_11052023/imputed_genotypes/CAS/chr12_CAS_release5_no_mac_filter.pvar\r\n",
      "gs://gp2tier2/release5_11052023/imputed_genotypes/CAS/chr13_CAS_release5.log\r\n",
      "gs://gp2tier2/release5_11052023/imputed_genotypes/CAS/chr13_CAS_release5.pgen\r\n",
      "gs://gp2tier2/release5_11052023/imputed_genotypes/CAS/chr13_CAS_release5.psam\r\n",
      "gs://gp2tier2/release5_11052023/imputed_genotypes/CAS/chr13_CAS_release5.pvar\r\n",
      "gs://gp2tier2/release5_11052023/imputed_genotypes/CAS/chr13_CAS_release5_no_mac_filter.log\r\n",
      "gs://gp2tier2/release5_11052023/imputed_genotypes/CAS/chr13_CAS_release5_no_mac_filter.pgen\r\n",
      "gs://gp2tier2/release5_11052023/imputed_genotypes/CAS/chr13_CAS_release5_no_mac_filter.psam\r\n",
      "gs://gp2tier2/release5_11052023/imputed_genotypes/CAS/chr13_CAS_release5_no_mac_filter.pvar\r\n",
      "gs://gp2tier2/release5_11052023/imputed_genotypes/CAS/chr14_CAS_release5.log\r\n",
      "gs://gp2tier2/release5_11052023/imputed_genotypes/CAS/chr14_CAS_release5.pgen\r\n",
      "gs://gp2tier2/release5_11052023/imputed_genotypes/CAS/chr14_CAS_release5.psam\r\n",
      "gs://gp2tier2/release5_11052023/imputed_genotypes/CAS/chr14_CAS_release5.pvar\r\n",
      "gs://gp2tier2/release5_11052023/imputed_genotypes/CAS/chr14_CAS_release5_no_mac_filter.log\r\n",
      "gs://gp2tier2/release5_11052023/imputed_genotypes/CAS/chr14_CAS_release5_no_mac_filter.pgen\r\n",
      "gs://gp2tier2/release5_11052023/imputed_genotypes/CAS/chr14_CAS_release5_no_mac_filter.psam\r\n",
      "gs://gp2tier2/release5_11052023/imputed_genotypes/CAS/chr14_CAS_release5_no_mac_filter.pvar\r\n",
      "gs://gp2tier2/release5_11052023/imputed_genotypes/CAS/chr15_CAS_release5.log\r\n",
      "gs://gp2tier2/release5_11052023/imputed_genotypes/CAS/chr15_CAS_release5.pgen\r\n",
      "gs://gp2tier2/release5_11052023/imputed_genotypes/CAS/chr15_CAS_release5.psam\r\n",
      "gs://gp2tier2/release5_11052023/imputed_genotypes/CAS/chr15_CAS_release5.pvar\r\n",
      "gs://gp2tier2/release5_11052023/imputed_genotypes/CAS/chr15_CAS_release5_no_mac_filter.log\r\n",
      "gs://gp2tier2/release5_11052023/imputed_genotypes/CAS/chr15_CAS_release5_no_mac_filter.pgen\r\n",
      "gs://gp2tier2/release5_11052023/imputed_genotypes/CAS/chr15_CAS_release5_no_mac_filter.psam\r\n",
      "gs://gp2tier2/release5_11052023/imputed_genotypes/CAS/chr15_CAS_release5_no_mac_filter.pvar\r\n",
      "gs://gp2tier2/release5_11052023/imputed_genotypes/CAS/chr16_CAS_release5.log\r\n",
      "gs://gp2tier2/release5_11052023/imputed_genotypes/CAS/chr16_CAS_release5.pgen\r\n",
      "gs://gp2tier2/release5_11052023/imputed_genotypes/CAS/chr16_CAS_release5.psam\r\n",
      "gs://gp2tier2/release5_11052023/imputed_genotypes/CAS/chr16_CAS_release5.pvar\r\n",
      "gs://gp2tier2/release5_11052023/imputed_genotypes/CAS/chr16_CAS_release5_no_mac_filter.log\r\n",
      "gs://gp2tier2/release5_11052023/imputed_genotypes/CAS/chr16_CAS_release5_no_mac_filter.pgen\r\n",
      "gs://gp2tier2/release5_11052023/imputed_genotypes/CAS/chr16_CAS_release5_no_mac_filter.psam\r\n",
      "gs://gp2tier2/release5_11052023/imputed_genotypes/CAS/chr16_CAS_release5_no_mac_filter.pvar\r\n",
      "gs://gp2tier2/release5_11052023/imputed_genotypes/CAS/chr17_CAS_release5.log\r\n",
      "gs://gp2tier2/release5_11052023/imputed_genotypes/CAS/chr17_CAS_release5.pgen\r\n",
      "gs://gp2tier2/release5_11052023/imputed_genotypes/CAS/chr17_CAS_release5.psam\r\n",
      "gs://gp2tier2/release5_11052023/imputed_genotypes/CAS/chr17_CAS_release5.pvar\r\n",
      "gs://gp2tier2/release5_11052023/imputed_genotypes/CAS/chr17_CAS_release5_no_mac_filter.log\r\n",
      "gs://gp2tier2/release5_11052023/imputed_genotypes/CAS/chr17_CAS_release5_no_mac_filter.pgen\r\n",
      "gs://gp2tier2/release5_11052023/imputed_genotypes/CAS/chr17_CAS_release5_no_mac_filter.psam\r\n",
      "gs://gp2tier2/release5_11052023/imputed_genotypes/CAS/chr17_CAS_release5_no_mac_filter.pvar\r\n",
      "gs://gp2tier2/release5_11052023/imputed_genotypes/CAS/chr18_CAS_release5.log\r\n",
      "gs://gp2tier2/release5_11052023/imputed_genotypes/CAS/chr18_CAS_release5.pgen\r\n",
      "gs://gp2tier2/release5_11052023/imputed_genotypes/CAS/chr18_CAS_release5.psam\r\n",
      "gs://gp2tier2/release5_11052023/imputed_genotypes/CAS/chr18_CAS_release5.pvar\r\n",
      "gs://gp2tier2/release5_11052023/imputed_genotypes/CAS/chr18_CAS_release5_no_mac_filter.log\r\n",
      "gs://gp2tier2/release5_11052023/imputed_genotypes/CAS/chr18_CAS_release5_no_mac_filter.pgen\r\n",
      "gs://gp2tier2/release5_11052023/imputed_genotypes/CAS/chr18_CAS_release5_no_mac_filter.psam\r\n",
      "gs://gp2tier2/release5_11052023/imputed_genotypes/CAS/chr18_CAS_release5_no_mac_filter.pvar\r\n",
      "gs://gp2tier2/release5_11052023/imputed_genotypes/CAS/chr19_CAS_release5.log\r\n",
      "gs://gp2tier2/release5_11052023/imputed_genotypes/CAS/chr19_CAS_release5.pgen\r\n",
      "gs://gp2tier2/release5_11052023/imputed_genotypes/CAS/chr19_CAS_release5.psam\r\n",
      "gs://gp2tier2/release5_11052023/imputed_genotypes/CAS/chr19_CAS_release5.pvar\r\n",
      "gs://gp2tier2/release5_11052023/imputed_genotypes/CAS/chr19_CAS_release5_no_mac_filter.log\r\n",
      "gs://gp2tier2/release5_11052023/imputed_genotypes/CAS/chr19_CAS_release5_no_mac_filter.pgen\r\n",
      "gs://gp2tier2/release5_11052023/imputed_genotypes/CAS/chr19_CAS_release5_no_mac_filter.psam\r\n",
      "gs://gp2tier2/release5_11052023/imputed_genotypes/CAS/chr19_CAS_release5_no_mac_filter.pvar\r\n",
      "gs://gp2tier2/release5_11052023/imputed_genotypes/CAS/chr1_CAS_release5.log\r\n",
      "gs://gp2tier2/release5_11052023/imputed_genotypes/CAS/chr1_CAS_release5.pgen\r\n",
      "gs://gp2tier2/release5_11052023/imputed_genotypes/CAS/chr1_CAS_release5.psam\r\n",
      "gs://gp2tier2/release5_11052023/imputed_genotypes/CAS/chr1_CAS_release5.pvar\r\n",
      "gs://gp2tier2/release5_11052023/imputed_genotypes/CAS/chr1_CAS_release5_no_mac_filter.log\r\n",
      "gs://gp2tier2/release5_11052023/imputed_genotypes/CAS/chr1_CAS_release5_no_mac_filter.pgen\r\n",
      "gs://gp2tier2/release5_11052023/imputed_genotypes/CAS/chr1_CAS_release5_no_mac_filter.psam\r\n",
      "gs://gp2tier2/release5_11052023/imputed_genotypes/CAS/chr1_CAS_release5_no_mac_filter.pvar\r\n",
      "gs://gp2tier2/release5_11052023/imputed_genotypes/CAS/chr20_CAS_release5.log\r\n",
      "gs://gp2tier2/release5_11052023/imputed_genotypes/CAS/chr20_CAS_release5.pgen\r\n",
      "gs://gp2tier2/release5_11052023/imputed_genotypes/CAS/chr20_CAS_release5.psam\r\n",
      "gs://gp2tier2/release5_11052023/imputed_genotypes/CAS/chr20_CAS_release5.pvar\r\n",
      "gs://gp2tier2/release5_11052023/imputed_genotypes/CAS/chr20_CAS_release5_no_mac_filter.log\r\n",
      "gs://gp2tier2/release5_11052023/imputed_genotypes/CAS/chr20_CAS_release5_no_mac_filter.pgen\r\n",
      "gs://gp2tier2/release5_11052023/imputed_genotypes/CAS/chr20_CAS_release5_no_mac_filter.psam\r\n",
      "gs://gp2tier2/release5_11052023/imputed_genotypes/CAS/chr20_CAS_release5_no_mac_filter.pvar\r\n",
      "gs://gp2tier2/release5_11052023/imputed_genotypes/CAS/chr21_CAS_release5.log\r\n",
      "gs://gp2tier2/release5_11052023/imputed_genotypes/CAS/chr21_CAS_release5.pgen\r\n",
      "gs://gp2tier2/release5_11052023/imputed_genotypes/CAS/chr21_CAS_release5.psam\r\n",
      "gs://gp2tier2/release5_11052023/imputed_genotypes/CAS/chr21_CAS_release5.pvar\r\n",
      "gs://gp2tier2/release5_11052023/imputed_genotypes/CAS/chr21_CAS_release5_no_mac_filter.log\r\n",
      "gs://gp2tier2/release5_11052023/imputed_genotypes/CAS/chr21_CAS_release5_no_mac_filter.pgen\r\n",
      "gs://gp2tier2/release5_11052023/imputed_genotypes/CAS/chr21_CAS_release5_no_mac_filter.psam\r\n",
      "gs://gp2tier2/release5_11052023/imputed_genotypes/CAS/chr21_CAS_release5_no_mac_filter.pvar\r\n",
      "gs://gp2tier2/release5_11052023/imputed_genotypes/CAS/chr22_CAS_release5.log\r\n",
      "gs://gp2tier2/release5_11052023/imputed_genotypes/CAS/chr22_CAS_release5.pgen\r\n",
      "gs://gp2tier2/release5_11052023/imputed_genotypes/CAS/chr22_CAS_release5.psam\r\n",
      "gs://gp2tier2/release5_11052023/imputed_genotypes/CAS/chr22_CAS_release5.pvar\r\n",
      "gs://gp2tier2/release5_11052023/imputed_genotypes/CAS/chr22_CAS_release5_no_mac_filter.log\r\n",
      "gs://gp2tier2/release5_11052023/imputed_genotypes/CAS/chr22_CAS_release5_no_mac_filter.pgen\r\n",
      "gs://gp2tier2/release5_11052023/imputed_genotypes/CAS/chr22_CAS_release5_no_mac_filter.psam\r\n",
      "gs://gp2tier2/release5_11052023/imputed_genotypes/CAS/chr22_CAS_release5_no_mac_filter.pvar\r\n",
      "gs://gp2tier2/release5_11052023/imputed_genotypes/CAS/chr2_CAS_release5.log\r\n",
      "gs://gp2tier2/release5_11052023/imputed_genotypes/CAS/chr2_CAS_release5.pgen\r\n",
      "gs://gp2tier2/release5_11052023/imputed_genotypes/CAS/chr2_CAS_release5.psam\r\n",
      "gs://gp2tier2/release5_11052023/imputed_genotypes/CAS/chr2_CAS_release5.pvar\r\n",
      "gs://gp2tier2/release5_11052023/imputed_genotypes/CAS/chr2_CAS_release5_no_mac_filter.log\r\n",
      "gs://gp2tier2/release5_11052023/imputed_genotypes/CAS/chr2_CAS_release5_no_mac_filter.pgen\r\n",
      "gs://gp2tier2/release5_11052023/imputed_genotypes/CAS/chr2_CAS_release5_no_mac_filter.psam\r\n",
      "gs://gp2tier2/release5_11052023/imputed_genotypes/CAS/chr2_CAS_release5_no_mac_filter.pvar\r\n",
      "gs://gp2tier2/release5_11052023/imputed_genotypes/CAS/chr3_CAS_release5.log\r\n",
      "gs://gp2tier2/release5_11052023/imputed_genotypes/CAS/chr3_CAS_release5.pgen\r\n",
      "gs://gp2tier2/release5_11052023/imputed_genotypes/CAS/chr3_CAS_release5.psam\r\n",
      "gs://gp2tier2/release5_11052023/imputed_genotypes/CAS/chr3_CAS_release5.pvar\r\n",
      "gs://gp2tier2/release5_11052023/imputed_genotypes/CAS/chr3_CAS_release5_no_mac_filter.log\r\n",
      "gs://gp2tier2/release5_11052023/imputed_genotypes/CAS/chr3_CAS_release5_no_mac_filter.pgen\r\n",
      "gs://gp2tier2/release5_11052023/imputed_genotypes/CAS/chr3_CAS_release5_no_mac_filter.psam\r\n",
      "gs://gp2tier2/release5_11052023/imputed_genotypes/CAS/chr3_CAS_release5_no_mac_filter.pvar\r\n",
      "gs://gp2tier2/release5_11052023/imputed_genotypes/CAS/chr4_CAS_release5.log\r\n",
      "gs://gp2tier2/release5_11052023/imputed_genotypes/CAS/chr4_CAS_release5.pgen\r\n",
      "gs://gp2tier2/release5_11052023/imputed_genotypes/CAS/chr4_CAS_release5.psam\r\n",
      "gs://gp2tier2/release5_11052023/imputed_genotypes/CAS/chr4_CAS_release5.pvar\r\n",
      "gs://gp2tier2/release5_11052023/imputed_genotypes/CAS/chr4_CAS_release5_no_mac_filter.log\r\n",
      "gs://gp2tier2/release5_11052023/imputed_genotypes/CAS/chr4_CAS_release5_no_mac_filter.pgen\r\n",
      "gs://gp2tier2/release5_11052023/imputed_genotypes/CAS/chr4_CAS_release5_no_mac_filter.psam\r\n",
      "gs://gp2tier2/release5_11052023/imputed_genotypes/CAS/chr4_CAS_release5_no_mac_filter.pvar\r\n",
      "gs://gp2tier2/release5_11052023/imputed_genotypes/CAS/chr5_CAS_release5.log\r\n",
      "gs://gp2tier2/release5_11052023/imputed_genotypes/CAS/chr5_CAS_release5.pgen\r\n",
      "gs://gp2tier2/release5_11052023/imputed_genotypes/CAS/chr5_CAS_release5.psam\r\n",
      "gs://gp2tier2/release5_11052023/imputed_genotypes/CAS/chr5_CAS_release5.pvar\r\n",
      "gs://gp2tier2/release5_11052023/imputed_genotypes/CAS/chr5_CAS_release5_no_mac_filter.log\r\n",
      "gs://gp2tier2/release5_11052023/imputed_genotypes/CAS/chr5_CAS_release5_no_mac_filter.pgen\r\n",
      "gs://gp2tier2/release5_11052023/imputed_genotypes/CAS/chr5_CAS_release5_no_mac_filter.psam\r\n",
      "gs://gp2tier2/release5_11052023/imputed_genotypes/CAS/chr5_CAS_release5_no_mac_filter.pvar\r\n",
      "gs://gp2tier2/release5_11052023/imputed_genotypes/CAS/chr6_CAS_release5.log\r\n",
      "gs://gp2tier2/release5_11052023/imputed_genotypes/CAS/chr6_CAS_release5.pgen\r\n",
      "gs://gp2tier2/release5_11052023/imputed_genotypes/CAS/chr6_CAS_release5.psam\r\n",
      "gs://gp2tier2/release5_11052023/imputed_genotypes/CAS/chr6_CAS_release5.pvar\r\n",
      "gs://gp2tier2/release5_11052023/imputed_genotypes/CAS/chr6_CAS_release5_no_mac_filter.log\r\n",
      "gs://gp2tier2/release5_11052023/imputed_genotypes/CAS/chr6_CAS_release5_no_mac_filter.pgen\r\n",
      "gs://gp2tier2/release5_11052023/imputed_genotypes/CAS/chr6_CAS_release5_no_mac_filter.psam\r\n",
      "gs://gp2tier2/release5_11052023/imputed_genotypes/CAS/chr6_CAS_release5_no_mac_filter.pvar\r\n",
      "gs://gp2tier2/release5_11052023/imputed_genotypes/CAS/chr7_CAS_release5.log\r\n",
      "gs://gp2tier2/release5_11052023/imputed_genotypes/CAS/chr7_CAS_release5.pgen\r\n",
      "gs://gp2tier2/release5_11052023/imputed_genotypes/CAS/chr7_CAS_release5.psam\r\n",
      "gs://gp2tier2/release5_11052023/imputed_genotypes/CAS/chr7_CAS_release5.pvar\r\n",
      "gs://gp2tier2/release5_11052023/imputed_genotypes/CAS/chr7_CAS_release5_no_mac_filter.log\r\n",
      "gs://gp2tier2/release5_11052023/imputed_genotypes/CAS/chr7_CAS_release5_no_mac_filter.pgen\r\n",
      "gs://gp2tier2/release5_11052023/imputed_genotypes/CAS/chr7_CAS_release5_no_mac_filter.psam\r\n",
      "gs://gp2tier2/release5_11052023/imputed_genotypes/CAS/chr7_CAS_release5_no_mac_filter.pvar\r\n",
      "gs://gp2tier2/release5_11052023/imputed_genotypes/CAS/chr8_CAS_release5.log\r\n",
      "gs://gp2tier2/release5_11052023/imputed_genotypes/CAS/chr8_CAS_release5.pgen\r\n",
      "gs://gp2tier2/release5_11052023/imputed_genotypes/CAS/chr8_CAS_release5.psam\r\n",
      "gs://gp2tier2/release5_11052023/imputed_genotypes/CAS/chr8_CAS_release5.pvar\r\n",
      "gs://gp2tier2/release5_11052023/imputed_genotypes/CAS/chr8_CAS_release5_no_mac_filter.log\r\n",
      "gs://gp2tier2/release5_11052023/imputed_genotypes/CAS/chr8_CAS_release5_no_mac_filter.pgen\r\n",
      "gs://gp2tier2/release5_11052023/imputed_genotypes/CAS/chr8_CAS_release5_no_mac_filter.psam\r\n",
      "gs://gp2tier2/release5_11052023/imputed_genotypes/CAS/chr8_CAS_release5_no_mac_filter.pvar\r\n",
      "gs://gp2tier2/release5_11052023/imputed_genotypes/CAS/chr9_CAS_release5.log\r\n",
      "gs://gp2tier2/release5_11052023/imputed_genotypes/CAS/chr9_CAS_release5.pgen\r\n",
      "gs://gp2tier2/release5_11052023/imputed_genotypes/CAS/chr9_CAS_release5.psam\r\n",
      "gs://gp2tier2/release5_11052023/imputed_genotypes/CAS/chr9_CAS_release5.pvar\r\n",
      "gs://gp2tier2/release5_11052023/imputed_genotypes/CAS/chr9_CAS_release5_no_mac_filter.log\r\n",
      "gs://gp2tier2/release5_11052023/imputed_genotypes/CAS/chr9_CAS_release5_no_mac_filter.pgen\r\n",
      "gs://gp2tier2/release5_11052023/imputed_genotypes/CAS/chr9_CAS_release5_no_mac_filter.psam\r\n",
      "gs://gp2tier2/release5_11052023/imputed_genotypes/CAS/chr9_CAS_release5_no_mac_filter.pvar\r\n",
      "gs://gp2tier2/release5_11052023/imputed_genotypes/CAS/chrX_CAS_release5.log\r\n",
      "gs://gp2tier2/release5_11052023/imputed_genotypes/CAS/chrX_CAS_release5.pgen\r\n",
      "gs://gp2tier2/release5_11052023/imputed_genotypes/CAS/chrX_CAS_release5.psam\r\n",
      "gs://gp2tier2/release5_11052023/imputed_genotypes/CAS/chrX_CAS_release5.pvar\r\n",
      "gs://gp2tier2/release5_11052023/imputed_genotypes/CAS/chrX_CAS_release5_no_mac_filter.log\r\n",
      "gs://gp2tier2/release5_11052023/imputed_genotypes/CAS/chrX_CAS_release5_no_mac_filter.pgen\r\n",
      "gs://gp2tier2/release5_11052023/imputed_genotypes/CAS/chrX_CAS_release5_no_mac_filter.psam\r\n",
      "gs://gp2tier2/release5_11052023/imputed_genotypes/CAS/chrX_CAS_release5_no_mac_filter.pvar\r\n"
     ]
    }
   ],
   "source": [
    "# Check directory where GP2 data is\n",
    "shell_do(f'gsutil -u {BILLING_PROJECT_ID} ls {GP2_IMPUTED_GENO_PATH}/CAS/')"
   ]
  },
  {
   "cell_type": "code",
   "execution_count": 6,
   "metadata": {
    "scrolled": true
   },
   "outputs": [
    {
     "name": "stderr",
     "output_type": "stream",
     "text": [
      "Executing: gsutil -u terra-18d8e41c -m cp -r gs://gp2tier2/release5_11052023/imputed_genotypes/CAS/chr9_CAS_release5_no_mac_filter* /home/jupyter/SH3GL2_GP2/\n"
     ]
    },
    {
     "name": "stdout",
     "output_type": "stream",
     "text": [
      "Copying gs://gp2tier2/release5_11052023/imputed_genotypes/CAS/chr9_CAS_release5_no_mac_filter.log...\n",
      "Copying gs://gp2tier2/release5_11052023/imputed_genotypes/CAS/chr9_CAS_release5_no_mac_filter.psam...\n",
      "Copying gs://gp2tier2/release5_11052023/imputed_genotypes/CAS/chr9_CAS_release5_no_mac_filter.pgen...\n",
      "Copying gs://gp2tier2/release5_11052023/imputed_genotypes/CAS/chr9_CAS_release5_no_mac_filter.pvar...\n",
      "/ [4/4 files][891.9 MiB/891.9 MiB] 100% Done  40.6 MiB/s ETA 00:00:00           \n",
      "Operation completed over 4 objects/891.9 MiB.                                    \n"
     ]
    }
   ],
   "source": [
    "shell_do(f'gsutil -u {BILLING_PROJECT_ID} -m cp -r {GP2_IMPUTED_GENO_PATH}/CAS/chr9_CAS_release5_no_mac_filter* {WORK_DIR}')"
   ]
  },
  {
   "cell_type": "markdown",
   "metadata": {},
   "source": [
    "### Create a covariate file with GP2 data"
   ]
  },
  {
   "cell_type": "code",
   "execution_count": 7,
   "metadata": {
    "scrolled": false
   },
   "outputs": [
    {
     "name": "stderr",
     "output_type": "stream",
     "text": [
      "Executing: gsutil -u terra-18d8e41c ls gs://gp2tier2/release5_11052023/clinical_data\n"
     ]
    },
    {
     "name": "stdout",
     "output_type": "stream",
     "text": [
      "gs://gp2tier2/release5_11052023/clinical_data/master_key_release5_final.csv\r\n",
      "gs://gp2tier2/release5_11052023/clinical_data/release5_data_dictionary.csv\r\n"
     ]
    },
    {
     "name": "stderr",
     "output_type": "stream",
     "text": [
      "Executing: gsutil -u terra-18d8e41c -m cp -r gs://gp2tier2/release5_11052023/clinical_data/master_key_release5_final.csv /home/jupyter/SH3GL2_GP2/\n"
     ]
    },
    {
     "name": "stdout",
     "output_type": "stream",
     "text": [
      "Copying gs://gp2tier2/release5_11052023/clinical_data/master_key_release5_final.csv...\n",
      "/ [1/1 files][  2.5 MiB/  2.5 MiB] 100% Done                                    \n",
      "Operation completed over 1 objects/2.5 MiB.                                      \n"
     ]
    }
   ],
   "source": [
    "shell_do(f'gsutil -u {BILLING_PROJECT_ID} ls {GP2_CLINICAL_RELEASE_PATH}')\n",
    "shell_do(f'gsutil -u {BILLING_PROJECT_ID} -m cp -r {GP2_CLINICAL_RELEASE_PATH}/master_key_release5_final.csv {WORK_DIR}')"
   ]
  },
  {
   "cell_type": "code",
   "execution_count": 8,
   "metadata": {
    "scrolled": false
   },
   "outputs": [
    {
     "data": {
      "text/plain": [
       "Index(['GP2ID', 'GP2sampleID', 'manifest_id', 'phenotype', 'pheno_for_qc',\n",
       "       'other_pheno', 'sex_for_qc', 'age', 'age_of_onset', 'age_at_diagnosis',\n",
       "       'age_at_death', 'race_for_qc', 'family_history', 'region_for_qc',\n",
       "       'study', 'pruned', 'pruned_reason', 'label', 'related'],\n",
       "      dtype='object')"
      ]
     },
     "execution_count": 8,
     "metadata": {},
     "output_type": "execute_result"
    }
   ],
   "source": [
    "cov = pd.read_csv(f'{WORK_DIR}/master_key_release5_final.csv')\n",
    "cov.columns"
   ]
  },
  {
   "cell_type": "code",
   "execution_count": 9,
   "metadata": {
    "scrolled": false
   },
   "outputs": [],
   "source": [
    "cov_reduced = cov[['GP2sampleID','GP2sampleID','sex_for_qc', 'age', 'phenotype']]\n",
    "cov_reduced.columns = ['FID','IID', 'SEX','AGE','PHENO']\n",
    "#cov_reduced"
   ]
  },
  {
   "cell_type": "code",
   "execution_count": 10,
   "metadata": {},
   "outputs": [],
   "source": [
    "conditions = [\n",
    "    (cov_reduced['PHENO'] == \"PD\"),\n",
    "    (cov_reduced['PHENO'] == \"Control\")]"
   ]
  },
  {
   "cell_type": "code",
   "execution_count": 11,
   "metadata": {
    "scrolled": true
   },
   "outputs": [
    {
     "name": "stderr",
     "output_type": "stream",
     "text": [
      "/opt/conda/lib/python3.7/site-packages/ipykernel_launcher.py:2: SettingWithCopyWarning: \n",
      "A value is trying to be set on a copy of a slice from a DataFrame.\n",
      "Try using .loc[row_indexer,col_indexer] = value instead\n",
      "\n",
      "See the caveats in the documentation: https://pandas.pydata.org/pandas-docs/stable/user_guide/indexing.html#returning-a-view-versus-a-copy\n",
      "  \n"
     ]
    }
   ],
   "source": [
    "choices = [2,1]\n",
    "cov_reduced['PHENOTYPE'] = np.select(conditions, choices, default=-9).astype(np.int64)"
   ]
  },
  {
   "cell_type": "code",
   "execution_count": 12,
   "metadata": {
    "scrolled": false
   },
   "outputs": [
    {
     "name": "stderr",
     "output_type": "stream",
     "text": [
      "/opt/conda/lib/python3.7/site-packages/pandas/core/frame.py:4913: SettingWithCopyWarning: \n",
      "A value is trying to be set on a copy of a slice from a DataFrame\n",
      "\n",
      "See the caveats in the documentation: https://pandas.pydata.org/pandas-docs/stable/user_guide/indexing.html#returning-a-view-versus-a-copy\n",
      "  errors=errors,\n"
     ]
    }
   ],
   "source": [
    "cov_reduced.reset_index(inplace=True)\n",
    "cov_reduced.drop(columns=[\"index\"], inplace=True)"
   ]
  },
  {
   "cell_type": "code",
   "execution_count": 13,
   "metadata": {},
   "outputs": [],
   "source": [
    "cov_reduced.drop(columns=['PHENO'], inplace=True)"
   ]
  },
  {
   "cell_type": "code",
   "execution_count": 14,
   "metadata": {},
   "outputs": [],
   "source": [
    "sex = cov_reduced[['FID','IID','SEX']]\n",
    "sex.to_csv(f'{WORK_DIR}/SEX.txt',index=False, sep=\"\\t\")"
   ]
  },
  {
   "cell_type": "code",
   "execution_count": 15,
   "metadata": {},
   "outputs": [],
   "source": [
    "pheno = cov_reduced[['FID','IID','PHENOTYPE']]\n",
    "pheno.to_csv(f'{WORK_DIR}/PHENO.txt',index=False, sep=\"\\t\")"
   ]
  },
  {
   "cell_type": "markdown",
   "metadata": {},
   "source": [
    "## Extract SH3GL2"
   ]
  },
  {
   "cell_type": "code",
   "execution_count": 16,
   "metadata": {
    "scrolled": false
   },
   "outputs": [
    {
     "name": "stdout",
     "output_type": "stream",
     "text": [
      "PLINK v2.00a3.3LM AVX2 Intel (3 Jun 2022)      www.cog-genomics.org/plink/2.0/\n",
      "(C) 2005-2022 Shaun Purcell, Christopher Chang   GNU General Public License v3\n",
      "Logging to pheno_SH3GL2_CAS.log.\n",
      "Options in effect:\n",
      "  --chr 9\n",
      "  --from-bp 17579066\n",
      "  --make-bed\n",
      "  --out pheno_SH3GL2_CAS\n",
      "  --pfile chr9_CAS_release5_no_mac_filter\n",
      "  --to-bp 17797124\n",
      "\n",
      "Start time: Thu Nov 16 11:47:57 2023\n",
      "7450 MiB RAM detected; reserving 3725 MiB for main workspace.\n",
      "Using up to 2 compute threads.\n",
      "478 samples (269 females, 209 males; 478 founders) loaded from\n",
      "chr9_CAS_release5_no_mac_filter.psam.\n",
      "6699148 variants loaded from chr9_CAS_release5_no_mac_filter.pvar.\n",
      "1 binary phenotype loaded (195 cases, 279 controls).\n",
      "17085 variants remaining after main filters.\n",
      "Writing pheno_SH3GL2_CAS.fam ... done.\n",
      "Writing pheno_SH3GL2_CAS.bim ... done.\n",
      "Writing pheno_SH3GL2_CAS.bed ... 0%\b\b81%\b\b\bdone.\n",
      "End time: Thu Nov 16 11:47:59 2023\n"
     ]
    }
   ],
   "source": [
    "%%bash\n",
    "\n",
    "WORK_DIR='/home/jupyter/SH3GL2_GP2/'\n",
    "cd $WORK_DIR\n",
    "\n",
    "# SH3GL2: gene positions on hg38 (from https://useast.ensembl.org/index.html)\n",
    "/home/jupyter/tools/plink2 \\\n",
    "--pfile chr9_CAS_release5_no_mac_filter \\\n",
    "--chr 9 \\\n",
    "--from-bp 17579066  \\\n",
    "--to-bp 17797124 \\\n",
    "--make-bed \\\n",
    "--out pheno_SH3GL2_CAS"
   ]
  },
  {
   "cell_type": "markdown",
   "metadata": {},
   "source": [
    "### Visualize plink files bim, fam and bed"
   ]
  },
  {
   "cell_type": "code",
   "execution_count": 17,
   "metadata": {
    "scrolled": true
   },
   "outputs": [
    {
     "name": "stdout",
     "output_type": "stream",
     "text": [
      "9\tchr9:17579077:T:G\t0\t17579077\tG\tT\n",
      "9\tchr9:17579083:C:T\t0\t17579083\tT\tC\n",
      "9\tchr9:17579085:A:G\t0\t17579085\tG\tA\n",
      "9\tchr9:17579090:C:A\t0\t17579090\tA\tC\n",
      "9\tchr9:17579097:C:T\t0\t17579097\tT\tC\n",
      "9\tchr9:17579102:A:G\t0\t17579102\tG\tA\n",
      "9\tchr9:17579104:G:C\t0\t17579104\tC\tG\n",
      "9\tchr9:17579105:C:G\t0\t17579105\tG\tC\n",
      "9\tchr9:17579105:C:T\t0\t17579105\tT\tC\n",
      "9\tchr9:17579108:C:G\t0\t17579108\tG\tC\n"
     ]
    }
   ],
   "source": [
    "%%bash\n",
    "\n",
    "# Visualize bim file\n",
    "WORK_DIR='/home/jupyter/SH3GL2_GP2/'\n",
    "cd $WORK_DIR\n",
    "\n",
    "head pheno_SH3GL2_CAS.bim"
   ]
  },
  {
   "cell_type": "code",
   "execution_count": 18,
   "metadata": {},
   "outputs": [
    {
     "name": "stdout",
     "output_type": "stream",
     "text": [
      "0\tAPGS_000114_s1\t0\t0\t1\t2\n",
      "0\tAPGS_000386_s1\t0\t0\t2\t2\n",
      "0\tAPGS_000443_s1\t0\t0\t1\t2\n",
      "0\tAPGS_000851_s1\t0\t0\t1\t2\n",
      "0\tAPGS_001048_s1\t0\t0\t2\t2\n",
      "0\tAPGS_001135_s1\t0\t0\t1\t2\n",
      "0\tAPGS_001259_s1\t0\t0\t1\t2\n",
      "0\tAPGS_001290_s1\t0\t0\t1\t2\n",
      "0\tBBDP_000539_s1\t0\t0\t1\t1\n",
      "0\tBCM_000079_s1\t0\t0\t1\t2\n"
     ]
    }
   ],
   "source": [
    "%%bash\n",
    "\n",
    "# Visualize fam file\n",
    "WORK_DIR='/home/jupyter/SH3GL2_GP2/'\n",
    "cd $WORK_DIR\n",
    "\n",
    "head pheno_SH3GL2_CAS.fam"
   ]
  },
  {
   "cell_type": "code",
   "execution_count": 19,
   "metadata": {},
   "outputs": [
    {
     "name": "stdout",
     "output_type": "stream",
     "text": [
      "PLINK v1.90b6.9 64-bit (4 Mar 2019)            www.cog-genomics.org/plink/1.9/\n",
      "(C) 2005-2019 Shaun Purcell, Christopher Chang   GNU General Public License v3\n",
      "Logging to pheno_SH3GL2_CAS_nomacfilter.log.\n",
      "Options in effect:\n",
      "  --bfile pheno_SH3GL2_CAS\n",
      "  --out pheno_SH3GL2_CAS_nomacfilter\n",
      "  --recode vcf-fid\n",
      "\n",
      "7450 MB RAM detected; reserving 3725 MB for main workspace.\n",
      "17085 variants loaded from .bim file.\n",
      "478 people (209 males, 269 females) loaded from .fam.\n",
      "474 phenotype values loaded from .fam.\n",
      "Using 1 thread (no multithreaded calculations invoked).\n",
      "Before main variant filters, 478 founders and 0 nonfounders present.\n",
      "Calculating allele frequencies... 0%\b\b1%\b\b2%\b\b3%\b\b4%\b\b5%\b\b6%\b\b7%\b\b8%\b\b9%\b\b10%\b\b\b11%\b\b\b12%\b\b\b13%\b\b\b14%\b\b\b15%\b\b\b16%\b\b\b17%\b\b\b18%\b\b\b19%\b\b\b20%\b\b\b21%\b\b\b22%\b\b\b23%\b\b\b24%\b\b\b25%\b\b\b26%\b\b\b27%\b\b\b28%\b\b\b29%\b\b\b30%\b\b\b31%\b\b\b32%\b\b\b33%\b\b\b34%\b\b\b35%\b\b\b36%\b\b\b37%\b\b\b38%\b\b\b39%\b\b\b40%\b\b\b41%\b\b\b42%\b\b\b43%\b\b\b44%\b\b\b45%\b\b\b46%\b\b\b47%\b\b\b48%\b\b\b49%\b\b\b50%\b\b\b51%\b\b\b52%\b\b\b53%\b\b\b54%\b\b\b55%\b\b\b56%\b\b\b57%\b\b\b58%\b\b\b59%\b\b\b60%\b\b\b61%\b\b\b62%\b\b\b63%\b\b\b64%\b\b\b65%\b\b\b66%\b\b\b67%\b\b\b68%\b\b\b69%\b\b\b70%\b\b\b71%\b\b\b72%\b\b\b73%\b\b\b74%\b\b\b75%\b\b\b76%\b\b\b77%\b\b\b78%\b\b\b79%\b\b\b80%\b\b\b81%\b\b\b82%\b\b\b83%\b\b\b84%\b\b\b85%\b\b\b86%\b\b\b87%\b\b\b88%\b\b\b89%\b\b\b90%\b\b\b91%\b\b\b92%\b\b\b93%\b\b\b94%\b\b\b95%\b\b\b96%\b\b\b97%\b\b\b98%\b\b\b99%\b\b\b\b done.\n",
      "Total genotyping rate is 0.998196.\n",
      "17085 variants and 478 people pass filters and QC.\n",
      "Among remaining phenotypes, 195 are cases and 279 are controls.  (4 phenotypes\n",
      "are missing.)\n",
      "--recode vcf-fid to pheno_SH3GL2_CAS_nomacfilter.vcf ... 0%\b\b1%\b\b2%\b\b3%\b\b4%\b\b5%\b\b6%\b\b7%\b\b8%\b\b9%\b\b10%\b\b\b11%\b\b\b12%\b\b\b13%\b\b\b14%\b\b\b15%\b\b\b16%\b\b\b17%\b\b\b18%\b\b\b19%\b\b\b20%\b\b\b21%\b\b\b22%\b\b\b23%\b\b\b24%\b\b\b25%\b\b\b26%\b\b\b27%\b\b\b28%\b\b\b29%\b\b\b30%\b\b\b31%\b\b\b32%\b\b\b33%\b\b\b34%\b\b\b35%\b\b\b36%\b\b\b37%\b\b\b38%\b\b\b39%\b\b\b40%\b\b\b41%\b\b\b42%\b\b\b43%\b\b\b44%\b\b\b45%\b\b\b46%\b\b\b47%\b\b\b48%\b\b\b49%\b\b\b50%\b\b\b51%\b\b\b52%\b\b\b53%\b\b\b54%\b\b\b55%\b\b\b56%\b\b\b57%\b\b\b58%\b\b\b59%\b\b\b60%\b\b\b61%\b\b\b62%\b\b\b63%\b\b\b64%\b\b\b65%\b\b\b66%\b\b\b67%\b\b\b68%\b\b\b69%\b\b\b70%\b\b\b71%\b\b\b72%\b\b\b73%\b\b\b74%\b\b\b75%\b\b\b76%\b\b\b77%\b\b\b78%\b\b\b79%\b\b\b80%\b\b\b81%\b\b\b82%\b\b\b83%\b\b\b84%\b\b\b85%\b\b\b86%\b\b\b87%\b\b\b88%\b\b\b89%\b\b\b90%\b\b\b91%\b\b\b92%\b\b\b93%\b\b\b94%\b\b\b95%\b\b\b96%\b\b\b97%\b\b\b98%\b\b\b99%\b\b\bdone.\n"
     ]
    }
   ],
   "source": [
    "%%bash\n",
    "\n",
    "WORK_DIR='/home/jupyter/SH3GL2_GP2/'\n",
    "cd $WORK_DIR\n",
    "\n",
    "# Turn binary files into VCF\n",
    "/home/jupyter/tools/plink \\\n",
    "--bfile pheno_SH3GL2_CAS \\\n",
    "--recode vcf-fid \\\n",
    "--out pheno_SH3GL2_CAS_nomacfilter"
   ]
  },
  {
   "cell_type": "markdown",
   "metadata": {},
   "source": [
    "## Annotate SH3GL2 variants"
   ]
  },
  {
   "cell_type": "code",
   "execution_count": 20,
   "metadata": {},
   "outputs": [],
   "source": [
    "%%bash\n",
    "\n",
    "WORK_DIR='/home/jupyter/SH3GL2_GP2/'\n",
    "cd $WORK_DIR\n",
    "export PATH=$PATH:/home/jupyter/tools/rvtests/third/tabix-0.2.6/\n",
    "\n",
    "### Bgzip and Tabix\n",
    "bgzip pheno_SH3GL2_CAS_nomacfilter.vcf\n",
    "\n",
    "tabix -f -p vcf pheno_SH3GL2_CAS_nomacfilter.vcf.gz"
   ]
  },
  {
   "cell_type": "code",
   "execution_count": 21,
   "metadata": {
    "scrolled": true
   },
   "outputs": [
    {
     "name": "stderr",
     "output_type": "stream",
     "text": [
      "\n",
      "NOTICE: Running with system command <convert2annovar.pl  -includeinfo -allsample -withfreq -format vcf4 pheno_SH3GL2_CAS_nomacfilter.vcf.gz > pheno_SH3GL2_CAS.annovar.avinput>\n",
      "NOTICE: Finished reading 17092 lines from VCF file\n",
      "NOTICE: A total of 17085 locus in VCF file passed QC threshold, representing 16088 SNPs (9436 transitions and 6652 transversions) and 997 indels/substitutions\n",
      "NOTICE: Finished writing allele frequencies based on 7690064 SNP genotypes (4510408 transitions and 3179656 transversions) and 476566 indels/substitutions for 478 samples\n",
      "\n",
      "NOTICE: Running with system command </home/jupyter/tools/annovar/table_annovar.pl pheno_SH3GL2_CAS.annovar.avinput /home/jupyter/tools/annovar/humandb/ -buildver hg38 -outfile pheno_SH3GL2_CAS.annovar -remove -protocol refGene,clinvar_20140902 -operation g,f --nopolish -nastring . -otherinfo>\n",
      "-----------------------------------------------------------------\n",
      "NOTICE: Processing operation=g protocol=refGene\n",
      "\n",
      "NOTICE: Running with system command <annotate_variation.pl -geneanno -buildver hg38 -dbtype refGene -outfile pheno_SH3GL2_CAS.annovar.refGene -exonsort -nofirstcodondel pheno_SH3GL2_CAS.annovar.avinput /home/jupyter/tools/annovar/humandb/>\n",
      "NOTICE: Output files are written to pheno_SH3GL2_CAS.annovar.refGene.variant_function, pheno_SH3GL2_CAS.annovar.refGene.exonic_variant_function\n",
      "NOTICE: Reading gene annotation from /home/jupyter/tools/annovar/humandb/hg38_refGene.txt ... Done with 88819 transcripts (including 21511 without coding sequence annotation) for 28307 unique genes\n",
      "NOTICE: Processing next batch with 17085 unique variants in 17085 input lines\n",
      "NOTICE: Reading FASTA sequences from /home/jupyter/tools/annovar/humandb/hg38_refGeneMrna.fa ... Done with 1 sequences\n",
      "WARNING: A total of 606 sequences will be ignored due to lack of correct ORF annotation\n",
      "-----------------------------------------------------------------\n",
      "NOTICE: Processing operation=f protocol=clinvar_20140902\n",
      "\n",
      "NOTICE: Running system command <annotate_variation.pl -filter -dbtype clinvar_20140902 -buildver hg38 -outfile pheno_SH3GL2_CAS.annovar pheno_SH3GL2_CAS.annovar.avinput /home/jupyter/tools/annovar/humandb/>\n",
      "NOTICE: the --dbtype clinvar_20140902 is assumed to be in generic ANNOVAR database format\n",
      "NOTICE: Output file with variants matching filtering criteria is written to pheno_SH3GL2_CAS.annovar.hg38_clinvar_20140902_dropped, and output file with other variants is written to pheno_SH3GL2_CAS.annovar.hg38_clinvar_20140902_filtered\n",
      "NOTICE: Processing next batch with 17085 unique variants in 17085 input lines\n",
      "NOTICE: Database index loaded. Total number of bins is 44781 and the number of bins to be scanned is 1\n",
      "NOTICE: Scanning filter database /home/jupyter/tools/annovar/humandb/hg38_clinvar_20140902.txt...Done\n",
      "-----------------------------------------------------------------\n",
      "NOTICE: Multianno output file is written to pheno_SH3GL2_CAS.annovar.hg38_multianno.txt\n",
      "NOTICE: Reading from pheno_SH3GL2_CAS.annovar.hg38_multianno.txt\n",
      "-----------------------------------------------------------------\n",
      "NOTICE: VCF output is written to pheno_SH3GL2_CAS.annovar.hg38_multianno.vcf\n"
     ]
    }
   ],
   "source": [
    "%%bash\n",
    "\n",
    "WORK_DIR='/home/jupyter/SH3GL2_GP2/'\n",
    "cd $WORK_DIR\n",
    "\n",
    "### Annotate variants using ANNOVAR: https://annovar.openbioinformatics.org/en/latest/ \n",
    "perl /home/jupyter/tools/annovar/table_annovar.pl pheno_SH3GL2_CAS_nomacfilter.vcf.gz /home/jupyter/tools/annovar/humandb/ -buildver hg38 \\\n",
    "-out pheno_SH3GL2_CAS.annovar \\\n",
    "-remove -protocol refGene,clinvar_20140902 \\\n",
    "-operation g,f \\\n",
    "--nopolish \\\n",
    "-nastring . \\\n",
    "-vcfinput"
   ]
  },
  {
   "cell_type": "markdown",
   "metadata": {},
   "source": [
    "## Extract coding and non-syn variants"
   ]
  },
  {
   "cell_type": "code",
   "execution_count": 5,
   "metadata": {
    "scrolled": true
   },
   "outputs": [],
   "source": [
    "# Visualize multianno file\n",
    "SH3GL2_CAS = pd.read_csv(f'{WORK_DIR}/pheno_SH3GL2_CAS.annovar.hg38_multianno.txt', sep = '\\t')"
   ]
  },
  {
   "cell_type": "code",
   "execution_count": 6,
   "metadata": {},
   "outputs": [],
   "source": [
    "SH3GL2_CAS['Chr_bp'] = SH3GL2_CAS['Chr'].astype(str) + ':' + SH3GL2_CAS['Start'].astype(str) + ':' + SH3GL2_CAS['End'].astype(str)"
   ]
  },
  {
   "cell_type": "code",
   "execution_count": 7,
   "metadata": {},
   "outputs": [],
   "source": [
    "SH3GL2_CAS = SH3GL2_CAS.drop_duplicates(subset=['Chr_bp'])"
   ]
  },
  {
   "cell_type": "code",
   "execution_count": 8,
   "metadata": {},
   "outputs": [],
   "source": [
    "SH3GL2_CAS = SH3GL2_CAS[SH3GL2_CAS['Gene.refGene']=='SH3GL2']"
   ]
  },
  {
   "cell_type": "code",
   "execution_count": 9,
   "metadata": {
    "scrolled": false
   },
   "outputs": [
    {
     "data": {
      "text/plain": [
       "Chr             16686\n",
       "Start           16686\n",
       "End             16686\n",
       "Ref             16686\n",
       "Alt             16686\n",
       "                ...  \n",
       "Otherinfo487    16686\n",
       "Otherinfo488    16686\n",
       "Otherinfo489    16686\n",
       "Otherinfo490    16686\n",
       "Chr_bp          16686\n",
       "Length: 502, dtype: int64"
      ]
     },
     "execution_count": 9,
     "metadata": {},
     "output_type": "execute_result"
    }
   ],
   "source": [
    "SH3GL2_CAS.count()"
   ]
  },
  {
   "cell_type": "code",
   "execution_count": 10,
   "metadata": {},
   "outputs": [
    {
     "data": {
      "text/html": [
       "<div>\n",
       "<style scoped>\n",
       "    .dataframe tbody tr th:only-of-type {\n",
       "        vertical-align: middle;\n",
       "    }\n",
       "\n",
       "    .dataframe tbody tr th {\n",
       "        vertical-align: top;\n",
       "    }\n",
       "\n",
       "    .dataframe thead th {\n",
       "        text-align: right;\n",
       "    }\n",
       "</style>\n",
       "<table border=\"1\" class=\"dataframe\">\n",
       "  <thead>\n",
       "    <tr style=\"text-align: right;\">\n",
       "      <th></th>\n",
       "      <th>Chr_bp</th>\n",
       "      <th>Gene.refGene</th>\n",
       "      <th>Func.refGene</th>\n",
       "      <th>ExonicFunc.refGene</th>\n",
       "    </tr>\n",
       "  </thead>\n",
       "  <tbody>\n",
       "    <tr>\n",
       "      <th>0</th>\n",
       "      <td>9:17579077:17579077</td>\n",
       "      <td>SH3GL2</td>\n",
       "      <td>UTR5</td>\n",
       "      <td>.</td>\n",
       "    </tr>\n",
       "    <tr>\n",
       "      <th>1</th>\n",
       "      <td>9:17579083:17579083</td>\n",
       "      <td>SH3GL2</td>\n",
       "      <td>UTR5</td>\n",
       "      <td>.</td>\n",
       "    </tr>\n",
       "    <tr>\n",
       "      <th>2</th>\n",
       "      <td>9:17579085:17579085</td>\n",
       "      <td>SH3GL2</td>\n",
       "      <td>UTR5</td>\n",
       "      <td>.</td>\n",
       "    </tr>\n",
       "    <tr>\n",
       "      <th>3</th>\n",
       "      <td>9:17579090:17579090</td>\n",
       "      <td>SH3GL2</td>\n",
       "      <td>UTR5</td>\n",
       "      <td>.</td>\n",
       "    </tr>\n",
       "    <tr>\n",
       "      <th>4</th>\n",
       "      <td>9:17579097:17579097</td>\n",
       "      <td>SH3GL2</td>\n",
       "      <td>UTR5</td>\n",
       "      <td>.</td>\n",
       "    </tr>\n",
       "    <tr>\n",
       "      <th>...</th>\n",
       "      <td>...</td>\n",
       "      <td>...</td>\n",
       "      <td>...</td>\n",
       "      <td>...</td>\n",
       "    </tr>\n",
       "    <tr>\n",
       "      <th>17080</th>\n",
       "      <td>9:17796997:17796997</td>\n",
       "      <td>SH3GL2</td>\n",
       "      <td>UTR3</td>\n",
       "      <td>.</td>\n",
       "    </tr>\n",
       "    <tr>\n",
       "      <th>17081</th>\n",
       "      <td>9:17797011:17797011</td>\n",
       "      <td>SH3GL2</td>\n",
       "      <td>UTR3</td>\n",
       "      <td>.</td>\n",
       "    </tr>\n",
       "    <tr>\n",
       "      <th>17082</th>\n",
       "      <td>9:17797019:17797019</td>\n",
       "      <td>SH3GL2</td>\n",
       "      <td>UTR3</td>\n",
       "      <td>.</td>\n",
       "    </tr>\n",
       "    <tr>\n",
       "      <th>17083</th>\n",
       "      <td>9:17797047:17797047</td>\n",
       "      <td>SH3GL2</td>\n",
       "      <td>UTR3</td>\n",
       "      <td>.</td>\n",
       "    </tr>\n",
       "    <tr>\n",
       "      <th>17084</th>\n",
       "      <td>9:17797092:17797092</td>\n",
       "      <td>SH3GL2</td>\n",
       "      <td>UTR3</td>\n",
       "      <td>.</td>\n",
       "    </tr>\n",
       "  </tbody>\n",
       "</table>\n",
       "<p>16686 rows × 4 columns</p>\n",
       "</div>"
      ],
      "text/plain": [
       "                    Chr_bp Gene.refGene Func.refGene ExonicFunc.refGene\n",
       "0      9:17579077:17579077       SH3GL2         UTR5                  .\n",
       "1      9:17579083:17579083       SH3GL2         UTR5                  .\n",
       "2      9:17579085:17579085       SH3GL2         UTR5                  .\n",
       "3      9:17579090:17579090       SH3GL2         UTR5                  .\n",
       "4      9:17579097:17579097       SH3GL2         UTR5                  .\n",
       "...                    ...          ...          ...                ...\n",
       "17080  9:17796997:17796997       SH3GL2         UTR3                  .\n",
       "17081  9:17797011:17797011       SH3GL2         UTR3                  .\n",
       "17082  9:17797019:17797019       SH3GL2         UTR3                  .\n",
       "17083  9:17797047:17797047       SH3GL2         UTR3                  .\n",
       "17084  9:17797092:17797092       SH3GL2         UTR3                  .\n",
       "\n",
       "[16686 rows x 4 columns]"
      ]
     },
     "execution_count": 10,
     "metadata": {},
     "output_type": "execute_result"
    }
   ],
   "source": [
    "reduced_SH3GL2_CAS = SH3GL2_CAS[[\"Chr_bp\", \"Gene.refGene\", 'Func.refGene','ExonicFunc.refGene']]\n",
    "reduced_SH3GL2_CAS"
   ]
  },
  {
   "cell_type": "code",
   "execution_count": 11,
   "metadata": {},
   "outputs": [],
   "source": [
    "reduced_SH3GL2_CAS.to_csv(f'{WORKSPACE_BUCKET}/reduced_SH3GL2_CAS.txt', sep = '\\t', index = False, header= True)"
   ]
  },
  {
   "cell_type": "code",
   "execution_count": 10,
   "metadata": {},
   "outputs": [
    {
     "data": {
      "text/plain": [
       "intronic    16520\n",
       "UTR3           93\n",
       "exonic         37\n",
       "UTR5           36\n",
       "Name: Func.refGene, dtype: int64"
      ]
     },
     "execution_count": 10,
     "metadata": {},
     "output_type": "execute_result"
    }
   ],
   "source": [
    "SH3GL2_CAS['Func.refGene'].value_counts()"
   ]
  },
  {
   "cell_type": "code",
   "execution_count": 11,
   "metadata": {},
   "outputs": [
    {
     "data": {
      "text/plain": [
       ".                    16649\n",
       "nonsynonymous SNV       24\n",
       "synonymous SNV          13\n",
       "Name: ExonicFunc.refGene, dtype: int64"
      ]
     },
     "execution_count": 11,
     "metadata": {},
     "output_type": "execute_result"
    }
   ],
   "source": [
    "SH3GL2_CAS['ExonicFunc.refGene'].value_counts()"
   ]
  },
  {
   "cell_type": "code",
   "execution_count": 12,
   "metadata": {
    "scrolled": false
   },
   "outputs": [
    {
     "data": {
      "text/plain": [
       "Chr             37\n",
       "Start           37\n",
       "End             37\n",
       "Ref             37\n",
       "Alt             37\n",
       "                ..\n",
       "Otherinfo487    37\n",
       "Otherinfo488    37\n",
       "Otherinfo489    37\n",
       "Otherinfo490    37\n",
       "Chr_bp          37\n",
       "Length: 502, dtype: int64"
      ]
     },
     "execution_count": 12,
     "metadata": {},
     "output_type": "execute_result"
    }
   ],
   "source": [
    "# Filter exonic variants\n",
    "coding_CAS = SH3GL2_CAS[SH3GL2_CAS['Func.refGene'] == 'exonic']\n",
    "coding_CAS.count()"
   ]
  },
  {
   "cell_type": "code",
   "execution_count": 13,
   "metadata": {
    "scrolled": true
   },
   "outputs": [
    {
     "data": {
      "text/plain": [
       "Chr             24\n",
       "Start           24\n",
       "End             24\n",
       "Ref             24\n",
       "Alt             24\n",
       "                ..\n",
       "Otherinfo487    24\n",
       "Otherinfo488    24\n",
       "Otherinfo489    24\n",
       "Otherinfo490    24\n",
       "Chr_bp          24\n",
       "Length: 502, dtype: int64"
      ]
     },
     "execution_count": 13,
     "metadata": {},
     "output_type": "execute_result"
    }
   ],
   "source": [
    "# Filter exonic and non-syn vars\n",
    "coding_nonsynonymous_CAS = SH3GL2_CAS[(SH3GL2_CAS['Func.refGene'] == 'exonic') & (SH3GL2_CAS['ExonicFunc.refGene'] == 'nonsynonymous SNV')]\n",
    "coding_nonsynonymous_CAS.count()"
   ]
  },
  {
   "cell_type": "code",
   "execution_count": 14,
   "metadata": {},
   "outputs": [],
   "source": [
    "# Calculate freq - cases vs controls"
   ]
  },
  {
   "cell_type": "code",
   "execution_count": 15,
   "metadata": {},
   "outputs": [],
   "source": [
    "reduced_coding_nonsynonymous_CAS = coding_nonsynonymous_CAS[[\"Chr\", \"Start\", \"End\", \"Gene.refGene\"]]\n",
    "reduced_coding_nonsynonymous_CAS.to_csv(f'{WORK_DIR}/reduced_coding_nonsynonymous_CAS.txt', sep = '\\t', index = False, header= False)"
   ]
  },
  {
   "cell_type": "code",
   "execution_count": 16,
   "metadata": {},
   "outputs": [
    {
     "name": "stdout",
     "output_type": "stream",
     "text": [
      "9\t17579258\t17579258\tSH3GL2\n",
      "9\t17747115\t17747115\tSH3GL2\n",
      "9\t17761500\t17761500\tSH3GL2\n",
      "9\t17786519\t17786519\tSH3GL2\n",
      "9\t17789425\t17789425\tSH3GL2\n",
      "9\t17789473\t17789473\tSH3GL2\n",
      "9\t17789477\t17789477\tSH3GL2\n",
      "9\t17789499\t17789499\tSH3GL2\n",
      "9\t17789545\t17789545\tSH3GL2\n",
      "9\t17791272\t17791272\tSH3GL2\n"
     ]
    }
   ],
   "source": [
    "%%bash\n",
    "\n",
    "WORK_DIR='/home/jupyter/SH3GL2_GP2/'\n",
    "cd $WORK_DIR\n",
    "\n",
    "head reduced_coding_nonsynonymous_CAS.txt"
   ]
  },
  {
   "cell_type": "code",
   "execution_count": 17,
   "metadata": {},
   "outputs": [
    {
     "name": "stdout",
     "output_type": "stream",
     "text": [
      "PLINK v1.90b6.9 64-bit (4 Mar 2019)            www.cog-genomics.org/plink/1.9/\n",
      "(C) 2005-2019 Shaun Purcell, Christopher Chang   GNU General Public License v3\n",
      "Logging to coding_nonsynonymous_pheno_SH3GL2_CAS.log.\n",
      "Options in effect:\n",
      "  --allow-no-sex\n",
      "  --assoc\n",
      "  --bfile pheno_SH3GL2_CAS\n",
      "  --ci 0.95\n",
      "  --extract range reduced_coding_nonsynonymous_CAS.txt\n",
      "  --out coding_nonsynonymous_pheno_SH3GL2_CAS\n",
      "\n",
      "14998 MB RAM detected; reserving 7499 MB for main workspace.\n",
      "17085 variants loaded from .bim file.\n",
      "478 people (209 males, 269 females) loaded from .fam.\n",
      "474 phenotype values loaded from .fam.\n",
      "--extract range: 17061 variants excluded.\n",
      "--extract range: 24 variants remaining.\n",
      "Using 1 thread (no multithreaded calculations invoked).\n",
      "Before main variant filters, 478 founders and 0 nonfounders present.\n",
      "Calculating allele frequencies... 0%\b\b1%\b\b2%\b\b3%\b\b4%\b\b5%\b\b6%\b\b7%\b\b8%\b\b9%\b\b10%\b\b\b11%\b\b\b12%\b\b\b13%\b\b\b14%\b\b\b15%\b\b\b16%\b\b\b17%\b\b\b18%\b\b\b19%\b\b\b20%\b\b\b21%\b\b\b22%\b\b\b23%\b\b\b24%\b\b\b25%\b\b\b26%\b\b\b27%\b\b\b28%\b\b\b29%\b\b\b30%\b\b\b31%\b\b\b32%\b\b\b33%\b\b\b34%\b\b\b35%\b\b\b36%\b\b\b37%\b\b\b38%\b\b\b39%\b\b\b40%\b\b\b41%\b\b\b42%\b\b\b43%\b\b\b44%\b\b\b45%\b\b\b46%\b\b\b47%\b\b\b48%\b\b\b49%\b\b\b50%\b\b\b51%\b\b\b52%\b\b\b53%\b\b\b54%\b\b\b55%\b\b\b56%\b\b\b57%\b\b\b58%\b\b\b59%\b\b\b60%\b\b\b61%\b\b\b62%\b\b\b63%\b\b\b64%\b\b\b65%\b\b\b66%\b\b\b67%\b\b\b68%\b\b\b69%\b\b\b70%\b\b\b71%\b\b\b72%\b\b\b73%\b\b\b74%\b\b\b75%\b\b\b76%\b\b\b77%\b\b\b78%\b\b\b79%\b\b\b80%\b\b\b81%\b\b\b82%\b\b\b83%\b\b\b84%\b\b\b85%\b\b\b86%\b\b\b87%\b\b\b88%\b\b\b89%\b\b\b90%\b\b\b91%\b\b\b92%\b\b\b93%\b\b\b94%\b\b\b95%\b\b\b96%\b\b\b97%\b\b\b98%\b\b\b99%\b\b\b\b done.\n",
      "24 variants and 478 people pass filters and QC.\n",
      "Among remaining phenotypes, 195 are cases and 279 are controls.  (4 phenotypes\n",
      "are missing.)\n",
      "Writing C/C --assoc report to coding_nonsynonymous_pheno_SH3GL2_CAS.assoc ...\n",
      "0%\b\bdone.\n"
     ]
    }
   ],
   "source": [
    "%%bash\n",
    "\n",
    "WORK_DIR='/home/jupyter/SH3GL2_GP2/'\n",
    "cd $WORK_DIR\n",
    "\n",
    "/home/jupyter/tools/plink --bfile pheno_SH3GL2_CAS --extract range reduced_coding_nonsynonymous_CAS.txt --assoc --ci 0.95 --out coding_nonsynonymous_pheno_SH3GL2_CAS --allow-no-sex"
   ]
  },
  {
   "cell_type": "code",
   "execution_count": 18,
   "metadata": {},
   "outputs": [
    {
     "data": {
      "text/html": [
       "<div>\n",
       "<style scoped>\n",
       "    .dataframe tbody tr th:only-of-type {\n",
       "        vertical-align: middle;\n",
       "    }\n",
       "\n",
       "    .dataframe tbody tr th {\n",
       "        vertical-align: top;\n",
       "    }\n",
       "\n",
       "    .dataframe thead th {\n",
       "        text-align: right;\n",
       "    }\n",
       "</style>\n",
       "<table border=\"1\" class=\"dataframe\">\n",
       "  <thead>\n",
       "    <tr style=\"text-align: right;\">\n",
       "      <th></th>\n",
       "      <th>CHR</th>\n",
       "      <th>SNP</th>\n",
       "      <th>BP</th>\n",
       "      <th>A1</th>\n",
       "      <th>F_A</th>\n",
       "      <th>F_U</th>\n",
       "      <th>A2</th>\n",
       "      <th>CHISQ</th>\n",
       "      <th>P</th>\n",
       "      <th>OR</th>\n",
       "      <th>SE</th>\n",
       "      <th>L95</th>\n",
       "      <th>U95</th>\n",
       "    </tr>\n",
       "  </thead>\n",
       "  <tbody>\n",
       "    <tr>\n",
       "      <th>0</th>\n",
       "      <td>9</td>\n",
       "      <td>chr9:17579258:C:T</td>\n",
       "      <td>17579258</td>\n",
       "      <td>T</td>\n",
       "      <td>0.000000</td>\n",
       "      <td>0.000000</td>\n",
       "      <td>C</td>\n",
       "      <td>NaN</td>\n",
       "      <td>NaN</td>\n",
       "      <td>NaN</td>\n",
       "      <td>NaN</td>\n",
       "      <td>NaN</td>\n",
       "      <td>NaN</td>\n",
       "    </tr>\n",
       "    <tr>\n",
       "      <th>1</th>\n",
       "      <td>9</td>\n",
       "      <td>chr9:17747115:A:C</td>\n",
       "      <td>17747115</td>\n",
       "      <td>C</td>\n",
       "      <td>0.000000</td>\n",
       "      <td>0.000000</td>\n",
       "      <td>A</td>\n",
       "      <td>NaN</td>\n",
       "      <td>NaN</td>\n",
       "      <td>NaN</td>\n",
       "      <td>NaN</td>\n",
       "      <td>NaN</td>\n",
       "      <td>NaN</td>\n",
       "    </tr>\n",
       "    <tr>\n",
       "      <th>2</th>\n",
       "      <td>9</td>\n",
       "      <td>chr9:17761500:C:G</td>\n",
       "      <td>17761500</td>\n",
       "      <td>G</td>\n",
       "      <td>0.000000</td>\n",
       "      <td>0.000000</td>\n",
       "      <td>C</td>\n",
       "      <td>NaN</td>\n",
       "      <td>NaN</td>\n",
       "      <td>NaN</td>\n",
       "      <td>NaN</td>\n",
       "      <td>NaN</td>\n",
       "      <td>NaN</td>\n",
       "    </tr>\n",
       "    <tr>\n",
       "      <th>3</th>\n",
       "      <td>9</td>\n",
       "      <td>chr9:17786519:A:G</td>\n",
       "      <td>17786519</td>\n",
       "      <td>G</td>\n",
       "      <td>0.000000</td>\n",
       "      <td>0.000000</td>\n",
       "      <td>A</td>\n",
       "      <td>NaN</td>\n",
       "      <td>NaN</td>\n",
       "      <td>NaN</td>\n",
       "      <td>NaN</td>\n",
       "      <td>NaN</td>\n",
       "      <td>NaN</td>\n",
       "    </tr>\n",
       "    <tr>\n",
       "      <th>4</th>\n",
       "      <td>9</td>\n",
       "      <td>chr9:17789425:G:T</td>\n",
       "      <td>17789425</td>\n",
       "      <td>T</td>\n",
       "      <td>0.000000</td>\n",
       "      <td>0.000000</td>\n",
       "      <td>G</td>\n",
       "      <td>NaN</td>\n",
       "      <td>NaN</td>\n",
       "      <td>NaN</td>\n",
       "      <td>NaN</td>\n",
       "      <td>NaN</td>\n",
       "      <td>NaN</td>\n",
       "    </tr>\n",
       "    <tr>\n",
       "      <th>5</th>\n",
       "      <td>9</td>\n",
       "      <td>chr9:17789473:C:G</td>\n",
       "      <td>17789473</td>\n",
       "      <td>G</td>\n",
       "      <td>0.000000</td>\n",
       "      <td>0.000000</td>\n",
       "      <td>C</td>\n",
       "      <td>NaN</td>\n",
       "      <td>NaN</td>\n",
       "      <td>NaN</td>\n",
       "      <td>NaN</td>\n",
       "      <td>NaN</td>\n",
       "      <td>NaN</td>\n",
       "    </tr>\n",
       "    <tr>\n",
       "      <th>6</th>\n",
       "      <td>9</td>\n",
       "      <td>chr9:17789477:G:A</td>\n",
       "      <td>17789477</td>\n",
       "      <td>A</td>\n",
       "      <td>0.000000</td>\n",
       "      <td>0.000000</td>\n",
       "      <td>G</td>\n",
       "      <td>NaN</td>\n",
       "      <td>NaN</td>\n",
       "      <td>NaN</td>\n",
       "      <td>NaN</td>\n",
       "      <td>NaN</td>\n",
       "      <td>NaN</td>\n",
       "    </tr>\n",
       "    <tr>\n",
       "      <th>7</th>\n",
       "      <td>9</td>\n",
       "      <td>chr9:17789499:T:G</td>\n",
       "      <td>17789499</td>\n",
       "      <td>G</td>\n",
       "      <td>0.000000</td>\n",
       "      <td>0.000000</td>\n",
       "      <td>T</td>\n",
       "      <td>NaN</td>\n",
       "      <td>NaN</td>\n",
       "      <td>NaN</td>\n",
       "      <td>NaN</td>\n",
       "      <td>NaN</td>\n",
       "      <td>NaN</td>\n",
       "    </tr>\n",
       "    <tr>\n",
       "      <th>8</th>\n",
       "      <td>9</td>\n",
       "      <td>chr9:17789545:A:G</td>\n",
       "      <td>17789545</td>\n",
       "      <td>G</td>\n",
       "      <td>0.000000</td>\n",
       "      <td>0.000000</td>\n",
       "      <td>A</td>\n",
       "      <td>NaN</td>\n",
       "      <td>NaN</td>\n",
       "      <td>NaN</td>\n",
       "      <td>NaN</td>\n",
       "      <td>NaN</td>\n",
       "      <td>NaN</td>\n",
       "    </tr>\n",
       "    <tr>\n",
       "      <th>9</th>\n",
       "      <td>9</td>\n",
       "      <td>chr9:17791272:G:C</td>\n",
       "      <td>17791272</td>\n",
       "      <td>C</td>\n",
       "      <td>0.000000</td>\n",
       "      <td>0.000000</td>\n",
       "      <td>G</td>\n",
       "      <td>NaN</td>\n",
       "      <td>NaN</td>\n",
       "      <td>NaN</td>\n",
       "      <td>NaN</td>\n",
       "      <td>NaN</td>\n",
       "      <td>NaN</td>\n",
       "    </tr>\n",
       "    <tr>\n",
       "      <th>10</th>\n",
       "      <td>9</td>\n",
       "      <td>chr9:17791276:G:C</td>\n",
       "      <td>17791276</td>\n",
       "      <td>C</td>\n",
       "      <td>0.000000</td>\n",
       "      <td>0.000000</td>\n",
       "      <td>G</td>\n",
       "      <td>NaN</td>\n",
       "      <td>NaN</td>\n",
       "      <td>NaN</td>\n",
       "      <td>NaN</td>\n",
       "      <td>NaN</td>\n",
       "      <td>NaN</td>\n",
       "    </tr>\n",
       "    <tr>\n",
       "      <th>11</th>\n",
       "      <td>9</td>\n",
       "      <td>chr9:17791318:G:A</td>\n",
       "      <td>17791318</td>\n",
       "      <td>A</td>\n",
       "      <td>0.000000</td>\n",
       "      <td>0.000000</td>\n",
       "      <td>G</td>\n",
       "      <td>NaN</td>\n",
       "      <td>NaN</td>\n",
       "      <td>NaN</td>\n",
       "      <td>NaN</td>\n",
       "      <td>NaN</td>\n",
       "      <td>NaN</td>\n",
       "    </tr>\n",
       "    <tr>\n",
       "      <th>12</th>\n",
       "      <td>9</td>\n",
       "      <td>chr9:17793386:C:G</td>\n",
       "      <td>17793386</td>\n",
       "      <td>G</td>\n",
       "      <td>0.000000</td>\n",
       "      <td>0.000000</td>\n",
       "      <td>C</td>\n",
       "      <td>NaN</td>\n",
       "      <td>NaN</td>\n",
       "      <td>NaN</td>\n",
       "      <td>NaN</td>\n",
       "      <td>NaN</td>\n",
       "      <td>NaN</td>\n",
       "    </tr>\n",
       "    <tr>\n",
       "      <th>13</th>\n",
       "      <td>9</td>\n",
       "      <td>chr9:17793389:C:G</td>\n",
       "      <td>17793389</td>\n",
       "      <td>G</td>\n",
       "      <td>0.000000</td>\n",
       "      <td>0.000000</td>\n",
       "      <td>C</td>\n",
       "      <td>NaN</td>\n",
       "      <td>NaN</td>\n",
       "      <td>NaN</td>\n",
       "      <td>NaN</td>\n",
       "      <td>NaN</td>\n",
       "      <td>NaN</td>\n",
       "    </tr>\n",
       "    <tr>\n",
       "      <th>14</th>\n",
       "      <td>9</td>\n",
       "      <td>chr9:17793407:C:T</td>\n",
       "      <td>17793407</td>\n",
       "      <td>T</td>\n",
       "      <td>0.000000</td>\n",
       "      <td>0.000000</td>\n",
       "      <td>C</td>\n",
       "      <td>NaN</td>\n",
       "      <td>NaN</td>\n",
       "      <td>NaN</td>\n",
       "      <td>NaN</td>\n",
       "      <td>NaN</td>\n",
       "      <td>NaN</td>\n",
       "    </tr>\n",
       "    <tr>\n",
       "      <th>15</th>\n",
       "      <td>9</td>\n",
       "      <td>chr9:17793428:G:C</td>\n",
       "      <td>17793428</td>\n",
       "      <td>C</td>\n",
       "      <td>0.000000</td>\n",
       "      <td>0.000000</td>\n",
       "      <td>G</td>\n",
       "      <td>NaN</td>\n",
       "      <td>NaN</td>\n",
       "      <td>NaN</td>\n",
       "      <td>NaN</td>\n",
       "      <td>NaN</td>\n",
       "      <td>NaN</td>\n",
       "    </tr>\n",
       "    <tr>\n",
       "      <th>16</th>\n",
       "      <td>9</td>\n",
       "      <td>chr9:17793437:A:G</td>\n",
       "      <td>17793437</td>\n",
       "      <td>G</td>\n",
       "      <td>0.002564</td>\n",
       "      <td>0.000000</td>\n",
       "      <td>A</td>\n",
       "      <td>1.43200</td>\n",
       "      <td>0.2314</td>\n",
       "      <td>NaN</td>\n",
       "      <td>NaN</td>\n",
       "      <td>NaN</td>\n",
       "      <td>NaN</td>\n",
       "    </tr>\n",
       "    <tr>\n",
       "      <th>17</th>\n",
       "      <td>9</td>\n",
       "      <td>chr9:17793465:G:T</td>\n",
       "      <td>17793465</td>\n",
       "      <td>T</td>\n",
       "      <td>0.000000</td>\n",
       "      <td>0.000000</td>\n",
       "      <td>G</td>\n",
       "      <td>NaN</td>\n",
       "      <td>NaN</td>\n",
       "      <td>NaN</td>\n",
       "      <td>NaN</td>\n",
       "      <td>NaN</td>\n",
       "      <td>NaN</td>\n",
       "    </tr>\n",
       "    <tr>\n",
       "      <th>18</th>\n",
       "      <td>9</td>\n",
       "      <td>chr9:17793477:C:T</td>\n",
       "      <td>17793477</td>\n",
       "      <td>T</td>\n",
       "      <td>0.000000</td>\n",
       "      <td>0.000000</td>\n",
       "      <td>C</td>\n",
       "      <td>NaN</td>\n",
       "      <td>NaN</td>\n",
       "      <td>NaN</td>\n",
       "      <td>NaN</td>\n",
       "      <td>NaN</td>\n",
       "      <td>NaN</td>\n",
       "    </tr>\n",
       "    <tr>\n",
       "      <th>19</th>\n",
       "      <td>9</td>\n",
       "      <td>chr9:17795552:A:G</td>\n",
       "      <td>17795552</td>\n",
       "      <td>G</td>\n",
       "      <td>0.002564</td>\n",
       "      <td>0.003584</td>\n",
       "      <td>A</td>\n",
       "      <td>0.07573</td>\n",
       "      <td>0.7832</td>\n",
       "      <td>0.7147</td>\n",
       "      <td>1.227</td>\n",
       "      <td>0.06458</td>\n",
       "      <td>7.909</td>\n",
       "    </tr>\n",
       "    <tr>\n",
       "      <th>20</th>\n",
       "      <td>9</td>\n",
       "      <td>chr9:17795624:G:A</td>\n",
       "      <td>17795624</td>\n",
       "      <td>A</td>\n",
       "      <td>0.000000</td>\n",
       "      <td>0.000000</td>\n",
       "      <td>G</td>\n",
       "      <td>NaN</td>\n",
       "      <td>NaN</td>\n",
       "      <td>NaN</td>\n",
       "      <td>NaN</td>\n",
       "      <td>NaN</td>\n",
       "      <td>NaN</td>\n",
       "    </tr>\n",
       "    <tr>\n",
       "      <th>21</th>\n",
       "      <td>9</td>\n",
       "      <td>chr9:17795627:G:A</td>\n",
       "      <td>17795627</td>\n",
       "      <td>A</td>\n",
       "      <td>0.000000</td>\n",
       "      <td>0.000000</td>\n",
       "      <td>G</td>\n",
       "      <td>NaN</td>\n",
       "      <td>NaN</td>\n",
       "      <td>NaN</td>\n",
       "      <td>NaN</td>\n",
       "      <td>NaN</td>\n",
       "      <td>NaN</td>\n",
       "    </tr>\n",
       "    <tr>\n",
       "      <th>22</th>\n",
       "      <td>9</td>\n",
       "      <td>chr9:17795643:C:G</td>\n",
       "      <td>17795643</td>\n",
       "      <td>G</td>\n",
       "      <td>0.000000</td>\n",
       "      <td>0.000000</td>\n",
       "      <td>C</td>\n",
       "      <td>NaN</td>\n",
       "      <td>NaN</td>\n",
       "      <td>NaN</td>\n",
       "      <td>NaN</td>\n",
       "      <td>NaN</td>\n",
       "      <td>NaN</td>\n",
       "    </tr>\n",
       "    <tr>\n",
       "      <th>23</th>\n",
       "      <td>9</td>\n",
       "      <td>chr9:17795685:G:A</td>\n",
       "      <td>17795685</td>\n",
       "      <td>A</td>\n",
       "      <td>0.000000</td>\n",
       "      <td>0.000000</td>\n",
       "      <td>G</td>\n",
       "      <td>NaN</td>\n",
       "      <td>NaN</td>\n",
       "      <td>NaN</td>\n",
       "      <td>NaN</td>\n",
       "      <td>NaN</td>\n",
       "      <td>NaN</td>\n",
       "    </tr>\n",
       "  </tbody>\n",
       "</table>\n",
       "</div>"
      ],
      "text/plain": [
       "    CHR                SNP        BP A1       F_A       F_U A2    CHISQ  \\\n",
       "0     9  chr9:17579258:C:T  17579258  T  0.000000  0.000000  C      NaN   \n",
       "1     9  chr9:17747115:A:C  17747115  C  0.000000  0.000000  A      NaN   \n",
       "2     9  chr9:17761500:C:G  17761500  G  0.000000  0.000000  C      NaN   \n",
       "3     9  chr9:17786519:A:G  17786519  G  0.000000  0.000000  A      NaN   \n",
       "4     9  chr9:17789425:G:T  17789425  T  0.000000  0.000000  G      NaN   \n",
       "5     9  chr9:17789473:C:G  17789473  G  0.000000  0.000000  C      NaN   \n",
       "6     9  chr9:17789477:G:A  17789477  A  0.000000  0.000000  G      NaN   \n",
       "7     9  chr9:17789499:T:G  17789499  G  0.000000  0.000000  T      NaN   \n",
       "8     9  chr9:17789545:A:G  17789545  G  0.000000  0.000000  A      NaN   \n",
       "9     9  chr9:17791272:G:C  17791272  C  0.000000  0.000000  G      NaN   \n",
       "10    9  chr9:17791276:G:C  17791276  C  0.000000  0.000000  G      NaN   \n",
       "11    9  chr9:17791318:G:A  17791318  A  0.000000  0.000000  G      NaN   \n",
       "12    9  chr9:17793386:C:G  17793386  G  0.000000  0.000000  C      NaN   \n",
       "13    9  chr9:17793389:C:G  17793389  G  0.000000  0.000000  C      NaN   \n",
       "14    9  chr9:17793407:C:T  17793407  T  0.000000  0.000000  C      NaN   \n",
       "15    9  chr9:17793428:G:C  17793428  C  0.000000  0.000000  G      NaN   \n",
       "16    9  chr9:17793437:A:G  17793437  G  0.002564  0.000000  A  1.43200   \n",
       "17    9  chr9:17793465:G:T  17793465  T  0.000000  0.000000  G      NaN   \n",
       "18    9  chr9:17793477:C:T  17793477  T  0.000000  0.000000  C      NaN   \n",
       "19    9  chr9:17795552:A:G  17795552  G  0.002564  0.003584  A  0.07573   \n",
       "20    9  chr9:17795624:G:A  17795624  A  0.000000  0.000000  G      NaN   \n",
       "21    9  chr9:17795627:G:A  17795627  A  0.000000  0.000000  G      NaN   \n",
       "22    9  chr9:17795643:C:G  17795643  G  0.000000  0.000000  C      NaN   \n",
       "23    9  chr9:17795685:G:A  17795685  A  0.000000  0.000000  G      NaN   \n",
       "\n",
       "         P      OR     SE      L95    U95  \n",
       "0      NaN     NaN    NaN      NaN    NaN  \n",
       "1      NaN     NaN    NaN      NaN    NaN  \n",
       "2      NaN     NaN    NaN      NaN    NaN  \n",
       "3      NaN     NaN    NaN      NaN    NaN  \n",
       "4      NaN     NaN    NaN      NaN    NaN  \n",
       "5      NaN     NaN    NaN      NaN    NaN  \n",
       "6      NaN     NaN    NaN      NaN    NaN  \n",
       "7      NaN     NaN    NaN      NaN    NaN  \n",
       "8      NaN     NaN    NaN      NaN    NaN  \n",
       "9      NaN     NaN    NaN      NaN    NaN  \n",
       "10     NaN     NaN    NaN      NaN    NaN  \n",
       "11     NaN     NaN    NaN      NaN    NaN  \n",
       "12     NaN     NaN    NaN      NaN    NaN  \n",
       "13     NaN     NaN    NaN      NaN    NaN  \n",
       "14     NaN     NaN    NaN      NaN    NaN  \n",
       "15     NaN     NaN    NaN      NaN    NaN  \n",
       "16  0.2314     NaN    NaN      NaN    NaN  \n",
       "17     NaN     NaN    NaN      NaN    NaN  \n",
       "18     NaN     NaN    NaN      NaN    NaN  \n",
       "19  0.7832  0.7147  1.227  0.06458  7.909  \n",
       "20     NaN     NaN    NaN      NaN    NaN  \n",
       "21     NaN     NaN    NaN      NaN    NaN  \n",
       "22     NaN     NaN    NaN      NaN    NaN  \n",
       "23     NaN     NaN    NaN      NaN    NaN  "
      ]
     },
     "execution_count": 18,
     "metadata": {},
     "output_type": "execute_result"
    }
   ],
   "source": [
    "SH3GL2_CAS_freq = pd.read_csv(f'{WORK_DIR}coding_nonsynonymous_pheno_SH3GL2_CAS.assoc', delim_whitespace=True)\n",
    "SH3GL2_CAS_freq"
   ]
  },
  {
   "cell_type": "code",
   "execution_count": 23,
   "metadata": {},
   "outputs": [
    {
     "name": "stdout",
     "output_type": "stream",
     "text": [
      "PLINK v1.90b6.9 64-bit (4 Mar 2019)            www.cog-genomics.org/plink/1.9/\n",
      "(C) 2005-2019 Shaun Purcell, Christopher Chang   GNU General Public License v3\n",
      "Logging to coding_nonsynonymous_pheno_SH3GL2_CAS.log.\n",
      "Options in effect:\n",
      "  --bfile pheno_SH3GL2_CAS\n",
      "  --extract range reduced_coding_nonsynonymous_CAS.txt\n",
      "  --out coding_nonsynonymous_pheno_SH3GL2_CAS\n",
      "  --recode A\n",
      "\n",
      "14998 MB RAM detected; reserving 7499 MB for main workspace.\n",
      "17085 variants loaded from .bim file.\n",
      "478 people (209 males, 269 females) loaded from .fam.\n",
      "474 phenotype values loaded from .fam.\n",
      "--extract range: 17061 variants excluded.\n",
      "--extract range: 24 variants remaining.\n",
      "Using 1 thread (no multithreaded calculations invoked).\n",
      "Before main variant filters, 478 founders and 0 nonfounders present.\n",
      "Calculating allele frequencies... 0%\b\b1%\b\b2%\b\b3%\b\b4%\b\b5%\b\b6%\b\b7%\b\b8%\b\b9%\b\b10%\b\b\b11%\b\b\b12%\b\b\b13%\b\b\b14%\b\b\b15%\b\b\b16%\b\b\b17%\b\b\b18%\b\b\b19%\b\b\b20%\b\b\b21%\b\b\b22%\b\b\b23%\b\b\b24%\b\b\b25%\b\b\b26%\b\b\b27%\b\b\b28%\b\b\b29%\b\b\b30%\b\b\b31%\b\b\b32%\b\b\b33%\b\b\b34%\b\b\b35%\b\b\b36%\b\b\b37%\b\b\b38%\b\b\b39%\b\b\b40%\b\b\b41%\b\b\b42%\b\b\b43%\b\b\b44%\b\b\b45%\b\b\b46%\b\b\b47%\b\b\b48%\b\b\b49%\b\b\b50%\b\b\b51%\b\b\b52%\b\b\b53%\b\b\b54%\b\b\b55%\b\b\b56%\b\b\b57%\b\b\b58%\b\b\b59%\b\b\b60%\b\b\b61%\b\b\b62%\b\b\b63%\b\b\b64%\b\b\b65%\b\b\b66%\b\b\b67%\b\b\b68%\b\b\b69%\b\b\b70%\b\b\b71%\b\b\b72%\b\b\b73%\b\b\b74%\b\b\b75%\b\b\b76%\b\b\b77%\b\b\b78%\b\b\b79%\b\b\b80%\b\b\b81%\b\b\b82%\b\b\b83%\b\b\b84%\b\b\b85%\b\b\b86%\b\b\b87%\b\b\b88%\b\b\b89%\b\b\b90%\b\b\b91%\b\b\b92%\b\b\b93%\b\b\b94%\b\b\b95%\b\b\b96%\b\b\b97%\b\b\b98%\b\b\b99%\b\b\b\b done.\n",
      "24 variants and 478 people pass filters and QC.\n",
      "Among remaining phenotypes, 195 are cases and 279 are controls.  (4 phenotypes\n",
      "are missing.)\n",
      "--recode A to coding_nonsynonymous_pheno_SH3GL2_CAS.raw ... 0%\b\b1%\b\b2%\b\b3%\b\b4%\b\b5%\b\b6%\b\b7%\b\b8%\b\b9%\b\b10%\b\b\b11%\b\b\b12%\b\b\b13%\b\b\b14%\b\b\b15%\b\b\b16%\b\b\b17%\b\b\b18%\b\b\b19%\b\b\b20%\b\b\b21%\b\b\b22%\b\b\b23%\b\b\b24%\b\b\b25%\b\b\b26%\b\b\b27%\b\b\b28%\b\b\b29%\b\b\b30%\b\b\b31%\b\b\b32%\b\b\b33%\b\b\b34%\b\b\b35%\b\b\b36%\b\b\b37%\b\b\b38%\b\b\b39%\b\b\b40%\b\b\b41%\b\b\b42%\b\b\b43%\b\b\b44%\b\b\b45%\b\b\b46%\b\b\b47%\b\b\b48%\b\b\b49%\b\b\b50%\b\b\b51%\b\b\b52%\b\b\b53%\b\b\b54%\b\b\b55%\b\b\b56%\b\b\b57%\b\b\b58%\b\b\b59%\b\b\b60%\b\b\b61%\b\b\b62%\b\b\b63%\b\b\b64%\b\b\b65%\b\b\b66%\b\b\b67%\b\b\b68%\b\b\b69%\b\b\b70%\b\b\b71%\b\b\b72%\b\b\b73%\b\b\b74%\b\b\b75%\b\b\b76%\b\b\b77%\b\b\b78%\b\b\b79%\b\b\b80%\b\b\b81%\b\b\b82%\b\b\b83%\b\b\b84%\b\b\b85%\b\b\b86%\b\b\b87%\b\b\b88%\b\b\b89%\b\b\b90%\b\b\b91%\b\b\b92%\b\b\b93%\b\b\b94%\b\b\b95%\b\b\b96%\b\b\b97%\b\b\b98%\b\b\b99%\b\b\bdone.\n"
     ]
    }
   ],
   "source": [
    "%%bash\n",
    "\n",
    "WORK_DIR='/home/jupyter/SH3GL2_GP2/'\n",
    "cd $WORK_DIR\n",
    "\n",
    "/home/jupyter/tools/plink --bfile pheno_SH3GL2_CAS --extract range reduced_coding_nonsynonymous_CAS.txt --recode A --out coding_nonsynonymous_pheno_SH3GL2_CAS"
   ]
  },
  {
   "cell_type": "code",
   "execution_count": 24,
   "metadata": {
    "scrolled": true
   },
   "outputs": [
    {
     "data": {
      "text/html": [
       "<div>\n",
       "<style scoped>\n",
       "    .dataframe tbody tr th:only-of-type {\n",
       "        vertical-align: middle;\n",
       "    }\n",
       "\n",
       "    .dataframe tbody tr th {\n",
       "        vertical-align: top;\n",
       "    }\n",
       "\n",
       "    .dataframe thead th {\n",
       "        text-align: right;\n",
       "    }\n",
       "</style>\n",
       "<table border=\"1\" class=\"dataframe\">\n",
       "  <thead>\n",
       "    <tr style=\"text-align: right;\">\n",
       "      <th></th>\n",
       "      <th>FID</th>\n",
       "      <th>IID</th>\n",
       "      <th>PAT</th>\n",
       "      <th>MAT</th>\n",
       "      <th>SEX</th>\n",
       "      <th>PHENOTYPE</th>\n",
       "      <th>chr9:17579258:C:T_T</th>\n",
       "      <th>chr9:17747115:A:C_C</th>\n",
       "      <th>chr9:17761500:C:G_G</th>\n",
       "      <th>chr9:17786519:A:G_G</th>\n",
       "      <th>...</th>\n",
       "      <th>chr9:17793407:C:T_T</th>\n",
       "      <th>chr9:17793428:G:C_C</th>\n",
       "      <th>chr9:17793437:A:G_G</th>\n",
       "      <th>chr9:17793465:G:T_T</th>\n",
       "      <th>chr9:17793477:C:T_T</th>\n",
       "      <th>chr9:17795552:A:G_G</th>\n",
       "      <th>chr9:17795624:G:A_A</th>\n",
       "      <th>chr9:17795627:G:A_A</th>\n",
       "      <th>chr9:17795643:C:G_G</th>\n",
       "      <th>chr9:17795685:G:A_A</th>\n",
       "    </tr>\n",
       "  </thead>\n",
       "  <tbody>\n",
       "    <tr>\n",
       "      <th>0</th>\n",
       "      <td>0</td>\n",
       "      <td>APGS_000114_s1</td>\n",
       "      <td>0</td>\n",
       "      <td>0</td>\n",
       "      <td>1</td>\n",
       "      <td>2</td>\n",
       "      <td>0</td>\n",
       "      <td>0</td>\n",
       "      <td>0</td>\n",
       "      <td>0</td>\n",
       "      <td>...</td>\n",
       "      <td>0</td>\n",
       "      <td>0</td>\n",
       "      <td>0</td>\n",
       "      <td>0</td>\n",
       "      <td>0</td>\n",
       "      <td>0</td>\n",
       "      <td>0</td>\n",
       "      <td>0</td>\n",
       "      <td>0</td>\n",
       "      <td>0</td>\n",
       "    </tr>\n",
       "    <tr>\n",
       "      <th>1</th>\n",
       "      <td>0</td>\n",
       "      <td>APGS_000386_s1</td>\n",
       "      <td>0</td>\n",
       "      <td>0</td>\n",
       "      <td>2</td>\n",
       "      <td>2</td>\n",
       "      <td>0</td>\n",
       "      <td>0</td>\n",
       "      <td>0</td>\n",
       "      <td>0</td>\n",
       "      <td>...</td>\n",
       "      <td>0</td>\n",
       "      <td>0</td>\n",
       "      <td>0</td>\n",
       "      <td>0</td>\n",
       "      <td>0</td>\n",
       "      <td>0</td>\n",
       "      <td>0</td>\n",
       "      <td>0</td>\n",
       "      <td>0</td>\n",
       "      <td>0</td>\n",
       "    </tr>\n",
       "    <tr>\n",
       "      <th>2</th>\n",
       "      <td>0</td>\n",
       "      <td>APGS_000443_s1</td>\n",
       "      <td>0</td>\n",
       "      <td>0</td>\n",
       "      <td>1</td>\n",
       "      <td>2</td>\n",
       "      <td>0</td>\n",
       "      <td>0</td>\n",
       "      <td>0</td>\n",
       "      <td>0</td>\n",
       "      <td>...</td>\n",
       "      <td>0</td>\n",
       "      <td>0</td>\n",
       "      <td>0</td>\n",
       "      <td>0</td>\n",
       "      <td>0</td>\n",
       "      <td>0</td>\n",
       "      <td>0</td>\n",
       "      <td>0</td>\n",
       "      <td>0</td>\n",
       "      <td>0</td>\n",
       "    </tr>\n",
       "    <tr>\n",
       "      <th>3</th>\n",
       "      <td>0</td>\n",
       "      <td>APGS_000851_s1</td>\n",
       "      <td>0</td>\n",
       "      <td>0</td>\n",
       "      <td>1</td>\n",
       "      <td>2</td>\n",
       "      <td>0</td>\n",
       "      <td>0</td>\n",
       "      <td>0</td>\n",
       "      <td>0</td>\n",
       "      <td>...</td>\n",
       "      <td>0</td>\n",
       "      <td>0</td>\n",
       "      <td>0</td>\n",
       "      <td>0</td>\n",
       "      <td>0</td>\n",
       "      <td>0</td>\n",
       "      <td>0</td>\n",
       "      <td>0</td>\n",
       "      <td>0</td>\n",
       "      <td>0</td>\n",
       "    </tr>\n",
       "    <tr>\n",
       "      <th>4</th>\n",
       "      <td>0</td>\n",
       "      <td>APGS_001048_s1</td>\n",
       "      <td>0</td>\n",
       "      <td>0</td>\n",
       "      <td>2</td>\n",
       "      <td>2</td>\n",
       "      <td>0</td>\n",
       "      <td>0</td>\n",
       "      <td>0</td>\n",
       "      <td>0</td>\n",
       "      <td>...</td>\n",
       "      <td>0</td>\n",
       "      <td>0</td>\n",
       "      <td>0</td>\n",
       "      <td>0</td>\n",
       "      <td>0</td>\n",
       "      <td>0</td>\n",
       "      <td>0</td>\n",
       "      <td>0</td>\n",
       "      <td>0</td>\n",
       "      <td>0</td>\n",
       "    </tr>\n",
       "  </tbody>\n",
       "</table>\n",
       "<p>5 rows × 30 columns</p>\n",
       "</div>"
      ],
      "text/plain": [
       "   FID             IID  PAT  MAT  SEX  PHENOTYPE  chr9:17579258:C:T_T  \\\n",
       "0    0  APGS_000114_s1    0    0    1          2                    0   \n",
       "1    0  APGS_000386_s1    0    0    2          2                    0   \n",
       "2    0  APGS_000443_s1    0    0    1          2                    0   \n",
       "3    0  APGS_000851_s1    0    0    1          2                    0   \n",
       "4    0  APGS_001048_s1    0    0    2          2                    0   \n",
       "\n",
       "   chr9:17747115:A:C_C  chr9:17761500:C:G_G  chr9:17786519:A:G_G  ...  \\\n",
       "0                    0                    0                    0  ...   \n",
       "1                    0                    0                    0  ...   \n",
       "2                    0                    0                    0  ...   \n",
       "3                    0                    0                    0  ...   \n",
       "4                    0                    0                    0  ...   \n",
       "\n",
       "   chr9:17793407:C:T_T  chr9:17793428:G:C_C  chr9:17793437:A:G_G  \\\n",
       "0                    0                    0                    0   \n",
       "1                    0                    0                    0   \n",
       "2                    0                    0                    0   \n",
       "3                    0                    0                    0   \n",
       "4                    0                    0                    0   \n",
       "\n",
       "   chr9:17793465:G:T_T  chr9:17793477:C:T_T  chr9:17795552:A:G_G  \\\n",
       "0                    0                    0                    0   \n",
       "1                    0                    0                    0   \n",
       "2                    0                    0                    0   \n",
       "3                    0                    0                    0   \n",
       "4                    0                    0                    0   \n",
       "\n",
       "   chr9:17795624:G:A_A  chr9:17795627:G:A_A  chr9:17795643:C:G_G  \\\n",
       "0                    0                    0                    0   \n",
       "1                    0                    0                    0   \n",
       "2                    0                    0                    0   \n",
       "3                    0                    0                    0   \n",
       "4                    0                    0                    0   \n",
       "\n",
       "   chr9:17795685:G:A_A  \n",
       "0                    0  \n",
       "1                    0  \n",
       "2                    0  \n",
       "3                    0  \n",
       "4                    0  \n",
       "\n",
       "[5 rows x 30 columns]"
      ]
     },
     "execution_count": 24,
     "metadata": {},
     "output_type": "execute_result"
    }
   ],
   "source": [
    "SH3GL2_CAS_recode = pd.read_csv(f'{WORK_DIR}coding_nonsynonymous_pheno_SH3GL2_CAS.raw', delim_whitespace=True)\n",
    "SH3GL2_CAS_recode.head()"
   ]
  },
  {
   "cell_type": "markdown",
   "metadata": {},
   "source": [
    "## Save out results..!"
   ]
  },
  {
   "cell_type": "code",
   "execution_count": 54,
   "metadata": {},
   "outputs": [
    {
     "name": "stderr",
     "output_type": "stream",
     "text": [
      "Executing: gsutil -mu terra-18d8e41c cp -r /home/jupyter/SH3GL2_GP2/ gs://fc-f7a400c1-827e-48f8-b7b6-90c488a000a4\n"
     ]
    },
    {
     "name": "stdout",
     "output_type": "stream",
     "text": [
      "Copying file:///home/jupyter/SH3GL2_GP2/pheno_SH3GL2_EUR.annovar.avinput [Content-Type=application/octet-stream]...\n",
      "Copying file:///home/jupyter/SH3GL2_GP2/pheno_SH3GL2_AMR.annovar.hg38_multianno.vcf [Content-Type=text/vcard]...\n",
      "Copying file:///home/jupyter/SH3GL2_GP2/pheno_SH3GL2_FIN.vcf.gz [Content-Type=text/vcard]...\n",
      "Copying file:///home/jupyter/SH3GL2_GP2/pheno_SH3GL2_AJ.annovar.hg38_multianno.vcf [Content-Type=text/vcard]...\n",
      "Copying file:///home/jupyter/SH3GL2_GP2/pheno_SH3GL2_AMR.log [Content-Type=application/octet-stream]...\n",
      "Copying file:///home/jupyter/SH3GL2_GP2/chr9_AJ_release5.pgen [Content-Type=application/octet-stream]...\n",
      "Copying file:///home/jupyter/SH3GL2_GP2/pheno_SH3GL2_EUR.vcf.gz [Content-Type=text/vcard]...\n",
      "==> NOTE: You are uploading one or more large file(s), which would run\n",
      "significantly faster if you enable parallel composite uploads. This\n",
      "feature can be enabled by editing the\n",
      "\"parallel_composite_upload_threshold\" value in your .boto\n",
      "configuration file. However, note that if you do this large files will\n",
      "be uploaded as `composite objects\n",
      "<https://cloud.google.com/storage/docs/composite-objects>`_,which\n",
      "means that any user who downloads such objects will need to have a\n",
      "compiled crcmod installed (see \"gsutil help crcmod\"). This is because\n",
      "without a compiled crcmod, computing checksums on composite objects is\n",
      "so slow that gsutil disables downloads of composite objects.\n",
      "\n",
      "Copying file:///home/jupyter/SH3GL2_GP2/pheno_SH3GL2_FIN.bim [Content-Type=application/octet-stream]...\n",
      "Copying file:///home/jupyter/SH3GL2_GP2/coding_nonsynonymous_pheno_SH3GL2_EUR.assoc [Content-Type=application/octet-stream]...\n",
      "Copying file:///home/jupyter/SH3GL2_GP2/pheno_SH3GL2_EAS.annovar.avinput [Content-Type=application/octet-stream]...\n",
      "Copying file:///home/jupyter/SH3GL2_GP2/chr9_AFR_release4.pgen [Content-Type=application/octet-stream]...\n",
      "Copying file:///home/jupyter/SH3GL2_GP2/coding_nonsynonymous_pheno_SH3GL2_EUR.raw [Content-Type=application/octet-stream]...\n",
      "Copying file:///home/jupyter/SH3GL2_GP2/coding_nonsynonymous_pheno_SH3GL2_AAC.log [Content-Type=application/octet-stream]...\n",
      "Copying file:///home/jupyter/SH3GL2_GP2/pheno_SH3GL2_SAS.log [Content-Type=application/octet-stream]...\n",
      "Copying file:///home/jupyter/SH3GL2_GP2/coding_nonsynonymous_AMR_rare_0.05.log [Content-Type=application/octet-stream]...\n",
      "Copying file:///home/jupyter/SH3GL2_GP2/pheno_SH3GL2_AMR.annovar.avinput [Content-Type=application/octet-stream]...\n",
      "Copying file:///home/jupyter/SH3GL2_GP2/pheno_SH3GL2_AAC.bim [Content-Type=application/octet-stream]...\n",
      "Copying file:///home/jupyter/SH3GL2_GP2/reduced_coding_nonsynonymous_AAC.txt [Content-Type=text/plain]...\n",
      "Copying file:///home/jupyter/SH3GL2_GP2/pheno_SH3GL2_CAS.vcf.gz [Content-Type=text/vcard]...\n",
      "Copying file:///home/jupyter/SH3GL2_GP2/chr9_AJ_release5.pvar [Content-Type=application/octet-stream]...\n",
      "Copying file:///home/jupyter/SH3GL2_GP2/pheno_SH3GL2_EUR.annovar.hg38_multianno.vcf [Content-Type=text/vcard]...\n",
      "Copying file:///home/jupyter/SH3GL2_GP2/chr9_MDE_release5.log [Content-Type=application/octet-stream]...\n",
      "Copying file:///home/jupyter/SH3GL2_GP2/chr9_FIN_release5.log [Content-Type=application/octet-stream]...\n",
      "Copying file:///home/jupyter/SH3GL2_GP2/pheno_SH3GL2_EAS.vcf.gz [Content-Type=text/vcard]...\n",
      "Copying file:///home/jupyter/SH3GL2_GP2/coding_nonsynonymous_pheno_SH3GL2_EUR.assoc.adjusted [Content-Type=application/octet-stream]...\n",
      "Copying file:///home/jupyter/SH3GL2_GP2/chr9_AMR_release5.log [Content-Type=application/octet-stream]...\n",
      "Copying file:///home/jupyter/SH3GL2_GP2/pheno_SH3GL2_FIN.bed [Content-Type=application/octet-stream]...\n",
      "Copying file:///home/jupyter/SH3GL2_GP2/pheno_SH3GL2_AFR.annovar.avinput [Content-Type=application/octet-stream]...\n",
      "Copying file:///home/jupyter/SH3GL2_GP2/pheno_SH3GL2_EAS.annovar.hg38_multianno.txt [Content-Type=text/plain]...\n",
      "Copying file:///home/jupyter/SH3GL2_GP2/pheno_SH3GL2_MDE.bed [Content-Type=application/octet-stream]...\n",
      "Copying file:///home/jupyter/SH3GL2_GP2/chr9_AAC_release5.psam [Content-Type=application/octet-stream]...\n",
      "Copying file:///home/jupyter/SH3GL2_GP2/pheno_SH3GL2_AMR.vcf.gz [Content-Type=text/vcard]...\n",
      "Copying file:///home/jupyter/SH3GL2_GP2/pheno_SH3GL2_CAS.annovar.avinput [Content-Type=application/octet-stream]...\n",
      "Copying file:///home/jupyter/SH3GL2_GP2/pheno_SH3GL2_SAS.fam [Content-Type=application/octet-stream]...\n",
      "Copying file:///home/jupyter/SH3GL2_GP2/reduced_coding_nonsynonymous_CAS.txt [Content-Type=text/plain]...\n",
      "Copying file:///home/jupyter/SH3GL2_GP2/coding_nonsynonymous_AAC_rare_0.05.log [Content-Type=application/octet-stream]...\n",
      "Copying file:///home/jupyter/SH3GL2_GP2/coding_nonsynonymous_EUR_rare_0.05.bed [Content-Type=application/octet-stream]...\n",
      "Copying file:///home/jupyter/SH3GL2_GP2/master_key_release4_final.csv [Content-Type=text/csv]...\n",
      "Copying file:///home/jupyter/SH3GL2_GP2/pheno_SH3GL2_MDE.annovar.avinput [Content-Type=application/octet-stream]...\n",
      "Copying file:///home/jupyter/SH3GL2_GP2/pheno_SH3GL2_AAC.bed [Content-Type=application/octet-stream]...\n",
      "Copying file:///home/jupyter/SH3GL2_GP2/pheno_SH3GL2_AMR.fam [Content-Type=application/octet-stream]...\n",
      "Copying file:///home/jupyter/SH3GL2_GP2/pheno_SH3GL2_AAC.fam [Content-Type=application/octet-stream]...\n",
      "Copying file:///home/jupyter/SH3GL2_GP2/chr9_MDE_release5.pgen [Content-Type=application/octet-stream]...\n",
      "Copying file:///home/jupyter/SH3GL2_GP2/chr9_AJ_release5.psam [Content-Type=application/octet-stream]...\n",
      "Copying file:///home/jupyter/SH3GL2_GP2/pheno_SH3GL2_MDE.fam [Content-Type=application/octet-stream]...\n",
      "Copying file:///home/jupyter/SH3GL2_GP2/pheno_SH3GL2_SAS.bim [Content-Type=application/octet-stream]...\n",
      "Copying file:///home/jupyter/SH3GL2_GP2/chr9_EUR_release4.psam [Content-Type=application/octet-stream]...\n",
      "Copying file:///home/jupyter/SH3GL2_GP2/pheno_SH3GL2_AAC.log [Content-Type=application/octet-stream]...\n",
      "Copying file:///home/jupyter/SH3GL2_GP2/chr9_SAS_release5.pgen [Content-Type=application/octet-stream]...\n",
      "Copying file:///home/jupyter/SH3GL2_GP2/pheno_SH3GL2_EAS.annovar.hg38_multianno.vcf [Content-Type=text/vcard]...\n",
      "Copying file:///home/jupyter/SH3GL2_GP2/pheno_SH3GL2_MDE.vcf.gz.tbi [Content-Type=application/octet-stream]...\n",
      "Copying file:///home/jupyter/SH3GL2_GP2/pheno_SH3GL2_AFR.vcf.gz [Content-Type=text/vcard]...\n",
      "Copying file:///home/jupyter/SH3GL2_GP2/pheno_SH3GL2_MDE.annovar.hg38_multianno.vcf [Content-Type=text/vcard]...\n",
      "Copying file:///home/jupyter/SH3GL2_GP2/pheno_SH3GL2_AMR.annovar.hg38_multianno.txt [Content-Type=text/plain]...\n",
      "Copying file:///home/jupyter/SH3GL2_GP2/chr9_AMR_release5.pvar [Content-Type=application/octet-stream]...\n",
      "Copying file:///home/jupyter/SH3GL2_GP2/pheno_SH3GL2_CAS.vcf.gz.tbi [Content-Type=application/octet-stream]...\n",
      "Copying file:///home/jupyter/SH3GL2_GP2/coding_nonsynonymous_EUR_rare_0.05.fam [Content-Type=application/octet-stream]...\n",
      "Copying file:///home/jupyter/SH3GL2_GP2/pheno_SH3GL2_SAS.vcf.gz [Content-Type=text/vcard]...\n",
      "Copying file:///home/jupyter/SH3GL2_GP2/chr9_EAS_release5.pgen [Content-Type=application/octet-stream]...\n",
      "Copying file:///home/jupyter/SH3GL2_GP2/chr9_EUR_release5.log [Content-Type=application/octet-stream]...\n",
      "Copying file:///home/jupyter/SH3GL2_GP2/chr9_AFR_release5.log [Content-Type=application/octet-stream]...\n",
      "Copying file:///home/jupyter/SH3GL2_GP2/SEX.txt [Content-Type=text/plain]...    \n",
      "Copying file:///home/jupyter/SH3GL2_GP2/pheno_SH3GL2_AAC.annovar.hg38_multianno.txt [Content-Type=text/plain]...\n",
      "Copying file:///home/jupyter/SH3GL2_GP2/reduced_coding_nonsynonymous_AMR.txt [Content-Type=text/plain]...\n",
      "Copying file:///home/jupyter/SH3GL2_GP2/chr9_EAS_release5.psam [Content-Type=application/octet-stream]...\n",
      "Copying file:///home/jupyter/SH3GL2_GP2/master_key_release5_final.csv [Content-Type=text/csv]...\n",
      "Copying file:///home/jupyter/SH3GL2_GP2/chr9_AFR_release5.pgen [Content-Type=application/octet-stream]...\n",
      "Copying file:///home/jupyter/SH3GL2_GP2/PHENO.txt [Content-Type=text/plain]...  \n",
      "Copying file:///home/jupyter/SH3GL2_GP2/pheno_SH3GL2_AFR.vcf [Content-Type=text/vcard]...\n",
      "Copying file:///home/jupyter/SH3GL2_GP2/pheno_SH3GL2_AAC.vcf.gz.tbi [Content-Type=application/octet-stream]...\n",
      "Copying file:///home/jupyter/SH3GL2_GP2/reduced_coding_nonsynonymous_EAS.txt [Content-Type=text/plain]...\n",
      "Copying file:///home/jupyter/SH3GL2_GP2/reduced_coding_nonsynonymous_AJ.txt [Content-Type=text/plain]...\n",
      "Copying file:///home/jupyter/SH3GL2_GP2/pheno_SH3GL2_EUR.bim [Content-Type=application/octet-stream]...\n",
      "Copying file:///home/jupyter/SH3GL2_GP2/chr9_EUR_release5.pvar [Content-Type=application/octet-stream]...\n",
      "Copying file:///home/jupyter/SH3GL2_GP2/pheno_SH3GL2_MDE.annovar.hg38_multianno.txt [Content-Type=text/plain]...\n",
      "Copying file:///home/jupyter/SH3GL2_GP2/pheno_SH3GL2_CAS.vcf [Content-Type=text/vcard]...\n",
      "Copying file:///home/jupyter/SH3GL2_GP2/chr9_MDE_release5.psam [Content-Type=application/octet-stream]...\n",
      "Copying file:///home/jupyter/SH3GL2_GP2/chr9_AMR_release5.psam [Content-Type=application/octet-stream]...\n",
      "Copying file:///home/jupyter/SH3GL2_GP2/reduced_coding_nonsynonymous_FIN.txt [Content-Type=text/plain]...\n",
      "Copying file:///home/jupyter/SH3GL2_GP2/pheno_SH3GL2_CAS.fam [Content-Type=application/octet-stream]...\n",
      "Copying file:///home/jupyter/SH3GL2_GP2/chr9_EUR_release5.pgen [Content-Type=application/octet-stream]...\n",
      "Copying file:///home/jupyter/SH3GL2_GP2/coding_nonsynonymous_pheno_SH3GL2_FIN.log [Content-Type=application/octet-stream]...\n",
      "Copying file:///home/jupyter/SH3GL2_GP2/pheno_SH3GL2_EAS.log [Content-Type=application/octet-stream]...\n",
      "Copying file:///home/jupyter/SH3GL2_GP2/chr9_EUR_release4.pvar [Content-Type=application/octet-stream]...\n",
      "Copying file:///home/jupyter/SH3GL2_GP2/coding_nonsynonymous.txt [Content-Type=text/plain]...\n",
      "Copying file:///home/jupyter/SH3GL2_GP2/pheno_SH3GL2_EAS.bed [Content-Type=application/octet-stream]...\n",
      "Copying file:///home/jupyter/SH3GL2_GP2/chr9_CAS_release5.log [Content-Type=application/octet-stream]...\n",
      "Copying file:///home/jupyter/SH3GL2_GP2/pheno_SH3GL2_AJ.log [Content-Type=application/octet-stream]...\n",
      "Copying file:///home/jupyter/SH3GL2_GP2/pheno_SH3GL2_MDE.bim [Content-Type=application/octet-stream]...\n",
      "Copying file:///home/jupyter/SH3GL2_GP2/chr9_FIN_release5.pvar [Content-Type=application/octet-stream]...\n",
      "Copying file:///home/jupyter/SH3GL2_GP2/coding_nonsynonymous_EUR_rare_0.05.bim [Content-Type=application/octet-stream]...\n",
      "Copying file:///home/jupyter/SH3GL2_GP2/pheno_SH3GL2_AAC.annovar.hg38_multianno.vcf [Content-Type=text/vcard]...\n",
      "Copying file:///home/jupyter/SH3GL2_GP2/pheno_SH3GL2_EUR.log [Content-Type=application/octet-stream]...\n",
      "Copying file:///home/jupyter/SH3GL2_GP2/pheno_SH3GL2_AJ.fam [Content-Type=application/octet-stream]...\n",
      "Copying file:///home/jupyter/SH3GL2_GP2/pheno_SH3GL2_EUR.bed [Content-Type=application/octet-stream]...\n",
      "Copying file:///home/jupyter/SH3GL2_GP2/pheno_SH3GL2_AFR.log [Content-Type=application/octet-stream]...\n",
      "Copying file:///home/jupyter/SH3GL2_GP2/chr9_EUR_release5.psam [Content-Type=application/octet-stream]...\n",
      "Copying file:///home/jupyter/SH3GL2_GP2/coding_nonsynonymous_pheno_SH3GL2_MDE.log [Content-Type=application/octet-stream]...\n",
      "Copying file:///home/jupyter/SH3GL2_GP2/pheno_SH3GL2_SAS.bed [Content-Type=application/octet-stream]...\n",
      "Copying file:///home/jupyter/SH3GL2_GP2/chr9_MDE_release5.pvar [Content-Type=application/octet-stream]...\n",
      "Copying file:///home/jupyter/SH3GL2_GP2/pheno_SH3GL2_FIN.annovar.hg38_multianno.vcf [Content-Type=text/vcard]...\n",
      "Copying file:///home/jupyter/SH3GL2_GP2/chr9_AFR_release4.pvar [Content-Type=application/octet-stream]...\n",
      "Copying file:///home/jupyter/SH3GL2_GP2/pheno_SH3GL2_CAS.bed [Content-Type=application/octet-stream]...\n",
      "Copying file:///home/jupyter/SH3GL2_GP2/pheno_SH3GL2_CAS.annovar.hg38_multianno.txt [Content-Type=text/plain]...\n",
      "Copying file:///home/jupyter/SH3GL2_GP2/pheno_SH3GL2_AAC.vcf.gz [Content-Type=text/vcard]...\n",
      "Copying file:///home/jupyter/SH3GL2_GP2/pheno_SH3GL2_SAS.vcf.gz.tbi [Content-Type=application/octet-stream]...\n",
      "Copying file:///home/jupyter/SH3GL2_GP2/pheno_SH3GL2_AJ.vcf.gz [Content-Type=text/vcard]...\n",
      "Copying file:///home/jupyter/SH3GL2_GP2/pheno_SH3GL2_FIN.log [Content-Type=application/octet-stream]...\n",
      "Copying file:///home/jupyter/SH3GL2_GP2/pheno_SH3GL2_EUR.fam [Content-Type=application/octet-stream]...\n",
      "Copying file:///home/jupyter/SH3GL2_GP2/chr9_SAS_release5.psam [Content-Type=application/octet-stream]...\n",
      "Copying file:///home/jupyter/SH3GL2_GP2/chr9_AFR_release4.log [Content-Type=application/octet-stream]...\n",
      "Copying file:///home/jupyter/SH3GL2_GP2/pheno_SH3GL2_AJ.bim [Content-Type=application/octet-stream]...\n",
      "Copying file:///home/jupyter/SH3GL2_GP2/coding_nonsynonymous_CAS_rare_0.05.log [Content-Type=application/octet-stream]...\n",
      "Copying file:///home/jupyter/SH3GL2_GP2/pheno_SH3GL2_AFR.annovar.hg38_multianno.txt [Content-Type=text/plain]...\n",
      "Copying file:///home/jupyter/SH3GL2_GP2/pheno_SH3GL2_EAS.fam [Content-Type=application/octet-stream]...\n",
      "Copying file:///home/jupyter/SH3GL2_GP2/pheno_SH3GL2_EAS.vcf.gz.tbi [Content-Type=application/octet-stream]...\n",
      "Copying file:///home/jupyter/SH3GL2_GP2/reduced_coding_nonsynonymous_MDE.txt [Content-Type=text/plain]...\n",
      "Copying file:///home/jupyter/SH3GL2_GP2/pheno_SH3GL2_FIN.vcf.gz.tbi [Content-Type=application/octet-stream]...\n",
      "Copying file:///home/jupyter/SH3GL2_GP2/pheno_SH3GL2_FIN.annovar.hg38_multianno.txt [Content-Type=text/plain]...\n",
      "Copying file:///home/jupyter/SH3GL2_GP2/chr9_AMR_release5.pgen [Content-Type=application/octet-stream]...\n",
      "Copying file:///home/jupyter/SH3GL2_GP2/pheno_SH3GL2_CAS.bim [Content-Type=application/octet-stream]...\n",
      "Copying file:///home/jupyter/SH3GL2_GP2/pheno_SH3GL2_AJ.vcf.gz.tbi [Content-Type=application/octet-stream]...\n",
      "Copying file:///home/jupyter/SH3GL2_GP2/chr9_CAS_release5.pgen [Content-Type=application/octet-stream]...\n",
      "Copying file:///home/jupyter/SH3GL2_GP2/pheno_SH3GL2_CAS.annovar.hg38_multianno.vcf [Content-Type=text/vcard]...\n",
      "Copying file:///home/jupyter/SH3GL2_GP2/coding_nonsynonymous_pheno_SH3GL2_CAS.log [Content-Type=application/octet-stream]...\n",
      "Copying file:///home/jupyter/SH3GL2_GP2/chr9_SAS_release5.log [Content-Type=application/octet-stream]...\n",
      "Copying file:///home/jupyter/SH3GL2_GP2/coding_nonsynonymous_EUR_rare_0.05.log [Content-Type=application/octet-stream]...\n",
      "Copying file:///home/jupyter/SH3GL2_GP2/pheno_SH3GL2_MDE.vcf.gz [Content-Type=text/vcard]...\n",
      "Copying file:///home/jupyter/SH3GL2_GP2/pheno_SH3GL2_SAS.annovar.hg38_multianno.vcf [Content-Type=text/vcard]...\n",
      "Copying file:///home/jupyter/SH3GL2_GP2/pheno_SH3GL2_AMR.bed [Content-Type=application/octet-stream]...\n",
      "Copying file:///home/jupyter/SH3GL2_GP2/coding_nonsynonymous_pheno_SH3GL2_AMR.log [Content-Type=application/octet-stream]...\n",
      "Copying file:///home/jupyter/SH3GL2_GP2/chr9_AAC_release5.log [Content-Type=application/octet-stream]...\n",
      "Copying file:///home/jupyter/SH3GL2_GP2/chr9_AFR_release5.psam [Content-Type=application/octet-stream]...\n",
      "Copying file:///home/jupyter/SH3GL2_GP2/pheno_SH3GL2_AJ.annovar.hg38_multianno.txt [Content-Type=text/plain]...\n",
      "Copying file:///home/jupyter/SH3GL2_GP2/chr9_AAC_release5.pvar [Content-Type=application/octet-stream]...\n",
      "Copying file:///home/jupyter/SH3GL2_GP2/chr9_CAS_release5.psam [Content-Type=application/octet-stream]...\n",
      "Copying file:///home/jupyter/SH3GL2_GP2/chr9_EAS_release5.pvar [Content-Type=application/octet-stream]...\n",
      "Copying file:///home/jupyter/SH3GL2_GP2/chr9_AJ_release5.log [Content-Type=application/octet-stream]...\n",
      "Copying file:///home/jupyter/SH3GL2_GP2/pheno_SH3GL2_SAS.annovar.hg38_multianno.txt [Content-Type=text/plain]...\n",
      "Copying file:///home/jupyter/SH3GL2_GP2/pheno_SH3GL2_AJ.annovar.avinput [Content-Type=application/octet-stream]...\n",
      "Copying file:///home/jupyter/SH3GL2_GP2/chr9_EUR_release4.log [Content-Type=application/octet-stream]...\n",
      "Copying file:///home/jupyter/SH3GL2_GP2/chr9_AFR_release4.psam [Content-Type=application/octet-stream]...\n",
      "Copying file:///home/jupyter/SH3GL2_GP2/pheno_SH3GL2_AFR.bim [Content-Type=application/octet-stream]...\n",
      "Copying file:///home/jupyter/SH3GL2_GP2/chr9_EUR_release4.pgen [Content-Type=application/octet-stream]...\n",
      "Copying file:///home/jupyter/SH3GL2_GP2/pheno_SH3GL2_AMR.vcf.gz.tbi [Content-Type=application/octet-stream]...\n",
      "Copying file:///home/jupyter/SH3GL2_GP2/pheno_SH3GL2_AFR.fam [Content-Type=application/octet-stream]...\n",
      "Copying file:///home/jupyter/SH3GL2_GP2/pheno_SH3GL2_AMR.bim [Content-Type=application/octet-stream]...\n",
      "Copying file:///home/jupyter/SH3GL2_GP2/chr9_FIN_release5.pgen [Content-Type=application/octet-stream]...\n",
      "Copying file:///home/jupyter/SH3GL2_GP2/chr9_FIN_release5.psam [Content-Type=application/octet-stream]...\n",
      "Copying file:///home/jupyter/SH3GL2_GP2/pheno_SH3GL2_FIN.annovar.avinput [Content-Type=application/octet-stream]...\n",
      "Copying file:///home/jupyter/SH3GL2_GP2/chr9_SAS_release5.pvar [Content-Type=application/octet-stream]...\n",
      "Copying file:///home/jupyter/SH3GL2_GP2/pheno_SH3GL2_AAC.annovar.avinput [Content-Type=application/octet-stream]...\n",
      "Copying file:///home/jupyter/SH3GL2_GP2/coding_nonsynonymous_FIN_rare_0.05.log [Content-Type=application/octet-stream]...\n",
      "Copying file:///home/jupyter/SH3GL2_GP2/pheno_SH3GL2_AJ.bed [Content-Type=application/octet-stream]...\n",
      "Copying file:///home/jupyter/SH3GL2_GP2/coding_nonsynonymous_pheno_SH3GL2_AJ.log [Content-Type=application/octet-stream]...\n",
      "Copying file:///home/jupyter/SH3GL2_GP2/coding_nonsynonymous_pheno_SH3GL2_EUR.log [Content-Type=application/octet-stream]...\n",
      "Copying file:///home/jupyter/SH3GL2_GP2/pheno_SH3GL2_AFR.bed [Content-Type=application/octet-stream]...\n",
      "Copying file:///home/jupyter/SH3GL2_GP2/pheno_SH3GL2_SAS.annovar.avinput [Content-Type=application/octet-stream]...\n",
      "Copying file:///home/jupyter/SH3GL2_GP2/pheno_SH3GL2_MDE.log [Content-Type=application/octet-stream]...\n",
      "Copying file:///home/jupyter/SH3GL2_GP2/chr9_AFR_release5.pvar [Content-Type=application/octet-stream]...\n",
      "Copying file:///home/jupyter/SH3GL2_GP2/pheno_SH3GL2_FIN.fam [Content-Type=application/octet-stream]...\n",
      "Copying file:///home/jupyter/SH3GL2_GP2/chr9_AAC_release5.pgen [Content-Type=application/octet-stream]...\n",
      "Copying file:///home/jupyter/SH3GL2_GP2/pheno_SH3GL2_CAS.log [Content-Type=application/octet-stream]...\n",
      "Copying file:///home/jupyter/SH3GL2_GP2/pheno_SH3GL2_EUR.vcf.gz.tbi [Content-Type=application/octet-stream]...\n",
      "Copying file:///home/jupyter/SH3GL2_GP2/pheno_SH3GL2_EAS.bim [Content-Type=application/octet-stream]...\n",
      "Copying file:///home/jupyter/SH3GL2_GP2/chr9_CAS_release5.pvar [Content-Type=application/octet-stream]...\n",
      "Copying file:///home/jupyter/SH3GL2_GP2/pheno_SH3GL2_AFR.vcf.gz.tbi [Content-Type=application/octet-stream]...\n",
      "Copying file:///home/jupyter/SH3GL2_GP2/chr9_EAS_release5.log [Content-Type=application/octet-stream]...\n",
      "Copying file:///home/jupyter/SH3GL2_GP2/pheno_SH3GL2_EUR.annovar.hg38_multianno.txt [Content-Type=text/plain]...\n",
      "Copying file:///home/jupyter/SH3GL2_GP2/pheno_SH3GL2_AMR.vcf [Content-Type=text/vcard]...\n",
      "Copying file:///home/jupyter/SH3GL2_GP2/reduced_coding_nonsynonymous_EUR.txt [Content-Type=text/plain]...\n",
      "Copying file:///home/jupyter/SH3GL2_GP2/coding_nonsynonymous_AJ_rare_0.05.log [Content-Type=application/octet-stream]...\n",
      "Copying file:///home/jupyter/SH3GL2_GP2/pheno_SH3GL2_AFR.annovar.hg38_multianno.vcf [Content-Type=text/vcard]...\n",
      "\\ [173/173 files][ 18.3 GiB/ 18.3 GiB] 100% Done  49.7 MiB/s ETA 00:00:00       \n",
      "Operation completed over 173 objects/18.3 GiB.                                   \n"
     ]
    }
   ],
   "source": [
    "shell_do(f'gsutil -mu {BILLING_PROJECT_ID} cp -r {WORK_DIR} {WORKSPACE_BUCKET}')"
   ]
  },
  {
   "cell_type": "code",
   "execution_count": 55,
   "metadata": {},
   "outputs": [
    {
     "name": "stdout",
     "output_type": "stream",
     "text": [
      " AFR_GP2_.ipynb\r\n",
      " H3GL2_GP2_EUR_ANC.ipynb\r\n",
      " PP2A_AMP-PD-draft.ipynb\r\n",
      " PP2A_AMP-PD.ipynb\r\n",
      " PP2A_GP2-draft.ipynb\r\n",
      " PP2A_GP2.ipynb\r\n",
      " SH3GL2_AMP-PD_ALF.ipynb\r\n",
      " SH3GL2_AMP-PD_CAS_ANC-draft.ipynb\r\n",
      " SH3GL2_AMP-PD_CAS_ANC.ipynb\r\n",
      " SH3GL2_AMP-PD_EAS_ANC-draft.ipynb\r\n",
      " SH3GL2_AMP-PD_EAS_ANC.ipynb\r\n",
      " SH3GL2_AMP-PD_EAS_SAS-draft.ipynb\r\n",
      " SH3GL2_AMP-PD_EAS_SAS.ipynb\r\n",
      " SH3GL2_AMP-PD-finalversion.ipynb\r\n",
      " SH3GL2_GP2_AAC_AJHM.ipynb\r\n",
      " SH3GL2_GP2_AAC_ANA.ipynb\r\n",
      " SH3GL2_GP2_AAC-finalversion.ipynb\r\n",
      " SH3GL2_GP2_AFR_ALF.ipynb\r\n",
      " SH3GL2_GP2_AFR-finalversion.ipynb\r\n",
      " SH3GL2_GP2_AJ_AJHM.ipynb\r\n",
      " SH3GL2_GP2_AJ_ANA.ipynb\r\n",
      " SH3GL2_GP2_AJ-finalversion.ipynb\r\n",
      " SH3GL2_GP2_ALF.ipynb\r\n",
      " SH3GL2_GP2_AMR_ALF.ipynb\r\n",
      " SH3GL2_GP2_AMR-finalversion.ipynb\r\n",
      " SH3GL2_GP2_CAS_ANC.ipynb\r\n",
      " SH3GL2_GP2_CAS-finalversion.ipynb\r\n",
      " SH3GL2_GP2_CAS.ipynb\r\n",
      " SH3GL2_GP2_EAS-finalversion.ipynb\r\n",
      " SH3GL2_GP2_EAS_finalversion.ipynb\r\n",
      " SH3GL2_-GP2_EAS-ifnalversion.ipynb\r\n",
      "'SH3GL2_GP2_EAS_SAS_delete_duplicates in all popu.ipynb'\r\n",
      " SH3GL2_GP2_EAS_SAS-finalversion.ipynb\r\n",
      " SH3GL2_GP2_EAS_SAS.ipynb\r\n",
      " SH3GL2_GP2_EUR_ANC-draft.ipynb\r\n",
      " SH3GL2_GP2_EUR-finalversion.ipynb\r\n",
      " SH3GL2_GP2_EUR.ipynb\r\n",
      " SH3GL2_GP2_FIN_AJHM.ipynb\r\n",
      " SH3GL2_GP2_FIN-finalversion.ipynb\r\n",
      " SH3GL2_GP2_MDE_AJHM.ipynb\r\n",
      " SH3GL2_GP2_MDE_ANA.ipynb\r\n",
      " SH3GL2_GP2_MDE-finalversion.ipynb\r\n",
      " SH3GL2_GP2_SAS_copy.ipynb\r\n",
      " SH3GL2_GP2_SAS-finalversion.ipynb\r\n",
      " SH3GL2-GP2-SAS-ifnalversion.ipynb\r\n"
     ]
    }
   ],
   "source": [
    "ls"
   ]
  },
  {
   "cell_type": "code",
   "execution_count": null,
   "metadata": {},
   "outputs": [],
   "source": []
  }
 ],
 "metadata": {
  "kernelspec": {
   "display_name": "Python 3",
   "language": "python",
   "name": "python3"
  },
  "language_info": {
   "codemirror_mode": {
    "name": "ipython",
    "version": 3
   },
   "file_extension": ".py",
   "mimetype": "text/x-python",
   "name": "python",
   "nbconvert_exporter": "python",
   "pygments_lexer": "ipython3",
   "version": "3.7.12"
  },
  "toc": {
   "base_numbering": 1,
   "nav_menu": {
    "height": "248.972px",
    "width": "263.062px"
   },
   "number_sections": true,
   "sideBar": true,
   "skip_h1_title": false,
   "title_cell": "Table of Contents",
   "title_sidebar": "Contents",
   "toc_cell": false,
   "toc_position": {
    "height": "calc(100% - 180px)",
    "left": "10px",
    "top": "150px",
    "width": "268.372px"
   },
   "toc_section_display": true,
   "toc_window_display": false
  }
 },
 "nbformat": 4,
 "nbformat_minor": 2
}
