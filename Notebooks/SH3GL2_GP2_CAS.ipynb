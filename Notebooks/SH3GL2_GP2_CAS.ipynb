{
 "cells": [
  {
   "cell_type": "markdown",
   "metadata": {},
   "source": [
    "# SH3GL2 - Single gene analysis in GP2 data"
   ]
  },
  {
   "cell_type": "markdown",
   "metadata": {},
   "source": [
    "## Description\n",
    "\n",
    "Using \"individual level data\""
   ]
  },
  {
   "cell_type": "markdown",
   "metadata": {},
   "source": [
    "### 0. Getting Started\n",
    "\n",
    "- Loading Python libraries\n",
    "- Defining functions\n",
    "- Installing packages\n",
    "\n",
    "### 1. Copy data from workspace to cloud environment\n",
    "\n",
    "### 2. Extract SH3GL2\n",
    "\n",
    "### 3. Annotate SH3GL2 variants\n",
    "\n",
    "### 4. Extract coding/non-syn variants\n",
    "\n",
    "### 5. Calculate frequency in cases versus controls\n",
    "\n",
    "### 6. Calculate frequency (homozygotes) in cases versus controls\n",
    "\n",
    "### 7. Save out results"
   ]
  },
  {
   "cell_type": "markdown",
   "metadata": {},
   "source": [
    "## Getting Started"
   ]
  },
  {
   "cell_type": "markdown",
   "metadata": {},
   "source": [
    "### Loading Python libraries"
   ]
  },
  {
   "cell_type": "markdown",
   "metadata": {},
   "source": [
    "### Defining functions"
   ]
  },
  {
   "cell_type": "code",
   "execution_count": 1,
   "metadata": {
    "code_folding": []
   },
   "outputs": [],
   "source": [
    "# Use the os package to interact with the environment\n",
    "import os\n",
    "\n",
    "# Bring in Pandas for Dataframe functionality\n",
    "import pandas as pd\n",
    "\n",
    "# Numpy for basics\n",
    "import numpy as np\n",
    "\n",
    "# Use StringIO for working with file contents\n",
    "from io import StringIO\n",
    "\n",
    "# Enable IPython to display matplotlib graphs\n",
    "import matplotlib.pyplot as plt\n",
    "%matplotlib inline\n",
    "\n",
    "# Enable interaction with the FireCloud API\n",
    "from firecloud import api as fapi\n",
    "\n",
    "# Import the iPython HTML rendering for displaying links to Google Cloud Console\n",
    "from IPython.core.display import display, HTML\n",
    "\n",
    "# Import urllib modules for building URLs to Google Cloud Console\n",
    "import urllib.parse\n",
    "\n",
    "# BigQuery for querying data\n",
    "from google.cloud import bigquery\n",
    "\n",
    "#Import Sys\n",
    "import sys as sys"
   ]
  },
  {
   "cell_type": "code",
   "execution_count": 2,
   "metadata": {
    "code_folding": []
   },
   "outputs": [],
   "source": [
    "# Utility routine for printing a shell command before executing it\n",
    "def shell_do(command):\n",
    "    print(f'Executing: {command}', file=sys.stderr)\n",
    "    !$command\n",
    "    \n",
    "def shell_return(command):\n",
    "    print(f'Executing: {command}', file=sys.stderr)\n",
    "    output = !$command\n",
    "    return '\\n'.join(output)\n",
    "\n",
    "# Utility routine for printing a query before executing it\n",
    "def bq_query(query):\n",
    "    print(f'Executing: {query}', file=sys.stderr)\n",
    "    return pd.read_gbq(query, project_id=BILLING_PROJECT_ID, dialect='standard')\n",
    "\n",
    "# Utility routine for display a message and a link\n",
    "def display_html_link(description, link_text, url):\n",
    "    html = f'''\n",
    "    <p>\n",
    "    </p>\n",
    "    <p>\n",
    "    {description}\n",
    "    <a target=_blank href=\"{url}\">{link_text}</a>.\n",
    "    </p>\n",
    "    '''\n",
    "\n",
    "    display(HTML(html))\n",
    "\n",
    "# Utility routines for reading files from Google Cloud Storage\n",
    "def gcs_read_file(path):\n",
    "    \"\"\"Return the contents of a file in GCS\"\"\"\n",
    "    contents = !gsutil -u {BILLING_PROJECT_ID} cat {path}\n",
    "    return '\\n'.join(contents)\n",
    "    \n",
    "def gcs_read_csv(path, sep=None):\n",
    "    \"\"\"Return a DataFrame from the contents of a delimited file in GCS\"\"\"\n",
    "    return pd.read_csv(StringIO(gcs_read_file(path)), sep=sep, engine='python')\n",
    "\n",
    "# Utility routine for displaying a message and link to Cloud Console\n",
    "def link_to_cloud_console_gcs(description, link_text, gcs_path):\n",
    "    url = '{}?{}'.format(\n",
    "        os.path.join('https://console.cloud.google.com/storage/browser',\n",
    "                     gcs_path.replace(\"gs://\",\"\")),\n",
    "        urllib.parse.urlencode({'userProject': BILLING_PROJECT_ID}))\n",
    "\n",
    "    display_html_link(description, link_text, url)"
   ]
  },
  {
   "cell_type": "markdown",
   "metadata": {},
   "source": [
    "### Set paths"
   ]
  },
  {
   "cell_type": "code",
   "execution_count": 3,
   "metadata": {
    "code_folding": []
   },
   "outputs": [
    {
     "name": "stdout",
     "output_type": "stream",
     "text": [
      "Billing and Workspace\n",
      "Workspace Name: Endophilin-A\n",
      "Billing Project: terra-18d8e41c\n",
      "Workspace Bucket, where you can upload and download data: gs://fc-f7a400c1-827e-48f8-b7b6-90c488a000a4\n",
      "\n",
      "GP2 v5.0\n",
      "Path to GP2 v5.0 Clinical Data: gs://gp2tier2/release5_11052023/clinical_data\n",
      "Path to GP2 v5.0 Raw Genotype Data: gs://gp2tier2/release5_11052023/raw_genotypes\n",
      "Path to GP2 v5.0 Imputed Genotype Data: gs://gp2tier2/release5_11052023/imputed_genotypes\n",
      "AMP-PD v3.0\n",
      "Path to AMP-PD v3.0 Clinical Data: gs://amp-pd-data/releases/2022_v3release_1115/clinical\n",
      "Path to AMP-PD v3.0 WGS Data: gs://amp-pd-genomics/releases/2022_v3release_1115/wgs-WB-DWGS/plink\n",
      "Path to AMP-PD v3.0 WGS Data: gs://amp-pd-genomics/releases/2022_v3release_1115/wgs-WB-DWGS/plink/pfiles\n",
      "\n"
     ]
    }
   ],
   "source": [
    "# Set up billing project and data path variables\n",
    "BILLING_PROJECT_ID = os.environ['GOOGLE_PROJECT']\n",
    "WORKSPACE_NAMESPACE = os.environ['WORKSPACE_NAMESPACE']\n",
    "WORKSPACE_NAME = os.environ['WORKSPACE_NAME']\n",
    "WORKSPACE_BUCKET = os.environ['WORKSPACE_BUCKET']\n",
    "\n",
    "WORKSPACE_ATTRIBUTES = fapi.get_workspace(WORKSPACE_NAMESPACE, WORKSPACE_NAME).json().get('workspace',{}).get('attributes',{})\n",
    "\n",
    "## Print the information to check we are in the proper release and billing \n",
    "## This will be different for you, the user, depending on the billing project your workspace is on\n",
    "print('Billing and Workspace')\n",
    "print(f'Workspace Name: {WORKSPACE_NAME}')\n",
    "print(f'Billing Project: {BILLING_PROJECT_ID}')\n",
    "print(f'Workspace Bucket, where you can upload and download data: {WORKSPACE_BUCKET}')\n",
    "print('')\n",
    "\n",
    "\n",
    "## GP2 v5.0\n",
    "## Explicitly define release v5.0 path \n",
    "GP2_RELEASE_PATH = 'gs://gp2tier2/release5_11052023'\n",
    "GP2_CLINICAL_RELEASE_PATH = f'{GP2_RELEASE_PATH}/clinical_data'\n",
    "GP2_RAW_GENO_PATH = f'{GP2_RELEASE_PATH}/raw_genotypes'\n",
    "GP2_IMPUTED_GENO_PATH = f'{GP2_RELEASE_PATH}/imputed_genotypes'\n",
    "print('GP2 v5.0')\n",
    "print(f'Path to GP2 v5.0 Clinical Data: {GP2_CLINICAL_RELEASE_PATH}')\n",
    "print(f'Path to GP2 v5.0 Raw Genotype Data: {GP2_RAW_GENO_PATH}')\n",
    "print(f'Path to GP2 v5.0 Imputed Genotype Data: {GP2_IMPUTED_GENO_PATH}')\n",
    "\n",
    "\n",
    "## AMP-PD v3.0\n",
    "## Explicitly define release v3.0 path \n",
    "AMP_RELEASE_PATH = 'gs://amp-pd-data/releases/2022_v3release_1115'\n",
    "AMP_CLINICAL_RELEASE_PATH = f'{AMP_RELEASE_PATH}/clinical'\n",
    "\n",
    "AMP_WGS_RELEASE_PATH = 'gs://amp-pd-genomics/releases/2022_v3release_1115/wgs-WB-DWGS'\n",
    "AMP_WGS_RELEASE_PLINK_PATH = os.path.join(AMP_WGS_RELEASE_PATH, 'plink')\n",
    "AMP_WGS_RELEASE_PLINK_PFILES = os.path.join(AMP_WGS_RELEASE_PLINK_PATH, 'pfiles')\n",
    "\n",
    "print('AMP-PD v3.0')\n",
    "print(f'Path to AMP-PD v3.0 Clinical Data: {AMP_CLINICAL_RELEASE_PATH}')\n",
    "print(f'Path to AMP-PD v3.0 WGS Data: {AMP_WGS_RELEASE_PLINK_PATH}')\n",
    "print(f'Path to AMP-PD v3.0 WGS Data: {AMP_WGS_RELEASE_PLINK_PFILES}')\n",
    "print('')"
   ]
  },
  {
   "cell_type": "markdown",
   "metadata": {},
   "source": [
    "### Install packages"
   ]
  },
  {
   "cell_type": "markdown",
   "metadata": {},
   "source": [
    "#### Install Plink 1.9 and Plink 2.0"
   ]
  },
  {
   "cell_type": "code",
   "execution_count": 4,
   "metadata": {},
   "outputs": [
    {
     "name": "stdout",
     "output_type": "stream",
     "text": [
      "Plink1.9 is already installed in /home/jupyter/tools/\n",
      "Plink2 is already installed in /home/jupyter/tools/\n"
     ]
    }
   ],
   "source": [
    "%%bash\n",
    "\n",
    "mkdir -p ~/tools\n",
    "cd ~/tools\n",
    "\n",
    "if test -e /home/jupyter/tools/plink; then\n",
    "echo \"Plink1.9 is already installed in /home/jupyter/tools/\"\n",
    "\n",
    "else\n",
    "echo -e \"Downloading plink \\n    -------\"\n",
    "wget -N http://s3.amazonaws.com/plink1-assets/plink_linux_x86_64_20190304.zip \n",
    "unzip -o plink_linux_x86_64_20190304.zip\n",
    "echo -e \"\\n plink downloaded and unzipped in /home/jupyter/tools \\n \"\n",
    "\n",
    "fi\n",
    "\n",
    "\n",
    "if test -e /home/jupyter/tools/plink2; then\n",
    "echo \"Plink2 is already installed in /home/jupyter/tools/\"\n",
    "\n",
    "else\n",
    "echo -e \"Downloading plink2 \\n    -------\"\n",
    "wget -N https://s3.amazonaws.com/plink2-assets/alpha3/plink2_linux_avx2_20220603.zip\n",
    "unzip -o plink2_linux_avx2_20220603.zip\n",
    "echo -e \"\\n plink2 downloaded and unzipped in /home/jupyter/tools \\n \"\n",
    "\n",
    "fi"
   ]
  },
  {
   "cell_type": "code",
   "execution_count": 5,
   "metadata": {
    "scrolled": true
   },
   "outputs": [
    {
     "name": "stdout",
     "output_type": "stream",
     "text": [
      "annovar\n",
      "annovar.latest.tar.gz\n",
      "LICENSE\n",
      "plink\n",
      "plink2\n",
      "plink2_linux_avx2_20220603.zip\n",
      "plink_linux_x86_64_20190304.zip\n",
      "prettify\n",
      "toy.map\n",
      "toy.ped\n"
     ]
    }
   ],
   "source": [
    "%%bash\n",
    "ls /home/jupyter/tools/"
   ]
  },
  {
   "cell_type": "markdown",
   "metadata": {},
   "source": [
    "#### Remote restrictions"
   ]
  },
  {
   "cell_type": "code",
   "execution_count": 6,
   "metadata": {},
   "outputs": [],
   "source": [
    "%%bash\n",
    "\n",
    "# chmod plink 1.9 \n",
    "chmod u+x /home/jupyter/tools/plink"
   ]
  },
  {
   "cell_type": "code",
   "execution_count": 7,
   "metadata": {},
   "outputs": [],
   "source": [
    "%%bash\n",
    "\n",
    "# chmod plink 2.0\n",
    "chmod u+x /home/jupyter/tools/plink2"
   ]
  },
  {
   "cell_type": "markdown",
   "metadata": {},
   "source": [
    "### Install ANNOVAR"
   ]
  },
  {
   "cell_type": "code",
   "execution_count": 8,
   "metadata": {},
   "outputs": [
    {
     "name": "stdout",
     "output_type": "stream",
     "text": [
      "annovar is already installed in /home/jupyter/tools/\n"
     ]
    }
   ],
   "source": [
    "%%bash\n",
    "\n",
    "# Install ANNOVAR:\n",
    "# https://www.openbioinformatics.org/annovar/annovar_download_form.php\n",
    "\n",
    "if test -e /home/jupyter/tools/annovar; then\n",
    "\n",
    "echo \"annovar is already installed in /home/jupyter/tools/\"\n",
    "else\n",
    "echo \"annovar is not installed\"\n",
    "cd /home/jupyter/tools/\n",
    "\n",
    "wget http://www.openbioinformatics.org/annovar/download/0wgxR2rIVP/annovar.latest.tar.gz\n",
    "\n",
    "tar xvfz annovar.latest.tar.gz\n",
    "\n",
    "fi"
   ]
  },
  {
   "cell_type": "code",
   "execution_count": 9,
   "metadata": {
    "scrolled": true
   },
   "outputs": [
    {
     "name": "stdout",
     "output_type": "stream",
     "text": [
      "annovar\n",
      "annovar.latest.tar.gz\n",
      "LICENSE\n",
      "plink\n",
      "plink2\n",
      "plink2_linux_avx2_20220603.zip\n",
      "plink_linux_x86_64_20190304.zip\n",
      "prettify\n",
      "toy.map\n",
      "toy.ped\n"
     ]
    }
   ],
   "source": [
    "%%bash\n",
    "ls /home/jupyter/tools/"
   ]
  },
  {
   "cell_type": "markdown",
   "metadata": {},
   "source": [
    "#### Install ANNOVAR: Download sources of annotation "
   ]
  },
  {
   "cell_type": "code",
   "execution_count": 10,
   "metadata": {
    "scrolled": true
   },
   "outputs": [
    {
     "name": "stderr",
     "output_type": "stream",
     "text": [
      "NOTICE: Web-based checking to see whether ANNOVAR new version is available ... Done\n",
      "NOTICE: Downloading annotation database http://www.openbioinformatics.org/annovar/download/hg38_refGene.txt.gz ... OK\n",
      "NOTICE: Downloading annotation database http://www.openbioinformatics.org/annovar/download/hg38_refGeneMrna.fa.gz ... OK\n",
      "NOTICE: Downloading annotation database http://www.openbioinformatics.org/annovar/download/hg38_refGeneVersion.txt.gz ... OK\n",
      "NOTICE: Uncompressing downloaded files\n",
      "NOTICE: Finished downloading annotation files for hg38 build version, with files saved at the 'humandb' directory\n",
      "NOTICE: Web-based checking to see whether ANNOVAR new version is available ... Done\n",
      "NOTICE: Downloading annotation database http://www.openbioinformatics.org/annovar/download/hg38_clinvar_20140902.txt.gz ... OK\n",
      "NOTICE: Downloading annotation database http://www.openbioinformatics.org/annovar/download/hg38_clinvar_20140902.txt.idx.gz ... OK\n",
      "NOTICE: Uncompressing downloaded files\n",
      "NOTICE: Finished downloading annotation files for hg38 build version, with files saved at the 'humandb' directory\n"
     ]
    }
   ],
   "source": [
    "%%bash\n",
    "\n",
    "cd /home/jupyter/tools/annovar/\n",
    "\n",
    "perl annotate_variation.pl -buildver hg38 -downdb -webfrom annovar refGene humandb/\n",
    "perl annotate_variation.pl -buildver hg38 -downdb -webfrom annovar clinvar_20140902 humandb/\n",
    "#perl annotate_variation.pl -buildver hg38 -downdb cytoBand humandb/\n",
    "#perl annotate_variation.pl -buildver hg38 -downdb -webfrom annovar ensGene humandb/\n",
    "#perl annotate_variation.pl -buildver hg38 -downdb -webfrom annovar exac03 humandb/ \n",
    "#perl annotate_variation.pl -buildver hg38 -downdb -webfrom annovar avsnp147 humandb/ \n",
    "#perl annotate_variation.pl -buildver hg38 -downdb -webfrom annovar dbnsfp30a humandb/\n",
    "#perl annotate_variation.pl -buildver hg38 -downdb -webfrom annovar gnomad211_genome humandb/\n",
    "#perl annotate_variation.pl -buildver hg38 -downdb -webfrom annovar ljb26_all humandb/"
   ]
  },
  {
   "cell_type": "code",
   "execution_count": 11,
   "metadata": {
    "scrolled": true
   },
   "outputs": [
    {
     "name": "stdout",
     "output_type": "stream",
     "text": [
      "annotate_variation.pl\n",
      "coding_change.pl\n",
      "convert2annovar.pl\n",
      "example\n",
      "humandb\n",
      "retrieve_seq_from_fasta.pl\n",
      "table_annovar.pl\n",
      "variants_reduction.pl\n"
     ]
    }
   ],
   "source": [
    "%%bash\n",
    "ls /home/jupyter/tools/annovar/"
   ]
  },
  {
   "cell_type": "markdown",
   "metadata": {},
   "source": [
    "## CAS"
   ]
  },
  {
   "cell_type": "markdown",
   "metadata": {},
   "source": [
    "## Copy data from GP2 bucket to workspace (GP2 Release 5 data)"
   ]
  },
  {
   "cell_type": "code",
   "execution_count": 12,
   "metadata": {
    "scrolled": false
   },
   "outputs": [
    {
     "name": "stdout",
     "output_type": "stream",
     "text": [
      "Making a working directory\n"
     ]
    },
    {
     "name": "stderr",
     "output_type": "stream",
     "text": [
      "Executing: mkdir -p /home/jupyter/SH3GL2_GP2/\n"
     ]
    }
   ],
   "source": [
    "# Make a directory\n",
    "print(\"Making a working directory\")\n",
    "WORK_DIR = f'/home/jupyter/SH3GL2_GP2/'\n",
    "shell_do(f'mkdir -p {WORK_DIR}') # f' means f-string - contains expressions to execute the code"
   ]
  },
  {
   "cell_type": "code",
   "execution_count": 13,
   "metadata": {
    "scrolled": true
   },
   "outputs": [
    {
     "name": "stderr",
     "output_type": "stream",
     "text": [
      "Executing: gsutil -u terra-18d8e41c ls gs://gp2tier2/release5_11052023/imputed_genotypes\n"
     ]
    },
    {
     "name": "stdout",
     "output_type": "stream",
     "text": [
      "gs://gp2tier2/release5_11052023/imputed_genotypes/AAC/\r\n",
      "gs://gp2tier2/release5_11052023/imputed_genotypes/AFR/\r\n",
      "gs://gp2tier2/release5_11052023/imputed_genotypes/AJ/\r\n",
      "gs://gp2tier2/release5_11052023/imputed_genotypes/AMR/\r\n",
      "gs://gp2tier2/release5_11052023/imputed_genotypes/CAS/\r\n",
      "gs://gp2tier2/release5_11052023/imputed_genotypes/EAS/\r\n",
      "gs://gp2tier2/release5_11052023/imputed_genotypes/EUR/\r\n",
      "gs://gp2tier2/release5_11052023/imputed_genotypes/FIN/\r\n",
      "gs://gp2tier2/release5_11052023/imputed_genotypes/MDE/\r\n",
      "gs://gp2tier2/release5_11052023/imputed_genotypes/SAS/\r\n"
     ]
    }
   ],
   "source": [
    "# Check directory where GP2 data is\n",
    "shell_do(f'gsutil -u {BILLING_PROJECT_ID} ls {GP2_IMPUTED_GENO_PATH}')"
   ]
  },
  {
   "cell_type": "code",
   "execution_count": 14,
   "metadata": {
    "scrolled": true
   },
   "outputs": [
    {
     "name": "stderr",
     "output_type": "stream",
     "text": [
      "Executing: gsutil -u terra-18d8e41c -m cp -r gs://gp2tier2/release5_11052023/imputed_genotypes/CAS/chr9* /home/jupyter/SH3GL2_GP2/\n"
     ]
    },
    {
     "name": "stdout",
     "output_type": "stream",
     "text": [
      "Copying gs://gp2tier2/release5_11052023/imputed_genotypes/CAS/chr9_CAS_release5.psam...\n",
      "Copying gs://gp2tier2/release5_11052023/imputed_genotypes/CAS/chr9_CAS_release5.pgen...\n",
      "Copying gs://gp2tier2/release5_11052023/imputed_genotypes/CAS/chr9_CAS_release5.pvar...\n",
      "Copying gs://gp2tier2/release5_11052023/imputed_genotypes/CAS/chr9_CAS_release5.log...\n",
      "/ [4/4 files][297.9 MiB/297.9 MiB] 100% Done                                    \n",
      "Operation completed over 4 objects/297.9 MiB.                                    \n"
     ]
    }
   ],
   "source": [
    "shell_do(f'gsutil -u {BILLING_PROJECT_ID} -m cp -r {GP2_IMPUTED_GENO_PATH}/CAS/chr9* {WORK_DIR}')"
   ]
  },
  {
   "cell_type": "markdown",
   "metadata": {},
   "source": [
    "### Create a covariate file with GP2 data"
   ]
  },
  {
   "cell_type": "code",
   "execution_count": 15,
   "metadata": {
    "scrolled": false
   },
   "outputs": [
    {
     "name": "stderr",
     "output_type": "stream",
     "text": [
      "Executing: gsutil -u terra-18d8e41c ls gs://gp2tier2/release5_11052023/clinical_data\n"
     ]
    },
    {
     "name": "stdout",
     "output_type": "stream",
     "text": [
      "gs://gp2tier2/release5_11052023/clinical_data/master_key_release5_final.csv\r\n",
      "gs://gp2tier2/release5_11052023/clinical_data/release5_data_dictionary.csv\r\n"
     ]
    },
    {
     "name": "stderr",
     "output_type": "stream",
     "text": [
      "Executing: gsutil -u terra-18d8e41c -m cp -r gs://gp2tier2/release5_11052023/clinical_data/master_key_release5_final.csv /home/jupyter/SH3GL2_GP2/\n"
     ]
    },
    {
     "name": "stdout",
     "output_type": "stream",
     "text": [
      "Copying gs://gp2tier2/release5_11052023/clinical_data/master_key_release5_final.csv...\n",
      "/ [1/1 files][  2.5 MiB/  2.5 MiB] 100% Done                                    \n",
      "Operation completed over 1 objects/2.5 MiB.                                      \n"
     ]
    }
   ],
   "source": [
    "shell_do(f'gsutil -u {BILLING_PROJECT_ID} ls {GP2_CLINICAL_RELEASE_PATH}')\n",
    "shell_do(f'gsutil -u {BILLING_PROJECT_ID} -m cp -r {GP2_CLINICAL_RELEASE_PATH}/master_key_release5_final.csv {WORK_DIR}')"
   ]
  },
  {
   "cell_type": "code",
   "execution_count": 16,
   "metadata": {
    "scrolled": false
   },
   "outputs": [
    {
     "data": {
      "text/plain": [
       "Index(['GP2ID', 'GP2sampleID', 'manifest_id', 'phenotype', 'pheno_for_qc',\n",
       "       'other_pheno', 'sex_for_qc', 'age', 'age_of_onset', 'age_at_diagnosis',\n",
       "       'age_at_death', 'race_for_qc', 'family_history', 'region_for_qc',\n",
       "       'study', 'pruned', 'pruned_reason', 'label', 'related'],\n",
       "      dtype='object')"
      ]
     },
     "execution_count": 16,
     "metadata": {},
     "output_type": "execute_result"
    }
   ],
   "source": [
    "cov = pd.read_csv(f'{WORK_DIR}/master_key_release5_final.csv')\n",
    "cov.columns"
   ]
  },
  {
   "cell_type": "code",
   "execution_count": 17,
   "metadata": {
    "scrolled": false
   },
   "outputs": [
    {
     "data": {
      "text/html": [
       "<div>\n",
       "<style scoped>\n",
       "    .dataframe tbody tr th:only-of-type {\n",
       "        vertical-align: middle;\n",
       "    }\n",
       "\n",
       "    .dataframe tbody tr th {\n",
       "        vertical-align: top;\n",
       "    }\n",
       "\n",
       "    .dataframe thead th {\n",
       "        text-align: right;\n",
       "    }\n",
       "</style>\n",
       "<table border=\"1\" class=\"dataframe\">\n",
       "  <thead>\n",
       "    <tr style=\"text-align: right;\">\n",
       "      <th></th>\n",
       "      <th>FID</th>\n",
       "      <th>IID</th>\n",
       "      <th>SEX</th>\n",
       "      <th>AGE</th>\n",
       "      <th>PHENO</th>\n",
       "    </tr>\n",
       "  </thead>\n",
       "  <tbody>\n",
       "    <tr>\n",
       "      <th>0</th>\n",
       "      <td>IMMUNEPD_000001_s1</td>\n",
       "      <td>IMMUNEPD_000001_s1</td>\n",
       "      <td>1</td>\n",
       "      <td>61.0</td>\n",
       "      <td>PD</td>\n",
       "    </tr>\n",
       "    <tr>\n",
       "      <th>1</th>\n",
       "      <td>IMMUNEPD_000002_s1</td>\n",
       "      <td>IMMUNEPD_000002_s1</td>\n",
       "      <td>1</td>\n",
       "      <td>66.0</td>\n",
       "      <td>PD</td>\n",
       "    </tr>\n",
       "    <tr>\n",
       "      <th>2</th>\n",
       "      <td>IMMUNEPD_000003_s1</td>\n",
       "      <td>IMMUNEPD_000003_s1</td>\n",
       "      <td>2</td>\n",
       "      <td>55.0</td>\n",
       "      <td>Control</td>\n",
       "    </tr>\n",
       "    <tr>\n",
       "      <th>3</th>\n",
       "      <td>IMMUNEPD_000004_s1</td>\n",
       "      <td>IMMUNEPD_000004_s1</td>\n",
       "      <td>1</td>\n",
       "      <td>50.0</td>\n",
       "      <td>Control</td>\n",
       "    </tr>\n",
       "    <tr>\n",
       "      <th>4</th>\n",
       "      <td>IMMUNEPD_000005_s1</td>\n",
       "      <td>IMMUNEPD_000005_s1</td>\n",
       "      <td>2</td>\n",
       "      <td>74.0</td>\n",
       "      <td>Control</td>\n",
       "    </tr>\n",
       "    <tr>\n",
       "      <th>...</th>\n",
       "      <td>...</td>\n",
       "      <td>...</td>\n",
       "      <td>...</td>\n",
       "      <td>...</td>\n",
       "      <td>...</td>\n",
       "    </tr>\n",
       "    <tr>\n",
       "      <th>26723</th>\n",
       "      <td>MDGAP-EBB_000149_s1</td>\n",
       "      <td>MDGAP-EBB_000149_s1</td>\n",
       "      <td>1</td>\n",
       "      <td>NaN</td>\n",
       "      <td>Control</td>\n",
       "    </tr>\n",
       "    <tr>\n",
       "      <th>26724</th>\n",
       "      <td>MDGAP-EBB_000150_s1</td>\n",
       "      <td>MDGAP-EBB_000150_s1</td>\n",
       "      <td>2</td>\n",
       "      <td>NaN</td>\n",
       "      <td>Control</td>\n",
       "    </tr>\n",
       "    <tr>\n",
       "      <th>26725</th>\n",
       "      <td>MDGAP-EBB_000151_s1</td>\n",
       "      <td>MDGAP-EBB_000151_s1</td>\n",
       "      <td>1</td>\n",
       "      <td>NaN</td>\n",
       "      <td>Control</td>\n",
       "    </tr>\n",
       "    <tr>\n",
       "      <th>26726</th>\n",
       "      <td>MDGAP-EBB_000152_s1</td>\n",
       "      <td>MDGAP-EBB_000152_s1</td>\n",
       "      <td>2</td>\n",
       "      <td>NaN</td>\n",
       "      <td>Control</td>\n",
       "    </tr>\n",
       "    <tr>\n",
       "      <th>26727</th>\n",
       "      <td>MDGAP-EBB_000153_s1</td>\n",
       "      <td>MDGAP-EBB_000153_s1</td>\n",
       "      <td>1</td>\n",
       "      <td>NaN</td>\n",
       "      <td>Control</td>\n",
       "    </tr>\n",
       "  </tbody>\n",
       "</table>\n",
       "<p>26728 rows × 5 columns</p>\n",
       "</div>"
      ],
      "text/plain": [
       "                       FID                  IID  SEX   AGE    PHENO\n",
       "0       IMMUNEPD_000001_s1   IMMUNEPD_000001_s1    1  61.0       PD\n",
       "1       IMMUNEPD_000002_s1   IMMUNEPD_000002_s1    1  66.0       PD\n",
       "2       IMMUNEPD_000003_s1   IMMUNEPD_000003_s1    2  55.0  Control\n",
       "3       IMMUNEPD_000004_s1   IMMUNEPD_000004_s1    1  50.0  Control\n",
       "4       IMMUNEPD_000005_s1   IMMUNEPD_000005_s1    2  74.0  Control\n",
       "...                    ...                  ...  ...   ...      ...\n",
       "26723  MDGAP-EBB_000149_s1  MDGAP-EBB_000149_s1    1   NaN  Control\n",
       "26724  MDGAP-EBB_000150_s1  MDGAP-EBB_000150_s1    2   NaN  Control\n",
       "26725  MDGAP-EBB_000151_s1  MDGAP-EBB_000151_s1    1   NaN  Control\n",
       "26726  MDGAP-EBB_000152_s1  MDGAP-EBB_000152_s1    2   NaN  Control\n",
       "26727  MDGAP-EBB_000153_s1  MDGAP-EBB_000153_s1    1   NaN  Control\n",
       "\n",
       "[26728 rows x 5 columns]"
      ]
     },
     "execution_count": 17,
     "metadata": {},
     "output_type": "execute_result"
    }
   ],
   "source": [
    "cov_reduced = cov[['GP2sampleID','GP2sampleID','sex_for_qc', 'age', 'phenotype']]\n",
    "cov_reduced.columns = ['FID','IID', 'SEX','AGE','PHENO']\n",
    "cov_reduced"
   ]
  },
  {
   "cell_type": "code",
   "execution_count": 18,
   "metadata": {},
   "outputs": [],
   "source": [
    "conditions = [\n",
    "    (cov_reduced['PHENO'] == \"PD\"),\n",
    "    (cov_reduced['PHENO'] == \"Control\")]"
   ]
  },
  {
   "cell_type": "code",
   "execution_count": 19,
   "metadata": {
    "scrolled": true
   },
   "outputs": [
    {
     "name": "stderr",
     "output_type": "stream",
     "text": [
      "/opt/conda/lib/python3.7/site-packages/ipykernel_launcher.py:2: SettingWithCopyWarning: \n",
      "A value is trying to be set on a copy of a slice from a DataFrame.\n",
      "Try using .loc[row_indexer,col_indexer] = value instead\n",
      "\n",
      "See the caveats in the documentation: https://pandas.pydata.org/pandas-docs/stable/user_guide/indexing.html#returning-a-view-versus-a-copy\n",
      "  \n"
     ]
    }
   ],
   "source": [
    "choices = [2,1]\n",
    "cov_reduced['PHENOTYPE'] = np.select(conditions, choices, default=-9).astype(np.int64)"
   ]
  },
  {
   "cell_type": "code",
   "execution_count": 20,
   "metadata": {
    "scrolled": false
   },
   "outputs": [
    {
     "name": "stderr",
     "output_type": "stream",
     "text": [
      "/opt/conda/lib/python3.7/site-packages/pandas/core/frame.py:4913: SettingWithCopyWarning: \n",
      "A value is trying to be set on a copy of a slice from a DataFrame\n",
      "\n",
      "See the caveats in the documentation: https://pandas.pydata.org/pandas-docs/stable/user_guide/indexing.html#returning-a-view-versus-a-copy\n",
      "  errors=errors,\n"
     ]
    }
   ],
   "source": [
    "cov_reduced.reset_index(inplace=True)\n",
    "cov_reduced.drop(columns=[\"index\"], inplace=True)"
   ]
  },
  {
   "cell_type": "code",
   "execution_count": 21,
   "metadata": {},
   "outputs": [],
   "source": [
    "cov_reduced.drop(columns=['PHENO'], inplace=True)"
   ]
  },
  {
   "cell_type": "code",
   "execution_count": 22,
   "metadata": {},
   "outputs": [
    {
     "data": {
      "text/html": [
       "<div>\n",
       "<style scoped>\n",
       "    .dataframe tbody tr th:only-of-type {\n",
       "        vertical-align: middle;\n",
       "    }\n",
       "\n",
       "    .dataframe tbody tr th {\n",
       "        vertical-align: top;\n",
       "    }\n",
       "\n",
       "    .dataframe thead th {\n",
       "        text-align: right;\n",
       "    }\n",
       "</style>\n",
       "<table border=\"1\" class=\"dataframe\">\n",
       "  <thead>\n",
       "    <tr style=\"text-align: right;\">\n",
       "      <th></th>\n",
       "      <th>FID</th>\n",
       "      <th>IID</th>\n",
       "      <th>SEX</th>\n",
       "    </tr>\n",
       "  </thead>\n",
       "  <tbody>\n",
       "    <tr>\n",
       "      <th>0</th>\n",
       "      <td>IMMUNEPD_000001_s1</td>\n",
       "      <td>IMMUNEPD_000001_s1</td>\n",
       "      <td>1</td>\n",
       "    </tr>\n",
       "    <tr>\n",
       "      <th>1</th>\n",
       "      <td>IMMUNEPD_000002_s1</td>\n",
       "      <td>IMMUNEPD_000002_s1</td>\n",
       "      <td>1</td>\n",
       "    </tr>\n",
       "    <tr>\n",
       "      <th>2</th>\n",
       "      <td>IMMUNEPD_000003_s1</td>\n",
       "      <td>IMMUNEPD_000003_s1</td>\n",
       "      <td>2</td>\n",
       "    </tr>\n",
       "    <tr>\n",
       "      <th>3</th>\n",
       "      <td>IMMUNEPD_000004_s1</td>\n",
       "      <td>IMMUNEPD_000004_s1</td>\n",
       "      <td>1</td>\n",
       "    </tr>\n",
       "    <tr>\n",
       "      <th>4</th>\n",
       "      <td>IMMUNEPD_000005_s1</td>\n",
       "      <td>IMMUNEPD_000005_s1</td>\n",
       "      <td>2</td>\n",
       "    </tr>\n",
       "    <tr>\n",
       "      <th>...</th>\n",
       "      <td>...</td>\n",
       "      <td>...</td>\n",
       "      <td>...</td>\n",
       "    </tr>\n",
       "    <tr>\n",
       "      <th>26723</th>\n",
       "      <td>MDGAP-EBB_000149_s1</td>\n",
       "      <td>MDGAP-EBB_000149_s1</td>\n",
       "      <td>1</td>\n",
       "    </tr>\n",
       "    <tr>\n",
       "      <th>26724</th>\n",
       "      <td>MDGAP-EBB_000150_s1</td>\n",
       "      <td>MDGAP-EBB_000150_s1</td>\n",
       "      <td>2</td>\n",
       "    </tr>\n",
       "    <tr>\n",
       "      <th>26725</th>\n",
       "      <td>MDGAP-EBB_000151_s1</td>\n",
       "      <td>MDGAP-EBB_000151_s1</td>\n",
       "      <td>1</td>\n",
       "    </tr>\n",
       "    <tr>\n",
       "      <th>26726</th>\n",
       "      <td>MDGAP-EBB_000152_s1</td>\n",
       "      <td>MDGAP-EBB_000152_s1</td>\n",
       "      <td>2</td>\n",
       "    </tr>\n",
       "    <tr>\n",
       "      <th>26727</th>\n",
       "      <td>MDGAP-EBB_000153_s1</td>\n",
       "      <td>MDGAP-EBB_000153_s1</td>\n",
       "      <td>1</td>\n",
       "    </tr>\n",
       "  </tbody>\n",
       "</table>\n",
       "<p>26728 rows × 3 columns</p>\n",
       "</div>"
      ],
      "text/plain": [
       "                       FID                  IID  SEX\n",
       "0       IMMUNEPD_000001_s1   IMMUNEPD_000001_s1    1\n",
       "1       IMMUNEPD_000002_s1   IMMUNEPD_000002_s1    1\n",
       "2       IMMUNEPD_000003_s1   IMMUNEPD_000003_s1    2\n",
       "3       IMMUNEPD_000004_s1   IMMUNEPD_000004_s1    1\n",
       "4       IMMUNEPD_000005_s1   IMMUNEPD_000005_s1    2\n",
       "...                    ...                  ...  ...\n",
       "26723  MDGAP-EBB_000149_s1  MDGAP-EBB_000149_s1    1\n",
       "26724  MDGAP-EBB_000150_s1  MDGAP-EBB_000150_s1    2\n",
       "26725  MDGAP-EBB_000151_s1  MDGAP-EBB_000151_s1    1\n",
       "26726  MDGAP-EBB_000152_s1  MDGAP-EBB_000152_s1    2\n",
       "26727  MDGAP-EBB_000153_s1  MDGAP-EBB_000153_s1    1\n",
       "\n",
       "[26728 rows x 3 columns]"
      ]
     },
     "execution_count": 22,
     "metadata": {},
     "output_type": "execute_result"
    }
   ],
   "source": [
    "sex = cov_reduced[['FID','IID','SEX']]\n",
    "sex.to_csv(f'{WORK_DIR}/SEX.txt',index=False, sep=\"\\t\")\n",
    "sex"
   ]
  },
  {
   "cell_type": "code",
   "execution_count": 23,
   "metadata": {},
   "outputs": [
    {
     "data": {
      "text/html": [
       "<div>\n",
       "<style scoped>\n",
       "    .dataframe tbody tr th:only-of-type {\n",
       "        vertical-align: middle;\n",
       "    }\n",
       "\n",
       "    .dataframe tbody tr th {\n",
       "        vertical-align: top;\n",
       "    }\n",
       "\n",
       "    .dataframe thead th {\n",
       "        text-align: right;\n",
       "    }\n",
       "</style>\n",
       "<table border=\"1\" class=\"dataframe\">\n",
       "  <thead>\n",
       "    <tr style=\"text-align: right;\">\n",
       "      <th></th>\n",
       "      <th>FID</th>\n",
       "      <th>IID</th>\n",
       "      <th>PHENOTYPE</th>\n",
       "    </tr>\n",
       "  </thead>\n",
       "  <tbody>\n",
       "    <tr>\n",
       "      <th>0</th>\n",
       "      <td>IMMUNEPD_000001_s1</td>\n",
       "      <td>IMMUNEPD_000001_s1</td>\n",
       "      <td>2</td>\n",
       "    </tr>\n",
       "    <tr>\n",
       "      <th>1</th>\n",
       "      <td>IMMUNEPD_000002_s1</td>\n",
       "      <td>IMMUNEPD_000002_s1</td>\n",
       "      <td>2</td>\n",
       "    </tr>\n",
       "    <tr>\n",
       "      <th>2</th>\n",
       "      <td>IMMUNEPD_000003_s1</td>\n",
       "      <td>IMMUNEPD_000003_s1</td>\n",
       "      <td>1</td>\n",
       "    </tr>\n",
       "    <tr>\n",
       "      <th>3</th>\n",
       "      <td>IMMUNEPD_000004_s1</td>\n",
       "      <td>IMMUNEPD_000004_s1</td>\n",
       "      <td>1</td>\n",
       "    </tr>\n",
       "    <tr>\n",
       "      <th>4</th>\n",
       "      <td>IMMUNEPD_000005_s1</td>\n",
       "      <td>IMMUNEPD_000005_s1</td>\n",
       "      <td>1</td>\n",
       "    </tr>\n",
       "    <tr>\n",
       "      <th>...</th>\n",
       "      <td>...</td>\n",
       "      <td>...</td>\n",
       "      <td>...</td>\n",
       "    </tr>\n",
       "    <tr>\n",
       "      <th>26723</th>\n",
       "      <td>MDGAP-EBB_000149_s1</td>\n",
       "      <td>MDGAP-EBB_000149_s1</td>\n",
       "      <td>1</td>\n",
       "    </tr>\n",
       "    <tr>\n",
       "      <th>26724</th>\n",
       "      <td>MDGAP-EBB_000150_s1</td>\n",
       "      <td>MDGAP-EBB_000150_s1</td>\n",
       "      <td>1</td>\n",
       "    </tr>\n",
       "    <tr>\n",
       "      <th>26725</th>\n",
       "      <td>MDGAP-EBB_000151_s1</td>\n",
       "      <td>MDGAP-EBB_000151_s1</td>\n",
       "      <td>1</td>\n",
       "    </tr>\n",
       "    <tr>\n",
       "      <th>26726</th>\n",
       "      <td>MDGAP-EBB_000152_s1</td>\n",
       "      <td>MDGAP-EBB_000152_s1</td>\n",
       "      <td>1</td>\n",
       "    </tr>\n",
       "    <tr>\n",
       "      <th>26727</th>\n",
       "      <td>MDGAP-EBB_000153_s1</td>\n",
       "      <td>MDGAP-EBB_000153_s1</td>\n",
       "      <td>1</td>\n",
       "    </tr>\n",
       "  </tbody>\n",
       "</table>\n",
       "<p>26728 rows × 3 columns</p>\n",
       "</div>"
      ],
      "text/plain": [
       "                       FID                  IID  PHENOTYPE\n",
       "0       IMMUNEPD_000001_s1   IMMUNEPD_000001_s1          2\n",
       "1       IMMUNEPD_000002_s1   IMMUNEPD_000002_s1          2\n",
       "2       IMMUNEPD_000003_s1   IMMUNEPD_000003_s1          1\n",
       "3       IMMUNEPD_000004_s1   IMMUNEPD_000004_s1          1\n",
       "4       IMMUNEPD_000005_s1   IMMUNEPD_000005_s1          1\n",
       "...                    ...                  ...        ...\n",
       "26723  MDGAP-EBB_000149_s1  MDGAP-EBB_000149_s1          1\n",
       "26724  MDGAP-EBB_000150_s1  MDGAP-EBB_000150_s1          1\n",
       "26725  MDGAP-EBB_000151_s1  MDGAP-EBB_000151_s1          1\n",
       "26726  MDGAP-EBB_000152_s1  MDGAP-EBB_000152_s1          1\n",
       "26727  MDGAP-EBB_000153_s1  MDGAP-EBB_000153_s1          1\n",
       "\n",
       "[26728 rows x 3 columns]"
      ]
     },
     "execution_count": 23,
     "metadata": {},
     "output_type": "execute_result"
    }
   ],
   "source": [
    "pheno = cov_reduced[['FID','IID','PHENOTYPE']]\n",
    "pheno.to_csv(f'{WORK_DIR}/PHENO.txt',index=False, sep=\"\\t\")\n",
    "pheno"
   ]
  },
  {
   "cell_type": "markdown",
   "metadata": {},
   "source": [
    "## Extract SH3GL2"
   ]
  },
  {
   "cell_type": "code",
   "execution_count": 24,
   "metadata": {
    "scrolled": false
   },
   "outputs": [
    {
     "name": "stdout",
     "output_type": "stream",
     "text": [
      "PLINK v2.00a3.3LM AVX2 Intel (3 Jun 2022)      www.cog-genomics.org/plink/2.0/\n",
      "(C) 2005-2022 Shaun Purcell, Christopher Chang   GNU General Public License v3\n",
      "Logging to pheno_SH3GL2_CAS.log.\n",
      "Options in effect:\n",
      "  --chr 9\n",
      "  --from-bp 17579066\n",
      "  --make-bed\n",
      "  --out pheno_SH3GL2_CAS\n",
      "  --pfile chr9_CAS_release5\n",
      "  --to-bp 17797124\n",
      "\n",
      "Start time: Mon Jul 10 07:38:30 2023\n",
      "7450 MiB RAM detected; reserving 3725 MiB for main workspace.\n",
      "Using up to 2 compute threads.\n",
      "478 samples (269 females, 209 males; 478 founders) loaded from\n",
      "chr9_CAS_release5.psam.\n",
      "450061 variants loaded from chr9_CAS_release5.pvar.\n",
      "1 binary phenotype loaded (195 cases, 279 controls).\n",
      "1262 variants remaining after main filters.\n",
      "Writing pheno_SH3GL2_CAS.fam ... done.\n",
      "Writing pheno_SH3GL2_CAS.bim ... done.\n",
      "Writing pheno_SH3GL2_CAS.bed ... 0%\b\bdone.\n",
      "End time: Mon Jul 10 07:38:30 2023\n"
     ]
    }
   ],
   "source": [
    "%%bash\n",
    "\n",
    "WORK_DIR='/home/jupyter/SH3GL2_GP2/'\n",
    "cd $WORK_DIR\n",
    "\n",
    "# SH3GL2: gene positions on hg38 (from https://useast.ensembl.org/index.html)\n",
    "/home/jupyter/tools/plink2 \\\n",
    "--pfile chr9_CAS_release5 \\\n",
    "--chr 9 \\\n",
    "--from-bp 17579066  \\\n",
    "--to-bp 17797124 \\\n",
    "--make-bed \\\n",
    "--out pheno_SH3GL2_CAS"
   ]
  },
  {
   "cell_type": "markdown",
   "metadata": {},
   "source": [
    "### Visualize plink files bim, fam and bed"
   ]
  },
  {
   "cell_type": "code",
   "execution_count": 25,
   "metadata": {
    "scrolled": true
   },
   "outputs": [
    {
     "name": "stdout",
     "output_type": "stream",
     "text": [
      "9\tchr9:17579165:C:T\t0\t17579165\tT\tC\n",
      "9\tchr9:17579372:T:C\t0\t17579372\tC\tT\n",
      "9\tchr9:17579621:T:C\t0\t17579621\tC\tT\n",
      "9\tchr9:17579692:T:G\t0\t17579692\tG\tT\n",
      "9\tchr9:17579727:T:C\t0\t17579727\tC\tT\n",
      "9\tchr9:17579763:C:T\t0\t17579763\tT\tC\n",
      "9\tchr9:17579765:C:G\t0\t17579765\tG\tC\n",
      "9\tchr9:17579844:A:C\t0\t17579844\tC\tA\n",
      "9\tchr9:17580008:T:C\t0\t17580008\tC\tT\n",
      "9\tchr9:17580153:C:T\t0\t17580153\tT\tC\n"
     ]
    }
   ],
   "source": [
    "%%bash\n",
    "\n",
    "# Visualize bim file\n",
    "WORK_DIR='/home/jupyter/SH3GL2_GP2/'\n",
    "cd $WORK_DIR\n",
    "\n",
    "head pheno_SH3GL2_CAS.bim"
   ]
  },
  {
   "cell_type": "code",
   "execution_count": 26,
   "metadata": {},
   "outputs": [
    {
     "name": "stdout",
     "output_type": "stream",
     "text": [
      "0\tAPGS_000114_s1\t0\t0\t1\t2\n",
      "0\tAPGS_000386_s1\t0\t0\t2\t2\n",
      "0\tAPGS_000443_s1\t0\t0\t1\t2\n",
      "0\tAPGS_000851_s1\t0\t0\t1\t2\n",
      "0\tAPGS_001048_s1\t0\t0\t2\t2\n",
      "0\tAPGS_001135_s1\t0\t0\t1\t2\n",
      "0\tAPGS_001259_s1\t0\t0\t1\t2\n",
      "0\tAPGS_001290_s1\t0\t0\t1\t2\n",
      "0\tBBDP_000539_s1\t0\t0\t1\t1\n",
      "0\tBCM_000079_s1\t0\t0\t1\t2\n"
     ]
    }
   ],
   "source": [
    "%%bash\n",
    "\n",
    "# Visualize fam file\n",
    "WORK_DIR='/home/jupyter/SH3GL2_GP2/'\n",
    "cd $WORK_DIR\n",
    "\n",
    "head pheno_SH3GL2_CAS.fam"
   ]
  },
  {
   "cell_type": "code",
   "execution_count": 27,
   "metadata": {},
   "outputs": [
    {
     "name": "stdout",
     "output_type": "stream",
     "text": [
      "l\u001b\u0001�����������������������������������������������������������������������������������������������������������������������\u000f\n",
      "\f",
      "�\u0000�\b.\u0000\u001e",
      "�\u0000����;���8�������+\n",
      "�|��>H\"��\"\u0018�o�2�s$ \u0002\u0000�$\u0002�\u0000�\u0000 8\b �\u0007\n",
      "\b ��\u0007\u0002�  \u0010\b\u0000�\u0002 �\u0018\b��\u0002\u0000\u000b",
      "(\n",
      "\u0000!\u0006,j  \u0002h� \u0000�0)��\b ��\u0002���\u0000̨\u0000�\u0000�����������������������������������������������������������������������������������������������������������������������\u000f \u0000\"����(�������#�������먰���ꬪ(��?��#�#J�>�<\"\u0002�ꊺ\n",
      "ꢠ\n",
      "���#�\u000b",
      "\u000b",
      "�#:,\n",
      "�Έ+�=�\u0000���\u001b2�����\"�ʲ��,��\u000b",
      "��\"���\n",
      "�+���2\"2��/�.\u000b",
      "����������������������������������������������������������������������������������������������������������������������\u000f���{������������������������ｾ�{�������������������������������������������������������������������������������o��\u000f���\n",
      "���뿨�/��������%�+�\"��뿮�m��z6��{���.*���*�����(����:�����2��ê���;�η�;.:�:�-�\u0003������,䈫+��Π���\b�����������������������������������������������������������������������������������������������������������������������\u000f�������������������������������������������������������������������������������������������������������������������\u000f����������������������������������������������������������������������������������������������������������������������\u000f����������������{��������������������������������������������������������������������~�������{���������������\u000f�����������������������������������������������������������������������������_���������������������������w�������\u0007���\n"
     ]
    }
   ],
   "source": [
    "%%bash\n",
    "\n",
    "# Visualize bed file\n",
    "WORK_DIR='/home/jupyter/SH3GL2_GP2/'\n",
    "cd $WORK_DIR\n",
    "\n",
    "head pheno_SH3GL2_CAS.bed"
   ]
  },
  {
   "cell_type": "code",
   "execution_count": 28,
   "metadata": {},
   "outputs": [
    {
     "name": "stdout",
     "output_type": "stream",
     "text": [
      "PLINK v1.90b6.9 64-bit (4 Mar 2019)            www.cog-genomics.org/plink/1.9/\n",
      "(C) 2005-2019 Shaun Purcell, Christopher Chang   GNU General Public License v3\n",
      "Logging to pheno_SH3GL2_CAS.log.\n",
      "Options in effect:\n",
      "  --bfile pheno_SH3GL2_CAS\n",
      "  --out pheno_SH3GL2_CAS\n",
      "  --recode vcf-fid\n",
      "\n",
      "7450 MB RAM detected; reserving 3725 MB for main workspace.\n",
      "1262 variants loaded from .bim file.\n",
      "478 people (209 males, 269 females) loaded from .fam.\n",
      "474 phenotype values loaded from .fam.\n",
      "Using 1 thread (no multithreaded calculations invoked).\n",
      "Before main variant filters, 478 founders and 0 nonfounders present.\n",
      "Calculating allele frequencies... 0%\b\b1%\b\b2%\b\b3%\b\b4%\b\b5%\b\b6%\b\b7%\b\b8%\b\b9%\b\b10%\b\b\b11%\b\b\b12%\b\b\b13%\b\b\b14%\b\b\b15%\b\b\b16%\b\b\b17%\b\b\b18%\b\b\b19%\b\b\b20%\b\b\b21%\b\b\b22%\b\b\b23%\b\b\b24%\b\b\b25%\b\b\b26%\b\b\b27%\b\b\b28%\b\b\b29%\b\b\b30%\b\b\b31%\b\b\b32%\b\b\b33%\b\b\b34%\b\b\b35%\b\b\b36%\b\b\b37%\b\b\b38%\b\b\b39%\b\b\b40%\b\b\b41%\b\b\b42%\b\b\b43%\b\b\b44%\b\b\b45%\b\b\b46%\b\b\b47%\b\b\b48%\b\b\b49%\b\b\b50%\b\b\b51%\b\b\b52%\b\b\b53%\b\b\b54%\b\b\b55%\b\b\b56%\b\b\b57%\b\b\b58%\b\b\b59%\b\b\b60%\b\b\b61%\b\b\b62%\b\b\b63%\b\b\b64%\b\b\b65%\b\b\b66%\b\b\b67%\b\b\b68%\b\b\b69%\b\b\b70%\b\b\b71%\b\b\b72%\b\b\b73%\b\b\b74%\b\b\b75%\b\b\b76%\b\b\b77%\b\b\b78%\b\b\b79%\b\b\b80%\b\b\b81%\b\b\b82%\b\b\b83%\b\b\b84%\b\b\b85%\b\b\b86%\b\b\b87%\b\b\b88%\b\b\b89%\b\b\b90%\b\b\b91%\b\b\b92%\b\b\b93%\b\b\b94%\b\b\b95%\b\b\b96%\b\b\b97%\b\b\b98%\b\b\b99%\b\b\b\b done.\n",
      "Total genotyping rate is 0.98185.\n",
      "1262 variants and 478 people pass filters and QC.\n",
      "Among remaining phenotypes, 195 are cases and 279 are controls.  (4 phenotypes\n",
      "are missing.)\n",
      "--recode vcf-fid to pheno_SH3GL2_CAS.vcf ... 0%\b\b1%\b\b2%\b\b3%\b\b4%\b\b5%\b\b6%\b\b7%\b\b8%\b\b9%\b\b10%\b\b\b11%\b\b\b12%\b\b\b13%\b\b\b14%\b\b\b15%\b\b\b16%\b\b\b17%\b\b\b18%\b\b\b19%\b\b\b20%\b\b\b21%\b\b\b22%\b\b\b23%\b\b\b24%\b\b\b25%\b\b\b26%\b\b\b27%\b\b\b28%\b\b\b29%\b\b\b30%\b\b\b31%\b\b\b32%\b\b\b33%\b\b\b34%\b\b\b35%\b\b\b36%\b\b\b37%\b\b\b38%\b\b\b39%\b\b\b40%\b\b\b41%\b\b\b42%\b\b\b43%\b\b\b44%\b\b\b45%\b\b\b46%\b\b\b47%\b\b\b48%\b\b\b49%\b\b\b50%\b\b\b51%\b\b\b52%\b\b\b53%\b\b\b54%\b\b\b55%\b\b\b56%\b\b\b57%\b\b\b58%\b\b\b59%\b\b\b60%\b\b\b61%\b\b\b62%\b\b\b63%\b\b\b64%\b\b\b65%\b\b\b66%\b\b\b67%\b\b\b68%\b\b\b69%\b\b\b70%\b\b\b71%\b\b\b72%\b\b\b73%\b\b\b74%\b\b\b75%\b\b\b76%\b\b\b77%\b\b\b78%\b\b\b79%\b\b\b80%\b\b\b81%\b\b\b82%\b\b\b83%\b\b\b84%\b\b\b85%\b\b\b86%\b\b\b87%\b\b\b88%\b\b\b89%\b\b\b90%\b\b\b91%\b\b\b92%\b\b\b93%\b\b\b94%\b\b\b95%\b\b\b96%\b\b\b97%\b\b\b98%\b\b\b99%\b\b\bdone.\n"
     ]
    }
   ],
   "source": [
    "%%bash\n",
    "\n",
    "WORK_DIR='/home/jupyter/SH3GL2_GP2/'\n",
    "cd $WORK_DIR\n",
    "\n",
    "# Turn binary files into VCF\n",
    "/home/jupyter/tools/plink \\\n",
    "--bfile pheno_SH3GL2_CAS \\\n",
    "--recode vcf-fid \\\n",
    "--out pheno_SH3GL2_CAS"
   ]
  },
  {
   "cell_type": "markdown",
   "metadata": {},
   "source": [
    "## Annotate SH3GL2 variants"
   ]
  },
  {
   "cell_type": "code",
   "execution_count": 29,
   "metadata": {},
   "outputs": [
    {
     "name": "stderr",
     "output_type": "stream",
     "text": [
      "[bgzip] can't create pheno_SH3GL2_CAS.vcf.gz: File exists\n"
     ]
    }
   ],
   "source": [
    "%%bash\n",
    "\n",
    "WORK_DIR='/home/jupyter/SH3GL2_GP2/'\n",
    "cd $WORK_DIR\n",
    "export PATH=$PATH:/home/jupyter/tools/rvtests/third/tabix-0.2.6/\n",
    "\n",
    "### Bgzip and Tabix\n",
    "bgzip pheno_SH3GL2_CAS.vcf\n",
    "\n",
    "tabix -f -p vcf pheno_SH3GL2_CAS.vcf.gz\n",
    "tabix -f -p vcf pheno_SH3GL2_CAS.vcf.gz"
   ]
  },
  {
   "cell_type": "code",
   "execution_count": 30,
   "metadata": {
    "scrolled": true
   },
   "outputs": [
    {
     "name": "stderr",
     "output_type": "stream",
     "text": [
      "\n",
      "NOTICE: Running with system command <convert2annovar.pl  -includeinfo -allsample -withfreq -format vcf4 pheno_SH3GL2_CAS.vcf.gz > pheno_SH3GL2_CAS.annovar.avinput>\n",
      "NOTICE: Finished reading 1269 lines from VCF file\n",
      "NOTICE: A total of 1262 locus in VCF file passed QC threshold, representing 1203 SNPs (771 transitions and 432 transversions) and 59 indels/substitutions\n",
      "NOTICE: Finished writing allele frequencies based on 575034 SNP genotypes (368538 transitions and 206496 transversions) and 28202 indels/substitutions for 478 samples\n",
      "\n",
      "NOTICE: Running with system command </home/jupyter/tools/annovar/table_annovar.pl pheno_SH3GL2_CAS.annovar.avinput /home/jupyter/tools/annovar/humandb/ -buildver hg38 -outfile pheno_SH3GL2_CAS.annovar -remove -protocol refGene,clinvar_20140902 -operation g,f --nopolish -nastring . -otherinfo>\n",
      "-----------------------------------------------------------------\n",
      "NOTICE: Processing operation=g protocol=refGene\n",
      "\n",
      "NOTICE: Running with system command <annotate_variation.pl -geneanno -buildver hg38 -dbtype refGene -outfile pheno_SH3GL2_CAS.annovar.refGene -exonsort -nofirstcodondel pheno_SH3GL2_CAS.annovar.avinput /home/jupyter/tools/annovar/humandb/>\n",
      "NOTICE: Output files are written to pheno_SH3GL2_CAS.annovar.refGene.variant_function, pheno_SH3GL2_CAS.annovar.refGene.exonic_variant_function\n",
      "NOTICE: Reading gene annotation from /home/jupyter/tools/annovar/humandb/hg38_refGene.txt ... Done with 88819 transcripts (including 21511 without coding sequence annotation) for 28307 unique genes\n",
      "NOTICE: Processing next batch with 1262 unique variants in 1262 input lines\n",
      "-----------------------------------------------------------------\n",
      "NOTICE: Processing operation=f protocol=clinvar_20140902\n",
      "\n",
      "NOTICE: Running system command <annotate_variation.pl -filter -dbtype clinvar_20140902 -buildver hg38 -outfile pheno_SH3GL2_CAS.annovar pheno_SH3GL2_CAS.annovar.avinput /home/jupyter/tools/annovar/humandb/>\n",
      "NOTICE: the --dbtype clinvar_20140902 is assumed to be in generic ANNOVAR database format\n",
      "NOTICE: Output file with variants matching filtering criteria is written to pheno_SH3GL2_CAS.annovar.hg38_clinvar_20140902_dropped, and output file with other variants is written to pheno_SH3GL2_CAS.annovar.hg38_clinvar_20140902_filtered\n",
      "NOTICE: Processing next batch with 1262 unique variants in 1262 input lines\n",
      "NOTICE: Database index loaded. Total number of bins is 44781 and the number of bins to be scanned is 1\n",
      "NOTICE: Scanning filter database /home/jupyter/tools/annovar/humandb/hg38_clinvar_20140902.txt...Done\n",
      "-----------------------------------------------------------------\n",
      "NOTICE: Multianno output file is written to pheno_SH3GL2_CAS.annovar.hg38_multianno.txt\n",
      "NOTICE: Reading from pheno_SH3GL2_CAS.annovar.hg38_multianno.txt\n",
      "-----------------------------------------------------------------\n",
      "NOTICE: VCF output is written to pheno_SH3GL2_CAS.annovar.hg38_multianno.vcf\n"
     ]
    }
   ],
   "source": [
    "%%bash\n",
    "\n",
    "WORK_DIR='/home/jupyter/SH3GL2_GP2/'\n",
    "cd $WORK_DIR\n",
    "\n",
    "### Annotate variants using ANNOVAR: https://annovar.openbioinformatics.org/en/latest/ \n",
    "perl /home/jupyter/tools/annovar/table_annovar.pl pheno_SH3GL2_CAS.vcf.gz /home/jupyter/tools/annovar/humandb/ -buildver hg38 \\\n",
    "-out pheno_SH3GL2_CAS.annovar \\\n",
    "-remove -protocol refGene,clinvar_20140902 \\\n",
    "-operation g,f \\\n",
    "--nopolish \\\n",
    "-nastring . \\\n",
    "-vcfinput"
   ]
  },
  {
   "cell_type": "markdown",
   "metadata": {},
   "source": [
    "## Extract coding and non-syn variants"
   ]
  },
  {
   "cell_type": "code",
   "execution_count": 31,
   "metadata": {
    "scrolled": true
   },
   "outputs": [
    {
     "data": {
      "text/html": [
       "<div>\n",
       "<style scoped>\n",
       "    .dataframe tbody tr th:only-of-type {\n",
       "        vertical-align: middle;\n",
       "    }\n",
       "\n",
       "    .dataframe tbody tr th {\n",
       "        vertical-align: top;\n",
       "    }\n",
       "\n",
       "    .dataframe thead th {\n",
       "        text-align: right;\n",
       "    }\n",
       "</style>\n",
       "<table border=\"1\" class=\"dataframe\">\n",
       "  <thead>\n",
       "    <tr style=\"text-align: right;\">\n",
       "      <th></th>\n",
       "      <th>Chr</th>\n",
       "      <th>Start</th>\n",
       "      <th>End</th>\n",
       "      <th>Ref</th>\n",
       "      <th>Alt</th>\n",
       "      <th>Func.refGene</th>\n",
       "      <th>Gene.refGene</th>\n",
       "      <th>GeneDetail.refGene</th>\n",
       "      <th>ExonicFunc.refGene</th>\n",
       "      <th>AAChange.refGene</th>\n",
       "      <th>...</th>\n",
       "      <th>Otherinfo481</th>\n",
       "      <th>Otherinfo482</th>\n",
       "      <th>Otherinfo483</th>\n",
       "      <th>Otherinfo484</th>\n",
       "      <th>Otherinfo485</th>\n",
       "      <th>Otherinfo486</th>\n",
       "      <th>Otherinfo487</th>\n",
       "      <th>Otherinfo488</th>\n",
       "      <th>Otherinfo489</th>\n",
       "      <th>Otherinfo490</th>\n",
       "    </tr>\n",
       "  </thead>\n",
       "  <tbody>\n",
       "    <tr>\n",
       "      <th>0</th>\n",
       "      <td>9</td>\n",
       "      <td>17579165</td>\n",
       "      <td>17579165</td>\n",
       "      <td>C</td>\n",
       "      <td>T</td>\n",
       "      <td>UTR5</td>\n",
       "      <td>SH3GL2</td>\n",
       "      <td>NM_003026:c.-78C&gt;T</td>\n",
       "      <td>.</td>\n",
       "      <td>.</td>\n",
       "      <td>...</td>\n",
       "      <td>0/0</td>\n",
       "      <td>0/0</td>\n",
       "      <td>0/0</td>\n",
       "      <td>0/0</td>\n",
       "      <td>0/0</td>\n",
       "      <td>0/0</td>\n",
       "      <td>0/0</td>\n",
       "      <td>0/0</td>\n",
       "      <td>0/0</td>\n",
       "      <td>0/0</td>\n",
       "    </tr>\n",
       "    <tr>\n",
       "      <th>1</th>\n",
       "      <td>9</td>\n",
       "      <td>17579372</td>\n",
       "      <td>17579372</td>\n",
       "      <td>C</td>\n",
       "      <td>T</td>\n",
       "      <td>intronic</td>\n",
       "      <td>SH3GL2</td>\n",
       "      <td>.</td>\n",
       "      <td>.</td>\n",
       "      <td>.</td>\n",
       "      <td>...</td>\n",
       "      <td>0/0</td>\n",
       "      <td>0/0</td>\n",
       "      <td>0/0</td>\n",
       "      <td>0/0</td>\n",
       "      <td>./.</td>\n",
       "      <td>0/0</td>\n",
       "      <td>0/1</td>\n",
       "      <td>0/1</td>\n",
       "      <td>0/0</td>\n",
       "      <td>0/0</td>\n",
       "    </tr>\n",
       "    <tr>\n",
       "      <th>2</th>\n",
       "      <td>9</td>\n",
       "      <td>17579621</td>\n",
       "      <td>17579621</td>\n",
       "      <td>T</td>\n",
       "      <td>C</td>\n",
       "      <td>intronic</td>\n",
       "      <td>SH3GL2</td>\n",
       "      <td>.</td>\n",
       "      <td>.</td>\n",
       "      <td>.</td>\n",
       "      <td>...</td>\n",
       "      <td>0/0</td>\n",
       "      <td>0/0</td>\n",
       "      <td>0/0</td>\n",
       "      <td>0/0</td>\n",
       "      <td>0/0</td>\n",
       "      <td>0/0</td>\n",
       "      <td>0/0</td>\n",
       "      <td>0/0</td>\n",
       "      <td>0/0</td>\n",
       "      <td>0/0</td>\n",
       "    </tr>\n",
       "    <tr>\n",
       "      <th>3</th>\n",
       "      <td>9</td>\n",
       "      <td>17579692</td>\n",
       "      <td>17579692</td>\n",
       "      <td>G</td>\n",
       "      <td>T</td>\n",
       "      <td>intronic</td>\n",
       "      <td>SH3GL2</td>\n",
       "      <td>.</td>\n",
       "      <td>.</td>\n",
       "      <td>.</td>\n",
       "      <td>...</td>\n",
       "      <td>0/0</td>\n",
       "      <td>1/1</td>\n",
       "      <td>0/1</td>\n",
       "      <td>0/1</td>\n",
       "      <td>0/1</td>\n",
       "      <td>1/1</td>\n",
       "      <td>0/1</td>\n",
       "      <td>0/0</td>\n",
       "      <td>1/1</td>\n",
       "      <td>0/1</td>\n",
       "    </tr>\n",
       "    <tr>\n",
       "      <th>4</th>\n",
       "      <td>9</td>\n",
       "      <td>17579727</td>\n",
       "      <td>17579727</td>\n",
       "      <td>T</td>\n",
       "      <td>C</td>\n",
       "      <td>intronic</td>\n",
       "      <td>SH3GL2</td>\n",
       "      <td>.</td>\n",
       "      <td>.</td>\n",
       "      <td>.</td>\n",
       "      <td>...</td>\n",
       "      <td>0/1</td>\n",
       "      <td>0/0</td>\n",
       "      <td>0/0</td>\n",
       "      <td>0/0</td>\n",
       "      <td>0/0</td>\n",
       "      <td>0/0</td>\n",
       "      <td>0/0</td>\n",
       "      <td>0/0</td>\n",
       "      <td>0/0</td>\n",
       "      <td>0/0</td>\n",
       "    </tr>\n",
       "  </tbody>\n",
       "</table>\n",
       "<p>5 rows × 501 columns</p>\n",
       "</div>"
      ],
      "text/plain": [
       "   Chr     Start       End Ref Alt Func.refGene Gene.refGene  \\\n",
       "0    9  17579165  17579165   C   T         UTR5       SH3GL2   \n",
       "1    9  17579372  17579372   C   T     intronic       SH3GL2   \n",
       "2    9  17579621  17579621   T   C     intronic       SH3GL2   \n",
       "3    9  17579692  17579692   G   T     intronic       SH3GL2   \n",
       "4    9  17579727  17579727   T   C     intronic       SH3GL2   \n",
       "\n",
       "   GeneDetail.refGene ExonicFunc.refGene AAChange.refGene  ... Otherinfo481  \\\n",
       "0  NM_003026:c.-78C>T                  .                .  ...          0/0   \n",
       "1                   .                  .                .  ...          0/0   \n",
       "2                   .                  .                .  ...          0/0   \n",
       "3                   .                  .                .  ...          0/0   \n",
       "4                   .                  .                .  ...          0/1   \n",
       "\n",
       "   Otherinfo482 Otherinfo483 Otherinfo484  Otherinfo485  Otherinfo486  \\\n",
       "0           0/0          0/0          0/0           0/0           0/0   \n",
       "1           0/0          0/0          0/0           ./.           0/0   \n",
       "2           0/0          0/0          0/0           0/0           0/0   \n",
       "3           1/1          0/1          0/1           0/1           1/1   \n",
       "4           0/0          0/0          0/0           0/0           0/0   \n",
       "\n",
       "  Otherinfo487 Otherinfo488 Otherinfo489 Otherinfo490  \n",
       "0          0/0          0/0          0/0          0/0  \n",
       "1          0/1          0/1          0/0          0/0  \n",
       "2          0/0          0/0          0/0          0/0  \n",
       "3          0/1          0/0          1/1          0/1  \n",
       "4          0/0          0/0          0/0          0/0  \n",
       "\n",
       "[5 rows x 501 columns]"
      ]
     },
     "execution_count": 31,
     "metadata": {},
     "output_type": "execute_result"
    }
   ],
   "source": [
    "# Visualize multianno file\n",
    "SH3GL2_CAS = pd.read_csv(f'{WORK_DIR}/pheno_SH3GL2_CAS.annovar.hg38_multianno.txt', sep = '\\t')\n",
    "SH3GL2_CAS.head()"
   ]
  },
  {
   "cell_type": "code",
   "execution_count": 32,
   "metadata": {
    "scrolled": true
   },
   "outputs": [
    {
     "data": {
      "text/plain": [
       "Chr             1262\n",
       "Start           1262\n",
       "End             1262\n",
       "Ref             1262\n",
       "Alt             1262\n",
       "                ... \n",
       "Otherinfo486    1262\n",
       "Otherinfo487    1262\n",
       "Otherinfo488    1262\n",
       "Otherinfo489    1262\n",
       "Otherinfo490    1262\n",
       "Length: 501, dtype: int64"
      ]
     },
     "execution_count": 32,
     "metadata": {},
     "output_type": "execute_result"
    }
   ],
   "source": [
    "SH3GL2_CAS.count()"
   ]
  },
  {
   "cell_type": "code",
   "execution_count": 33,
   "metadata": {
    "scrolled": false
   },
   "outputs": [
    {
     "data": {
      "text/plain": [
       "Chr             0\n",
       "Start           0\n",
       "End             0\n",
       "Ref             0\n",
       "Alt             0\n",
       "               ..\n",
       "Otherinfo486    0\n",
       "Otherinfo487    0\n",
       "Otherinfo488    0\n",
       "Otherinfo489    0\n",
       "Otherinfo490    0\n",
       "Length: 501, dtype: int64"
      ]
     },
     "execution_count": 33,
     "metadata": {},
     "output_type": "execute_result"
    }
   ],
   "source": [
    "# Filter exonic variants\n",
    "coding_CAS = SH3GL2_CAS[SH3GL2_CAS['Func.refGene'] == 'exonic']\n",
    "coding_CAS.count()"
   ]
  },
  {
   "cell_type": "code",
   "execution_count": 34,
   "metadata": {},
   "outputs": [
    {
     "data": {
      "text/plain": [
       "Chr             0\n",
       "Start           0\n",
       "End             0\n",
       "Ref             0\n",
       "Alt             0\n",
       "               ..\n",
       "Otherinfo486    0\n",
       "Otherinfo487    0\n",
       "Otherinfo488    0\n",
       "Otherinfo489    0\n",
       "Otherinfo490    0\n",
       "Length: 501, dtype: int64"
      ]
     },
     "execution_count": 34,
     "metadata": {},
     "output_type": "execute_result"
    }
   ],
   "source": [
    "# Filter exonic and syn vars\n",
    "coding_synonymous_CAS = SH3GL2_CAS[(SH3GL2_CAS['Func.refGene'] == 'exonic') & (SH3GL2_CAS['ExonicFunc.refGene'] == 'synonymous SNV')]\n",
    "coding_synonymous_CAS.count()"
   ]
  },
  {
   "cell_type": "code",
   "execution_count": 35,
   "metadata": {},
   "outputs": [
    {
     "data": {
      "text/plain": [
       "Chr             0\n",
       "Start           0\n",
       "End             0\n",
       "Ref             0\n",
       "Alt             0\n",
       "               ..\n",
       "Otherinfo486    0\n",
       "Otherinfo487    0\n",
       "Otherinfo488    0\n",
       "Otherinfo489    0\n",
       "Otherinfo490    0\n",
       "Length: 501, dtype: int64"
      ]
     },
     "execution_count": 35,
     "metadata": {},
     "output_type": "execute_result"
    }
   ],
   "source": [
    "# Filter exonic and non-syn vars\n",
    "coding_nonsynonymous_CAS = SH3GL2_CAS[(SH3GL2_CAS['Func.refGene'] == 'exonic') & (SH3GL2_CAS['ExonicFunc.refGene'] == 'nonsynonymous SNV')]\n",
    "coding_nonsynonymous_CAS.count()"
   ]
  },
  {
   "cell_type": "code",
   "execution_count": 36,
   "metadata": {},
   "outputs": [
    {
     "data": {
      "text/plain": [
       "Chr             1258\n",
       "Start           1258\n",
       "End             1258\n",
       "Ref             1258\n",
       "Alt             1258\n",
       "                ... \n",
       "Otherinfo486    1258\n",
       "Otherinfo487    1258\n",
       "Otherinfo488    1258\n",
       "Otherinfo489    1258\n",
       "Otherinfo490    1258\n",
       "Length: 501, dtype: int64"
      ]
     },
     "execution_count": 36,
     "metadata": {},
     "output_type": "execute_result"
    }
   ],
   "source": [
    "# Filter intronic variants\n",
    "intronic_CAS = SH3GL2_CAS[SH3GL2_CAS['Func.refGene'] == 'intronic']\n",
    "intronic_CAS.count()"
   ]
  },
  {
   "cell_type": "code",
   "execution_count": 37,
   "metadata": {},
   "outputs": [
    {
     "data": {
      "text/plain": [
       "Chr             3\n",
       "Start           3\n",
       "End             3\n",
       "Ref             3\n",
       "Alt             3\n",
       "               ..\n",
       "Otherinfo486    3\n",
       "Otherinfo487    3\n",
       "Otherinfo488    3\n",
       "Otherinfo489    3\n",
       "Otherinfo490    3\n",
       "Length: 501, dtype: int64"
      ]
     },
     "execution_count": 37,
     "metadata": {},
     "output_type": "execute_result"
    }
   ],
   "source": [
    "# Filter UTR3 variants\n",
    "UTR3_CAS = SH3GL2_CAS[SH3GL2_CAS['Func.refGene'] == ('UTR3')]\n",
    "UTR3_CAS.count()"
   ]
  },
  {
   "cell_type": "code",
   "execution_count": 38,
   "metadata": {},
   "outputs": [
    {
     "data": {
      "text/plain": [
       "Chr             1\n",
       "Start           1\n",
       "End             1\n",
       "Ref             1\n",
       "Alt             1\n",
       "               ..\n",
       "Otherinfo486    1\n",
       "Otherinfo487    1\n",
       "Otherinfo488    1\n",
       "Otherinfo489    1\n",
       "Otherinfo490    1\n",
       "Length: 501, dtype: int64"
      ]
     },
     "execution_count": 38,
     "metadata": {},
     "output_type": "execute_result"
    }
   ],
   "source": [
    "# Filter UTR5 variants\n",
    "UTR5_CAS = SH3GL2_CAS[SH3GL2_CAS['Func.refGene'] == ('UTR5')]\n",
    "UTR5_CAS.count()"
   ]
  },
  {
   "cell_type": "code",
   "execution_count": 39,
   "metadata": {},
   "outputs": [],
   "source": [
    "# Calculate freq - cases vs controls"
   ]
  },
  {
   "cell_type": "code",
   "execution_count": 40,
   "metadata": {},
   "outputs": [],
   "source": [
    "reduced_coding_nonsynonymous_CAS = coding_nonsynonymous_CAS[[\"Chr\", \"Start\", \"End\", \"Gene.refGene\"]]\n",
    "reduced_coding_nonsynonymous_CAS.to_csv(f'{WORK_DIR}/reduced_coding_nonsynonymous_CAS.txt', sep = '\\t', index = False, header= False)"
   ]
  },
  {
   "cell_type": "code",
   "execution_count": 41,
   "metadata": {},
   "outputs": [],
   "source": [
    "%%bash\n",
    "\n",
    "WORK_DIR='/home/jupyter/SH3GL2_GP2/'\n",
    "cd $WORK_DIR\n",
    "\n",
    "head reduced_coding_nonsynonymous_CAS.txt\n"
   ]
  },
  {
   "cell_type": "code",
   "execution_count": 42,
   "metadata": {},
   "outputs": [
    {
     "name": "stdout",
     "output_type": "stream",
     "text": [
      "PLINK v1.90b6.9 64-bit (4 Mar 2019)            www.cog-genomics.org/plink/1.9/\n",
      "(C) 2005-2019 Shaun Purcell, Christopher Chang   GNU General Public License v3\n",
      "Logging to coding_nonsynonymous_pheno_SH3GL2_CAS.log.\n",
      "Options in effect:\n",
      "  --allow-no-sex\n",
      "  --assoc\n",
      "  --bfile pheno_SH3GL2_CAS\n",
      "  --extract range reduced_coding_nonsynonymous_CAS.txt\n",
      "  --out coding_nonsynonymous_pheno_SH3GL2_CAS\n",
      "\n",
      "7450 MB RAM detected; reserving 3725 MB for main workspace.\n",
      "1262 variants loaded from .bim file.\n",
      "478 people (209 males, 269 females) loaded from .fam.\n",
      "474 phenotype values loaded from .fam.\n",
      "chr9_AAC_release5.log\n",
      "chr9_AAC_release5.pgen\n",
      "chr9_AAC_release5.psam\n",
      "chr9_AAC_release5.pvar\n",
      "chr9_AFR_release4.log\n",
      "chr9_AFR_release4.pgen\n",
      "chr9_AFR_release4.psam\n",
      "chr9_AFR_release4.pvar\n",
      "chr9_AFR_release5.log\n",
      "chr9_AFR_release5.pgen\n",
      "chr9_AFR_release5.psam\n",
      "chr9_AFR_release5.pvar\n",
      "chr9_AJ_release5.log\n",
      "chr9_AJ_release5.pgen\n",
      "chr9_AJ_release5.psam\n",
      "chr9_AJ_release5.pvar\n",
      "chr9_AMR_release5.log\n",
      "chr9_AMR_release5.pgen\n",
      "chr9_AMR_release5.psam\n",
      "chr9_AMR_release5.pvar\n",
      "chr9_CAS_release5.log\n",
      "chr9_CAS_release5.pgen\n",
      "chr9_CAS_release5.psam\n",
      "chr9_CAS_release5.pvar\n",
      "chr9_EAS_release5.log\n",
      "chr9_EAS_release5.pgen\n",
      "chr9_EAS_release5.psam\n",
      "chr9_EAS_release5.pvar\n",
      "chr9_EUR_release4.log\n",
      "chr9_EUR_release4.pgen\n",
      "chr9_EUR_release4.psam\n",
      "chr9_EUR_release4.pvar\n",
      "chr9_EUR_release5.log\n",
      "chr9_EUR_release5.pgen\n",
      "chr9_EUR_release5.psam\n",
      "chr9_EUR_release5.pvar\n",
      "chr9_FIN_release5.log\n",
      "chr9_FIN_release5.pgen\n",
      "chr9_FIN_release5.psam\n",
      "chr9_FIN_release5.pvar\n",
      "chr9_MDE_release5.log\n",
      "chr9_MDE_release5.pgen\n",
      "chr9_MDE_release5.psam\n",
      "chr9_MDE_release5.pvar\n",
      "chr9_SAS_release5.log\n",
      "chr9_SAS_release5.pgen\n",
      "chr9_SAS_release5.psam\n",
      "chr9_SAS_release5.pvar\n",
      "coding_nonsynonymous_AAC_rare_0.05.log\n",
      "coding_nonsynonymous_AJ_rare_0.05.log\n",
      "coding_nonsynonymous_AMR_rare_0.05.log\n",
      "coding_nonsynonymous_CAS_rare_0.05.log\n",
      "coding_nonsynonymous_EUR_rare_0.05.bed\n",
      "coding_nonsynonymous_EUR_rare_0.05.bim\n",
      "coding_nonsynonymous_EUR_rare_0.05.fam\n",
      "coding_nonsynonymous_EUR_rare_0.05.log\n",
      "coding_nonsynonymous_FIN_rare_0.05.log\n",
      "coding_nonsynonymous_pheno_SH3GL2_AAC.log\n",
      "coding_nonsynonymous_pheno_SH3GL2_AJ.log\n",
      "coding_nonsynonymous_pheno_SH3GL2_AMR.log\n",
      "coding_nonsynonymous_pheno_SH3GL2_CAS.log\n",
      "coding_nonsynonymous_pheno_SH3GL2_EUR.assoc\n",
      "coding_nonsynonymous_pheno_SH3GL2_EUR.assoc.adjusted\n",
      "coding_nonsynonymous_pheno_SH3GL2_EUR.log\n",
      "coding_nonsynonymous_pheno_SH3GL2_EUR.raw\n",
      "coding_nonsynonymous_pheno_SH3GL2_FIN.log\n",
      "coding_nonsynonymous_pheno_SH3GL2_MDE.log\n",
      "coding_nonsynonymous.txt\n",
      "master_key_release4_final.csv\n",
      "master_key_release5_final.csv\n",
      "pheno_SH3GL2_AAC.annovar.avinput\n",
      "pheno_SH3GL2_AAC.annovar.hg38_multianno.txt\n",
      "pheno_SH3GL2_AAC.annovar.hg38_multianno.vcf\n",
      "pheno_SH3GL2_AAC.bed\n",
      "pheno_SH3GL2_AAC.bim\n",
      "pheno_SH3GL2_AAC.fam\n",
      "pheno_SH3GL2_AAC.log\n",
      "pheno_SH3GL2_AAC.vcf.gz\n",
      "pheno_SH3GL2_AAC.vcf.gz.tbi\n",
      "pheno_SH3GL2_AFR.annovar.avinput\n",
      "pheno_SH3GL2_AFR.annovar.hg38_multianno.txt\n",
      "pheno_SH3GL2_AFR.annovar.hg38_multianno.vcf\n",
      "pheno_SH3GL2_AFR.bed\n",
      "pheno_SH3GL2_AFR.bim\n",
      "pheno_SH3GL2_AFR.fam\n",
      "pheno_SH3GL2_AFR.log\n",
      "pheno_SH3GL2_AFR.vcf\n",
      "pheno_SH3GL2_AFR.vcf.gz\n",
      "pheno_SH3GL2_AFR.vcf.gz.tbi\n",
      "pheno_SH3GL2_AJ.annovar.avinput\n",
      "pheno_SH3GL2_AJ.annovar.hg38_multianno.txt\n",
      "pheno_SH3GL2_AJ.annovar.hg38_multianno.vcf\n",
      "pheno_SH3GL2_AJ.bed\n",
      "pheno_SH3GL2_AJ.bim\n",
      "pheno_SH3GL2_AJ.fam\n",
      "pheno_SH3GL2_AJ.log\n",
      "pheno_SH3GL2_AJ.vcf.gz\n",
      "pheno_SH3GL2_AJ.vcf.gz.tbi\n",
      "pheno_SH3GL2_AMR.annovar.avinput\n",
      "pheno_SH3GL2_AMR.annovar.hg38_multianno.txt\n",
      "pheno_SH3GL2_AMR.annovar.hg38_multianno.vcf\n",
      "pheno_SH3GL2_AMR.bed\n",
      "pheno_SH3GL2_AMR.bim\n",
      "pheno_SH3GL2_AMR.fam\n",
      "pheno_SH3GL2_AMR.log\n",
      "pheno_SH3GL2_AMR.vcf\n",
      "pheno_SH3GL2_AMR.vcf.gz\n",
      "pheno_SH3GL2_AMR.vcf.gz.tbi\n",
      "pheno_SH3GL2_CAS.annovar.avinput\n",
      "pheno_SH3GL2_CAS.annovar.hg38_multianno.txt\n",
      "pheno_SH3GL2_CAS.annovar.hg38_multianno.vcf\n",
      "pheno_SH3GL2_CAS.bed\n",
      "pheno_SH3GL2_CAS.bim\n",
      "pheno_SH3GL2_CAS.fam\n",
      "pheno_SH3GL2_CAS.log\n",
      "pheno_SH3GL2_CAS.vcf\n",
      "pheno_SH3GL2_CAS.vcf.gz\n",
      "pheno_SH3GL2_CAS.vcf.gz.tbi\n",
      "pheno_SH3GL2_EAS.annovar.avinput\n",
      "pheno_SH3GL2_EAS.annovar.hg38_multianno.txt\n",
      "pheno_SH3GL2_EAS.annovar.hg38_multianno.vcf\n",
      "pheno_SH3GL2_EAS.bed\n",
      "pheno_SH3GL2_EAS.bim\n",
      "pheno_SH3GL2_EAS.fam\n",
      "pheno_SH3GL2_EAS.log\n",
      "pheno_SH3GL2_EAS.vcf.gz\n",
      "pheno_SH3GL2_EAS.vcf.gz.tbi\n",
      "pheno_SH3GL2_EUR.annovar.avinput\n",
      "pheno_SH3GL2_EUR.annovar.hg38_multianno.txt\n",
      "pheno_SH3GL2_EUR.annovar.hg38_multianno.vcf\n",
      "pheno_SH3GL2_EUR.bed\n",
      "pheno_SH3GL2_EUR.bim\n",
      "pheno_SH3GL2_EUR.fam\n",
      "pheno_SH3GL2_EUR.log\n",
      "pheno_SH3GL2_EUR.vcf.gz\n",
      "pheno_SH3GL2_EUR.vcf.gz.tbi\n",
      "pheno_SH3GL2_FIN.annovar.avinput\n",
      "pheno_SH3GL2_FIN.annovar.hg38_multianno.txt\n",
      "pheno_SH3GL2_FIN.annovar.hg38_multianno.vcf\n",
      "pheno_SH3GL2_FIN.bed\n",
      "pheno_SH3GL2_FIN.bim\n",
      "pheno_SH3GL2_FIN.fam\n",
      "pheno_SH3GL2_FIN.log\n",
      "pheno_SH3GL2_FIN.vcf.gz\n",
      "pheno_SH3GL2_FIN.vcf.gz.tbi\n",
      "pheno_SH3GL2_MDE.annovar.avinput\n",
      "pheno_SH3GL2_MDE.annovar.hg38_multianno.txt\n",
      "pheno_SH3GL2_MDE.annovar.hg38_multianno.vcf\n",
      "pheno_SH3GL2_MDE.bed\n",
      "pheno_SH3GL2_MDE.bim\n",
      "pheno_SH3GL2_MDE.fam\n",
      "pheno_SH3GL2_MDE.log\n",
      "pheno_SH3GL2_MDE.vcf.gz\n",
      "pheno_SH3GL2_MDE.vcf.gz.tbi\n",
      "pheno_SH3GL2_SAS.annovar.avinput\n",
      "pheno_SH3GL2_SAS.annovar.hg38_multianno.txt\n",
      "pheno_SH3GL2_SAS.annovar.hg38_multianno.vcf\n",
      "pheno_SH3GL2_SAS.bed\n",
      "pheno_SH3GL2_SAS.bim\n",
      "pheno_SH3GL2_SAS.fam\n",
      "pheno_SH3GL2_SAS.log\n",
      "pheno_SH3GL2_SAS.vcf.gz\n",
      "pheno_SH3GL2_SAS.vcf.gz.tbi\n",
      "PHENO.txt\n",
      "reduced_coding_nonsynonymous_AAC.txt\n",
      "reduced_coding_nonsynonymous_AJ.txt\n",
      "reduced_coding_nonsynonymous_AMR.txt\n",
      "reduced_coding_nonsynonymous_CAS.txt\n",
      "reduced_coding_nonsynonymous_EAS.txt\n",
      "reduced_coding_nonsynonymous_EUR.txt\n",
      "reduced_coding_nonsynonymous_FIN.txt\n",
      "reduced_coding_nonsynonymous_MDE.txt\n",
      "SEX.txt\n"
     ]
    },
    {
     "name": "stderr",
     "output_type": "stream",
     "text": [
      "Error: All variants excluded by '--extract range'.\n"
     ]
    }
   ],
   "source": [
    "%%bash\n",
    "\n",
    "WORK_DIR='/home/jupyter/SH3GL2_GP2/'\n",
    "cd $WORK_DIR\n",
    "\n",
    "/home/jupyter/tools/plink --bfile pheno_SH3GL2_CAS --extract range reduced_coding_nonsynonymous_CAS.txt --assoc --out coding_nonsynonymous_pheno_SH3GL2_CAS --allow-no-sex\n",
    "ls"
   ]
  },
  {
   "cell_type": "code",
   "execution_count": 43,
   "metadata": {},
   "outputs": [
    {
     "name": "stdout",
     "output_type": "stream",
     "text": [
      "PLINK v1.90b6.9 64-bit (4 Mar 2019)            www.cog-genomics.org/plink/1.9/\n",
      "(C) 2005-2019 Shaun Purcell, Christopher Chang   GNU General Public License v3\n",
      "Logging to coding_nonsynonymous_CAS_rare_0.05.log.\n",
      "Options in effect:\n",
      "  --allow-no-sex\n",
      "  --bfile pheno_SH3GL2_CAS\n",
      "  --extract range reduced_coding_nonsynonymous_CAS.txt\n",
      "  --make-bed\n",
      "  --max-maf 0.05\n",
      "  --out coding_nonsynonymous_CAS_rare_0.05\n",
      "\n",
      "7450 MB RAM detected; reserving 3725 MB for main workspace.\n",
      "1262 variants loaded from .bim file.\n",
      "478 people (209 males, 269 females) loaded from .fam.\n",
      "474 phenotype values loaded from .fam.\n",
      "chr9_AAC_release5.log\n",
      "chr9_AAC_release5.pgen\n",
      "chr9_AAC_release5.psam\n",
      "chr9_AAC_release5.pvar\n",
      "chr9_AFR_release4.log\n",
      "chr9_AFR_release4.pgen\n",
      "chr9_AFR_release4.psam\n",
      "chr9_AFR_release4.pvar\n",
      "chr9_AFR_release5.log\n",
      "chr9_AFR_release5.pgen\n",
      "chr9_AFR_release5.psam\n",
      "chr9_AFR_release5.pvar\n",
      "chr9_AJ_release5.log\n",
      "chr9_AJ_release5.pgen\n",
      "chr9_AJ_release5.psam\n",
      "chr9_AJ_release5.pvar\n",
      "chr9_AMR_release5.log\n",
      "chr9_AMR_release5.pgen\n",
      "chr9_AMR_release5.psam\n",
      "chr9_AMR_release5.pvar\n",
      "chr9_CAS_release5.log\n",
      "chr9_CAS_release5.pgen\n",
      "chr9_CAS_release5.psam\n",
      "chr9_CAS_release5.pvar\n",
      "chr9_EAS_release5.log\n",
      "chr9_EAS_release5.pgen\n",
      "chr9_EAS_release5.psam\n",
      "chr9_EAS_release5.pvar\n",
      "chr9_EUR_release4.log\n",
      "chr9_EUR_release4.pgen\n",
      "chr9_EUR_release4.psam\n",
      "chr9_EUR_release4.pvar\n",
      "chr9_EUR_release5.log\n",
      "chr9_EUR_release5.pgen\n",
      "chr9_EUR_release5.psam\n",
      "chr9_EUR_release5.pvar\n",
      "chr9_FIN_release5.log\n",
      "chr9_FIN_release5.pgen\n",
      "chr9_FIN_release5.psam\n",
      "chr9_FIN_release5.pvar\n",
      "chr9_MDE_release5.log\n",
      "chr9_MDE_release5.pgen\n",
      "chr9_MDE_release5.psam\n",
      "chr9_MDE_release5.pvar\n",
      "chr9_SAS_release5.log\n",
      "chr9_SAS_release5.pgen\n",
      "chr9_SAS_release5.psam\n",
      "chr9_SAS_release5.pvar\n",
      "coding_nonsynonymous_AAC_rare_0.05.log\n",
      "coding_nonsynonymous_AJ_rare_0.05.log\n",
      "coding_nonsynonymous_AMR_rare_0.05.log\n",
      "coding_nonsynonymous_CAS_rare_0.05.log\n",
      "coding_nonsynonymous_EUR_rare_0.05.bed\n",
      "coding_nonsynonymous_EUR_rare_0.05.bim\n",
      "coding_nonsynonymous_EUR_rare_0.05.fam\n",
      "coding_nonsynonymous_EUR_rare_0.05.log\n",
      "coding_nonsynonymous_FIN_rare_0.05.log\n",
      "coding_nonsynonymous_pheno_SH3GL2_AAC.log\n",
      "coding_nonsynonymous_pheno_SH3GL2_AJ.log\n",
      "coding_nonsynonymous_pheno_SH3GL2_AMR.log\n",
      "coding_nonsynonymous_pheno_SH3GL2_CAS.log\n",
      "coding_nonsynonymous_pheno_SH3GL2_EUR.assoc\n",
      "coding_nonsynonymous_pheno_SH3GL2_EUR.assoc.adjusted\n",
      "coding_nonsynonymous_pheno_SH3GL2_EUR.log\n",
      "coding_nonsynonymous_pheno_SH3GL2_EUR.raw\n",
      "coding_nonsynonymous_pheno_SH3GL2_FIN.log\n",
      "coding_nonsynonymous_pheno_SH3GL2_MDE.log\n",
      "coding_nonsynonymous.txt\n",
      "master_key_release4_final.csv\n",
      "master_key_release5_final.csv\n",
      "pheno_SH3GL2_AAC.annovar.avinput\n",
      "pheno_SH3GL2_AAC.annovar.hg38_multianno.txt\n",
      "pheno_SH3GL2_AAC.annovar.hg38_multianno.vcf\n",
      "pheno_SH3GL2_AAC.bed\n",
      "pheno_SH3GL2_AAC.bim\n",
      "pheno_SH3GL2_AAC.fam\n",
      "pheno_SH3GL2_AAC.log\n",
      "pheno_SH3GL2_AAC.vcf.gz\n",
      "pheno_SH3GL2_AAC.vcf.gz.tbi\n",
      "pheno_SH3GL2_AFR.annovar.avinput\n",
      "pheno_SH3GL2_AFR.annovar.hg38_multianno.txt\n",
      "pheno_SH3GL2_AFR.annovar.hg38_multianno.vcf\n",
      "pheno_SH3GL2_AFR.bed\n",
      "pheno_SH3GL2_AFR.bim\n",
      "pheno_SH3GL2_AFR.fam\n",
      "pheno_SH3GL2_AFR.log\n",
      "pheno_SH3GL2_AFR.vcf\n",
      "pheno_SH3GL2_AFR.vcf.gz\n",
      "pheno_SH3GL2_AFR.vcf.gz.tbi\n",
      "pheno_SH3GL2_AJ.annovar.avinput\n",
      "pheno_SH3GL2_AJ.annovar.hg38_multianno.txt\n",
      "pheno_SH3GL2_AJ.annovar.hg38_multianno.vcf\n",
      "pheno_SH3GL2_AJ.bed\n",
      "pheno_SH3GL2_AJ.bim\n",
      "pheno_SH3GL2_AJ.fam\n",
      "pheno_SH3GL2_AJ.log\n",
      "pheno_SH3GL2_AJ.vcf.gz\n",
      "pheno_SH3GL2_AJ.vcf.gz.tbi\n",
      "pheno_SH3GL2_AMR.annovar.avinput\n",
      "pheno_SH3GL2_AMR.annovar.hg38_multianno.txt\n",
      "pheno_SH3GL2_AMR.annovar.hg38_multianno.vcf\n",
      "pheno_SH3GL2_AMR.bed\n",
      "pheno_SH3GL2_AMR.bim\n",
      "pheno_SH3GL2_AMR.fam\n",
      "pheno_SH3GL2_AMR.log\n",
      "pheno_SH3GL2_AMR.vcf\n",
      "pheno_SH3GL2_AMR.vcf.gz\n",
      "pheno_SH3GL2_AMR.vcf.gz.tbi\n",
      "pheno_SH3GL2_CAS.annovar.avinput\n",
      "pheno_SH3GL2_CAS.annovar.hg38_multianno.txt\n",
      "pheno_SH3GL2_CAS.annovar.hg38_multianno.vcf\n",
      "pheno_SH3GL2_CAS.bed\n",
      "pheno_SH3GL2_CAS.bim\n",
      "pheno_SH3GL2_CAS.fam\n",
      "pheno_SH3GL2_CAS.log\n",
      "pheno_SH3GL2_CAS.vcf\n",
      "pheno_SH3GL2_CAS.vcf.gz\n",
      "pheno_SH3GL2_CAS.vcf.gz.tbi\n",
      "pheno_SH3GL2_EAS.annovar.avinput\n",
      "pheno_SH3GL2_EAS.annovar.hg38_multianno.txt\n",
      "pheno_SH3GL2_EAS.annovar.hg38_multianno.vcf\n",
      "pheno_SH3GL2_EAS.bed\n",
      "pheno_SH3GL2_EAS.bim\n",
      "pheno_SH3GL2_EAS.fam\n",
      "pheno_SH3GL2_EAS.log\n",
      "pheno_SH3GL2_EAS.vcf.gz\n",
      "pheno_SH3GL2_EAS.vcf.gz.tbi\n",
      "pheno_SH3GL2_EUR.annovar.avinput\n",
      "pheno_SH3GL2_EUR.annovar.hg38_multianno.txt\n",
      "pheno_SH3GL2_EUR.annovar.hg38_multianno.vcf\n",
      "pheno_SH3GL2_EUR.bed\n",
      "pheno_SH3GL2_EUR.bim\n",
      "pheno_SH3GL2_EUR.fam\n",
      "pheno_SH3GL2_EUR.log\n",
      "pheno_SH3GL2_EUR.vcf.gz\n",
      "pheno_SH3GL2_EUR.vcf.gz.tbi\n",
      "pheno_SH3GL2_FIN.annovar.avinput\n",
      "pheno_SH3GL2_FIN.annovar.hg38_multianno.txt\n",
      "pheno_SH3GL2_FIN.annovar.hg38_multianno.vcf\n",
      "pheno_SH3GL2_FIN.bed\n",
      "pheno_SH3GL2_FIN.bim\n",
      "pheno_SH3GL2_FIN.fam\n",
      "pheno_SH3GL2_FIN.log\n",
      "pheno_SH3GL2_FIN.vcf.gz\n",
      "pheno_SH3GL2_FIN.vcf.gz.tbi\n",
      "pheno_SH3GL2_MDE.annovar.avinput\n",
      "pheno_SH3GL2_MDE.annovar.hg38_multianno.txt\n",
      "pheno_SH3GL2_MDE.annovar.hg38_multianno.vcf\n",
      "pheno_SH3GL2_MDE.bed\n",
      "pheno_SH3GL2_MDE.bim\n",
      "pheno_SH3GL2_MDE.fam\n",
      "pheno_SH3GL2_MDE.log\n",
      "pheno_SH3GL2_MDE.vcf.gz\n",
      "pheno_SH3GL2_MDE.vcf.gz.tbi\n",
      "pheno_SH3GL2_SAS.annovar.avinput\n",
      "pheno_SH3GL2_SAS.annovar.hg38_multianno.txt\n",
      "pheno_SH3GL2_SAS.annovar.hg38_multianno.vcf\n",
      "pheno_SH3GL2_SAS.bed\n",
      "pheno_SH3GL2_SAS.bim\n",
      "pheno_SH3GL2_SAS.fam\n",
      "pheno_SH3GL2_SAS.log\n",
      "pheno_SH3GL2_SAS.vcf.gz\n",
      "pheno_SH3GL2_SAS.vcf.gz.tbi\n",
      "PHENO.txt\n",
      "reduced_coding_nonsynonymous_AAC.txt\n",
      "reduced_coding_nonsynonymous_AJ.txt\n",
      "reduced_coding_nonsynonymous_AMR.txt\n",
      "reduced_coding_nonsynonymous_CAS.txt\n",
      "reduced_coding_nonsynonymous_EAS.txt\n",
      "reduced_coding_nonsynonymous_EUR.txt\n",
      "reduced_coding_nonsynonymous_FIN.txt\n",
      "reduced_coding_nonsynonymous_MDE.txt\n",
      "SEX.txt\n"
     ]
    },
    {
     "name": "stderr",
     "output_type": "stream",
     "text": [
      "Error: All variants excluded by '--extract range'.\n"
     ]
    }
   ],
   "source": [
    "%%bash\n",
    "\n",
    "WORK_DIR='/home/jupyter/SH3GL2_GP2/'\n",
    "cd $WORK_DIR\n",
    "\n",
    "/home/jupyter/tools/plink --bfile pheno_SH3GL2_CAS --extract range reduced_coding_nonsynonymous_CAS.txt --make-bed --max-maf 0.05 --out coding_nonsynonymous_CAS_rare_0.05 --allow-no-sex\n",
    "ls\n"
   ]
  },
  {
   "cell_type": "code",
   "execution_count": 44,
   "metadata": {},
   "outputs": [
    {
     "ename": "FileNotFoundError",
     "evalue": "[Errno 2] No such file or directory: '/home/jupyter/SH3GL2_GP2/coding_nonsynonymous_pheno_SH3GL2_CAS.assoc'",
     "output_type": "error",
     "traceback": [
      "\u001b[0;31m---------------------------------------------------------------------------\u001b[0m",
      "\u001b[0;31mFileNotFoundError\u001b[0m                         Traceback (most recent call last)",
      "\u001b[0;32m/tmp/ipykernel_152/1813292840.py\u001b[0m in \u001b[0;36m<module>\u001b[0;34m\u001b[0m\n\u001b[0;32m----> 1\u001b[0;31m \u001b[0mSH3GL2_CAS_freq\u001b[0m \u001b[0;34m=\u001b[0m \u001b[0mpd\u001b[0m\u001b[0;34m.\u001b[0m\u001b[0mread_csv\u001b[0m\u001b[0;34m(\u001b[0m\u001b[0;34mf'{WORK_DIR}coding_nonsynonymous_pheno_SH3GL2_CAS.assoc'\u001b[0m\u001b[0;34m,\u001b[0m \u001b[0mdelim_whitespace\u001b[0m\u001b[0;34m=\u001b[0m\u001b[0;32mTrue\u001b[0m\u001b[0;34m)\u001b[0m\u001b[0;34m\u001b[0m\u001b[0;34m\u001b[0m\u001b[0m\n\u001b[0m\u001b[1;32m      2\u001b[0m \u001b[0mSH3GL2_CAS_freq\u001b[0m\u001b[0;34m.\u001b[0m\u001b[0mhead\u001b[0m\u001b[0;34m(\u001b[0m\u001b[0;36m10\u001b[0m\u001b[0;34m)\u001b[0m\u001b[0;34m\u001b[0m\u001b[0;34m\u001b[0m\u001b[0m\n",
      "\u001b[0;32m/opt/conda/lib/python3.7/site-packages/pandas/util/_decorators.py\u001b[0m in \u001b[0;36mwrapper\u001b[0;34m(*args, **kwargs)\u001b[0m\n\u001b[1;32m    309\u001b[0m                     \u001b[0mstacklevel\u001b[0m\u001b[0;34m=\u001b[0m\u001b[0mstacklevel\u001b[0m\u001b[0;34m,\u001b[0m\u001b[0;34m\u001b[0m\u001b[0;34m\u001b[0m\u001b[0m\n\u001b[1;32m    310\u001b[0m                 )\n\u001b[0;32m--> 311\u001b[0;31m             \u001b[0;32mreturn\u001b[0m \u001b[0mfunc\u001b[0m\u001b[0;34m(\u001b[0m\u001b[0;34m*\u001b[0m\u001b[0margs\u001b[0m\u001b[0;34m,\u001b[0m \u001b[0;34m**\u001b[0m\u001b[0mkwargs\u001b[0m\u001b[0;34m)\u001b[0m\u001b[0;34m\u001b[0m\u001b[0;34m\u001b[0m\u001b[0m\n\u001b[0m\u001b[1;32m    312\u001b[0m \u001b[0;34m\u001b[0m\u001b[0m\n\u001b[1;32m    313\u001b[0m         \u001b[0;32mreturn\u001b[0m \u001b[0mwrapper\u001b[0m\u001b[0;34m\u001b[0m\u001b[0;34m\u001b[0m\u001b[0m\n",
      "\u001b[0;32m/opt/conda/lib/python3.7/site-packages/pandas/io/parsers/readers.py\u001b[0m in \u001b[0;36mread_csv\u001b[0;34m(filepath_or_buffer, sep, delimiter, header, names, index_col, usecols, squeeze, prefix, mangle_dupe_cols, dtype, engine, converters, true_values, false_values, skipinitialspace, skiprows, skipfooter, nrows, na_values, keep_default_na, na_filter, verbose, skip_blank_lines, parse_dates, infer_datetime_format, keep_date_col, date_parser, dayfirst, cache_dates, iterator, chunksize, compression, thousands, decimal, lineterminator, quotechar, quoting, doublequote, escapechar, comment, encoding, encoding_errors, dialect, error_bad_lines, warn_bad_lines, on_bad_lines, delim_whitespace, low_memory, memory_map, float_precision, storage_options)\u001b[0m\n\u001b[1;32m    584\u001b[0m     \u001b[0mkwds\u001b[0m\u001b[0;34m.\u001b[0m\u001b[0mupdate\u001b[0m\u001b[0;34m(\u001b[0m\u001b[0mkwds_defaults\u001b[0m\u001b[0;34m)\u001b[0m\u001b[0;34m\u001b[0m\u001b[0;34m\u001b[0m\u001b[0m\n\u001b[1;32m    585\u001b[0m \u001b[0;34m\u001b[0m\u001b[0m\n\u001b[0;32m--> 586\u001b[0;31m     \u001b[0;32mreturn\u001b[0m \u001b[0m_read\u001b[0m\u001b[0;34m(\u001b[0m\u001b[0mfilepath_or_buffer\u001b[0m\u001b[0;34m,\u001b[0m \u001b[0mkwds\u001b[0m\u001b[0;34m)\u001b[0m\u001b[0;34m\u001b[0m\u001b[0;34m\u001b[0m\u001b[0m\n\u001b[0m\u001b[1;32m    587\u001b[0m \u001b[0;34m\u001b[0m\u001b[0m\n\u001b[1;32m    588\u001b[0m \u001b[0;34m\u001b[0m\u001b[0m\n",
      "\u001b[0;32m/opt/conda/lib/python3.7/site-packages/pandas/io/parsers/readers.py\u001b[0m in \u001b[0;36m_read\u001b[0;34m(filepath_or_buffer, kwds)\u001b[0m\n\u001b[1;32m    480\u001b[0m \u001b[0;34m\u001b[0m\u001b[0m\n\u001b[1;32m    481\u001b[0m     \u001b[0;31m# Create the parser.\u001b[0m\u001b[0;34m\u001b[0m\u001b[0;34m\u001b[0m\u001b[0;34m\u001b[0m\u001b[0m\n\u001b[0;32m--> 482\u001b[0;31m     \u001b[0mparser\u001b[0m \u001b[0;34m=\u001b[0m \u001b[0mTextFileReader\u001b[0m\u001b[0;34m(\u001b[0m\u001b[0mfilepath_or_buffer\u001b[0m\u001b[0;34m,\u001b[0m \u001b[0;34m**\u001b[0m\u001b[0mkwds\u001b[0m\u001b[0;34m)\u001b[0m\u001b[0;34m\u001b[0m\u001b[0;34m\u001b[0m\u001b[0m\n\u001b[0m\u001b[1;32m    483\u001b[0m \u001b[0;34m\u001b[0m\u001b[0m\n\u001b[1;32m    484\u001b[0m     \u001b[0;32mif\u001b[0m \u001b[0mchunksize\u001b[0m \u001b[0;32mor\u001b[0m \u001b[0miterator\u001b[0m\u001b[0;34m:\u001b[0m\u001b[0;34m\u001b[0m\u001b[0;34m\u001b[0m\u001b[0m\n",
      "\u001b[0;32m/opt/conda/lib/python3.7/site-packages/pandas/io/parsers/readers.py\u001b[0m in \u001b[0;36m__init__\u001b[0;34m(self, f, engine, **kwds)\u001b[0m\n\u001b[1;32m    809\u001b[0m             \u001b[0mself\u001b[0m\u001b[0;34m.\u001b[0m\u001b[0moptions\u001b[0m\u001b[0;34m[\u001b[0m\u001b[0;34m\"has_index_names\"\u001b[0m\u001b[0;34m]\u001b[0m \u001b[0;34m=\u001b[0m \u001b[0mkwds\u001b[0m\u001b[0;34m[\u001b[0m\u001b[0;34m\"has_index_names\"\u001b[0m\u001b[0;34m]\u001b[0m\u001b[0;34m\u001b[0m\u001b[0;34m\u001b[0m\u001b[0m\n\u001b[1;32m    810\u001b[0m \u001b[0;34m\u001b[0m\u001b[0m\n\u001b[0;32m--> 811\u001b[0;31m         \u001b[0mself\u001b[0m\u001b[0;34m.\u001b[0m\u001b[0m_engine\u001b[0m \u001b[0;34m=\u001b[0m \u001b[0mself\u001b[0m\u001b[0;34m.\u001b[0m\u001b[0m_make_engine\u001b[0m\u001b[0;34m(\u001b[0m\u001b[0mself\u001b[0m\u001b[0;34m.\u001b[0m\u001b[0mengine\u001b[0m\u001b[0;34m)\u001b[0m\u001b[0;34m\u001b[0m\u001b[0;34m\u001b[0m\u001b[0m\n\u001b[0m\u001b[1;32m    812\u001b[0m \u001b[0;34m\u001b[0m\u001b[0m\n\u001b[1;32m    813\u001b[0m     \u001b[0;32mdef\u001b[0m \u001b[0mclose\u001b[0m\u001b[0;34m(\u001b[0m\u001b[0mself\u001b[0m\u001b[0;34m)\u001b[0m\u001b[0;34m:\u001b[0m\u001b[0;34m\u001b[0m\u001b[0;34m\u001b[0m\u001b[0m\n",
      "\u001b[0;32m/opt/conda/lib/python3.7/site-packages/pandas/io/parsers/readers.py\u001b[0m in \u001b[0;36m_make_engine\u001b[0;34m(self, engine)\u001b[0m\n\u001b[1;32m   1038\u001b[0m             )\n\u001b[1;32m   1039\u001b[0m         \u001b[0;31m# error: Too many arguments for \"ParserBase\"\u001b[0m\u001b[0;34m\u001b[0m\u001b[0;34m\u001b[0m\u001b[0;34m\u001b[0m\u001b[0m\n\u001b[0;32m-> 1040\u001b[0;31m         \u001b[0;32mreturn\u001b[0m \u001b[0mmapping\u001b[0m\u001b[0;34m[\u001b[0m\u001b[0mengine\u001b[0m\u001b[0;34m]\u001b[0m\u001b[0;34m(\u001b[0m\u001b[0mself\u001b[0m\u001b[0;34m.\u001b[0m\u001b[0mf\u001b[0m\u001b[0;34m,\u001b[0m \u001b[0;34m**\u001b[0m\u001b[0mself\u001b[0m\u001b[0;34m.\u001b[0m\u001b[0moptions\u001b[0m\u001b[0;34m)\u001b[0m  \u001b[0;31m# type: ignore[call-arg]\u001b[0m\u001b[0;34m\u001b[0m\u001b[0;34m\u001b[0m\u001b[0m\n\u001b[0m\u001b[1;32m   1041\u001b[0m \u001b[0;34m\u001b[0m\u001b[0m\n\u001b[1;32m   1042\u001b[0m     \u001b[0;32mdef\u001b[0m \u001b[0m_failover_to_python\u001b[0m\u001b[0;34m(\u001b[0m\u001b[0mself\u001b[0m\u001b[0;34m)\u001b[0m\u001b[0;34m:\u001b[0m\u001b[0;34m\u001b[0m\u001b[0;34m\u001b[0m\u001b[0m\n",
      "\u001b[0;32m/opt/conda/lib/python3.7/site-packages/pandas/io/parsers/c_parser_wrapper.py\u001b[0m in \u001b[0;36m__init__\u001b[0;34m(self, src, **kwds)\u001b[0m\n\u001b[1;32m     49\u001b[0m \u001b[0;34m\u001b[0m\u001b[0m\n\u001b[1;32m     50\u001b[0m         \u001b[0;31m# open handles\u001b[0m\u001b[0;34m\u001b[0m\u001b[0;34m\u001b[0m\u001b[0;34m\u001b[0m\u001b[0m\n\u001b[0;32m---> 51\u001b[0;31m         \u001b[0mself\u001b[0m\u001b[0;34m.\u001b[0m\u001b[0m_open_handles\u001b[0m\u001b[0;34m(\u001b[0m\u001b[0msrc\u001b[0m\u001b[0;34m,\u001b[0m \u001b[0mkwds\u001b[0m\u001b[0;34m)\u001b[0m\u001b[0;34m\u001b[0m\u001b[0;34m\u001b[0m\u001b[0m\n\u001b[0m\u001b[1;32m     52\u001b[0m         \u001b[0;32massert\u001b[0m \u001b[0mself\u001b[0m\u001b[0;34m.\u001b[0m\u001b[0mhandles\u001b[0m \u001b[0;32mis\u001b[0m \u001b[0;32mnot\u001b[0m \u001b[0;32mNone\u001b[0m\u001b[0;34m\u001b[0m\u001b[0;34m\u001b[0m\u001b[0m\n\u001b[1;32m     53\u001b[0m \u001b[0;34m\u001b[0m\u001b[0m\n",
      "\u001b[0;32m/opt/conda/lib/python3.7/site-packages/pandas/io/parsers/base_parser.py\u001b[0m in \u001b[0;36m_open_handles\u001b[0;34m(self, src, kwds)\u001b[0m\n\u001b[1;32m    227\u001b[0m             \u001b[0mmemory_map\u001b[0m\u001b[0;34m=\u001b[0m\u001b[0mkwds\u001b[0m\u001b[0;34m.\u001b[0m\u001b[0mget\u001b[0m\u001b[0;34m(\u001b[0m\u001b[0;34m\"memory_map\"\u001b[0m\u001b[0;34m,\u001b[0m \u001b[0;32mFalse\u001b[0m\u001b[0;34m)\u001b[0m\u001b[0;34m,\u001b[0m\u001b[0;34m\u001b[0m\u001b[0;34m\u001b[0m\u001b[0m\n\u001b[1;32m    228\u001b[0m             \u001b[0mstorage_options\u001b[0m\u001b[0;34m=\u001b[0m\u001b[0mkwds\u001b[0m\u001b[0;34m.\u001b[0m\u001b[0mget\u001b[0m\u001b[0;34m(\u001b[0m\u001b[0;34m\"storage_options\"\u001b[0m\u001b[0;34m,\u001b[0m \u001b[0;32mNone\u001b[0m\u001b[0;34m)\u001b[0m\u001b[0;34m,\u001b[0m\u001b[0;34m\u001b[0m\u001b[0;34m\u001b[0m\u001b[0m\n\u001b[0;32m--> 229\u001b[0;31m             \u001b[0merrors\u001b[0m\u001b[0;34m=\u001b[0m\u001b[0mkwds\u001b[0m\u001b[0;34m.\u001b[0m\u001b[0mget\u001b[0m\u001b[0;34m(\u001b[0m\u001b[0;34m\"encoding_errors\"\u001b[0m\u001b[0;34m,\u001b[0m \u001b[0;34m\"strict\"\u001b[0m\u001b[0;34m)\u001b[0m\u001b[0;34m,\u001b[0m\u001b[0;34m\u001b[0m\u001b[0;34m\u001b[0m\u001b[0m\n\u001b[0m\u001b[1;32m    230\u001b[0m         )\n\u001b[1;32m    231\u001b[0m \u001b[0;34m\u001b[0m\u001b[0m\n",
      "\u001b[0;32m/opt/conda/lib/python3.7/site-packages/pandas/io/common.py\u001b[0m in \u001b[0;36mget_handle\u001b[0;34m(path_or_buf, mode, encoding, compression, memory_map, is_text, errors, storage_options)\u001b[0m\n\u001b[1;32m    705\u001b[0m                 \u001b[0mencoding\u001b[0m\u001b[0;34m=\u001b[0m\u001b[0mioargs\u001b[0m\u001b[0;34m.\u001b[0m\u001b[0mencoding\u001b[0m\u001b[0;34m,\u001b[0m\u001b[0;34m\u001b[0m\u001b[0;34m\u001b[0m\u001b[0m\n\u001b[1;32m    706\u001b[0m                 \u001b[0merrors\u001b[0m\u001b[0;34m=\u001b[0m\u001b[0merrors\u001b[0m\u001b[0;34m,\u001b[0m\u001b[0;34m\u001b[0m\u001b[0;34m\u001b[0m\u001b[0m\n\u001b[0;32m--> 707\u001b[0;31m                 \u001b[0mnewline\u001b[0m\u001b[0;34m=\u001b[0m\u001b[0;34m\"\"\u001b[0m\u001b[0;34m,\u001b[0m\u001b[0;34m\u001b[0m\u001b[0;34m\u001b[0m\u001b[0m\n\u001b[0m\u001b[1;32m    708\u001b[0m             )\n\u001b[1;32m    709\u001b[0m         \u001b[0;32melse\u001b[0m\u001b[0;34m:\u001b[0m\u001b[0;34m\u001b[0m\u001b[0;34m\u001b[0m\u001b[0m\n",
      "\u001b[0;31mFileNotFoundError\u001b[0m: [Errno 2] No such file or directory: '/home/jupyter/SH3GL2_GP2/coding_nonsynonymous_pheno_SH3GL2_CAS.assoc'"
     ]
    }
   ],
   "source": [
    "SH3GL2_CAS_freq = pd.read_csv(f'{WORK_DIR}coding_nonsynonymous_pheno_SH3GL2_CAS.assoc', delim_whitespace=True)\n",
    "SH3GL2_CAS_freq.head(10)"
   ]
  },
  {
   "cell_type": "markdown",
   "metadata": {},
   "source": [
    "## Calculate freq of HMZ in cases versus controls"
   ]
  },
  {
   "cell_type": "code",
   "execution_count": 46,
   "metadata": {},
   "outputs": [
    {
     "name": "stdout",
     "output_type": "stream",
     "text": [
      "PLINK v1.90b6.9 64-bit (4 Mar 2019)            www.cog-genomics.org/plink/1.9/\n",
      "(C) 2005-2019 Shaun Purcell, Christopher Chang   GNU General Public License v3\n",
      "Logging to coding_nonsynonymous_pheno_SH3GL2_CAS.log.\n",
      "Options in effect:\n",
      "  --bfile pheno_SH3GL2_CAS\n",
      "  --extract range reduced_coding_nonsynonymous_CAS.txt\n",
      "  --out coding_nonsynonymous_pheno_SH3GL2_CAS\n",
      "  --recode A\n",
      "\n",
      "7450 MB RAM detected; reserving 3725 MB for main workspace.\n",
      "1262 variants loaded from .bim file.\n",
      "478 people (209 males, 269 females) loaded from .fam.\n",
      "474 phenotype values loaded from .fam.\n",
      "chr9_AAC_release5.log\n",
      "chr9_AAC_release5.pgen\n",
      "chr9_AAC_release5.psam\n",
      "chr9_AAC_release5.pvar\n",
      "chr9_AFR_release4.log\n",
      "chr9_AFR_release4.pgen\n",
      "chr9_AFR_release4.psam\n",
      "chr9_AFR_release4.pvar\n",
      "chr9_AFR_release5.log\n",
      "chr9_AFR_release5.pgen\n",
      "chr9_AFR_release5.psam\n",
      "chr9_AFR_release5.pvar\n",
      "chr9_AJ_release5.log\n",
      "chr9_AJ_release5.pgen\n",
      "chr9_AJ_release5.psam\n",
      "chr9_AJ_release5.pvar\n",
      "chr9_AMR_release5.log\n",
      "chr9_AMR_release5.pgen\n",
      "chr9_AMR_release5.psam\n",
      "chr9_AMR_release5.pvar\n",
      "chr9_CAS_release5.log\n",
      "chr9_CAS_release5.pgen\n",
      "chr9_CAS_release5.psam\n",
      "chr9_CAS_release5.pvar\n",
      "chr9_EAS_release5.log\n",
      "chr9_EAS_release5.pgen\n",
      "chr9_EAS_release5.psam\n",
      "chr9_EAS_release5.pvar\n",
      "chr9_EUR_release4.log\n",
      "chr9_EUR_release4.pgen\n",
      "chr9_EUR_release4.psam\n",
      "chr9_EUR_release4.pvar\n",
      "chr9_EUR_release5.log\n",
      "chr9_EUR_release5.pgen\n",
      "chr9_EUR_release5.psam\n",
      "chr9_EUR_release5.pvar\n",
      "chr9_FIN_release5.log\n",
      "chr9_FIN_release5.pgen\n",
      "chr9_FIN_release5.psam\n",
      "chr9_FIN_release5.pvar\n",
      "chr9_MDE_release5.log\n",
      "chr9_MDE_release5.pgen\n",
      "chr9_MDE_release5.psam\n",
      "chr9_MDE_release5.pvar\n",
      "chr9_SAS_release5.log\n",
      "chr9_SAS_release5.pgen\n",
      "chr9_SAS_release5.psam\n",
      "chr9_SAS_release5.pvar\n",
      "coding_nonsynonymous_AAC_rare_0.05.log\n",
      "coding_nonsynonymous_AJ_rare_0.05.log\n",
      "coding_nonsynonymous_AMR_rare_0.05.log\n",
      "coding_nonsynonymous_CAS_rare_0.05.log\n",
      "coding_nonsynonymous_EUR_rare_0.05.bed\n",
      "coding_nonsynonymous_EUR_rare_0.05.bim\n",
      "coding_nonsynonymous_EUR_rare_0.05.fam\n",
      "coding_nonsynonymous_EUR_rare_0.05.log\n",
      "coding_nonsynonymous_FIN_rare_0.05.log\n",
      "coding_nonsynonymous_pheno_SH3GL2_AAC.log\n",
      "coding_nonsynonymous_pheno_SH3GL2_AJ.log\n",
      "coding_nonsynonymous_pheno_SH3GL2_AMR.log\n",
      "coding_nonsynonymous_pheno_SH3GL2_CAS.log\n",
      "coding_nonsynonymous_pheno_SH3GL2_EUR.assoc\n",
      "coding_nonsynonymous_pheno_SH3GL2_EUR.assoc.adjusted\n",
      "coding_nonsynonymous_pheno_SH3GL2_EUR.log\n",
      "coding_nonsynonymous_pheno_SH3GL2_EUR.raw\n",
      "coding_nonsynonymous_pheno_SH3GL2_FIN.log\n",
      "coding_nonsynonymous_pheno_SH3GL2_MDE.log\n",
      "coding_nonsynonymous.txt\n",
      "master_key_release4_final.csv\n",
      "master_key_release5_final.csv\n",
      "pheno_SH3GL2_AAC.annovar.avinput\n",
      "pheno_SH3GL2_AAC.annovar.hg38_multianno.txt\n",
      "pheno_SH3GL2_AAC.annovar.hg38_multianno.vcf\n",
      "pheno_SH3GL2_AAC.bed\n",
      "pheno_SH3GL2_AAC.bim\n",
      "pheno_SH3GL2_AAC.fam\n",
      "pheno_SH3GL2_AAC.log\n",
      "pheno_SH3GL2_AAC.vcf.gz\n",
      "pheno_SH3GL2_AAC.vcf.gz.tbi\n",
      "pheno_SH3GL2_AFR.annovar.avinput\n",
      "pheno_SH3GL2_AFR.annovar.hg38_multianno.txt\n",
      "pheno_SH3GL2_AFR.annovar.hg38_multianno.vcf\n",
      "pheno_SH3GL2_AFR.bed\n",
      "pheno_SH3GL2_AFR.bim\n",
      "pheno_SH3GL2_AFR.fam\n",
      "pheno_SH3GL2_AFR.log\n",
      "pheno_SH3GL2_AFR.vcf\n",
      "pheno_SH3GL2_AFR.vcf.gz\n",
      "pheno_SH3GL2_AFR.vcf.gz.tbi\n",
      "pheno_SH3GL2_AJ.annovar.avinput\n",
      "pheno_SH3GL2_AJ.annovar.hg38_multianno.txt\n",
      "pheno_SH3GL2_AJ.annovar.hg38_multianno.vcf\n",
      "pheno_SH3GL2_AJ.bed\n",
      "pheno_SH3GL2_AJ.bim\n",
      "pheno_SH3GL2_AJ.fam\n",
      "pheno_SH3GL2_AJ.log\n",
      "pheno_SH3GL2_AJ.vcf.gz\n",
      "pheno_SH3GL2_AJ.vcf.gz.tbi\n",
      "pheno_SH3GL2_AMR.annovar.avinput\n",
      "pheno_SH3GL2_AMR.annovar.hg38_multianno.txt\n",
      "pheno_SH3GL2_AMR.annovar.hg38_multianno.vcf\n",
      "pheno_SH3GL2_AMR.bed\n",
      "pheno_SH3GL2_AMR.bim\n",
      "pheno_SH3GL2_AMR.fam\n",
      "pheno_SH3GL2_AMR.log\n",
      "pheno_SH3GL2_AMR.vcf\n",
      "pheno_SH3GL2_AMR.vcf.gz\n",
      "pheno_SH3GL2_AMR.vcf.gz.tbi\n",
      "pheno_SH3GL2_CAS.annovar.avinput\n",
      "pheno_SH3GL2_CAS.annovar.hg38_multianno.txt\n",
      "pheno_SH3GL2_CAS.annovar.hg38_multianno.vcf\n",
      "pheno_SH3GL2_CAS.bed\n",
      "pheno_SH3GL2_CAS.bim\n",
      "pheno_SH3GL2_CAS.fam\n",
      "pheno_SH3GL2_CAS.log\n",
      "pheno_SH3GL2_CAS.vcf\n",
      "pheno_SH3GL2_CAS.vcf.gz\n",
      "pheno_SH3GL2_CAS.vcf.gz.tbi\n",
      "pheno_SH3GL2_EAS.annovar.avinput\n",
      "pheno_SH3GL2_EAS.annovar.hg38_multianno.txt\n",
      "pheno_SH3GL2_EAS.annovar.hg38_multianno.vcf\n",
      "pheno_SH3GL2_EAS.bed\n",
      "pheno_SH3GL2_EAS.bim\n",
      "pheno_SH3GL2_EAS.fam\n",
      "pheno_SH3GL2_EAS.log\n",
      "pheno_SH3GL2_EAS.vcf.gz\n",
      "pheno_SH3GL2_EAS.vcf.gz.tbi\n",
      "pheno_SH3GL2_EUR.annovar.avinput\n",
      "pheno_SH3GL2_EUR.annovar.hg38_multianno.txt\n",
      "pheno_SH3GL2_EUR.annovar.hg38_multianno.vcf\n",
      "pheno_SH3GL2_EUR.bed\n",
      "pheno_SH3GL2_EUR.bim\n",
      "pheno_SH3GL2_EUR.fam\n",
      "pheno_SH3GL2_EUR.log\n",
      "pheno_SH3GL2_EUR.vcf.gz\n",
      "pheno_SH3GL2_EUR.vcf.gz.tbi\n",
      "pheno_SH3GL2_FIN.annovar.avinput\n",
      "pheno_SH3GL2_FIN.annovar.hg38_multianno.txt\n",
      "pheno_SH3GL2_FIN.annovar.hg38_multianno.vcf\n",
      "pheno_SH3GL2_FIN.bed\n",
      "pheno_SH3GL2_FIN.bim\n",
      "pheno_SH3GL2_FIN.fam\n",
      "pheno_SH3GL2_FIN.log\n",
      "pheno_SH3GL2_FIN.vcf.gz\n",
      "pheno_SH3GL2_FIN.vcf.gz.tbi\n",
      "pheno_SH3GL2_MDE.annovar.avinput\n",
      "pheno_SH3GL2_MDE.annovar.hg38_multianno.txt\n",
      "pheno_SH3GL2_MDE.annovar.hg38_multianno.vcf\n",
      "pheno_SH3GL2_MDE.bed\n",
      "pheno_SH3GL2_MDE.bim\n",
      "pheno_SH3GL2_MDE.fam\n",
      "pheno_SH3GL2_MDE.log\n",
      "pheno_SH3GL2_MDE.vcf.gz\n",
      "pheno_SH3GL2_MDE.vcf.gz.tbi\n",
      "pheno_SH3GL2_SAS.annovar.avinput\n",
      "pheno_SH3GL2_SAS.annovar.hg38_multianno.txt\n",
      "pheno_SH3GL2_SAS.annovar.hg38_multianno.vcf\n",
      "pheno_SH3GL2_SAS.bed\n",
      "pheno_SH3GL2_SAS.bim\n",
      "pheno_SH3GL2_SAS.fam\n",
      "pheno_SH3GL2_SAS.log\n",
      "pheno_SH3GL2_SAS.vcf.gz\n",
      "pheno_SH3GL2_SAS.vcf.gz.tbi\n",
      "PHENO.txt\n",
      "reduced_coding_nonsynonymous_AAC.txt\n",
      "reduced_coding_nonsynonymous_AJ.txt\n",
      "reduced_coding_nonsynonymous_AMR.txt\n",
      "reduced_coding_nonsynonymous_CAS.txt\n",
      "reduced_coding_nonsynonymous_EAS.txt\n",
      "reduced_coding_nonsynonymous_EUR.txt\n",
      "reduced_coding_nonsynonymous_FIN.txt\n",
      "reduced_coding_nonsynonymous_MDE.txt\n",
      "SEX.txt\n"
     ]
    },
    {
     "name": "stderr",
     "output_type": "stream",
     "text": [
      "Error: All variants excluded by '--extract range'.\n"
     ]
    }
   ],
   "source": [
    "%%bash\n",
    "\n",
    "WORK_DIR='/home/jupyter/SH3GL2_GP2/'\n",
    "cd $WORK_DIR\n",
    "\n",
    "/home/jupyter/tools/plink --bfile pheno_SH3GL2_CAS --extract range reduced_coding_nonsynonymous_CAS.txt --recode A --out coding_nonsynonymous_pheno_SH3GL2_CAS\n",
    "ls"
   ]
  },
  {
   "cell_type": "code",
   "execution_count": 47,
   "metadata": {},
   "outputs": [
    {
     "ename": "FileNotFoundError",
     "evalue": "[Errno 2] No such file or directory: '/home/jupyter/SH3GL2_GP2/coding_nonsynonymous_pheno_SH3GL2_CAS.assoc'",
     "output_type": "error",
     "traceback": [
      "\u001b[0;31m---------------------------------------------------------------------------\u001b[0m",
      "\u001b[0;31mFileNotFoundError\u001b[0m                         Traceback (most recent call last)",
      "\u001b[0;32m/tmp/ipykernel_152/668783169.py\u001b[0m in \u001b[0;36m<module>\u001b[0;34m\u001b[0m\n\u001b[1;32m      1\u001b[0m \u001b[0;31m#Some errors may appear if no variants are found\u001b[0m\u001b[0;34m\u001b[0m\u001b[0;34m\u001b[0m\u001b[0;34m\u001b[0m\u001b[0m\n\u001b[0;32m----> 2\u001b[0;31m \u001b[0mSH3GL2_CAS_freq\u001b[0m \u001b[0;34m=\u001b[0m \u001b[0mpd\u001b[0m\u001b[0;34m.\u001b[0m\u001b[0mread_csv\u001b[0m\u001b[0;34m(\u001b[0m\u001b[0;34mf'{WORK_DIR}coding_nonsynonymous_pheno_SH3GL2_CAS.assoc'\u001b[0m\u001b[0;34m,\u001b[0m \u001b[0mdelim_whitespace\u001b[0m\u001b[0;34m=\u001b[0m\u001b[0;32mTrue\u001b[0m\u001b[0;34m)\u001b[0m\u001b[0;34m\u001b[0m\u001b[0;34m\u001b[0m\u001b[0m\n\u001b[0m\u001b[1;32m      3\u001b[0m \u001b[0mSH3GL2_CAS_freq\u001b[0m\u001b[0;34m.\u001b[0m\u001b[0mhead\u001b[0m\u001b[0;34m(\u001b[0m\u001b[0;34m)\u001b[0m\u001b[0;34m\u001b[0m\u001b[0;34m\u001b[0m\u001b[0m\n",
      "\u001b[0;32m/opt/conda/lib/python3.7/site-packages/pandas/util/_decorators.py\u001b[0m in \u001b[0;36mwrapper\u001b[0;34m(*args, **kwargs)\u001b[0m\n\u001b[1;32m    309\u001b[0m                     \u001b[0mstacklevel\u001b[0m\u001b[0;34m=\u001b[0m\u001b[0mstacklevel\u001b[0m\u001b[0;34m,\u001b[0m\u001b[0;34m\u001b[0m\u001b[0;34m\u001b[0m\u001b[0m\n\u001b[1;32m    310\u001b[0m                 )\n\u001b[0;32m--> 311\u001b[0;31m             \u001b[0;32mreturn\u001b[0m \u001b[0mfunc\u001b[0m\u001b[0;34m(\u001b[0m\u001b[0;34m*\u001b[0m\u001b[0margs\u001b[0m\u001b[0;34m,\u001b[0m \u001b[0;34m**\u001b[0m\u001b[0mkwargs\u001b[0m\u001b[0;34m)\u001b[0m\u001b[0;34m\u001b[0m\u001b[0;34m\u001b[0m\u001b[0m\n\u001b[0m\u001b[1;32m    312\u001b[0m \u001b[0;34m\u001b[0m\u001b[0m\n\u001b[1;32m    313\u001b[0m         \u001b[0;32mreturn\u001b[0m \u001b[0mwrapper\u001b[0m\u001b[0;34m\u001b[0m\u001b[0;34m\u001b[0m\u001b[0m\n",
      "\u001b[0;32m/opt/conda/lib/python3.7/site-packages/pandas/io/parsers/readers.py\u001b[0m in \u001b[0;36mread_csv\u001b[0;34m(filepath_or_buffer, sep, delimiter, header, names, index_col, usecols, squeeze, prefix, mangle_dupe_cols, dtype, engine, converters, true_values, false_values, skipinitialspace, skiprows, skipfooter, nrows, na_values, keep_default_na, na_filter, verbose, skip_blank_lines, parse_dates, infer_datetime_format, keep_date_col, date_parser, dayfirst, cache_dates, iterator, chunksize, compression, thousands, decimal, lineterminator, quotechar, quoting, doublequote, escapechar, comment, encoding, encoding_errors, dialect, error_bad_lines, warn_bad_lines, on_bad_lines, delim_whitespace, low_memory, memory_map, float_precision, storage_options)\u001b[0m\n\u001b[1;32m    584\u001b[0m     \u001b[0mkwds\u001b[0m\u001b[0;34m.\u001b[0m\u001b[0mupdate\u001b[0m\u001b[0;34m(\u001b[0m\u001b[0mkwds_defaults\u001b[0m\u001b[0;34m)\u001b[0m\u001b[0;34m\u001b[0m\u001b[0;34m\u001b[0m\u001b[0m\n\u001b[1;32m    585\u001b[0m \u001b[0;34m\u001b[0m\u001b[0m\n\u001b[0;32m--> 586\u001b[0;31m     \u001b[0;32mreturn\u001b[0m \u001b[0m_read\u001b[0m\u001b[0;34m(\u001b[0m\u001b[0mfilepath_or_buffer\u001b[0m\u001b[0;34m,\u001b[0m \u001b[0mkwds\u001b[0m\u001b[0;34m)\u001b[0m\u001b[0;34m\u001b[0m\u001b[0;34m\u001b[0m\u001b[0m\n\u001b[0m\u001b[1;32m    587\u001b[0m \u001b[0;34m\u001b[0m\u001b[0m\n\u001b[1;32m    588\u001b[0m \u001b[0;34m\u001b[0m\u001b[0m\n",
      "\u001b[0;32m/opt/conda/lib/python3.7/site-packages/pandas/io/parsers/readers.py\u001b[0m in \u001b[0;36m_read\u001b[0;34m(filepath_or_buffer, kwds)\u001b[0m\n\u001b[1;32m    480\u001b[0m \u001b[0;34m\u001b[0m\u001b[0m\n\u001b[1;32m    481\u001b[0m     \u001b[0;31m# Create the parser.\u001b[0m\u001b[0;34m\u001b[0m\u001b[0;34m\u001b[0m\u001b[0;34m\u001b[0m\u001b[0m\n\u001b[0;32m--> 482\u001b[0;31m     \u001b[0mparser\u001b[0m \u001b[0;34m=\u001b[0m \u001b[0mTextFileReader\u001b[0m\u001b[0;34m(\u001b[0m\u001b[0mfilepath_or_buffer\u001b[0m\u001b[0;34m,\u001b[0m \u001b[0;34m**\u001b[0m\u001b[0mkwds\u001b[0m\u001b[0;34m)\u001b[0m\u001b[0;34m\u001b[0m\u001b[0;34m\u001b[0m\u001b[0m\n\u001b[0m\u001b[1;32m    483\u001b[0m \u001b[0;34m\u001b[0m\u001b[0m\n\u001b[1;32m    484\u001b[0m     \u001b[0;32mif\u001b[0m \u001b[0mchunksize\u001b[0m \u001b[0;32mor\u001b[0m \u001b[0miterator\u001b[0m\u001b[0;34m:\u001b[0m\u001b[0;34m\u001b[0m\u001b[0;34m\u001b[0m\u001b[0m\n",
      "\u001b[0;32m/opt/conda/lib/python3.7/site-packages/pandas/io/parsers/readers.py\u001b[0m in \u001b[0;36m__init__\u001b[0;34m(self, f, engine, **kwds)\u001b[0m\n\u001b[1;32m    809\u001b[0m             \u001b[0mself\u001b[0m\u001b[0;34m.\u001b[0m\u001b[0moptions\u001b[0m\u001b[0;34m[\u001b[0m\u001b[0;34m\"has_index_names\"\u001b[0m\u001b[0;34m]\u001b[0m \u001b[0;34m=\u001b[0m \u001b[0mkwds\u001b[0m\u001b[0;34m[\u001b[0m\u001b[0;34m\"has_index_names\"\u001b[0m\u001b[0;34m]\u001b[0m\u001b[0;34m\u001b[0m\u001b[0;34m\u001b[0m\u001b[0m\n\u001b[1;32m    810\u001b[0m \u001b[0;34m\u001b[0m\u001b[0m\n\u001b[0;32m--> 811\u001b[0;31m         \u001b[0mself\u001b[0m\u001b[0;34m.\u001b[0m\u001b[0m_engine\u001b[0m \u001b[0;34m=\u001b[0m \u001b[0mself\u001b[0m\u001b[0;34m.\u001b[0m\u001b[0m_make_engine\u001b[0m\u001b[0;34m(\u001b[0m\u001b[0mself\u001b[0m\u001b[0;34m.\u001b[0m\u001b[0mengine\u001b[0m\u001b[0;34m)\u001b[0m\u001b[0;34m\u001b[0m\u001b[0;34m\u001b[0m\u001b[0m\n\u001b[0m\u001b[1;32m    812\u001b[0m \u001b[0;34m\u001b[0m\u001b[0m\n\u001b[1;32m    813\u001b[0m     \u001b[0;32mdef\u001b[0m \u001b[0mclose\u001b[0m\u001b[0;34m(\u001b[0m\u001b[0mself\u001b[0m\u001b[0;34m)\u001b[0m\u001b[0;34m:\u001b[0m\u001b[0;34m\u001b[0m\u001b[0;34m\u001b[0m\u001b[0m\n",
      "\u001b[0;32m/opt/conda/lib/python3.7/site-packages/pandas/io/parsers/readers.py\u001b[0m in \u001b[0;36m_make_engine\u001b[0;34m(self, engine)\u001b[0m\n\u001b[1;32m   1038\u001b[0m             )\n\u001b[1;32m   1039\u001b[0m         \u001b[0;31m# error: Too many arguments for \"ParserBase\"\u001b[0m\u001b[0;34m\u001b[0m\u001b[0;34m\u001b[0m\u001b[0;34m\u001b[0m\u001b[0m\n\u001b[0;32m-> 1040\u001b[0;31m         \u001b[0;32mreturn\u001b[0m \u001b[0mmapping\u001b[0m\u001b[0;34m[\u001b[0m\u001b[0mengine\u001b[0m\u001b[0;34m]\u001b[0m\u001b[0;34m(\u001b[0m\u001b[0mself\u001b[0m\u001b[0;34m.\u001b[0m\u001b[0mf\u001b[0m\u001b[0;34m,\u001b[0m \u001b[0;34m**\u001b[0m\u001b[0mself\u001b[0m\u001b[0;34m.\u001b[0m\u001b[0moptions\u001b[0m\u001b[0;34m)\u001b[0m  \u001b[0;31m# type: ignore[call-arg]\u001b[0m\u001b[0;34m\u001b[0m\u001b[0;34m\u001b[0m\u001b[0m\n\u001b[0m\u001b[1;32m   1041\u001b[0m \u001b[0;34m\u001b[0m\u001b[0m\n\u001b[1;32m   1042\u001b[0m     \u001b[0;32mdef\u001b[0m \u001b[0m_failover_to_python\u001b[0m\u001b[0;34m(\u001b[0m\u001b[0mself\u001b[0m\u001b[0;34m)\u001b[0m\u001b[0;34m:\u001b[0m\u001b[0;34m\u001b[0m\u001b[0;34m\u001b[0m\u001b[0m\n",
      "\u001b[0;32m/opt/conda/lib/python3.7/site-packages/pandas/io/parsers/c_parser_wrapper.py\u001b[0m in \u001b[0;36m__init__\u001b[0;34m(self, src, **kwds)\u001b[0m\n\u001b[1;32m     49\u001b[0m \u001b[0;34m\u001b[0m\u001b[0m\n\u001b[1;32m     50\u001b[0m         \u001b[0;31m# open handles\u001b[0m\u001b[0;34m\u001b[0m\u001b[0;34m\u001b[0m\u001b[0;34m\u001b[0m\u001b[0m\n\u001b[0;32m---> 51\u001b[0;31m         \u001b[0mself\u001b[0m\u001b[0;34m.\u001b[0m\u001b[0m_open_handles\u001b[0m\u001b[0;34m(\u001b[0m\u001b[0msrc\u001b[0m\u001b[0;34m,\u001b[0m \u001b[0mkwds\u001b[0m\u001b[0;34m)\u001b[0m\u001b[0;34m\u001b[0m\u001b[0;34m\u001b[0m\u001b[0m\n\u001b[0m\u001b[1;32m     52\u001b[0m         \u001b[0;32massert\u001b[0m \u001b[0mself\u001b[0m\u001b[0;34m.\u001b[0m\u001b[0mhandles\u001b[0m \u001b[0;32mis\u001b[0m \u001b[0;32mnot\u001b[0m \u001b[0;32mNone\u001b[0m\u001b[0;34m\u001b[0m\u001b[0;34m\u001b[0m\u001b[0m\n\u001b[1;32m     53\u001b[0m \u001b[0;34m\u001b[0m\u001b[0m\n",
      "\u001b[0;32m/opt/conda/lib/python3.7/site-packages/pandas/io/parsers/base_parser.py\u001b[0m in \u001b[0;36m_open_handles\u001b[0;34m(self, src, kwds)\u001b[0m\n\u001b[1;32m    227\u001b[0m             \u001b[0mmemory_map\u001b[0m\u001b[0;34m=\u001b[0m\u001b[0mkwds\u001b[0m\u001b[0;34m.\u001b[0m\u001b[0mget\u001b[0m\u001b[0;34m(\u001b[0m\u001b[0;34m\"memory_map\"\u001b[0m\u001b[0;34m,\u001b[0m \u001b[0;32mFalse\u001b[0m\u001b[0;34m)\u001b[0m\u001b[0;34m,\u001b[0m\u001b[0;34m\u001b[0m\u001b[0;34m\u001b[0m\u001b[0m\n\u001b[1;32m    228\u001b[0m             \u001b[0mstorage_options\u001b[0m\u001b[0;34m=\u001b[0m\u001b[0mkwds\u001b[0m\u001b[0;34m.\u001b[0m\u001b[0mget\u001b[0m\u001b[0;34m(\u001b[0m\u001b[0;34m\"storage_options\"\u001b[0m\u001b[0;34m,\u001b[0m \u001b[0;32mNone\u001b[0m\u001b[0;34m)\u001b[0m\u001b[0;34m,\u001b[0m\u001b[0;34m\u001b[0m\u001b[0;34m\u001b[0m\u001b[0m\n\u001b[0;32m--> 229\u001b[0;31m             \u001b[0merrors\u001b[0m\u001b[0;34m=\u001b[0m\u001b[0mkwds\u001b[0m\u001b[0;34m.\u001b[0m\u001b[0mget\u001b[0m\u001b[0;34m(\u001b[0m\u001b[0;34m\"encoding_errors\"\u001b[0m\u001b[0;34m,\u001b[0m \u001b[0;34m\"strict\"\u001b[0m\u001b[0;34m)\u001b[0m\u001b[0;34m,\u001b[0m\u001b[0;34m\u001b[0m\u001b[0;34m\u001b[0m\u001b[0m\n\u001b[0m\u001b[1;32m    230\u001b[0m         )\n\u001b[1;32m    231\u001b[0m \u001b[0;34m\u001b[0m\u001b[0m\n",
      "\u001b[0;32m/opt/conda/lib/python3.7/site-packages/pandas/io/common.py\u001b[0m in \u001b[0;36mget_handle\u001b[0;34m(path_or_buf, mode, encoding, compression, memory_map, is_text, errors, storage_options)\u001b[0m\n\u001b[1;32m    705\u001b[0m                 \u001b[0mencoding\u001b[0m\u001b[0;34m=\u001b[0m\u001b[0mioargs\u001b[0m\u001b[0;34m.\u001b[0m\u001b[0mencoding\u001b[0m\u001b[0;34m,\u001b[0m\u001b[0;34m\u001b[0m\u001b[0;34m\u001b[0m\u001b[0m\n\u001b[1;32m    706\u001b[0m                 \u001b[0merrors\u001b[0m\u001b[0;34m=\u001b[0m\u001b[0merrors\u001b[0m\u001b[0;34m,\u001b[0m\u001b[0;34m\u001b[0m\u001b[0;34m\u001b[0m\u001b[0m\n\u001b[0;32m--> 707\u001b[0;31m                 \u001b[0mnewline\u001b[0m\u001b[0;34m=\u001b[0m\u001b[0;34m\"\"\u001b[0m\u001b[0;34m,\u001b[0m\u001b[0;34m\u001b[0m\u001b[0;34m\u001b[0m\u001b[0m\n\u001b[0m\u001b[1;32m    708\u001b[0m             )\n\u001b[1;32m    709\u001b[0m         \u001b[0;32melse\u001b[0m\u001b[0;34m:\u001b[0m\u001b[0;34m\u001b[0m\u001b[0;34m\u001b[0m\u001b[0m\n",
      "\u001b[0;31mFileNotFoundError\u001b[0m: [Errno 2] No such file or directory: '/home/jupyter/SH3GL2_GP2/coding_nonsynonymous_pheno_SH3GL2_CAS.assoc'"
     ]
    }
   ],
   "source": [
    "#Some errors may appear if no variants are found\n",
    "SH3GL2_CAS_freq = pd.read_csv(f'{WORK_DIR}coding_nonsynonymous_pheno_SH3GL2_CAS.assoc', delim_whitespace=True)\n",
    "SH3GL2_CAS_freq.head()"
   ]
  },
  {
   "cell_type": "code",
   "execution_count": 48,
   "metadata": {},
   "outputs": [
    {
     "ename": "FileNotFoundError",
     "evalue": "[Errno 2] No such file or directory: '/home/jupyter/SH3GL2_GP2/coding_nonsynonymous_pheno_SH3GL2_CAS.raw'",
     "output_type": "error",
     "traceback": [
      "\u001b[0;31m---------------------------------------------------------------------------\u001b[0m",
      "\u001b[0;31mFileNotFoundError\u001b[0m                         Traceback (most recent call last)",
      "\u001b[0;32m/tmp/ipykernel_152/1009009367.py\u001b[0m in \u001b[0;36m<module>\u001b[0;34m\u001b[0m\n\u001b[0;32m----> 1\u001b[0;31m \u001b[0mSH3GL2_CAS_recode\u001b[0m \u001b[0;34m=\u001b[0m \u001b[0mpd\u001b[0m\u001b[0;34m.\u001b[0m\u001b[0mread_csv\u001b[0m\u001b[0;34m(\u001b[0m\u001b[0;34mf'{WORK_DIR}coding_nonsynonymous_pheno_SH3GL2_CAS.raw'\u001b[0m\u001b[0;34m,\u001b[0m \u001b[0mdelim_whitespace\u001b[0m\u001b[0;34m=\u001b[0m\u001b[0;32mTrue\u001b[0m\u001b[0;34m)\u001b[0m\u001b[0;34m\u001b[0m\u001b[0;34m\u001b[0m\u001b[0m\n\u001b[0m\u001b[1;32m      2\u001b[0m \u001b[0mSH3GL2_CAS_recode\u001b[0m\u001b[0;34m.\u001b[0m\u001b[0mhead\u001b[0m\u001b[0;34m(\u001b[0m\u001b[0;34m)\u001b[0m\u001b[0;34m\u001b[0m\u001b[0;34m\u001b[0m\u001b[0m\n",
      "\u001b[0;32m/opt/conda/lib/python3.7/site-packages/pandas/util/_decorators.py\u001b[0m in \u001b[0;36mwrapper\u001b[0;34m(*args, **kwargs)\u001b[0m\n\u001b[1;32m    309\u001b[0m                     \u001b[0mstacklevel\u001b[0m\u001b[0;34m=\u001b[0m\u001b[0mstacklevel\u001b[0m\u001b[0;34m,\u001b[0m\u001b[0;34m\u001b[0m\u001b[0;34m\u001b[0m\u001b[0m\n\u001b[1;32m    310\u001b[0m                 )\n\u001b[0;32m--> 311\u001b[0;31m             \u001b[0;32mreturn\u001b[0m \u001b[0mfunc\u001b[0m\u001b[0;34m(\u001b[0m\u001b[0;34m*\u001b[0m\u001b[0margs\u001b[0m\u001b[0;34m,\u001b[0m \u001b[0;34m**\u001b[0m\u001b[0mkwargs\u001b[0m\u001b[0;34m)\u001b[0m\u001b[0;34m\u001b[0m\u001b[0;34m\u001b[0m\u001b[0m\n\u001b[0m\u001b[1;32m    312\u001b[0m \u001b[0;34m\u001b[0m\u001b[0m\n\u001b[1;32m    313\u001b[0m         \u001b[0;32mreturn\u001b[0m \u001b[0mwrapper\u001b[0m\u001b[0;34m\u001b[0m\u001b[0;34m\u001b[0m\u001b[0m\n",
      "\u001b[0;32m/opt/conda/lib/python3.7/site-packages/pandas/io/parsers/readers.py\u001b[0m in \u001b[0;36mread_csv\u001b[0;34m(filepath_or_buffer, sep, delimiter, header, names, index_col, usecols, squeeze, prefix, mangle_dupe_cols, dtype, engine, converters, true_values, false_values, skipinitialspace, skiprows, skipfooter, nrows, na_values, keep_default_na, na_filter, verbose, skip_blank_lines, parse_dates, infer_datetime_format, keep_date_col, date_parser, dayfirst, cache_dates, iterator, chunksize, compression, thousands, decimal, lineterminator, quotechar, quoting, doublequote, escapechar, comment, encoding, encoding_errors, dialect, error_bad_lines, warn_bad_lines, on_bad_lines, delim_whitespace, low_memory, memory_map, float_precision, storage_options)\u001b[0m\n\u001b[1;32m    584\u001b[0m     \u001b[0mkwds\u001b[0m\u001b[0;34m.\u001b[0m\u001b[0mupdate\u001b[0m\u001b[0;34m(\u001b[0m\u001b[0mkwds_defaults\u001b[0m\u001b[0;34m)\u001b[0m\u001b[0;34m\u001b[0m\u001b[0;34m\u001b[0m\u001b[0m\n\u001b[1;32m    585\u001b[0m \u001b[0;34m\u001b[0m\u001b[0m\n\u001b[0;32m--> 586\u001b[0;31m     \u001b[0;32mreturn\u001b[0m \u001b[0m_read\u001b[0m\u001b[0;34m(\u001b[0m\u001b[0mfilepath_or_buffer\u001b[0m\u001b[0;34m,\u001b[0m \u001b[0mkwds\u001b[0m\u001b[0;34m)\u001b[0m\u001b[0;34m\u001b[0m\u001b[0;34m\u001b[0m\u001b[0m\n\u001b[0m\u001b[1;32m    587\u001b[0m \u001b[0;34m\u001b[0m\u001b[0m\n\u001b[1;32m    588\u001b[0m \u001b[0;34m\u001b[0m\u001b[0m\n",
      "\u001b[0;32m/opt/conda/lib/python3.7/site-packages/pandas/io/parsers/readers.py\u001b[0m in \u001b[0;36m_read\u001b[0;34m(filepath_or_buffer, kwds)\u001b[0m\n\u001b[1;32m    480\u001b[0m \u001b[0;34m\u001b[0m\u001b[0m\n\u001b[1;32m    481\u001b[0m     \u001b[0;31m# Create the parser.\u001b[0m\u001b[0;34m\u001b[0m\u001b[0;34m\u001b[0m\u001b[0;34m\u001b[0m\u001b[0m\n\u001b[0;32m--> 482\u001b[0;31m     \u001b[0mparser\u001b[0m \u001b[0;34m=\u001b[0m \u001b[0mTextFileReader\u001b[0m\u001b[0;34m(\u001b[0m\u001b[0mfilepath_or_buffer\u001b[0m\u001b[0;34m,\u001b[0m \u001b[0;34m**\u001b[0m\u001b[0mkwds\u001b[0m\u001b[0;34m)\u001b[0m\u001b[0;34m\u001b[0m\u001b[0;34m\u001b[0m\u001b[0m\n\u001b[0m\u001b[1;32m    483\u001b[0m \u001b[0;34m\u001b[0m\u001b[0m\n\u001b[1;32m    484\u001b[0m     \u001b[0;32mif\u001b[0m \u001b[0mchunksize\u001b[0m \u001b[0;32mor\u001b[0m \u001b[0miterator\u001b[0m\u001b[0;34m:\u001b[0m\u001b[0;34m\u001b[0m\u001b[0;34m\u001b[0m\u001b[0m\n",
      "\u001b[0;32m/opt/conda/lib/python3.7/site-packages/pandas/io/parsers/readers.py\u001b[0m in \u001b[0;36m__init__\u001b[0;34m(self, f, engine, **kwds)\u001b[0m\n\u001b[1;32m    809\u001b[0m             \u001b[0mself\u001b[0m\u001b[0;34m.\u001b[0m\u001b[0moptions\u001b[0m\u001b[0;34m[\u001b[0m\u001b[0;34m\"has_index_names\"\u001b[0m\u001b[0;34m]\u001b[0m \u001b[0;34m=\u001b[0m \u001b[0mkwds\u001b[0m\u001b[0;34m[\u001b[0m\u001b[0;34m\"has_index_names\"\u001b[0m\u001b[0;34m]\u001b[0m\u001b[0;34m\u001b[0m\u001b[0;34m\u001b[0m\u001b[0m\n\u001b[1;32m    810\u001b[0m \u001b[0;34m\u001b[0m\u001b[0m\n\u001b[0;32m--> 811\u001b[0;31m         \u001b[0mself\u001b[0m\u001b[0;34m.\u001b[0m\u001b[0m_engine\u001b[0m \u001b[0;34m=\u001b[0m \u001b[0mself\u001b[0m\u001b[0;34m.\u001b[0m\u001b[0m_make_engine\u001b[0m\u001b[0;34m(\u001b[0m\u001b[0mself\u001b[0m\u001b[0;34m.\u001b[0m\u001b[0mengine\u001b[0m\u001b[0;34m)\u001b[0m\u001b[0;34m\u001b[0m\u001b[0;34m\u001b[0m\u001b[0m\n\u001b[0m\u001b[1;32m    812\u001b[0m \u001b[0;34m\u001b[0m\u001b[0m\n\u001b[1;32m    813\u001b[0m     \u001b[0;32mdef\u001b[0m \u001b[0mclose\u001b[0m\u001b[0;34m(\u001b[0m\u001b[0mself\u001b[0m\u001b[0;34m)\u001b[0m\u001b[0;34m:\u001b[0m\u001b[0;34m\u001b[0m\u001b[0;34m\u001b[0m\u001b[0m\n",
      "\u001b[0;32m/opt/conda/lib/python3.7/site-packages/pandas/io/parsers/readers.py\u001b[0m in \u001b[0;36m_make_engine\u001b[0;34m(self, engine)\u001b[0m\n\u001b[1;32m   1038\u001b[0m             )\n\u001b[1;32m   1039\u001b[0m         \u001b[0;31m# error: Too many arguments for \"ParserBase\"\u001b[0m\u001b[0;34m\u001b[0m\u001b[0;34m\u001b[0m\u001b[0;34m\u001b[0m\u001b[0m\n\u001b[0;32m-> 1040\u001b[0;31m         \u001b[0;32mreturn\u001b[0m \u001b[0mmapping\u001b[0m\u001b[0;34m[\u001b[0m\u001b[0mengine\u001b[0m\u001b[0;34m]\u001b[0m\u001b[0;34m(\u001b[0m\u001b[0mself\u001b[0m\u001b[0;34m.\u001b[0m\u001b[0mf\u001b[0m\u001b[0;34m,\u001b[0m \u001b[0;34m**\u001b[0m\u001b[0mself\u001b[0m\u001b[0;34m.\u001b[0m\u001b[0moptions\u001b[0m\u001b[0;34m)\u001b[0m  \u001b[0;31m# type: ignore[call-arg]\u001b[0m\u001b[0;34m\u001b[0m\u001b[0;34m\u001b[0m\u001b[0m\n\u001b[0m\u001b[1;32m   1041\u001b[0m \u001b[0;34m\u001b[0m\u001b[0m\n\u001b[1;32m   1042\u001b[0m     \u001b[0;32mdef\u001b[0m \u001b[0m_failover_to_python\u001b[0m\u001b[0;34m(\u001b[0m\u001b[0mself\u001b[0m\u001b[0;34m)\u001b[0m\u001b[0;34m:\u001b[0m\u001b[0;34m\u001b[0m\u001b[0;34m\u001b[0m\u001b[0m\n",
      "\u001b[0;32m/opt/conda/lib/python3.7/site-packages/pandas/io/parsers/c_parser_wrapper.py\u001b[0m in \u001b[0;36m__init__\u001b[0;34m(self, src, **kwds)\u001b[0m\n\u001b[1;32m     49\u001b[0m \u001b[0;34m\u001b[0m\u001b[0m\n\u001b[1;32m     50\u001b[0m         \u001b[0;31m# open handles\u001b[0m\u001b[0;34m\u001b[0m\u001b[0;34m\u001b[0m\u001b[0;34m\u001b[0m\u001b[0m\n\u001b[0;32m---> 51\u001b[0;31m         \u001b[0mself\u001b[0m\u001b[0;34m.\u001b[0m\u001b[0m_open_handles\u001b[0m\u001b[0;34m(\u001b[0m\u001b[0msrc\u001b[0m\u001b[0;34m,\u001b[0m \u001b[0mkwds\u001b[0m\u001b[0;34m)\u001b[0m\u001b[0;34m\u001b[0m\u001b[0;34m\u001b[0m\u001b[0m\n\u001b[0m\u001b[1;32m     52\u001b[0m         \u001b[0;32massert\u001b[0m \u001b[0mself\u001b[0m\u001b[0;34m.\u001b[0m\u001b[0mhandles\u001b[0m \u001b[0;32mis\u001b[0m \u001b[0;32mnot\u001b[0m \u001b[0;32mNone\u001b[0m\u001b[0;34m\u001b[0m\u001b[0;34m\u001b[0m\u001b[0m\n\u001b[1;32m     53\u001b[0m \u001b[0;34m\u001b[0m\u001b[0m\n",
      "\u001b[0;32m/opt/conda/lib/python3.7/site-packages/pandas/io/parsers/base_parser.py\u001b[0m in \u001b[0;36m_open_handles\u001b[0;34m(self, src, kwds)\u001b[0m\n\u001b[1;32m    227\u001b[0m             \u001b[0mmemory_map\u001b[0m\u001b[0;34m=\u001b[0m\u001b[0mkwds\u001b[0m\u001b[0;34m.\u001b[0m\u001b[0mget\u001b[0m\u001b[0;34m(\u001b[0m\u001b[0;34m\"memory_map\"\u001b[0m\u001b[0;34m,\u001b[0m \u001b[0;32mFalse\u001b[0m\u001b[0;34m)\u001b[0m\u001b[0;34m,\u001b[0m\u001b[0;34m\u001b[0m\u001b[0;34m\u001b[0m\u001b[0m\n\u001b[1;32m    228\u001b[0m             \u001b[0mstorage_options\u001b[0m\u001b[0;34m=\u001b[0m\u001b[0mkwds\u001b[0m\u001b[0;34m.\u001b[0m\u001b[0mget\u001b[0m\u001b[0;34m(\u001b[0m\u001b[0;34m\"storage_options\"\u001b[0m\u001b[0;34m,\u001b[0m \u001b[0;32mNone\u001b[0m\u001b[0;34m)\u001b[0m\u001b[0;34m,\u001b[0m\u001b[0;34m\u001b[0m\u001b[0;34m\u001b[0m\u001b[0m\n\u001b[0;32m--> 229\u001b[0;31m             \u001b[0merrors\u001b[0m\u001b[0;34m=\u001b[0m\u001b[0mkwds\u001b[0m\u001b[0;34m.\u001b[0m\u001b[0mget\u001b[0m\u001b[0;34m(\u001b[0m\u001b[0;34m\"encoding_errors\"\u001b[0m\u001b[0;34m,\u001b[0m \u001b[0;34m\"strict\"\u001b[0m\u001b[0;34m)\u001b[0m\u001b[0;34m,\u001b[0m\u001b[0;34m\u001b[0m\u001b[0;34m\u001b[0m\u001b[0m\n\u001b[0m\u001b[1;32m    230\u001b[0m         )\n\u001b[1;32m    231\u001b[0m \u001b[0;34m\u001b[0m\u001b[0m\n",
      "\u001b[0;32m/opt/conda/lib/python3.7/site-packages/pandas/io/common.py\u001b[0m in \u001b[0;36mget_handle\u001b[0;34m(path_or_buf, mode, encoding, compression, memory_map, is_text, errors, storage_options)\u001b[0m\n\u001b[1;32m    705\u001b[0m                 \u001b[0mencoding\u001b[0m\u001b[0;34m=\u001b[0m\u001b[0mioargs\u001b[0m\u001b[0;34m.\u001b[0m\u001b[0mencoding\u001b[0m\u001b[0;34m,\u001b[0m\u001b[0;34m\u001b[0m\u001b[0;34m\u001b[0m\u001b[0m\n\u001b[1;32m    706\u001b[0m                 \u001b[0merrors\u001b[0m\u001b[0;34m=\u001b[0m\u001b[0merrors\u001b[0m\u001b[0;34m,\u001b[0m\u001b[0;34m\u001b[0m\u001b[0;34m\u001b[0m\u001b[0m\n\u001b[0;32m--> 707\u001b[0;31m                 \u001b[0mnewline\u001b[0m\u001b[0;34m=\u001b[0m\u001b[0;34m\"\"\u001b[0m\u001b[0;34m,\u001b[0m\u001b[0;34m\u001b[0m\u001b[0;34m\u001b[0m\u001b[0m\n\u001b[0m\u001b[1;32m    708\u001b[0m             )\n\u001b[1;32m    709\u001b[0m         \u001b[0;32melse\u001b[0m\u001b[0;34m:\u001b[0m\u001b[0;34m\u001b[0m\u001b[0;34m\u001b[0m\u001b[0m\n",
      "\u001b[0;31mFileNotFoundError\u001b[0m: [Errno 2] No such file or directory: '/home/jupyter/SH3GL2_GP2/coding_nonsynonymous_pheno_SH3GL2_CAS.raw'"
     ]
    }
   ],
   "source": [
    "SH3GL2_CAS_recode = pd.read_csv(f'{WORK_DIR}coding_nonsynonymous_pheno_SH3GL2_CAS.raw', delim_whitespace=True)\n",
    "SH3GL2_CAS_recode.head()"
   ]
  },
  {
   "cell_type": "code",
   "execution_count": 49,
   "metadata": {},
   "outputs": [
    {
     "name": "stdout",
     "output_type": "stream",
     "text": [
      "PLINK v1.90b6.9 64-bit (4 Mar 2019)            www.cog-genomics.org/plink/1.9/\n",
      "(C) 2005-2019 Shaun Purcell, Christopher Chang   GNU General Public License v3\n",
      "Logging to coding_nonsynonymous_pheno_SH3GL2_CAS.log.\n",
      "Options in effect:\n",
      "  --bfile pheno_SH3GL2_CAS\n",
      "  --extract range reduced_coding_nonsynonymous_CAS.txt\n",
      "  --out coding_nonsynonymous_pheno_SH3GL2_CAS\n",
      "  --recode A\n",
      "\n",
      "7450 MB RAM detected; reserving 3725 MB for main workspace.\n",
      "1262 variants loaded from .bim file.\n",
      "478 people (209 males, 269 females) loaded from .fam.\n",
      "474 phenotype values loaded from .fam.\n"
     ]
    },
    {
     "name": "stderr",
     "output_type": "stream",
     "text": [
      "Error: All variants excluded by '--extract range'.\n"
     ]
    },
    {
     "ename": "CalledProcessError",
     "evalue": "Command 'b\"\\nWORK_DIR='/home/jupyter/SH3GL2_GP2/'\\ncd $WORK_DIR\\n\\n/home/jupyter/tools/plink --bfile  pheno_SH3GL2_CAS --extract range reduced_coding_nonsynonymous_CAS.txt --recode A --out coding_nonsynonymous_pheno_SH3GL2_CAS\\n\"' returned non-zero exit status 13.",
     "output_type": "error",
     "traceback": [
      "\u001b[0;31m---------------------------------------------------------------------------\u001b[0m",
      "\u001b[0;31mCalledProcessError\u001b[0m                        Traceback (most recent call last)",
      "\u001b[0;32m/tmp/ipykernel_152/1738395849.py\u001b[0m in \u001b[0;36m<module>\u001b[0;34m\u001b[0m\n\u001b[0;32m----> 1\u001b[0;31m \u001b[0mget_ipython\u001b[0m\u001b[0;34m(\u001b[0m\u001b[0;34m)\u001b[0m\u001b[0;34m.\u001b[0m\u001b[0mrun_cell_magic\u001b[0m\u001b[0;34m(\u001b[0m\u001b[0;34m'bash'\u001b[0m\u001b[0;34m,\u001b[0m \u001b[0;34m''\u001b[0m\u001b[0;34m,\u001b[0m \u001b[0;34m\"\\nWORK_DIR='/home/jupyter/SH3GL2_GP2/'\\ncd $WORK_DIR\\n\\n/home/jupyter/tools/plink --bfile  pheno_SH3GL2_CAS --extract range reduced_coding_nonsynonymous_CAS.txt --recode A --out coding_nonsynonymous_pheno_SH3GL2_CAS\\n\"\u001b[0m\u001b[0;34m)\u001b[0m\u001b[0;34m\u001b[0m\u001b[0;34m\u001b[0m\u001b[0m\n\u001b[0m",
      "\u001b[0;32m/opt/conda/lib/python3.7/site-packages/IPython/core/interactiveshell.py\u001b[0m in \u001b[0;36mrun_cell_magic\u001b[0;34m(self, magic_name, line, cell)\u001b[0m\n\u001b[1;32m   2460\u001b[0m             \u001b[0;32mwith\u001b[0m \u001b[0mself\u001b[0m\u001b[0;34m.\u001b[0m\u001b[0mbuiltin_trap\u001b[0m\u001b[0;34m:\u001b[0m\u001b[0;34m\u001b[0m\u001b[0;34m\u001b[0m\u001b[0m\n\u001b[1;32m   2461\u001b[0m                 \u001b[0margs\u001b[0m \u001b[0;34m=\u001b[0m \u001b[0;34m(\u001b[0m\u001b[0mmagic_arg_s\u001b[0m\u001b[0;34m,\u001b[0m \u001b[0mcell\u001b[0m\u001b[0;34m)\u001b[0m\u001b[0;34m\u001b[0m\u001b[0;34m\u001b[0m\u001b[0m\n\u001b[0;32m-> 2462\u001b[0;31m                 \u001b[0mresult\u001b[0m \u001b[0;34m=\u001b[0m \u001b[0mfn\u001b[0m\u001b[0;34m(\u001b[0m\u001b[0;34m*\u001b[0m\u001b[0margs\u001b[0m\u001b[0;34m,\u001b[0m \u001b[0;34m**\u001b[0m\u001b[0mkwargs\u001b[0m\u001b[0;34m)\u001b[0m\u001b[0;34m\u001b[0m\u001b[0;34m\u001b[0m\u001b[0m\n\u001b[0m\u001b[1;32m   2463\u001b[0m             \u001b[0;32mreturn\u001b[0m \u001b[0mresult\u001b[0m\u001b[0;34m\u001b[0m\u001b[0;34m\u001b[0m\u001b[0m\n\u001b[1;32m   2464\u001b[0m \u001b[0;34m\u001b[0m\u001b[0m\n",
      "\u001b[0;32m/opt/conda/lib/python3.7/site-packages/IPython/core/magics/script.py\u001b[0m in \u001b[0;36mnamed_script_magic\u001b[0;34m(line, cell)\u001b[0m\n\u001b[1;32m    140\u001b[0m             \u001b[0;32melse\u001b[0m\u001b[0;34m:\u001b[0m\u001b[0;34m\u001b[0m\u001b[0;34m\u001b[0m\u001b[0m\n\u001b[1;32m    141\u001b[0m                 \u001b[0mline\u001b[0m \u001b[0;34m=\u001b[0m \u001b[0mscript\u001b[0m\u001b[0;34m\u001b[0m\u001b[0;34m\u001b[0m\u001b[0m\n\u001b[0;32m--> 142\u001b[0;31m             \u001b[0;32mreturn\u001b[0m \u001b[0mself\u001b[0m\u001b[0;34m.\u001b[0m\u001b[0mshebang\u001b[0m\u001b[0;34m(\u001b[0m\u001b[0mline\u001b[0m\u001b[0;34m,\u001b[0m \u001b[0mcell\u001b[0m\u001b[0;34m)\u001b[0m\u001b[0;34m\u001b[0m\u001b[0;34m\u001b[0m\u001b[0m\n\u001b[0m\u001b[1;32m    143\u001b[0m \u001b[0;34m\u001b[0m\u001b[0m\n\u001b[1;32m    144\u001b[0m         \u001b[0;31m# write a basic docstring:\u001b[0m\u001b[0;34m\u001b[0m\u001b[0;34m\u001b[0m\u001b[0;34m\u001b[0m\u001b[0m\n",
      "\u001b[0;32m/opt/conda/lib/python3.7/site-packages/decorator.py\u001b[0m in \u001b[0;36mfun\u001b[0;34m(*args, **kw)\u001b[0m\n\u001b[1;32m    230\u001b[0m             \u001b[0;32mif\u001b[0m \u001b[0;32mnot\u001b[0m \u001b[0mkwsyntax\u001b[0m\u001b[0;34m:\u001b[0m\u001b[0;34m\u001b[0m\u001b[0;34m\u001b[0m\u001b[0m\n\u001b[1;32m    231\u001b[0m                 \u001b[0margs\u001b[0m\u001b[0;34m,\u001b[0m \u001b[0mkw\u001b[0m \u001b[0;34m=\u001b[0m \u001b[0mfix\u001b[0m\u001b[0;34m(\u001b[0m\u001b[0margs\u001b[0m\u001b[0;34m,\u001b[0m \u001b[0mkw\u001b[0m\u001b[0;34m,\u001b[0m \u001b[0msig\u001b[0m\u001b[0;34m)\u001b[0m\u001b[0;34m\u001b[0m\u001b[0;34m\u001b[0m\u001b[0m\n\u001b[0;32m--> 232\u001b[0;31m             \u001b[0;32mreturn\u001b[0m \u001b[0mcaller\u001b[0m\u001b[0;34m(\u001b[0m\u001b[0mfunc\u001b[0m\u001b[0;34m,\u001b[0m \u001b[0;34m*\u001b[0m\u001b[0;34m(\u001b[0m\u001b[0mextras\u001b[0m \u001b[0;34m+\u001b[0m \u001b[0margs\u001b[0m\u001b[0;34m)\u001b[0m\u001b[0;34m,\u001b[0m \u001b[0;34m**\u001b[0m\u001b[0mkw\u001b[0m\u001b[0;34m)\u001b[0m\u001b[0;34m\u001b[0m\u001b[0;34m\u001b[0m\u001b[0m\n\u001b[0m\u001b[1;32m    233\u001b[0m     \u001b[0mfun\u001b[0m\u001b[0;34m.\u001b[0m\u001b[0m__name__\u001b[0m \u001b[0;34m=\u001b[0m \u001b[0mfunc\u001b[0m\u001b[0;34m.\u001b[0m\u001b[0m__name__\u001b[0m\u001b[0;34m\u001b[0m\u001b[0;34m\u001b[0m\u001b[0m\n\u001b[1;32m    234\u001b[0m     \u001b[0mfun\u001b[0m\u001b[0;34m.\u001b[0m\u001b[0m__doc__\u001b[0m \u001b[0;34m=\u001b[0m \u001b[0mfunc\u001b[0m\u001b[0;34m.\u001b[0m\u001b[0m__doc__\u001b[0m\u001b[0;34m\u001b[0m\u001b[0;34m\u001b[0m\u001b[0m\n",
      "\u001b[0;32m/opt/conda/lib/python3.7/site-packages/IPython/core/magic.py\u001b[0m in \u001b[0;36m<lambda>\u001b[0;34m(f, *a, **k)\u001b[0m\n\u001b[1;32m    185\u001b[0m     \u001b[0;31m# but it's overkill for just that one bit of state.\u001b[0m\u001b[0;34m\u001b[0m\u001b[0;34m\u001b[0m\u001b[0;34m\u001b[0m\u001b[0m\n\u001b[1;32m    186\u001b[0m     \u001b[0;32mdef\u001b[0m \u001b[0mmagic_deco\u001b[0m\u001b[0;34m(\u001b[0m\u001b[0marg\u001b[0m\u001b[0;34m)\u001b[0m\u001b[0;34m:\u001b[0m\u001b[0;34m\u001b[0m\u001b[0;34m\u001b[0m\u001b[0m\n\u001b[0;32m--> 187\u001b[0;31m         \u001b[0mcall\u001b[0m \u001b[0;34m=\u001b[0m \u001b[0;32mlambda\u001b[0m \u001b[0mf\u001b[0m\u001b[0;34m,\u001b[0m \u001b[0;34m*\u001b[0m\u001b[0ma\u001b[0m\u001b[0;34m,\u001b[0m \u001b[0;34m**\u001b[0m\u001b[0mk\u001b[0m\u001b[0;34m:\u001b[0m \u001b[0mf\u001b[0m\u001b[0;34m(\u001b[0m\u001b[0;34m*\u001b[0m\u001b[0ma\u001b[0m\u001b[0;34m,\u001b[0m \u001b[0;34m**\u001b[0m\u001b[0mk\u001b[0m\u001b[0;34m)\u001b[0m\u001b[0;34m\u001b[0m\u001b[0;34m\u001b[0m\u001b[0m\n\u001b[0m\u001b[1;32m    188\u001b[0m \u001b[0;34m\u001b[0m\u001b[0m\n\u001b[1;32m    189\u001b[0m         \u001b[0;32mif\u001b[0m \u001b[0mcallable\u001b[0m\u001b[0;34m(\u001b[0m\u001b[0marg\u001b[0m\u001b[0;34m)\u001b[0m\u001b[0;34m:\u001b[0m\u001b[0;34m\u001b[0m\u001b[0;34m\u001b[0m\u001b[0m\n",
      "\u001b[0;32m/opt/conda/lib/python3.7/site-packages/IPython/core/magics/script.py\u001b[0m in \u001b[0;36mshebang\u001b[0;34m(self, line, cell)\u001b[0m\n\u001b[1;32m    243\u001b[0m             \u001b[0msys\u001b[0m\u001b[0;34m.\u001b[0m\u001b[0mstderr\u001b[0m\u001b[0;34m.\u001b[0m\u001b[0mflush\u001b[0m\u001b[0;34m(\u001b[0m\u001b[0;34m)\u001b[0m\u001b[0;34m\u001b[0m\u001b[0;34m\u001b[0m\u001b[0m\n\u001b[1;32m    244\u001b[0m         \u001b[0;32mif\u001b[0m \u001b[0margs\u001b[0m\u001b[0;34m.\u001b[0m\u001b[0mraise_error\u001b[0m \u001b[0;32mand\u001b[0m \u001b[0mp\u001b[0m\u001b[0;34m.\u001b[0m\u001b[0mreturncode\u001b[0m\u001b[0;34m!=\u001b[0m\u001b[0;36m0\u001b[0m\u001b[0;34m:\u001b[0m\u001b[0;34m\u001b[0m\u001b[0;34m\u001b[0m\u001b[0m\n\u001b[0;32m--> 245\u001b[0;31m             \u001b[0;32mraise\u001b[0m \u001b[0mCalledProcessError\u001b[0m\u001b[0;34m(\u001b[0m\u001b[0mp\u001b[0m\u001b[0;34m.\u001b[0m\u001b[0mreturncode\u001b[0m\u001b[0;34m,\u001b[0m \u001b[0mcell\u001b[0m\u001b[0;34m,\u001b[0m \u001b[0moutput\u001b[0m\u001b[0;34m=\u001b[0m\u001b[0mout\u001b[0m\u001b[0;34m,\u001b[0m \u001b[0mstderr\u001b[0m\u001b[0;34m=\u001b[0m\u001b[0merr\u001b[0m\u001b[0;34m)\u001b[0m\u001b[0;34m\u001b[0m\u001b[0;34m\u001b[0m\u001b[0m\n\u001b[0m\u001b[1;32m    246\u001b[0m \u001b[0;34m\u001b[0m\u001b[0m\n\u001b[1;32m    247\u001b[0m     \u001b[0;32mdef\u001b[0m \u001b[0m_run_script\u001b[0m\u001b[0;34m(\u001b[0m\u001b[0mself\u001b[0m\u001b[0;34m,\u001b[0m \u001b[0mp\u001b[0m\u001b[0;34m,\u001b[0m \u001b[0mcell\u001b[0m\u001b[0;34m,\u001b[0m \u001b[0mto_close\u001b[0m\u001b[0;34m)\u001b[0m\u001b[0;34m:\u001b[0m\u001b[0;34m\u001b[0m\u001b[0;34m\u001b[0m\u001b[0m\n",
      "\u001b[0;31mCalledProcessError\u001b[0m: Command 'b\"\\nWORK_DIR='/home/jupyter/SH3GL2_GP2/'\\ncd $WORK_DIR\\n\\n/home/jupyter/tools/plink --bfile  pheno_SH3GL2_CAS --extract range reduced_coding_nonsynonymous_CAS.txt --recode A --out coding_nonsynonymous_pheno_SH3GL2_CAS\\n\"' returned non-zero exit status 13."
     ]
    }
   ],
   "source": [
    "%%bash\n",
    "\n",
    "WORK_DIR='/home/jupyter/SH3GL2_GP2/'\n",
    "cd $WORK_DIR\n",
    "\n",
    "/home/jupyter/tools/plink --bfile  pheno_SH3GL2_CAS --extract range reduced_coding_nonsynonymous_CAS.txt --recode A --out coding_nonsynonymous_pheno_SH3GL2_CAS"
   ]
  },
  {
   "cell_type": "code",
   "execution_count": 50,
   "metadata": {},
   "outputs": [
    {
     "ename": "NameError",
     "evalue": "name 'SH3GL2_CAS_recode' is not defined",
     "output_type": "error",
     "traceback": [
      "\u001b[0;31m---------------------------------------------------------------------------\u001b[0m",
      "\u001b[0;31mNameError\u001b[0m                                 Traceback (most recent call last)",
      "\u001b[0;32m/tmp/ipykernel_152/843835216.py\u001b[0m in \u001b[0;36m<module>\u001b[0;34m\u001b[0m\n\u001b[1;32m      1\u001b[0m \u001b[0;31m# Explore HMZs for chr9: in cases\u001b[0m\u001b[0;34m\u001b[0m\u001b[0;34m\u001b[0m\u001b[0;34m\u001b[0m\u001b[0m\n\u001b[0;32m----> 2\u001b[0;31m \u001b[0mSH3GL2_hom_cases_CAS\u001b[0m \u001b[0;34m=\u001b[0m \u001b[0mSH3GL2_CAS_recode\u001b[0m\u001b[0;34m[\u001b[0m\u001b[0;34m(\u001b[0m\u001b[0mSH3GL2_CAS_recode\u001b[0m\u001b[0;34m[\u001b[0m\u001b[0;34m'chr9:'\u001b[0m\u001b[0;34m]\u001b[0m \u001b[0;34m==\u001b[0m \u001b[0;36m2\u001b[0m\u001b[0;34m)\u001b[0m \u001b[0;34m&\u001b[0m \u001b[0;34m(\u001b[0m\u001b[0mSH3GL2_CAS_recode\u001b[0m\u001b[0;34m[\u001b[0m\u001b[0;34m'PHENOTYPE'\u001b[0m\u001b[0;34m]\u001b[0m \u001b[0;34m==\u001b[0m \u001b[0;36m2\u001b[0m\u001b[0;34m)\u001b[0m\u001b[0;34m]\u001b[0m\u001b[0;34m\u001b[0m\u001b[0;34m\u001b[0m\u001b[0m\n\u001b[0m\u001b[1;32m      3\u001b[0m \u001b[0mSH3GL2_hom_cases_CAS\u001b[0m\u001b[0;34m.\u001b[0m\u001b[0mhead\u001b[0m\u001b[0;34m(\u001b[0m\u001b[0;34m)\u001b[0m\u001b[0;34m\u001b[0m\u001b[0;34m\u001b[0m\u001b[0m\n",
      "\u001b[0;31mNameError\u001b[0m: name 'SH3GL2_CAS_recode' is not defined"
     ]
    }
   ],
   "source": [
    "# Explore HMZs for chr9: in cases\n",
    "SH3GL2_hom_cases_CAS = SH3GL2_CAS_recode[(SH3GL2_CAS_recode['chr9:'] == 2) & (SH3GL2_CAS_recode['PHENOTYPE'] == 2)]\n",
    "SH3GL2_hom_cases_CAS.head()"
   ]
  },
  {
   "cell_type": "code",
   "execution_count": 51,
   "metadata": {},
   "outputs": [
    {
     "ename": "NameError",
     "evalue": "name 'SH3GL2_hom_cases_CAS' is not defined",
     "output_type": "error",
     "traceback": [
      "\u001b[0;31m---------------------------------------------------------------------------\u001b[0m",
      "\u001b[0;31mNameError\u001b[0m                                 Traceback (most recent call last)",
      "\u001b[0;32m/tmp/ipykernel_152/4028983889.py\u001b[0m in \u001b[0;36m<module>\u001b[0;34m\u001b[0m\n\u001b[0;32m----> 1\u001b[0;31m \u001b[0mSH3GL2_hom_cases_CAS\u001b[0m\u001b[0;34m.\u001b[0m\u001b[0mshape\u001b[0m\u001b[0;34m\u001b[0m\u001b[0;34m\u001b[0m\u001b[0m\n\u001b[0m",
      "\u001b[0;31mNameError\u001b[0m: name 'SH3GL2_hom_cases_CAS' is not defined"
     ]
    }
   ],
   "source": [
    "SH3GL2_hom_cases_CAS.shape"
   ]
  },
  {
   "cell_type": "code",
   "execution_count": 52,
   "metadata": {},
   "outputs": [
    {
     "ename": "NameError",
     "evalue": "name 'SH3GL2_CAS_recode' is not defined",
     "output_type": "error",
     "traceback": [
      "\u001b[0;31m---------------------------------------------------------------------------\u001b[0m",
      "\u001b[0;31mNameError\u001b[0m                                 Traceback (most recent call last)",
      "\u001b[0;32m/tmp/ipykernel_152/1029765486.py\u001b[0m in \u001b[0;36m<module>\u001b[0;34m\u001b[0m\n\u001b[1;32m      1\u001b[0m \u001b[0;31m# Explore HMZs for chr9: in controls\u001b[0m\u001b[0;34m\u001b[0m\u001b[0;34m\u001b[0m\u001b[0;34m\u001b[0m\u001b[0m\n\u001b[0;32m----> 2\u001b[0;31m \u001b[0mSH3GL2_hom_controls_CAS\u001b[0m \u001b[0;34m=\u001b[0m \u001b[0mSH3GL2_CAS_recode\u001b[0m\u001b[0;34m[\u001b[0m\u001b[0;34m(\u001b[0m\u001b[0mSH3GL2_CAS_recode\u001b[0m\u001b[0;34m[\u001b[0m\u001b[0;34m'chr9:'\u001b[0m\u001b[0;34m]\u001b[0m \u001b[0;34m==\u001b[0m \u001b[0;36m2\u001b[0m\u001b[0;34m)\u001b[0m \u001b[0;34m&\u001b[0m \u001b[0;34m(\u001b[0m\u001b[0mSH3GL2_CAS_recode\u001b[0m\u001b[0;34m[\u001b[0m\u001b[0;34m'PHENOTYPE'\u001b[0m\u001b[0;34m]\u001b[0m \u001b[0;34m==\u001b[0m \u001b[0;36m1\u001b[0m\u001b[0;34m)\u001b[0m\u001b[0;34m]\u001b[0m\u001b[0;34m\u001b[0m\u001b[0;34m\u001b[0m\u001b[0m\n\u001b[0m\u001b[1;32m      3\u001b[0m \u001b[0mSH3GL2_hom_controls_CAS\u001b[0m\u001b[0;34m.\u001b[0m\u001b[0mhead\u001b[0m\u001b[0;34m(\u001b[0m\u001b[0;34m)\u001b[0m\u001b[0;34m\u001b[0m\u001b[0;34m\u001b[0m\u001b[0m\n",
      "\u001b[0;31mNameError\u001b[0m: name 'SH3GL2_CAS_recode' is not defined"
     ]
    }
   ],
   "source": [
    "# Explore HMZs for chr9: in controls\n",
    "SH3GL2_hom_controls_CAS = SH3GL2_CAS_recode[(SH3GL2_CAS_recode['chr9:'] == 2) & (SH3GL2_CAS_recode['PHENOTYPE'] == 1)]\n",
    "SH3GL2_hom_controls_CAS.head()"
   ]
  },
  {
   "cell_type": "code",
   "execution_count": 53,
   "metadata": {},
   "outputs": [
    {
     "ename": "NameError",
     "evalue": "name 'SH3GL2_hom_controls_CAS' is not defined",
     "output_type": "error",
     "traceback": [
      "\u001b[0;31m---------------------------------------------------------------------------\u001b[0m",
      "\u001b[0;31mNameError\u001b[0m                                 Traceback (most recent call last)",
      "\u001b[0;32m/tmp/ipykernel_152/163737114.py\u001b[0m in \u001b[0;36m<module>\u001b[0;34m\u001b[0m\n\u001b[0;32m----> 1\u001b[0;31m \u001b[0mSH3GL2_hom_controls_CAS\u001b[0m\u001b[0;34m.\u001b[0m\u001b[0mshape\u001b[0m\u001b[0;34m\u001b[0m\u001b[0;34m\u001b[0m\u001b[0m\n\u001b[0m",
      "\u001b[0;31mNameError\u001b[0m: name 'SH3GL2_hom_controls_CAS' is not defined"
     ]
    }
   ],
   "source": [
    "SH3GL2_hom_controls_CAS.shape"
   ]
  },
  {
   "cell_type": "markdown",
   "metadata": {},
   "source": [
    "## Save out results..!"
   ]
  },
  {
   "cell_type": "code",
   "execution_count": 54,
   "metadata": {},
   "outputs": [
    {
     "name": "stderr",
     "output_type": "stream",
     "text": [
      "Executing: gsutil -mu terra-18d8e41c cp -r /home/jupyter/SH3GL2_GP2/ gs://fc-f7a400c1-827e-48f8-b7b6-90c488a000a4\n"
     ]
    },
    {
     "name": "stdout",
     "output_type": "stream",
     "text": [
      "Copying file:///home/jupyter/SH3GL2_GP2/pheno_SH3GL2_EUR.annovar.avinput [Content-Type=application/octet-stream]...\n",
      "Copying file:///home/jupyter/SH3GL2_GP2/pheno_SH3GL2_AMR.annovar.hg38_multianno.vcf [Content-Type=text/vcard]...\n",
      "Copying file:///home/jupyter/SH3GL2_GP2/pheno_SH3GL2_FIN.vcf.gz [Content-Type=text/vcard]...\n",
      "Copying file:///home/jupyter/SH3GL2_GP2/pheno_SH3GL2_AJ.annovar.hg38_multianno.vcf [Content-Type=text/vcard]...\n",
      "Copying file:///home/jupyter/SH3GL2_GP2/pheno_SH3GL2_AMR.log [Content-Type=application/octet-stream]...\n",
      "Copying file:///home/jupyter/SH3GL2_GP2/chr9_AJ_release5.pgen [Content-Type=application/octet-stream]...\n",
      "Copying file:///home/jupyter/SH3GL2_GP2/pheno_SH3GL2_EUR.vcf.gz [Content-Type=text/vcard]...\n",
      "==> NOTE: You are uploading one or more large file(s), which would run\n",
      "significantly faster if you enable parallel composite uploads. This\n",
      "feature can be enabled by editing the\n",
      "\"parallel_composite_upload_threshold\" value in your .boto\n",
      "configuration file. However, note that if you do this large files will\n",
      "be uploaded as `composite objects\n",
      "<https://cloud.google.com/storage/docs/composite-objects>`_,which\n",
      "means that any user who downloads such objects will need to have a\n",
      "compiled crcmod installed (see \"gsutil help crcmod\"). This is because\n",
      "without a compiled crcmod, computing checksums on composite objects is\n",
      "so slow that gsutil disables downloads of composite objects.\n",
      "\n",
      "Copying file:///home/jupyter/SH3GL2_GP2/pheno_SH3GL2_FIN.bim [Content-Type=application/octet-stream]...\n",
      "Copying file:///home/jupyter/SH3GL2_GP2/coding_nonsynonymous_pheno_SH3GL2_EUR.assoc [Content-Type=application/octet-stream]...\n",
      "Copying file:///home/jupyter/SH3GL2_GP2/pheno_SH3GL2_EAS.annovar.avinput [Content-Type=application/octet-stream]...\n",
      "Copying file:///home/jupyter/SH3GL2_GP2/chr9_AFR_release4.pgen [Content-Type=application/octet-stream]...\n",
      "Copying file:///home/jupyter/SH3GL2_GP2/coding_nonsynonymous_pheno_SH3GL2_EUR.raw [Content-Type=application/octet-stream]...\n",
      "Copying file:///home/jupyter/SH3GL2_GP2/coding_nonsynonymous_pheno_SH3GL2_AAC.log [Content-Type=application/octet-stream]...\n",
      "Copying file:///home/jupyter/SH3GL2_GP2/pheno_SH3GL2_SAS.log [Content-Type=application/octet-stream]...\n",
      "Copying file:///home/jupyter/SH3GL2_GP2/coding_nonsynonymous_AMR_rare_0.05.log [Content-Type=application/octet-stream]...\n",
      "Copying file:///home/jupyter/SH3GL2_GP2/pheno_SH3GL2_AMR.annovar.avinput [Content-Type=application/octet-stream]...\n",
      "Copying file:///home/jupyter/SH3GL2_GP2/pheno_SH3GL2_AAC.bim [Content-Type=application/octet-stream]...\n",
      "Copying file:///home/jupyter/SH3GL2_GP2/reduced_coding_nonsynonymous_AAC.txt [Content-Type=text/plain]...\n",
      "Copying file:///home/jupyter/SH3GL2_GP2/pheno_SH3GL2_CAS.vcf.gz [Content-Type=text/vcard]...\n",
      "Copying file:///home/jupyter/SH3GL2_GP2/chr9_AJ_release5.pvar [Content-Type=application/octet-stream]...\n",
      "Copying file:///home/jupyter/SH3GL2_GP2/pheno_SH3GL2_EUR.annovar.hg38_multianno.vcf [Content-Type=text/vcard]...\n",
      "Copying file:///home/jupyter/SH3GL2_GP2/chr9_MDE_release5.log [Content-Type=application/octet-stream]...\n",
      "Copying file:///home/jupyter/SH3GL2_GP2/chr9_FIN_release5.log [Content-Type=application/octet-stream]...\n",
      "Copying file:///home/jupyter/SH3GL2_GP2/pheno_SH3GL2_EAS.vcf.gz [Content-Type=text/vcard]...\n",
      "Copying file:///home/jupyter/SH3GL2_GP2/coding_nonsynonymous_pheno_SH3GL2_EUR.assoc.adjusted [Content-Type=application/octet-stream]...\n",
      "Copying file:///home/jupyter/SH3GL2_GP2/chr9_AMR_release5.log [Content-Type=application/octet-stream]...\n",
      "Copying file:///home/jupyter/SH3GL2_GP2/pheno_SH3GL2_FIN.bed [Content-Type=application/octet-stream]...\n",
      "Copying file:///home/jupyter/SH3GL2_GP2/pheno_SH3GL2_AFR.annovar.avinput [Content-Type=application/octet-stream]...\n",
      "Copying file:///home/jupyter/SH3GL2_GP2/pheno_SH3GL2_EAS.annovar.hg38_multianno.txt [Content-Type=text/plain]...\n",
      "Copying file:///home/jupyter/SH3GL2_GP2/pheno_SH3GL2_MDE.bed [Content-Type=application/octet-stream]...\n",
      "Copying file:///home/jupyter/SH3GL2_GP2/chr9_AAC_release5.psam [Content-Type=application/octet-stream]...\n",
      "Copying file:///home/jupyter/SH3GL2_GP2/pheno_SH3GL2_AMR.vcf.gz [Content-Type=text/vcard]...\n",
      "Copying file:///home/jupyter/SH3GL2_GP2/pheno_SH3GL2_CAS.annovar.avinput [Content-Type=application/octet-stream]...\n",
      "Copying file:///home/jupyter/SH3GL2_GP2/pheno_SH3GL2_SAS.fam [Content-Type=application/octet-stream]...\n",
      "Copying file:///home/jupyter/SH3GL2_GP2/reduced_coding_nonsynonymous_CAS.txt [Content-Type=text/plain]...\n",
      "Copying file:///home/jupyter/SH3GL2_GP2/coding_nonsynonymous_AAC_rare_0.05.log [Content-Type=application/octet-stream]...\n",
      "Copying file:///home/jupyter/SH3GL2_GP2/coding_nonsynonymous_EUR_rare_0.05.bed [Content-Type=application/octet-stream]...\n",
      "Copying file:///home/jupyter/SH3GL2_GP2/master_key_release4_final.csv [Content-Type=text/csv]...\n",
      "Copying file:///home/jupyter/SH3GL2_GP2/pheno_SH3GL2_MDE.annovar.avinput [Content-Type=application/octet-stream]...\n",
      "Copying file:///home/jupyter/SH3GL2_GP2/pheno_SH3GL2_AAC.bed [Content-Type=application/octet-stream]...\n",
      "Copying file:///home/jupyter/SH3GL2_GP2/pheno_SH3GL2_AMR.fam [Content-Type=application/octet-stream]...\n",
      "Copying file:///home/jupyter/SH3GL2_GP2/pheno_SH3GL2_AAC.fam [Content-Type=application/octet-stream]...\n",
      "Copying file:///home/jupyter/SH3GL2_GP2/chr9_MDE_release5.pgen [Content-Type=application/octet-stream]...\n",
      "Copying file:///home/jupyter/SH3GL2_GP2/chr9_AJ_release5.psam [Content-Type=application/octet-stream]...\n",
      "Copying file:///home/jupyter/SH3GL2_GP2/pheno_SH3GL2_MDE.fam [Content-Type=application/octet-stream]...\n",
      "Copying file:///home/jupyter/SH3GL2_GP2/pheno_SH3GL2_SAS.bim [Content-Type=application/octet-stream]...\n",
      "Copying file:///home/jupyter/SH3GL2_GP2/chr9_EUR_release4.psam [Content-Type=application/octet-stream]...\n",
      "Copying file:///home/jupyter/SH3GL2_GP2/pheno_SH3GL2_AAC.log [Content-Type=application/octet-stream]...\n",
      "Copying file:///home/jupyter/SH3GL2_GP2/chr9_SAS_release5.pgen [Content-Type=application/octet-stream]...\n",
      "Copying file:///home/jupyter/SH3GL2_GP2/pheno_SH3GL2_EAS.annovar.hg38_multianno.vcf [Content-Type=text/vcard]...\n",
      "Copying file:///home/jupyter/SH3GL2_GP2/pheno_SH3GL2_MDE.vcf.gz.tbi [Content-Type=application/octet-stream]...\n",
      "Copying file:///home/jupyter/SH3GL2_GP2/pheno_SH3GL2_AFR.vcf.gz [Content-Type=text/vcard]...\n",
      "Copying file:///home/jupyter/SH3GL2_GP2/pheno_SH3GL2_MDE.annovar.hg38_multianno.vcf [Content-Type=text/vcard]...\n",
      "Copying file:///home/jupyter/SH3GL2_GP2/pheno_SH3GL2_AMR.annovar.hg38_multianno.txt [Content-Type=text/plain]...\n",
      "Copying file:///home/jupyter/SH3GL2_GP2/chr9_AMR_release5.pvar [Content-Type=application/octet-stream]...\n",
      "Copying file:///home/jupyter/SH3GL2_GP2/pheno_SH3GL2_CAS.vcf.gz.tbi [Content-Type=application/octet-stream]...\n",
      "Copying file:///home/jupyter/SH3GL2_GP2/coding_nonsynonymous_EUR_rare_0.05.fam [Content-Type=application/octet-stream]...\n",
      "Copying file:///home/jupyter/SH3GL2_GP2/pheno_SH3GL2_SAS.vcf.gz [Content-Type=text/vcard]...\n",
      "Copying file:///home/jupyter/SH3GL2_GP2/chr9_EAS_release5.pgen [Content-Type=application/octet-stream]...\n",
      "Copying file:///home/jupyter/SH3GL2_GP2/chr9_EUR_release5.log [Content-Type=application/octet-stream]...\n",
      "Copying file:///home/jupyter/SH3GL2_GP2/chr9_AFR_release5.log [Content-Type=application/octet-stream]...\n",
      "Copying file:///home/jupyter/SH3GL2_GP2/SEX.txt [Content-Type=text/plain]...    \n",
      "Copying file:///home/jupyter/SH3GL2_GP2/pheno_SH3GL2_AAC.annovar.hg38_multianno.txt [Content-Type=text/plain]...\n",
      "Copying file:///home/jupyter/SH3GL2_GP2/reduced_coding_nonsynonymous_AMR.txt [Content-Type=text/plain]...\n",
      "Copying file:///home/jupyter/SH3GL2_GP2/chr9_EAS_release5.psam [Content-Type=application/octet-stream]...\n",
      "Copying file:///home/jupyter/SH3GL2_GP2/master_key_release5_final.csv [Content-Type=text/csv]...\n",
      "Copying file:///home/jupyter/SH3GL2_GP2/chr9_AFR_release5.pgen [Content-Type=application/octet-stream]...\n",
      "Copying file:///home/jupyter/SH3GL2_GP2/PHENO.txt [Content-Type=text/plain]...  \n",
      "Copying file:///home/jupyter/SH3GL2_GP2/pheno_SH3GL2_AFR.vcf [Content-Type=text/vcard]...\n",
      "Copying file:///home/jupyter/SH3GL2_GP2/pheno_SH3GL2_AAC.vcf.gz.tbi [Content-Type=application/octet-stream]...\n",
      "Copying file:///home/jupyter/SH3GL2_GP2/reduced_coding_nonsynonymous_EAS.txt [Content-Type=text/plain]...\n",
      "Copying file:///home/jupyter/SH3GL2_GP2/reduced_coding_nonsynonymous_AJ.txt [Content-Type=text/plain]...\n",
      "Copying file:///home/jupyter/SH3GL2_GP2/pheno_SH3GL2_EUR.bim [Content-Type=application/octet-stream]...\n",
      "Copying file:///home/jupyter/SH3GL2_GP2/chr9_EUR_release5.pvar [Content-Type=application/octet-stream]...\n",
      "Copying file:///home/jupyter/SH3GL2_GP2/pheno_SH3GL2_MDE.annovar.hg38_multianno.txt [Content-Type=text/plain]...\n",
      "Copying file:///home/jupyter/SH3GL2_GP2/pheno_SH3GL2_CAS.vcf [Content-Type=text/vcard]...\n",
      "Copying file:///home/jupyter/SH3GL2_GP2/chr9_MDE_release5.psam [Content-Type=application/octet-stream]...\n",
      "Copying file:///home/jupyter/SH3GL2_GP2/chr9_AMR_release5.psam [Content-Type=application/octet-stream]...\n",
      "Copying file:///home/jupyter/SH3GL2_GP2/reduced_coding_nonsynonymous_FIN.txt [Content-Type=text/plain]...\n",
      "Copying file:///home/jupyter/SH3GL2_GP2/pheno_SH3GL2_CAS.fam [Content-Type=application/octet-stream]...\n",
      "Copying file:///home/jupyter/SH3GL2_GP2/chr9_EUR_release5.pgen [Content-Type=application/octet-stream]...\n",
      "Copying file:///home/jupyter/SH3GL2_GP2/coding_nonsynonymous_pheno_SH3GL2_FIN.log [Content-Type=application/octet-stream]...\n",
      "Copying file:///home/jupyter/SH3GL2_GP2/pheno_SH3GL2_EAS.log [Content-Type=application/octet-stream]...\n",
      "Copying file:///home/jupyter/SH3GL2_GP2/chr9_EUR_release4.pvar [Content-Type=application/octet-stream]...\n",
      "Copying file:///home/jupyter/SH3GL2_GP2/coding_nonsynonymous.txt [Content-Type=text/plain]...\n",
      "Copying file:///home/jupyter/SH3GL2_GP2/pheno_SH3GL2_EAS.bed [Content-Type=application/octet-stream]...\n",
      "Copying file:///home/jupyter/SH3GL2_GP2/chr9_CAS_release5.log [Content-Type=application/octet-stream]...\n",
      "Copying file:///home/jupyter/SH3GL2_GP2/pheno_SH3GL2_AJ.log [Content-Type=application/octet-stream]...\n",
      "Copying file:///home/jupyter/SH3GL2_GP2/pheno_SH3GL2_MDE.bim [Content-Type=application/octet-stream]...\n",
      "Copying file:///home/jupyter/SH3GL2_GP2/chr9_FIN_release5.pvar [Content-Type=application/octet-stream]...\n",
      "Copying file:///home/jupyter/SH3GL2_GP2/coding_nonsynonymous_EUR_rare_0.05.bim [Content-Type=application/octet-stream]...\n",
      "Copying file:///home/jupyter/SH3GL2_GP2/pheno_SH3GL2_AAC.annovar.hg38_multianno.vcf [Content-Type=text/vcard]...\n",
      "Copying file:///home/jupyter/SH3GL2_GP2/pheno_SH3GL2_EUR.log [Content-Type=application/octet-stream]...\n",
      "Copying file:///home/jupyter/SH3GL2_GP2/pheno_SH3GL2_AJ.fam [Content-Type=application/octet-stream]...\n",
      "Copying file:///home/jupyter/SH3GL2_GP2/pheno_SH3GL2_EUR.bed [Content-Type=application/octet-stream]...\n",
      "Copying file:///home/jupyter/SH3GL2_GP2/pheno_SH3GL2_AFR.log [Content-Type=application/octet-stream]...\n",
      "Copying file:///home/jupyter/SH3GL2_GP2/chr9_EUR_release5.psam [Content-Type=application/octet-stream]...\n",
      "Copying file:///home/jupyter/SH3GL2_GP2/coding_nonsynonymous_pheno_SH3GL2_MDE.log [Content-Type=application/octet-stream]...\n",
      "Copying file:///home/jupyter/SH3GL2_GP2/pheno_SH3GL2_SAS.bed [Content-Type=application/octet-stream]...\n",
      "Copying file:///home/jupyter/SH3GL2_GP2/chr9_MDE_release5.pvar [Content-Type=application/octet-stream]...\n",
      "Copying file:///home/jupyter/SH3GL2_GP2/pheno_SH3GL2_FIN.annovar.hg38_multianno.vcf [Content-Type=text/vcard]...\n",
      "Copying file:///home/jupyter/SH3GL2_GP2/chr9_AFR_release4.pvar [Content-Type=application/octet-stream]...\n",
      "Copying file:///home/jupyter/SH3GL2_GP2/pheno_SH3GL2_CAS.bed [Content-Type=application/octet-stream]...\n",
      "Copying file:///home/jupyter/SH3GL2_GP2/pheno_SH3GL2_CAS.annovar.hg38_multianno.txt [Content-Type=text/plain]...\n",
      "Copying file:///home/jupyter/SH3GL2_GP2/pheno_SH3GL2_AAC.vcf.gz [Content-Type=text/vcard]...\n",
      "Copying file:///home/jupyter/SH3GL2_GP2/pheno_SH3GL2_SAS.vcf.gz.tbi [Content-Type=application/octet-stream]...\n",
      "Copying file:///home/jupyter/SH3GL2_GP2/pheno_SH3GL2_AJ.vcf.gz [Content-Type=text/vcard]...\n",
      "Copying file:///home/jupyter/SH3GL2_GP2/pheno_SH3GL2_FIN.log [Content-Type=application/octet-stream]...\n",
      "Copying file:///home/jupyter/SH3GL2_GP2/pheno_SH3GL2_EUR.fam [Content-Type=application/octet-stream]...\n",
      "Copying file:///home/jupyter/SH3GL2_GP2/chr9_SAS_release5.psam [Content-Type=application/octet-stream]...\n",
      "Copying file:///home/jupyter/SH3GL2_GP2/chr9_AFR_release4.log [Content-Type=application/octet-stream]...\n",
      "Copying file:///home/jupyter/SH3GL2_GP2/pheno_SH3GL2_AJ.bim [Content-Type=application/octet-stream]...\n",
      "Copying file:///home/jupyter/SH3GL2_GP2/coding_nonsynonymous_CAS_rare_0.05.log [Content-Type=application/octet-stream]...\n",
      "Copying file:///home/jupyter/SH3GL2_GP2/pheno_SH3GL2_AFR.annovar.hg38_multianno.txt [Content-Type=text/plain]...\n",
      "Copying file:///home/jupyter/SH3GL2_GP2/pheno_SH3GL2_EAS.fam [Content-Type=application/octet-stream]...\n",
      "Copying file:///home/jupyter/SH3GL2_GP2/pheno_SH3GL2_EAS.vcf.gz.tbi [Content-Type=application/octet-stream]...\n",
      "Copying file:///home/jupyter/SH3GL2_GP2/reduced_coding_nonsynonymous_MDE.txt [Content-Type=text/plain]...\n",
      "Copying file:///home/jupyter/SH3GL2_GP2/pheno_SH3GL2_FIN.vcf.gz.tbi [Content-Type=application/octet-stream]...\n",
      "Copying file:///home/jupyter/SH3GL2_GP2/pheno_SH3GL2_FIN.annovar.hg38_multianno.txt [Content-Type=text/plain]...\n",
      "Copying file:///home/jupyter/SH3GL2_GP2/chr9_AMR_release5.pgen [Content-Type=application/octet-stream]...\n",
      "Copying file:///home/jupyter/SH3GL2_GP2/pheno_SH3GL2_CAS.bim [Content-Type=application/octet-stream]...\n",
      "Copying file:///home/jupyter/SH3GL2_GP2/pheno_SH3GL2_AJ.vcf.gz.tbi [Content-Type=application/octet-stream]...\n",
      "Copying file:///home/jupyter/SH3GL2_GP2/chr9_CAS_release5.pgen [Content-Type=application/octet-stream]...\n",
      "Copying file:///home/jupyter/SH3GL2_GP2/pheno_SH3GL2_CAS.annovar.hg38_multianno.vcf [Content-Type=text/vcard]...\n",
      "Copying file:///home/jupyter/SH3GL2_GP2/coding_nonsynonymous_pheno_SH3GL2_CAS.log [Content-Type=application/octet-stream]...\n",
      "Copying file:///home/jupyter/SH3GL2_GP2/chr9_SAS_release5.log [Content-Type=application/octet-stream]...\n",
      "Copying file:///home/jupyter/SH3GL2_GP2/coding_nonsynonymous_EUR_rare_0.05.log [Content-Type=application/octet-stream]...\n",
      "Copying file:///home/jupyter/SH3GL2_GP2/pheno_SH3GL2_MDE.vcf.gz [Content-Type=text/vcard]...\n",
      "Copying file:///home/jupyter/SH3GL2_GP2/pheno_SH3GL2_SAS.annovar.hg38_multianno.vcf [Content-Type=text/vcard]...\n",
      "Copying file:///home/jupyter/SH3GL2_GP2/pheno_SH3GL2_AMR.bed [Content-Type=application/octet-stream]...\n",
      "Copying file:///home/jupyter/SH3GL2_GP2/coding_nonsynonymous_pheno_SH3GL2_AMR.log [Content-Type=application/octet-stream]...\n",
      "Copying file:///home/jupyter/SH3GL2_GP2/chr9_AAC_release5.log [Content-Type=application/octet-stream]...\n",
      "Copying file:///home/jupyter/SH3GL2_GP2/chr9_AFR_release5.psam [Content-Type=application/octet-stream]...\n",
      "Copying file:///home/jupyter/SH3GL2_GP2/pheno_SH3GL2_AJ.annovar.hg38_multianno.txt [Content-Type=text/plain]...\n",
      "Copying file:///home/jupyter/SH3GL2_GP2/chr9_AAC_release5.pvar [Content-Type=application/octet-stream]...\n",
      "Copying file:///home/jupyter/SH3GL2_GP2/chr9_CAS_release5.psam [Content-Type=application/octet-stream]...\n",
      "Copying file:///home/jupyter/SH3GL2_GP2/chr9_EAS_release5.pvar [Content-Type=application/octet-stream]...\n",
      "Copying file:///home/jupyter/SH3GL2_GP2/chr9_AJ_release5.log [Content-Type=application/octet-stream]...\n",
      "Copying file:///home/jupyter/SH3GL2_GP2/pheno_SH3GL2_SAS.annovar.hg38_multianno.txt [Content-Type=text/plain]...\n",
      "Copying file:///home/jupyter/SH3GL2_GP2/pheno_SH3GL2_AJ.annovar.avinput [Content-Type=application/octet-stream]...\n",
      "Copying file:///home/jupyter/SH3GL2_GP2/chr9_EUR_release4.log [Content-Type=application/octet-stream]...\n",
      "Copying file:///home/jupyter/SH3GL2_GP2/chr9_AFR_release4.psam [Content-Type=application/octet-stream]...\n",
      "Copying file:///home/jupyter/SH3GL2_GP2/pheno_SH3GL2_AFR.bim [Content-Type=application/octet-stream]...\n",
      "Copying file:///home/jupyter/SH3GL2_GP2/chr9_EUR_release4.pgen [Content-Type=application/octet-stream]...\n",
      "Copying file:///home/jupyter/SH3GL2_GP2/pheno_SH3GL2_AMR.vcf.gz.tbi [Content-Type=application/octet-stream]...\n",
      "Copying file:///home/jupyter/SH3GL2_GP2/pheno_SH3GL2_AFR.fam [Content-Type=application/octet-stream]...\n",
      "Copying file:///home/jupyter/SH3GL2_GP2/pheno_SH3GL2_AMR.bim [Content-Type=application/octet-stream]...\n",
      "Copying file:///home/jupyter/SH3GL2_GP2/chr9_FIN_release5.pgen [Content-Type=application/octet-stream]...\n",
      "Copying file:///home/jupyter/SH3GL2_GP2/chr9_FIN_release5.psam [Content-Type=application/octet-stream]...\n",
      "Copying file:///home/jupyter/SH3GL2_GP2/pheno_SH3GL2_FIN.annovar.avinput [Content-Type=application/octet-stream]...\n",
      "Copying file:///home/jupyter/SH3GL2_GP2/chr9_SAS_release5.pvar [Content-Type=application/octet-stream]...\n",
      "Copying file:///home/jupyter/SH3GL2_GP2/pheno_SH3GL2_AAC.annovar.avinput [Content-Type=application/octet-stream]...\n",
      "Copying file:///home/jupyter/SH3GL2_GP2/coding_nonsynonymous_FIN_rare_0.05.log [Content-Type=application/octet-stream]...\n",
      "Copying file:///home/jupyter/SH3GL2_GP2/pheno_SH3GL2_AJ.bed [Content-Type=application/octet-stream]...\n",
      "Copying file:///home/jupyter/SH3GL2_GP2/coding_nonsynonymous_pheno_SH3GL2_AJ.log [Content-Type=application/octet-stream]...\n",
      "Copying file:///home/jupyter/SH3GL2_GP2/coding_nonsynonymous_pheno_SH3GL2_EUR.log [Content-Type=application/octet-stream]...\n",
      "Copying file:///home/jupyter/SH3GL2_GP2/pheno_SH3GL2_AFR.bed [Content-Type=application/octet-stream]...\n",
      "Copying file:///home/jupyter/SH3GL2_GP2/pheno_SH3GL2_SAS.annovar.avinput [Content-Type=application/octet-stream]...\n",
      "Copying file:///home/jupyter/SH3GL2_GP2/pheno_SH3GL2_MDE.log [Content-Type=application/octet-stream]...\n",
      "Copying file:///home/jupyter/SH3GL2_GP2/chr9_AFR_release5.pvar [Content-Type=application/octet-stream]...\n",
      "Copying file:///home/jupyter/SH3GL2_GP2/pheno_SH3GL2_FIN.fam [Content-Type=application/octet-stream]...\n",
      "Copying file:///home/jupyter/SH3GL2_GP2/chr9_AAC_release5.pgen [Content-Type=application/octet-stream]...\n",
      "Copying file:///home/jupyter/SH3GL2_GP2/pheno_SH3GL2_CAS.log [Content-Type=application/octet-stream]...\n",
      "Copying file:///home/jupyter/SH3GL2_GP2/pheno_SH3GL2_EUR.vcf.gz.tbi [Content-Type=application/octet-stream]...\n",
      "Copying file:///home/jupyter/SH3GL2_GP2/pheno_SH3GL2_EAS.bim [Content-Type=application/octet-stream]...\n",
      "Copying file:///home/jupyter/SH3GL2_GP2/chr9_CAS_release5.pvar [Content-Type=application/octet-stream]...\n",
      "Copying file:///home/jupyter/SH3GL2_GP2/pheno_SH3GL2_AFR.vcf.gz.tbi [Content-Type=application/octet-stream]...\n",
      "Copying file:///home/jupyter/SH3GL2_GP2/chr9_EAS_release5.log [Content-Type=application/octet-stream]...\n",
      "Copying file:///home/jupyter/SH3GL2_GP2/pheno_SH3GL2_EUR.annovar.hg38_multianno.txt [Content-Type=text/plain]...\n",
      "Copying file:///home/jupyter/SH3GL2_GP2/pheno_SH3GL2_AMR.vcf [Content-Type=text/vcard]...\n",
      "Copying file:///home/jupyter/SH3GL2_GP2/reduced_coding_nonsynonymous_EUR.txt [Content-Type=text/plain]...\n",
      "Copying file:///home/jupyter/SH3GL2_GP2/coding_nonsynonymous_AJ_rare_0.05.log [Content-Type=application/octet-stream]...\n",
      "Copying file:///home/jupyter/SH3GL2_GP2/pheno_SH3GL2_AFR.annovar.hg38_multianno.vcf [Content-Type=text/vcard]...\n",
      "\\ [173/173 files][ 18.3 GiB/ 18.3 GiB] 100% Done  49.7 MiB/s ETA 00:00:00       \n",
      "Operation completed over 173 objects/18.3 GiB.                                   \n"
     ]
    }
   ],
   "source": [
    "shell_do(f'gsutil -mu {BILLING_PROJECT_ID} cp -r {WORK_DIR} {WORKSPACE_BUCKET}')"
   ]
  },
  {
   "cell_type": "code",
   "execution_count": 55,
   "metadata": {},
   "outputs": [
    {
     "name": "stdout",
     "output_type": "stream",
     "text": [
      " AFR_GP2_.ipynb\r\n",
      " H3GL2_GP2_EUR_ANC.ipynb\r\n",
      " PP2A_AMP-PD-draft.ipynb\r\n",
      " PP2A_AMP-PD.ipynb\r\n",
      " PP2A_GP2-draft.ipynb\r\n",
      " PP2A_GP2.ipynb\r\n",
      " SH3GL2_AMP-PD_ALF.ipynb\r\n",
      " SH3GL2_AMP-PD_CAS_ANC-draft.ipynb\r\n",
      " SH3GL2_AMP-PD_CAS_ANC.ipynb\r\n",
      " SH3GL2_AMP-PD_EAS_ANC-draft.ipynb\r\n",
      " SH3GL2_AMP-PD_EAS_ANC.ipynb\r\n",
      " SH3GL2_AMP-PD_EAS_SAS-draft.ipynb\r\n",
      " SH3GL2_AMP-PD_EAS_SAS.ipynb\r\n",
      " SH3GL2_AMP-PD-finalversion.ipynb\r\n",
      " SH3GL2_GP2_AAC_AJHM.ipynb\r\n",
      " SH3GL2_GP2_AAC_ANA.ipynb\r\n",
      " SH3GL2_GP2_AAC-finalversion.ipynb\r\n",
      " SH3GL2_GP2_AFR_ALF.ipynb\r\n",
      " SH3GL2_GP2_AFR-finalversion.ipynb\r\n",
      " SH3GL2_GP2_AJ_AJHM.ipynb\r\n",
      " SH3GL2_GP2_AJ_ANA.ipynb\r\n",
      " SH3GL2_GP2_AJ-finalversion.ipynb\r\n",
      " SH3GL2_GP2_ALF.ipynb\r\n",
      " SH3GL2_GP2_AMR_ALF.ipynb\r\n",
      " SH3GL2_GP2_AMR-finalversion.ipynb\r\n",
      " SH3GL2_GP2_CAS_ANC.ipynb\r\n",
      " SH3GL2_GP2_CAS-finalversion.ipynb\r\n",
      " SH3GL2_GP2_CAS.ipynb\r\n",
      " SH3GL2_GP2_EAS-finalversion.ipynb\r\n",
      " SH3GL2_GP2_EAS_finalversion.ipynb\r\n",
      " SH3GL2_-GP2_EAS-ifnalversion.ipynb\r\n",
      "'SH3GL2_GP2_EAS_SAS_delete_duplicates in all popu.ipynb'\r\n",
      " SH3GL2_GP2_EAS_SAS-finalversion.ipynb\r\n",
      " SH3GL2_GP2_EAS_SAS.ipynb\r\n",
      " SH3GL2_GP2_EUR_ANC-draft.ipynb\r\n",
      " SH3GL2_GP2_EUR-finalversion.ipynb\r\n",
      " SH3GL2_GP2_EUR.ipynb\r\n",
      " SH3GL2_GP2_FIN_AJHM.ipynb\r\n",
      " SH3GL2_GP2_FIN-finalversion.ipynb\r\n",
      " SH3GL2_GP2_MDE_AJHM.ipynb\r\n",
      " SH3GL2_GP2_MDE_ANA.ipynb\r\n",
      " SH3GL2_GP2_MDE-finalversion.ipynb\r\n",
      " SH3GL2_GP2_SAS_copy.ipynb\r\n",
      " SH3GL2_GP2_SAS-finalversion.ipynb\r\n",
      " SH3GL2-GP2-SAS-ifnalversion.ipynb\r\n"
     ]
    }
   ],
   "source": [
    "ls"
   ]
  },
  {
   "cell_type": "code",
   "execution_count": null,
   "metadata": {},
   "outputs": [],
   "source": []
  }
 ],
 "metadata": {
  "kernelspec": {
   "display_name": "Python 3",
   "language": "python",
   "name": "python3"
  },
  "language_info": {
   "codemirror_mode": {
    "name": "ipython",
    "version": 3
   },
   "file_extension": ".py",
   "mimetype": "text/x-python",
   "name": "python",
   "nbconvert_exporter": "python",
   "pygments_lexer": "ipython3",
   "version": "3.7.12"
  },
  "toc": {
   "base_numbering": 1,
   "nav_menu": {
    "height": "248.972px",
    "width": "263.062px"
   },
   "number_sections": true,
   "sideBar": true,
   "skip_h1_title": false,
   "title_cell": "Table of Contents",
   "title_sidebar": "Contents",
   "toc_cell": false,
   "toc_position": {
    "height": "calc(100% - 180px)",
    "left": "10px",
    "top": "150px",
    "width": "268.372px"
   },
   "toc_section_display": true,
   "toc_window_display": false
  }
 },
 "nbformat": 4,
 "nbformat_minor": 2
}
