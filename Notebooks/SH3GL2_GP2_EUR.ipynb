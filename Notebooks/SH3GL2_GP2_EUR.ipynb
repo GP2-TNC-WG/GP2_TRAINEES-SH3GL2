{
 "cells": [
  {
   "cell_type": "markdown",
   "metadata": {},
   "source": [
    "# SH3GL2 - Single gene analysis in GP2 data"
   ]
  },
  {
   "cell_type": "markdown",
   "metadata": {},
   "source": [
    "## Description\n",
    "\n",
    "Using \"individual level data\""
   ]
  },
  {
   "cell_type": "markdown",
   "metadata": {},
   "source": [
    "### 0. Getting Started\n",
    "\n",
    "- Loading Python libraries\n",
    "- Defining functions\n",
    "- Installing packages\n",
    "\n",
    "### 1. Copy data from workspace to cloud environment\n",
    "\n",
    "### 2. Extract SH3GL2\n",
    "\n",
    "### 3. Annotate SH3GL2 variants\n",
    "\n",
    "### 4. Extract coding/non-syn variants\n",
    "\n",
    "### 5. Calculate frequency in cases versus controls\n",
    "\n",
    "### 6. Calculate frequency (homozygotes) in cases versus controls\n",
    "\n",
    "### 7. Save out results"
   ]
  },
  {
   "cell_type": "markdown",
   "metadata": {},
   "source": [
    "## Getting Started"
   ]
  },
  {
   "cell_type": "markdown",
   "metadata": {},
   "source": [
    "### Loading Python libraries"
   ]
  },
  {
   "cell_type": "markdown",
   "metadata": {},
   "source": [
    "### Defining functions"
   ]
  },
  {
   "cell_type": "code",
   "execution_count": 1,
   "metadata": {
    "code_folding": []
   },
   "outputs": [],
   "source": [
    "# Use the os package to interact with the environment\n",
    "import os\n",
    "\n",
    "# Bring in Pandas for Dataframe functionality\n",
    "import pandas as pd\n",
    "\n",
    "# Numpy for basics\n",
    "import numpy as np\n",
    "\n",
    "# Use StringIO for working with file contents\n",
    "from io import StringIO\n",
    "\n",
    "# Enable IPython to display matplotlib graphs\n",
    "import matplotlib.pyplot as plt\n",
    "%matplotlib inline\n",
    "\n",
    "# Enable interaction with the FireCloud API\n",
    "from firecloud import api as fapi\n",
    "\n",
    "# Import the iPython HTML rendering for displaying links to Google Cloud Console\n",
    "from IPython.core.display import display, HTML\n",
    "\n",
    "# Import urllib modules for building URLs to Google Cloud Console\n",
    "import urllib.parse\n",
    "\n",
    "# BigQuery for querying data\n",
    "from google.cloud import bigquery\n",
    "\n",
    "#Import Sys\n",
    "import sys as sys"
   ]
  },
  {
   "cell_type": "code",
   "execution_count": 2,
   "metadata": {
    "code_folding": []
   },
   "outputs": [],
   "source": [
    "# Utility routine for printing a shell command before executing it\n",
    "def shell_do(command):\n",
    "    print(f'Executing: {command}', file=sys.stderr)\n",
    "    !$command\n",
    "    \n",
    "def shell_return(command):\n",
    "    print(f'Executing: {command}', file=sys.stderr)\n",
    "    output = !$command\n",
    "    return '\\n'.join(output)\n",
    "\n",
    "# Utility routine for printing a query before executing it\n",
    "def bq_query(query):\n",
    "    print(f'Executing: {query}', file=sys.stderr)\n",
    "    return pd.read_gbq(query, project_id=BILLING_PROJECT_ID, dialect='standard')\n",
    "\n",
    "# Utility routine for display a message and a link\n",
    "def display_html_link(description, link_text, url):\n",
    "    html = f'''\n",
    "    <p>\n",
    "    </p>\n",
    "    <p>\n",
    "    {description}\n",
    "    <a target=_blank href=\"{url}\">{link_text}</a>.\n",
    "    </p>\n",
    "    '''\n",
    "\n",
    "    display(HTML(html))\n",
    "\n",
    "# Utility routines for reading files from Google Cloud Storage\n",
    "def gcs_read_file(path):\n",
    "    \"\"\"Return the contents of a file in GCS\"\"\"\n",
    "    contents = !gsutil -u {BILLING_PROJECT_ID} cat {path}\n",
    "    return '\\n'.join(contents)\n",
    "    \n",
    "def gcs_read_csv(path, sep=None):\n",
    "    \"\"\"Return a DataFrame from the contents of a delimited file in GCS\"\"\"\n",
    "    return pd.read_csv(StringIO(gcs_read_file(path)), sep=sep, engine='python')\n",
    "\n",
    "# Utility routine for displaying a message and link to Cloud Console\n",
    "def link_to_cloud_console_gcs(description, link_text, gcs_path):\n",
    "    url = '{}?{}'.format(\n",
    "        os.path.join('https://console.cloud.google.com/storage/browser',\n",
    "                     gcs_path.replace(\"gs://\",\"\")),\n",
    "        urllib.parse.urlencode({'userProject': BILLING_PROJECT_ID}))\n",
    "\n",
    "    display_html_link(description, link_text, url)"
   ]
  },
  {
   "cell_type": "markdown",
   "metadata": {},
   "source": [
    "### Set paths"
   ]
  },
  {
   "cell_type": "code",
   "execution_count": 3,
   "metadata": {
    "code_folding": []
   },
   "outputs": [
    {
     "name": "stdout",
     "output_type": "stream",
     "text": [
      "Billing and Workspace\n",
      "Workspace Name: Endophilin-A\n",
      "Billing Project: terra-18d8e41c\n",
      "Workspace Bucket, where you can upload and download data: gs://fc-f7a400c1-827e-48f8-b7b6-90c488a000a4\n",
      "\n",
      "GP2 v5.0\n",
      "Path to GP2 v5.0 Clinical Data: gs://gp2tier2/release5_11052023/clinical_data\n",
      "Path to GP2 v5.0 Raw Genotype Data: gs://gp2tier2/release5_11052023/raw_genotypes\n",
      "Path to GP2 v5.0 Imputed Genotype Data: gs://gp2tier2/release5_11052023/imputed_genotypes\n",
      "AMP-PD v3.0\n",
      "Path to AMP-PD v3.0 Clinical Data: gs://amp-pd-data/releases/2022_v3release_1115/clinical\n",
      "Path to AMP-PD v3.0 WGS Data: gs://amp-pd-genomics/releases/2022_v3release_1115/wgs-WB-DWGS/plink\n",
      "Path to AMP-PD v3.0 WGS Data: gs://amp-pd-genomics/releases/2022_v3release_1115/wgs-WB-DWGS/plink/pfiles\n",
      "\n"
     ]
    }
   ],
   "source": [
    "# Set up billing project and data path variables\n",
    "BILLING_PROJECT_ID = os.environ['GOOGLE_PROJECT']\n",
    "WORKSPACE_NAMESPACE = os.environ['WORKSPACE_NAMESPACE']\n",
    "WORKSPACE_NAME = os.environ['WORKSPACE_NAME']\n",
    "WORKSPACE_BUCKET = os.environ['WORKSPACE_BUCKET']\n",
    "\n",
    "WORKSPACE_ATTRIBUTES = fapi.get_workspace(WORKSPACE_NAMESPACE, WORKSPACE_NAME).json().get('workspace',{}).get('attributes',{})\n",
    "\n",
    "## Print the information to check we are in the proper release and billing \n",
    "## This will be different for you, the user, depending on the billing project your workspace is on\n",
    "print('Billing and Workspace')\n",
    "print(f'Workspace Name: {WORKSPACE_NAME}')\n",
    "print(f'Billing Project: {BILLING_PROJECT_ID}')\n",
    "print(f'Workspace Bucket, where you can upload and download data: {WORKSPACE_BUCKET}')\n",
    "print('')\n",
    "\n",
    "\n",
    "## GP2 v5.0\n",
    "## Explicitly define release v5.0 path \n",
    "GP2_RELEASE_PATH = 'gs://gp2tier2/release5_11052023'\n",
    "GP2_CLINICAL_RELEASE_PATH = f'{GP2_RELEASE_PATH}/clinical_data'\n",
    "GP2_RAW_GENO_PATH = f'{GP2_RELEASE_PATH}/raw_genotypes'\n",
    "GP2_IMPUTED_GENO_PATH = f'{GP2_RELEASE_PATH}/imputed_genotypes'\n",
    "print('GP2 v5.0')\n",
    "print(f'Path to GP2 v5.0 Clinical Data: {GP2_CLINICAL_RELEASE_PATH}')\n",
    "print(f'Path to GP2 v5.0 Raw Genotype Data: {GP2_RAW_GENO_PATH}')\n",
    "print(f'Path to GP2 v5.0 Imputed Genotype Data: {GP2_IMPUTED_GENO_PATH}')\n",
    "\n",
    "\n",
    "## AMP-PD v3.0\n",
    "## Explicitly define release v3.0 path \n",
    "AMP_RELEASE_PATH = 'gs://amp-pd-data/releases/2022_v3release_1115'\n",
    "AMP_CLINICAL_RELEASE_PATH = f'{AMP_RELEASE_PATH}/clinical'\n",
    "\n",
    "AMP_WGS_RELEASE_PATH = 'gs://amp-pd-genomics/releases/2022_v3release_1115/wgs-WB-DWGS'\n",
    "AMP_WGS_RELEASE_PLINK_PATH = os.path.join(AMP_WGS_RELEASE_PATH, 'plink')\n",
    "AMP_WGS_RELEASE_PLINK_PFILES = os.path.join(AMP_WGS_RELEASE_PLINK_PATH, 'pfiles')\n",
    "\n",
    "print('AMP-PD v3.0')\n",
    "print(f'Path to AMP-PD v3.0 Clinical Data: {AMP_CLINICAL_RELEASE_PATH}')\n",
    "print(f'Path to AMP-PD v3.0 WGS Data: {AMP_WGS_RELEASE_PLINK_PATH}')\n",
    "print(f'Path to AMP-PD v3.0 WGS Data: {AMP_WGS_RELEASE_PLINK_PFILES}')\n",
    "print('')"
   ]
  },
  {
   "cell_type": "markdown",
   "metadata": {},
   "source": [
    "### Install packages"
   ]
  },
  {
   "cell_type": "markdown",
   "metadata": {},
   "source": [
    "#### Install Plink 1.9 and Plink 2.0"
   ]
  },
  {
   "cell_type": "code",
   "execution_count": 4,
   "metadata": {},
   "outputs": [
    {
     "name": "stdout",
     "output_type": "stream",
     "text": [
      "Plink1.9 is already installed in /home/jupyter/tools/\n",
      "Plink2 is already installed in /home/jupyter/tools/\n"
     ]
    }
   ],
   "source": [
    "%%bash\n",
    "\n",
    "mkdir -p ~/tools\n",
    "cd ~/tools\n",
    "\n",
    "if test -e /home/jupyter/tools/plink; then\n",
    "echo \"Plink1.9 is already installed in /home/jupyter/tools/\"\n",
    "\n",
    "else\n",
    "echo -e \"Downloading plink \\n    -------\"\n",
    "wget -N http://s3.amazonaws.com/plink1-assets/plink_linux_x86_64_20190304.zip \n",
    "unzip -o plink_linux_x86_64_20190304.zip\n",
    "echo -e \"\\n plink downloaded and unzipped in /home/jupyter/tools \\n \"\n",
    "\n",
    "fi\n",
    "\n",
    "\n",
    "if test -e /home/jupyter/tools/plink2; then\n",
    "echo \"Plink2 is already installed in /home/jupyter/tools/\"\n",
    "\n",
    "else\n",
    "echo -e \"Downloading plink2 \\n    -------\"\n",
    "wget -N https://s3.amazonaws.com/plink2-assets/alpha3/plink2_linux_avx2_20220603.zip\n",
    "unzip -o plink2_linux_avx2_20220603.zip\n",
    "echo -e \"\\n plink2 downloaded and unzipped in /home/jupyter/tools \\n \"\n",
    "\n",
    "fi"
   ]
  },
  {
   "cell_type": "code",
   "execution_count": 5,
   "metadata": {
    "scrolled": true
   },
   "outputs": [
    {
     "name": "stdout",
     "output_type": "stream",
     "text": [
      "annovar\n",
      "annovar.latest.tar.gz\n",
      "LICENSE\n",
      "plink\n",
      "plink2\n",
      "plink2_linux_avx2_20220603.zip\n",
      "plink_linux_x86_64_20190304.zip\n",
      "prettify\n",
      "toy.map\n",
      "toy.ped\n"
     ]
    }
   ],
   "source": [
    "%%bash\n",
    "ls /home/jupyter/tools/"
   ]
  },
  {
   "cell_type": "markdown",
   "metadata": {},
   "source": [
    "#### Remote restrictions"
   ]
  },
  {
   "cell_type": "code",
   "execution_count": 6,
   "metadata": {},
   "outputs": [],
   "source": [
    "%%bash\n",
    "\n",
    "# chmod plink 1.9 \n",
    "chmod u+x /home/jupyter/tools/plink"
   ]
  },
  {
   "cell_type": "code",
   "execution_count": 7,
   "metadata": {},
   "outputs": [],
   "source": [
    "%%bash\n",
    "\n",
    "# chmod plink 2.0\n",
    "chmod u+x /home/jupyter/tools/plink2"
   ]
  },
  {
   "cell_type": "markdown",
   "metadata": {},
   "source": [
    "### Install ANNOVAR"
   ]
  },
  {
   "cell_type": "code",
   "execution_count": 8,
   "metadata": {},
   "outputs": [
    {
     "name": "stdout",
     "output_type": "stream",
     "text": [
      "annovar is already installed in /home/jupyter/tools/\n"
     ]
    }
   ],
   "source": [
    "%%bash\n",
    "\n",
    "# Install ANNOVAR:\n",
    "# https://www.openbioinformatics.org/annovar/annovar_download_form.php\n",
    "\n",
    "if test -e /home/jupyter/tools/annovar; then\n",
    "\n",
    "echo \"annovar is already installed in /home/jupyter/tools/\"\n",
    "else\n",
    "echo \"annovar is not installed\"\n",
    "cd /home/jupyter/tools/\n",
    "\n",
    "wget http://www.openbioinformatics.org/annovar/download/0wgxR2rIVP/annovar.latest.tar.gz\n",
    "\n",
    "tar xvfz annovar.latest.tar.gz\n",
    "\n",
    "fi"
   ]
  },
  {
   "cell_type": "code",
   "execution_count": 9,
   "metadata": {
    "scrolled": true
   },
   "outputs": [
    {
     "name": "stdout",
     "output_type": "stream",
     "text": [
      "annovar\n",
      "annovar.latest.tar.gz\n",
      "LICENSE\n",
      "plink\n",
      "plink2\n",
      "plink2_linux_avx2_20220603.zip\n",
      "plink_linux_x86_64_20190304.zip\n",
      "prettify\n",
      "toy.map\n",
      "toy.ped\n"
     ]
    }
   ],
   "source": [
    "%%bash\n",
    "ls /home/jupyter/tools/"
   ]
  },
  {
   "cell_type": "markdown",
   "metadata": {},
   "source": [
    "#### Install ANNOVAR: Download sources of annotation "
   ]
  },
  {
   "cell_type": "code",
   "execution_count": 10,
   "metadata": {
    "scrolled": true
   },
   "outputs": [
    {
     "name": "stderr",
     "output_type": "stream",
     "text": [
      "NOTICE: Web-based checking to see whether ANNOVAR new version is available ... Done\n",
      "NOTICE: Downloading annotation database http://www.openbioinformatics.org/annovar/download/hg38_refGene.txt.gz ... OK\n",
      "NOTICE: Downloading annotation database http://www.openbioinformatics.org/annovar/download/hg38_refGeneMrna.fa.gz ... OK\n",
      "NOTICE: Downloading annotation database http://www.openbioinformatics.org/annovar/download/hg38_refGeneVersion.txt.gz ... OK\n",
      "NOTICE: Uncompressing downloaded files\n",
      "NOTICE: Finished downloading annotation files for hg38 build version, with files saved at the 'humandb' directory\n",
      "NOTICE: Web-based checking to see whether ANNOVAR new version is available ... Done\n",
      "NOTICE: Downloading annotation database http://www.openbioinformatics.org/annovar/download/hg38_clinvar_20140902.txt.gz ... OK\n",
      "NOTICE: Downloading annotation database http://www.openbioinformatics.org/annovar/download/hg38_clinvar_20140902.txt.idx.gz ... OK\n",
      "NOTICE: Uncompressing downloaded files\n",
      "NOTICE: Finished downloading annotation files for hg38 build version, with files saved at the 'humandb' directory\n"
     ]
    }
   ],
   "source": [
    "%%bash\n",
    "\n",
    "cd /home/jupyter/tools/annovar/\n",
    "\n",
    "perl annotate_variation.pl -buildver hg38 -downdb -webfrom annovar refGene humandb/\n",
    "perl annotate_variation.pl -buildver hg38 -downdb -webfrom annovar clinvar_20140902 humandb/\n",
    "#perl annotate_variation.pl -buildver hg38 -downdb cytoBand humandb/\n",
    "#perl annotate_variation.pl -buildver hg38 -downdb -webfrom annovar ensGene humandb/\n",
    "#perl annotate_variation.pl -buildver hg38 -downdb -webfrom annovar exac03 humandb/ \n",
    "#perl annotate_variation.pl -buildver hg38 -downdb -webfrom annovar avsnp147 humandb/ \n",
    "#perl annotate_variation.pl -buildver hg38 -downdb -webfrom annovar dbnsfp30a humandb/\n",
    "#perl annotate_variation.pl -buildver hg38 -downdb -webfrom annovar gnomad211_genome humandb/\n",
    "#perl annotate_variation.pl -buildver hg38 -downdb -webfrom annovar ljb26_all humandb/"
   ]
  },
  {
   "cell_type": "code",
   "execution_count": 11,
   "metadata": {
    "scrolled": true
   },
   "outputs": [
    {
     "name": "stdout",
     "output_type": "stream",
     "text": [
      "annotate_variation.pl\n",
      "coding_change.pl\n",
      "convert2annovar.pl\n",
      "example\n",
      "humandb\n",
      "retrieve_seq_from_fasta.pl\n",
      "table_annovar.pl\n",
      "variants_reduction.pl\n"
     ]
    }
   ],
   "source": [
    "%%bash\n",
    "ls /home/jupyter/tools/annovar/"
   ]
  },
  {
   "cell_type": "markdown",
   "metadata": {},
   "source": [
    "## EUR"
   ]
  },
  {
   "cell_type": "markdown",
   "metadata": {},
   "source": [
    "## Copy data from GP2 bucket to workspace"
   ]
  },
  {
   "cell_type": "code",
   "execution_count": 12,
   "metadata": {
    "scrolled": false
   },
   "outputs": [
    {
     "name": "stdout",
     "output_type": "stream",
     "text": [
      "Making a working directory\n"
     ]
    },
    {
     "name": "stderr",
     "output_type": "stream",
     "text": [
      "Executing: mkdir -p /home/jupyter/SH3GL2_GP2/\n"
     ]
    }
   ],
   "source": [
    "# Make a directory\n",
    "print(\"Making a working directory\")\n",
    "WORK_DIR = f'/home/jupyter/SH3GL2_GP2/'\n",
    "shell_do(f'mkdir -p {WORK_DIR}') # f' means f-string - contains expressions to execute the code"
   ]
  },
  {
   "cell_type": "code",
   "execution_count": 13,
   "metadata": {
    "scrolled": true
   },
   "outputs": [
    {
     "name": "stderr",
     "output_type": "stream",
     "text": [
      "Executing: gsutil -u terra-18d8e41c ls gs://gp2tier2/release5_11052023/imputed_genotypes\n"
     ]
    },
    {
     "name": "stdout",
     "output_type": "stream",
     "text": [
      "gs://gp2tier2/release5_11052023/imputed_genotypes/AAC/\r\n",
      "gs://gp2tier2/release5_11052023/imputed_genotypes/AFR/\r\n",
      "gs://gp2tier2/release5_11052023/imputed_genotypes/AJ/\r\n",
      "gs://gp2tier2/release5_11052023/imputed_genotypes/AMR/\r\n",
      "gs://gp2tier2/release5_11052023/imputed_genotypes/CAS/\r\n",
      "gs://gp2tier2/release5_11052023/imputed_genotypes/EAS/\r\n",
      "gs://gp2tier2/release5_11052023/imputed_genotypes/EUR/\r\n",
      "gs://gp2tier2/release5_11052023/imputed_genotypes/FIN/\r\n",
      "gs://gp2tier2/release5_11052023/imputed_genotypes/MDE/\r\n",
      "gs://gp2tier2/release5_11052023/imputed_genotypes/SAS/\r\n"
     ]
    }
   ],
   "source": [
    "# Check directory where GP2 data is\n",
    "shell_do(f'gsutil -u {BILLING_PROJECT_ID} ls {GP2_IMPUTED_GENO_PATH}')"
   ]
  },
  {
   "cell_type": "code",
   "execution_count": 14,
   "metadata": {
    "scrolled": true
   },
   "outputs": [
    {
     "name": "stderr",
     "output_type": "stream",
     "text": [
      "Executing: gsutil -u terra-18d8e41c -m cp -r gs://gp2tier2/release5_11052023/imputed_genotypes/EUR/chr9* /home/jupyter/SH3GL2_GP2/\n"
     ]
    },
    {
     "name": "stdout",
     "output_type": "stream",
     "text": [
      "Copying gs://gp2tier2/release5_11052023/imputed_genotypes/EUR/chr9_EUR_release5.log...\n",
      "Copying gs://gp2tier2/release5_11052023/imputed_genotypes/EUR/chr9_EUR_release5.pgen...\n",
      "Copying gs://gp2tier2/release5_11052023/imputed_genotypes/EUR/chr9_EUR_release5.pvar...\n",
      "Copying gs://gp2tier2/release5_11052023/imputed_genotypes/EUR/chr9_EUR_release5.psam...\n",
      "Download already complete for /home/jupyter/SH3GL2_GP2/chr9_EUR_release5.pgen component 0, skipping download but will run integrity checks.\n",
      "Resuming download for /home/jupyter/SH3GL2_GP2/chr9_EUR_release5.pgen component 1\n",
      "Download already complete for /home/jupyter/SH3GL2_GP2/chr9_EUR_release5.pgen component 3, skipping download but will run integrity checks.\n",
      "Download already complete for /home/jupyter/SH3GL2_GP2/chr9_EUR_release5.pgen component 2, skipping download but will run integrity checks.\n",
      "\\ [4/4 files][  6.5 GiB/  6.5 GiB] 100% Done   7.0 MiB/s ETA 00:00:00           \n",
      "Operation completed over 4 objects/6.5 GiB.                                      \n"
     ]
    }
   ],
   "source": [
    "shell_do(f'gsutil -u {BILLING_PROJECT_ID} -m cp -r {GP2_IMPUTED_GENO_PATH}/EUR/chr9* {WORK_DIR}')"
   ]
  },
  {
   "cell_type": "markdown",
   "metadata": {},
   "source": [
    "### Create a covariate file with GP2 data"
   ]
  },
  {
   "cell_type": "code",
   "execution_count": 15,
   "metadata": {
    "scrolled": false
   },
   "outputs": [
    {
     "name": "stderr",
     "output_type": "stream",
     "text": [
      "Executing: gsutil -u terra-18d8e41c ls gs://gp2tier2/release5_11052023/clinical_data\n"
     ]
    },
    {
     "name": "stdout",
     "output_type": "stream",
     "text": [
      "gs://gp2tier2/release5_11052023/clinical_data/master_key_release5_final.csv\r\n",
      "gs://gp2tier2/release5_11052023/clinical_data/release5_data_dictionary.csv\r\n"
     ]
    },
    {
     "name": "stderr",
     "output_type": "stream",
     "text": [
      "Executing: gsutil -u terra-18d8e41c -m cp -r gs://gp2tier2/release5_11052023/clinical_data/master_key_release5_final.csv /home/jupyter/SH3GL2_GP2/\n"
     ]
    },
    {
     "name": "stdout",
     "output_type": "stream",
     "text": [
      "Copying gs://gp2tier2/release5_11052023/clinical_data/master_key_release5_final.csv...\n",
      "/ [1/1 files][  2.5 MiB/  2.5 MiB] 100% Done                                    \n",
      "Operation completed over 1 objects/2.5 MiB.                                      \n"
     ]
    }
   ],
   "source": [
    "shell_do(f'gsutil -u {BILLING_PROJECT_ID} ls {GP2_CLINICAL_RELEASE_PATH}')\n",
    "shell_do(f'gsutil -u {BILLING_PROJECT_ID} -m cp -r {GP2_CLINICAL_RELEASE_PATH}/master_key_release5_final.csv {WORK_DIR}')"
   ]
  },
  {
   "cell_type": "code",
   "execution_count": 16,
   "metadata": {
    "scrolled": false
   },
   "outputs": [
    {
     "data": {
      "text/plain": [
       "Index(['GP2ID', 'GP2sampleID', 'manifest_id', 'phenotype', 'pheno_for_qc',\n",
       "       'other_pheno', 'sex_for_qc', 'age', 'age_of_onset', 'age_at_diagnosis',\n",
       "       'age_at_death', 'race_for_qc', 'family_history', 'region_for_qc',\n",
       "       'study', 'pruned', 'pruned_reason', 'label', 'related'],\n",
       "      dtype='object')"
      ]
     },
     "execution_count": 16,
     "metadata": {},
     "output_type": "execute_result"
    }
   ],
   "source": [
    "cov = pd.read_csv(f'{WORK_DIR}/master_key_release5_final.csv')\n",
    "cov.columns"
   ]
  },
  {
   "cell_type": "code",
   "execution_count": 17,
   "metadata": {
    "scrolled": false
   },
   "outputs": [
    {
     "data": {
      "text/html": [
       "<div>\n",
       "<style scoped>\n",
       "    .dataframe tbody tr th:only-of-type {\n",
       "        vertical-align: middle;\n",
       "    }\n",
       "\n",
       "    .dataframe tbody tr th {\n",
       "        vertical-align: top;\n",
       "    }\n",
       "\n",
       "    .dataframe thead th {\n",
       "        text-align: right;\n",
       "    }\n",
       "</style>\n",
       "<table border=\"1\" class=\"dataframe\">\n",
       "  <thead>\n",
       "    <tr style=\"text-align: right;\">\n",
       "      <th></th>\n",
       "      <th>FID</th>\n",
       "      <th>IID</th>\n",
       "      <th>SEX</th>\n",
       "      <th>AGE</th>\n",
       "      <th>PHENO</th>\n",
       "    </tr>\n",
       "  </thead>\n",
       "  <tbody>\n",
       "    <tr>\n",
       "      <th>0</th>\n",
       "      <td>IMMUNEPD_000001_s1</td>\n",
       "      <td>IMMUNEPD_000001_s1</td>\n",
       "      <td>1</td>\n",
       "      <td>61.0</td>\n",
       "      <td>PD</td>\n",
       "    </tr>\n",
       "    <tr>\n",
       "      <th>1</th>\n",
       "      <td>IMMUNEPD_000002_s1</td>\n",
       "      <td>IMMUNEPD_000002_s1</td>\n",
       "      <td>1</td>\n",
       "      <td>66.0</td>\n",
       "      <td>PD</td>\n",
       "    </tr>\n",
       "    <tr>\n",
       "      <th>2</th>\n",
       "      <td>IMMUNEPD_000003_s1</td>\n",
       "      <td>IMMUNEPD_000003_s1</td>\n",
       "      <td>2</td>\n",
       "      <td>55.0</td>\n",
       "      <td>Control</td>\n",
       "    </tr>\n",
       "    <tr>\n",
       "      <th>3</th>\n",
       "      <td>IMMUNEPD_000004_s1</td>\n",
       "      <td>IMMUNEPD_000004_s1</td>\n",
       "      <td>1</td>\n",
       "      <td>50.0</td>\n",
       "      <td>Control</td>\n",
       "    </tr>\n",
       "    <tr>\n",
       "      <th>4</th>\n",
       "      <td>IMMUNEPD_000005_s1</td>\n",
       "      <td>IMMUNEPD_000005_s1</td>\n",
       "      <td>2</td>\n",
       "      <td>74.0</td>\n",
       "      <td>Control</td>\n",
       "    </tr>\n",
       "    <tr>\n",
       "      <th>...</th>\n",
       "      <td>...</td>\n",
       "      <td>...</td>\n",
       "      <td>...</td>\n",
       "      <td>...</td>\n",
       "      <td>...</td>\n",
       "    </tr>\n",
       "    <tr>\n",
       "      <th>26723</th>\n",
       "      <td>MDGAP-EBB_000149_s1</td>\n",
       "      <td>MDGAP-EBB_000149_s1</td>\n",
       "      <td>1</td>\n",
       "      <td>NaN</td>\n",
       "      <td>Control</td>\n",
       "    </tr>\n",
       "    <tr>\n",
       "      <th>26724</th>\n",
       "      <td>MDGAP-EBB_000150_s1</td>\n",
       "      <td>MDGAP-EBB_000150_s1</td>\n",
       "      <td>2</td>\n",
       "      <td>NaN</td>\n",
       "      <td>Control</td>\n",
       "    </tr>\n",
       "    <tr>\n",
       "      <th>26725</th>\n",
       "      <td>MDGAP-EBB_000151_s1</td>\n",
       "      <td>MDGAP-EBB_000151_s1</td>\n",
       "      <td>1</td>\n",
       "      <td>NaN</td>\n",
       "      <td>Control</td>\n",
       "    </tr>\n",
       "    <tr>\n",
       "      <th>26726</th>\n",
       "      <td>MDGAP-EBB_000152_s1</td>\n",
       "      <td>MDGAP-EBB_000152_s1</td>\n",
       "      <td>2</td>\n",
       "      <td>NaN</td>\n",
       "      <td>Control</td>\n",
       "    </tr>\n",
       "    <tr>\n",
       "      <th>26727</th>\n",
       "      <td>MDGAP-EBB_000153_s1</td>\n",
       "      <td>MDGAP-EBB_000153_s1</td>\n",
       "      <td>1</td>\n",
       "      <td>NaN</td>\n",
       "      <td>Control</td>\n",
       "    </tr>\n",
       "  </tbody>\n",
       "</table>\n",
       "<p>26728 rows × 5 columns</p>\n",
       "</div>"
      ],
      "text/plain": [
       "                       FID                  IID  SEX   AGE    PHENO\n",
       "0       IMMUNEPD_000001_s1   IMMUNEPD_000001_s1    1  61.0       PD\n",
       "1       IMMUNEPD_000002_s1   IMMUNEPD_000002_s1    1  66.0       PD\n",
       "2       IMMUNEPD_000003_s1   IMMUNEPD_000003_s1    2  55.0  Control\n",
       "3       IMMUNEPD_000004_s1   IMMUNEPD_000004_s1    1  50.0  Control\n",
       "4       IMMUNEPD_000005_s1   IMMUNEPD_000005_s1    2  74.0  Control\n",
       "...                    ...                  ...  ...   ...      ...\n",
       "26723  MDGAP-EBB_000149_s1  MDGAP-EBB_000149_s1    1   NaN  Control\n",
       "26724  MDGAP-EBB_000150_s1  MDGAP-EBB_000150_s1    2   NaN  Control\n",
       "26725  MDGAP-EBB_000151_s1  MDGAP-EBB_000151_s1    1   NaN  Control\n",
       "26726  MDGAP-EBB_000152_s1  MDGAP-EBB_000152_s1    2   NaN  Control\n",
       "26727  MDGAP-EBB_000153_s1  MDGAP-EBB_000153_s1    1   NaN  Control\n",
       "\n",
       "[26728 rows x 5 columns]"
      ]
     },
     "execution_count": 17,
     "metadata": {},
     "output_type": "execute_result"
    }
   ],
   "source": [
    "cov_reduced = cov[['GP2sampleID','GP2sampleID','sex_for_qc', 'age', 'phenotype']]\n",
    "cov_reduced.columns = ['FID','IID', 'SEX','AGE','PHENO']\n",
    "cov_reduced"
   ]
  },
  {
   "cell_type": "code",
   "execution_count": 18,
   "metadata": {},
   "outputs": [],
   "source": [
    "conditions = [\n",
    "    (cov_reduced['PHENO'] == \"PD\"),\n",
    "    (cov_reduced['PHENO'] == \"Control\")]"
   ]
  },
  {
   "cell_type": "code",
   "execution_count": 19,
   "metadata": {
    "scrolled": true
   },
   "outputs": [
    {
     "name": "stderr",
     "output_type": "stream",
     "text": [
      "/opt/conda/lib/python3.7/site-packages/ipykernel_launcher.py:2: SettingWithCopyWarning: \n",
      "A value is trying to be set on a copy of a slice from a DataFrame.\n",
      "Try using .loc[row_indexer,col_indexer] = value instead\n",
      "\n",
      "See the caveats in the documentation: https://pandas.pydata.org/pandas-docs/stable/user_guide/indexing.html#returning-a-view-versus-a-copy\n",
      "  \n"
     ]
    }
   ],
   "source": [
    "choices = [2,1]\n",
    "cov_reduced['PHENOTYPE'] = np.select(conditions, choices, default=-9).astype(np.int64)"
   ]
  },
  {
   "cell_type": "code",
   "execution_count": 20,
   "metadata": {
    "scrolled": false
   },
   "outputs": [
    {
     "name": "stderr",
     "output_type": "stream",
     "text": [
      "/opt/conda/lib/python3.7/site-packages/pandas/core/frame.py:4913: SettingWithCopyWarning: \n",
      "A value is trying to be set on a copy of a slice from a DataFrame\n",
      "\n",
      "See the caveats in the documentation: https://pandas.pydata.org/pandas-docs/stable/user_guide/indexing.html#returning-a-view-versus-a-copy\n",
      "  errors=errors,\n"
     ]
    }
   ],
   "source": [
    "cov_reduced.reset_index(inplace=True)\n",
    "cov_reduced.drop(columns=[\"index\"], inplace=True)"
   ]
  },
  {
   "cell_type": "code",
   "execution_count": 21,
   "metadata": {},
   "outputs": [],
   "source": [
    "cov_reduced.drop(columns=['PHENO'], inplace=True)"
   ]
  },
  {
   "cell_type": "code",
   "execution_count": 22,
   "metadata": {},
   "outputs": [
    {
     "data": {
      "text/html": [
       "<div>\n",
       "<style scoped>\n",
       "    .dataframe tbody tr th:only-of-type {\n",
       "        vertical-align: middle;\n",
       "    }\n",
       "\n",
       "    .dataframe tbody tr th {\n",
       "        vertical-align: top;\n",
       "    }\n",
       "\n",
       "    .dataframe thead th {\n",
       "        text-align: right;\n",
       "    }\n",
       "</style>\n",
       "<table border=\"1\" class=\"dataframe\">\n",
       "  <thead>\n",
       "    <tr style=\"text-align: right;\">\n",
       "      <th></th>\n",
       "      <th>FID</th>\n",
       "      <th>IID</th>\n",
       "      <th>SEX</th>\n",
       "    </tr>\n",
       "  </thead>\n",
       "  <tbody>\n",
       "    <tr>\n",
       "      <th>0</th>\n",
       "      <td>IMMUNEPD_000001_s1</td>\n",
       "      <td>IMMUNEPD_000001_s1</td>\n",
       "      <td>1</td>\n",
       "    </tr>\n",
       "    <tr>\n",
       "      <th>1</th>\n",
       "      <td>IMMUNEPD_000002_s1</td>\n",
       "      <td>IMMUNEPD_000002_s1</td>\n",
       "      <td>1</td>\n",
       "    </tr>\n",
       "    <tr>\n",
       "      <th>2</th>\n",
       "      <td>IMMUNEPD_000003_s1</td>\n",
       "      <td>IMMUNEPD_000003_s1</td>\n",
       "      <td>2</td>\n",
       "    </tr>\n",
       "    <tr>\n",
       "      <th>3</th>\n",
       "      <td>IMMUNEPD_000004_s1</td>\n",
       "      <td>IMMUNEPD_000004_s1</td>\n",
       "      <td>1</td>\n",
       "    </tr>\n",
       "    <tr>\n",
       "      <th>4</th>\n",
       "      <td>IMMUNEPD_000005_s1</td>\n",
       "      <td>IMMUNEPD_000005_s1</td>\n",
       "      <td>2</td>\n",
       "    </tr>\n",
       "    <tr>\n",
       "      <th>...</th>\n",
       "      <td>...</td>\n",
       "      <td>...</td>\n",
       "      <td>...</td>\n",
       "    </tr>\n",
       "    <tr>\n",
       "      <th>26723</th>\n",
       "      <td>MDGAP-EBB_000149_s1</td>\n",
       "      <td>MDGAP-EBB_000149_s1</td>\n",
       "      <td>1</td>\n",
       "    </tr>\n",
       "    <tr>\n",
       "      <th>26724</th>\n",
       "      <td>MDGAP-EBB_000150_s1</td>\n",
       "      <td>MDGAP-EBB_000150_s1</td>\n",
       "      <td>2</td>\n",
       "    </tr>\n",
       "    <tr>\n",
       "      <th>26725</th>\n",
       "      <td>MDGAP-EBB_000151_s1</td>\n",
       "      <td>MDGAP-EBB_000151_s1</td>\n",
       "      <td>1</td>\n",
       "    </tr>\n",
       "    <tr>\n",
       "      <th>26726</th>\n",
       "      <td>MDGAP-EBB_000152_s1</td>\n",
       "      <td>MDGAP-EBB_000152_s1</td>\n",
       "      <td>2</td>\n",
       "    </tr>\n",
       "    <tr>\n",
       "      <th>26727</th>\n",
       "      <td>MDGAP-EBB_000153_s1</td>\n",
       "      <td>MDGAP-EBB_000153_s1</td>\n",
       "      <td>1</td>\n",
       "    </tr>\n",
       "  </tbody>\n",
       "</table>\n",
       "<p>26728 rows × 3 columns</p>\n",
       "</div>"
      ],
      "text/plain": [
       "                       FID                  IID  SEX\n",
       "0       IMMUNEPD_000001_s1   IMMUNEPD_000001_s1    1\n",
       "1       IMMUNEPD_000002_s1   IMMUNEPD_000002_s1    1\n",
       "2       IMMUNEPD_000003_s1   IMMUNEPD_000003_s1    2\n",
       "3       IMMUNEPD_000004_s1   IMMUNEPD_000004_s1    1\n",
       "4       IMMUNEPD_000005_s1   IMMUNEPD_000005_s1    2\n",
       "...                    ...                  ...  ...\n",
       "26723  MDGAP-EBB_000149_s1  MDGAP-EBB_000149_s1    1\n",
       "26724  MDGAP-EBB_000150_s1  MDGAP-EBB_000150_s1    2\n",
       "26725  MDGAP-EBB_000151_s1  MDGAP-EBB_000151_s1    1\n",
       "26726  MDGAP-EBB_000152_s1  MDGAP-EBB_000152_s1    2\n",
       "26727  MDGAP-EBB_000153_s1  MDGAP-EBB_000153_s1    1\n",
       "\n",
       "[26728 rows x 3 columns]"
      ]
     },
     "execution_count": 22,
     "metadata": {},
     "output_type": "execute_result"
    }
   ],
   "source": [
    "sex = cov_reduced[['FID','IID','SEX']]\n",
    "sex.to_csv(f'{WORK_DIR}/SEX.txt',index=False, sep=\"\\t\")\n",
    "sex"
   ]
  },
  {
   "cell_type": "code",
   "execution_count": 23,
   "metadata": {},
   "outputs": [
    {
     "data": {
      "text/html": [
       "<div>\n",
       "<style scoped>\n",
       "    .dataframe tbody tr th:only-of-type {\n",
       "        vertical-align: middle;\n",
       "    }\n",
       "\n",
       "    .dataframe tbody tr th {\n",
       "        vertical-align: top;\n",
       "    }\n",
       "\n",
       "    .dataframe thead th {\n",
       "        text-align: right;\n",
       "    }\n",
       "</style>\n",
       "<table border=\"1\" class=\"dataframe\">\n",
       "  <thead>\n",
       "    <tr style=\"text-align: right;\">\n",
       "      <th></th>\n",
       "      <th>FID</th>\n",
       "      <th>IID</th>\n",
       "      <th>PHENOTYPE</th>\n",
       "    </tr>\n",
       "  </thead>\n",
       "  <tbody>\n",
       "    <tr>\n",
       "      <th>0</th>\n",
       "      <td>IMMUNEPD_000001_s1</td>\n",
       "      <td>IMMUNEPD_000001_s1</td>\n",
       "      <td>2</td>\n",
       "    </tr>\n",
       "    <tr>\n",
       "      <th>1</th>\n",
       "      <td>IMMUNEPD_000002_s1</td>\n",
       "      <td>IMMUNEPD_000002_s1</td>\n",
       "      <td>2</td>\n",
       "    </tr>\n",
       "    <tr>\n",
       "      <th>2</th>\n",
       "      <td>IMMUNEPD_000003_s1</td>\n",
       "      <td>IMMUNEPD_000003_s1</td>\n",
       "      <td>1</td>\n",
       "    </tr>\n",
       "    <tr>\n",
       "      <th>3</th>\n",
       "      <td>IMMUNEPD_000004_s1</td>\n",
       "      <td>IMMUNEPD_000004_s1</td>\n",
       "      <td>1</td>\n",
       "    </tr>\n",
       "    <tr>\n",
       "      <th>4</th>\n",
       "      <td>IMMUNEPD_000005_s1</td>\n",
       "      <td>IMMUNEPD_000005_s1</td>\n",
       "      <td>1</td>\n",
       "    </tr>\n",
       "    <tr>\n",
       "      <th>...</th>\n",
       "      <td>...</td>\n",
       "      <td>...</td>\n",
       "      <td>...</td>\n",
       "    </tr>\n",
       "    <tr>\n",
       "      <th>26723</th>\n",
       "      <td>MDGAP-EBB_000149_s1</td>\n",
       "      <td>MDGAP-EBB_000149_s1</td>\n",
       "      <td>1</td>\n",
       "    </tr>\n",
       "    <tr>\n",
       "      <th>26724</th>\n",
       "      <td>MDGAP-EBB_000150_s1</td>\n",
       "      <td>MDGAP-EBB_000150_s1</td>\n",
       "      <td>1</td>\n",
       "    </tr>\n",
       "    <tr>\n",
       "      <th>26725</th>\n",
       "      <td>MDGAP-EBB_000151_s1</td>\n",
       "      <td>MDGAP-EBB_000151_s1</td>\n",
       "      <td>1</td>\n",
       "    </tr>\n",
       "    <tr>\n",
       "      <th>26726</th>\n",
       "      <td>MDGAP-EBB_000152_s1</td>\n",
       "      <td>MDGAP-EBB_000152_s1</td>\n",
       "      <td>1</td>\n",
       "    </tr>\n",
       "    <tr>\n",
       "      <th>26727</th>\n",
       "      <td>MDGAP-EBB_000153_s1</td>\n",
       "      <td>MDGAP-EBB_000153_s1</td>\n",
       "      <td>1</td>\n",
       "    </tr>\n",
       "  </tbody>\n",
       "</table>\n",
       "<p>26728 rows × 3 columns</p>\n",
       "</div>"
      ],
      "text/plain": [
       "                       FID                  IID  PHENOTYPE\n",
       "0       IMMUNEPD_000001_s1   IMMUNEPD_000001_s1          2\n",
       "1       IMMUNEPD_000002_s1   IMMUNEPD_000002_s1          2\n",
       "2       IMMUNEPD_000003_s1   IMMUNEPD_000003_s1          1\n",
       "3       IMMUNEPD_000004_s1   IMMUNEPD_000004_s1          1\n",
       "4       IMMUNEPD_000005_s1   IMMUNEPD_000005_s1          1\n",
       "...                    ...                  ...        ...\n",
       "26723  MDGAP-EBB_000149_s1  MDGAP-EBB_000149_s1          1\n",
       "26724  MDGAP-EBB_000150_s1  MDGAP-EBB_000150_s1          1\n",
       "26725  MDGAP-EBB_000151_s1  MDGAP-EBB_000151_s1          1\n",
       "26726  MDGAP-EBB_000152_s1  MDGAP-EBB_000152_s1          1\n",
       "26727  MDGAP-EBB_000153_s1  MDGAP-EBB_000153_s1          1\n",
       "\n",
       "[26728 rows x 3 columns]"
      ]
     },
     "execution_count": 23,
     "metadata": {},
     "output_type": "execute_result"
    }
   ],
   "source": [
    "pheno = cov_reduced[['FID','IID','PHENOTYPE']]\n",
    "pheno.to_csv(f'{WORK_DIR}/PHENO.txt',index=False, sep=\"\\t\")\n",
    "pheno"
   ]
  },
  {
   "cell_type": "markdown",
   "metadata": {},
   "source": [
    "## Extract SH3GL2"
   ]
  },
  {
   "cell_type": "code",
   "execution_count": 33,
   "metadata": {
    "scrolled": false
   },
   "outputs": [
    {
     "name": "stdout",
     "output_type": "stream",
     "text": [
      "PLINK v2.00a3.3LM AVX2 Intel (3 Jun 2022)      www.cog-genomics.org/plink/2.0/\n",
      "(C) 2005-2022 Shaun Purcell, Christopher Chang   GNU General Public License v3\n",
      "Logging to pheno_SH3GL2_EUR.log.\n",
      "Options in effect:\n",
      "  --chr 9\n",
      "  --from-bp 17579066\n",
      "  --make-bed\n",
      "  --out pheno_SH3GL2_EUR\n",
      "  --pfile chr9_EUR_release5\n",
      "  --to-bp 17797124\n",
      "\n",
      "Start time: Tue Jul  4 10:17:35 2023\n",
      "7450 MiB RAM detected; reserving 3725 MiB for main workspace.\n",
      "Using up to 2 compute threads.\n",
      "15356 samples (5896 females, 9460 males; 15356 founders) loaded from\n",
      "chr9_EUR_release5.psam.\n",
      "994337 variants loaded from chr9_EUR_release5.pvar.\n",
      "1 binary phenotype loaded (9230 cases, 4966 controls).\n",
      "2522 variants remaining after main filters.\n",
      "Writing pheno_SH3GL2_EUR.fam ... done.\n",
      "Writing pheno_SH3GL2_EUR.bim ... done.\n",
      "Writing pheno_SH3GL2_EUR.bed ... 0%\b\b76%\b\b\bdone.\n",
      "End time: Tue Jul  4 10:17:35 2023\n"
     ]
    }
   ],
   "source": [
    "%%bash\n",
    "\n",
    "WORK_DIR='/home/jupyter/SH3GL2_GP2/'\n",
    "cd $WORK_DIR\n",
    "\n",
    "# SH3GL2: gene positions on hg38 (from https://useast.ensembl.org/index.html)\n",
    "/home/jupyter/tools/plink2 \\\n",
    "--pfile chr9_EUR_release5 \\\n",
    "--chr 9 \\\n",
    "--from-bp 17579066  \\\n",
    "--to-bp 17797124 \\\n",
    "--make-bed \\\n",
    "--out pheno_SH3GL2_EUR"
   ]
  },
  {
   "cell_type": "markdown",
   "metadata": {},
   "source": [
    "### Visualize plink files bim, fam and bed"
   ]
  },
  {
   "cell_type": "code",
   "execution_count": 34,
   "metadata": {
    "scrolled": true
   },
   "outputs": [
    {
     "name": "stdout",
     "output_type": "stream",
     "text": [
      "9\tchr9:17579156:A:G\t0\t17579156\tG\tA\n",
      "9\tchr9:17579165:C:T\t0\t17579165\tT\tC\n",
      "9\tchr9:17579206:C:T\t0\t17579206\tT\tC\n",
      "9\tchr9:17579372:T:C\t0\t17579372\tC\tT\n",
      "9\tchr9:17579393:C:A\t0\t17579393\tA\tC\n",
      "9\tchr9:17579440:C:G\t0\t17579440\tG\tC\n",
      "9\tchr9:17579547:C:A\t0\t17579547\tA\tC\n",
      "9\tchr9:17579565:C:T\t0\t17579565\tT\tC\n",
      "9\tchr9:17579587:G:T\t0\t17579587\tT\tG\n",
      "9\tchr9:17579588:C:T\t0\t17579588\tT\tC\n"
     ]
    }
   ],
   "source": [
    "%%bash\n",
    "\n",
    "# Visualize bim file\n",
    "WORK_DIR='/home/jupyter/SH3GL2_GP2/'\n",
    "cd $WORK_DIR\n",
    "\n",
    "head pheno_SH3GL2_EUR.bim"
   ]
  },
  {
   "cell_type": "code",
   "execution_count": 35,
   "metadata": {},
   "outputs": [
    {
     "name": "stdout",
     "output_type": "stream",
     "text": [
      "0\tAPGS_000001_s1\t0\t0\t1\t2\n",
      "0\tAPGS_000002_s1\t0\t0\t1\t2\n",
      "0\tAPGS_000003_s1\t0\t0\t1\t2\n",
      "0\tAPGS_000004_s1\t0\t0\t2\t2\n",
      "0\tAPGS_000005_s1\t0\t0\t1\t2\n",
      "0\tAPGS_000006_s1\t0\t0\t1\t2\n",
      "0\tAPGS_000007_s1\t0\t0\t1\t2\n",
      "0\tAPGS_000008_s1\t0\t0\t1\t2\n",
      "0\tAPGS_000009_s1\t0\t0\t1\t2\n",
      "0\tAPGS_000010_s1\t0\t0\t1\t2\n"
     ]
    }
   ],
   "source": [
    "%%bash\n",
    "\n",
    "# Visualize fam file\n",
    "WORK_DIR='/home/jupyter/SH3GL2_GP2/'\n",
    "cd $WORK_DIR\n",
    "\n",
    "head pheno_SH3GL2_EUR.fam"
   ]
  },
  {
   "cell_type": "code",
   "execution_count": 36,
   "metadata": {},
   "outputs": [
    {
     "name": "stdout",
     "output_type": "stream",
     "text": [
      "l\u001b\u0001��������������������������������������������������������������������������������������������������������������������������������������������������������������������������������������������������������������������������������������������������������������������������������������������������������������������������������������������������������������������������������������������������������������������������������������������������������������������������������������������������������������������������������������������������������������������������������������������������������������������������������������������������������������������������������������������������������������������������������������������������������������������������������������������������������������������������������������������������������������������������������������������������������������������������������������������������������������������������������������������������������������������������������������������������������������������������������������������������������������������������������������������������������������������������������������������������������������������������������������������������������������������������������������������������������������������������������������������������������������������������������������������������������������������������������������������������������������������������������������������������������������������������������������������������������������������������������������������������������������������������������������������������������������������������������������������������������������������������������������������������������������������������������������������������������������������������������������������������������������������������������������������������������������������������������������������������������������������������������������������������������������������������������������������������������������������������������������������������������������������������������������������������������������������������������������������������������������������������������������������������������������������������������������������������������������������������������������������������������������������������������������������������������������������������������������������������������������������������������������������������������������������������������������������������������������������������������������������������������������������������������������������������������������������������������������������������������������������������������������������������������������������������������������������������������������������������������������������������������������������������������������������������������������������������������������������������������������������������������������������������������������������������������������������������������������������������������������������������������������������������������������������������������������������������������������������������������������������������������������������������������������������������������������������������������������������������������������������������������������������������������������������������������������������������������������������������������������������������������������������������������������������������������������������������������������������������������������������������������������������������������������������������������������������������������������������������������������������������������������������������������������������������������������������������������������������������������������������������������������������������������������������������������������������������������������������������������������������������������������������������������������������������������������������������������������������������������������������������������������������������������������������������������������������������������������������������������������������������������������������������������������������������������������������������������������������������������������������������������������������������������������������������������������������������������������������������������������������������������������������������������������������������������������������������������������������������������������������������������������������������������������������������������������������������������������������������������������������������������������������������������������������������������������������������������������������������������������������������������������������������������������������������������������������������������������������������������������������������������������������������������������������������������������������������������������������������������������������������������������������������������������������������������������������������������������������������������������������������������������������������������������������������������������������������������������������������������������������������������������������������������������������������������������������������������������������������������������������������������������������������������������������������������������������������������������������������������������������������������������������������������������������������������������������������������������������������������������������������������������������������������������������������������������������������������������������������������������������������������������������������������������������������������������������������������������������������������������������������������������������������������������������������������������������������������������������������������������������������������������������������������������������������������������������������������������������������������������������������������������������������������������������������������������������������������������������������������������������������������������������������������������������������������������������������������������������������������������������������������������������������������������������������������������������������������������������������������������������������������������������������������������������������������������������������������������������������������������������������������������������������������������������������������������������������������������������������������������������������������������������������������������������������������������������������������������������������������������������������������������������������������������������������������������������������������������������������������������������������������������������������������������������������������������������������������������������������������������������������������������������������������������������������������������������������������������������������������������������������������������������������������������������������������������������������������������������������������������������������������������������������������}���������������������������������������������������������������������������������������������������������������������������������������������������������������������������������������������������������������������������������������������������������������������������������������������������������������������������������������������������������������������������������������������������������������������������������������������������������������������������������������������������������������������������������������������������������������������������������������������������������������������������������������������������������������������������������������������������������������������������������������������������������������������������������������������������������������������������������������������������������������������������������������������������������������������������������������������������������������������������������������������������������������������������������������������������������������������������������������������������������������������������������������������������������������������������������������������������������������������������������������������������������������������������������������������������������������������������������������������������������������������������������������������������������������������������������������������������������������������������������������������������������������������������������������������������������������������������������������������������������������������������������������������������������������������������������������������������������������������������������������������������������������������������������������������������������������������������������������������������������������������������������������������������������������������������������������������������������������������������������������������������������������������������������������������������������������������������������������������������������������������������������������������������������������������������������������������������������������������������������������������������������������������������������������������������������������������������������������������������������������������������������������������������������������������������������������������������������������������������������������������������������������������������������������������������������������������������������������������������������������������������������������������������������������������������������������������������������������������������������������������������������������������������������������������������������������������������������������������������������������������������������������������������������������������������������������������������������������������������������������������������������������������������������������������������������������������������������������������������������������������������������������������������������������������������������������������������������������������������������������������������������������������������������������������������������������������������������������������������������������������������������������������������������������������������������������������������������������������������������������������������������������������������������������������������������������������������������������������������������������������������������������������������������������������������������������������������������������������������������������������������������������������������������������������������������������������������������������������������������������������������������������������������������������������������������������������������������������������������������������������������������������������������������������������������������������������������������������������������������������������������������������������������������������������������������������������������������������������������������������������������������������������������������������������������������������������������������������������������������������������������������������������������������������������������������������������������������������������������������\u001a�;\n",
      "��\"�\"\f",
      "��\u00023(*�\"���z���2�,\n",
      "���\b��\u0002\f",
      "�*�\t���ࠢ���Êʈ\u0007 \"��\u0000�����ڮ+(���\u000b",
      "\f",
      "*\f",
      "�\u000f\f",
      "\"����\n",
      "��\"��*��\u000b",
      "��(**(x?��\u0002�Ȱ*��\"���\b.J��/  *�(\"�>�������(����\u0002��\"��2�����(�� .���2��\n",
      "�(��*�����\u000b",
      "�����\"����*���\"\b�̺�\u0002�\n",
      "\"\u0002\u0002.�芪�. �\u0002*����\n",
      "0�(���\"\"\n",
      "��\u000e\u000b",
      "ʊ�����\"�>��\u0012*�����\"\f",
      "��.(�\u001a̢ʠ(���.���ࠈ�\n",
      "�\f",
      "�*#���:+�\u0003�\b���\n",
      "����ꨢ��ʸ\u0002(�*�����2:�\u000e�ʤ���*\u0002�����耪��\u0003k���2����\b�\u0006�\n"
     ]
    }
   ],
   "source": [
    "%%bash\n",
    "\n",
    "# Visualize bed file\n",
    "WORK_DIR='/home/jupyter/SH3GL2_GP2/'\n",
    "cd $WORK_DIR\n",
    "\n",
    "head pheno_SH3GL2_EUR.bed"
   ]
  },
  {
   "cell_type": "code",
   "execution_count": 37,
   "metadata": {},
   "outputs": [
    {
     "name": "stdout",
     "output_type": "stream",
     "text": [
      "PLINK v1.90b6.9 64-bit (4 Mar 2019)            www.cog-genomics.org/plink/1.9/\n",
      "(C) 2005-2019 Shaun Purcell, Christopher Chang   GNU General Public License v3\n",
      "Logging to pheno_SH3GL2_EUR.log.\n",
      "Options in effect:\n",
      "  --bfile pheno_SH3GL2_EUR\n",
      "  --out pheno_SH3GL2_EUR\n",
      "  --recode vcf-fid\n",
      "\n",
      "7450 MB RAM detected; reserving 3725 MB for main workspace.\n",
      "2522 variants loaded from .bim file.\n",
      "15356 people (9460 males, 5896 females) loaded from .fam.\n",
      "14196 phenotype values loaded from .fam.\n",
      "Using 1 thread (no multithreaded calculations invoked).\n",
      "Before main variant filters, 15356 founders and 0 nonfounders present.\n",
      "Calculating allele frequencies... 0%\b\b1%\b\b2%\b\b3%\b\b4%\b\b5%\b\b6%\b\b7%\b\b8%\b\b9%\b\b10%\b\b\b11%\b\b\b12%\b\b\b13%\b\b\b14%\b\b\b15%\b\b\b16%\b\b\b17%\b\b\b18%\b\b\b19%\b\b\b20%\b\b\b21%\b\b\b22%\b\b\b23%\b\b\b24%\b\b\b25%\b\b\b26%\b\b\b27%\b\b\b28%\b\b\b29%\b\b\b30%\b\b\b31%\b\b\b32%\b\b\b33%\b\b\b34%\b\b\b35%\b\b\b36%\b\b\b37%\b\b\b38%\b\b\b39%\b\b\b40%\b\b\b41%\b\b\b42%\b\b\b43%\b\b\b44%\b\b\b45%\b\b\b46%\b\b\b47%\b\b\b48%\b\b\b49%\b\b\b50%\b\b\b51%\b\b\b52%\b\b\b53%\b\b\b54%\b\b\b55%\b\b\b56%\b\b\b57%\b\b\b58%\b\b\b59%\b\b\b60%\b\b\b61%\b\b\b62%\b\b\b63%\b\b\b64%\b\b\b65%\b\b\b66%\b\b\b67%\b\b\b68%\b\b\b69%\b\b\b70%\b\b\b71%\b\b\b72%\b\b\b73%\b\b\b74%\b\b\b75%\b\b\b76%\b\b\b77%\b\b\b78%\b\b\b79%\b\b\b80%\b\b\b81%\b\b\b82%\b\b\b83%\b\b\b84%\b\b\b85%\b\b\b86%\b\b\b87%\b\b\b88%\b\b\b89%\b\b\b90%\b\b\b91%\b\b\b92%\b\b\b93%\b\b\b94%\b\b\b95%\b\b\b96%\b\b\b97%\b\b\b98%\b\b\b99%\b\b\b\b done.\n",
      "Total genotyping rate is 0.997461.\n",
      "2522 variants and 15356 people pass filters and QC.\n",
      "Among remaining phenotypes, 9230 are cases and 4966 are controls.  (1160\n",
      "phenotypes are missing.)\n",
      "--recode vcf-fid to pheno_SH3GL2_EUR.vcf ... 0%\b\b1%\b\b2%\b\b3%\b\b4%\b\b5%\b\b6%\b\b7%\b\b8%\b\b9%\b\b10%\b\b\b11%\b\b\b12%\b\b\b13%\b\b\b14%\b\b\b15%\b\b\b16%\b\b\b17%\b\b\b18%\b\b\b19%\b\b\b20%\b\b\b21%\b\b\b22%\b\b\b23%\b\b\b24%\b\b\b25%\b\b\b26%\b\b\b27%\b\b\b28%\b\b\b29%\b\b\b30%\b\b\b31%\b\b\b32%\b\b\b33%\b\b\b34%\b\b\b35%\b\b\b36%\b\b\b37%\b\b\b38%\b\b\b39%\b\b\b40%\b\b\b41%\b\b\b42%\b\b\b43%\b\b\b44%\b\b\b45%\b\b\b46%\b\b\b47%\b\b\b48%\b\b\b49%\b\b\b50%\b\b\b51%\b\b\b52%\b\b\b53%\b\b\b54%\b\b\b55%\b\b\b56%\b\b\b57%\b\b\b58%\b\b\b59%\b\b\b60%\b\b\b61%\b\b\b62%\b\b\b63%\b\b\b64%\b\b\b65%\b\b\b66%\b\b\b67%\b\b\b68%\b\b\b69%\b\b\b70%\b\b\b71%\b\b\b72%\b\b\b73%\b\b\b74%\b\b\b75%\b\b\b76%\b\b\b77%\b\b\b78%\b\b\b79%\b\b\b80%\b\b\b81%\b\b\b82%\b\b\b83%\b\b\b84%\b\b\b85%\b\b\b86%\b\b\b87%\b\b\b88%\b\b\b89%\b\b\b90%\b\b\b91%\b\b\b92%\b\b\b93%\b\b\b94%\b\b\b95%\b\b\b96%\b\b\b97%\b\b\b98%\b\b\b99%\b\b\bdone.\n"
     ]
    }
   ],
   "source": [
    "%%bash\n",
    "\n",
    "WORK_DIR='/home/jupyter/SH3GL2_GP2/'\n",
    "cd $WORK_DIR\n",
    "\n",
    "# Turn binary files into VCF\n",
    "/home/jupyter/tools/plink \\\n",
    "--bfile pheno_SH3GL2_EUR \\\n",
    "--recode vcf-fid \\\n",
    "--out pheno_SH3GL2_EUR"
   ]
  },
  {
   "cell_type": "markdown",
   "metadata": {},
   "source": [
    "## Annotate SH3GL2 variants"
   ]
  },
  {
   "cell_type": "code",
   "execution_count": 38,
   "metadata": {},
   "outputs": [],
   "source": [
    "%%bash\n",
    "\n",
    "WORK_DIR='/home/jupyter/SH3GL2_GP2/'\n",
    "cd $WORK_DIR\n",
    "export PATH=$PATH:/home/jupyter/tools/rvtests/third/tabix-0.2.6/\n",
    "\n",
    "### Bgzip and Tabix\n",
    "bgzip pheno_SH3GL2_EUR.vcf\n",
    "\n",
    "tabix -f -p vcf pheno_SH3GL2_EUR.vcf.gz\n",
    "tabix -f -p vcf pheno_SH3GL2_EUR.vcf.gz"
   ]
  },
  {
   "cell_type": "code",
   "execution_count": 39,
   "metadata": {
    "scrolled": false
   },
   "outputs": [
    {
     "name": "stderr",
     "output_type": "stream",
     "text": [
      "\n",
      "NOTICE: Running with system command <convert2annovar.pl  -includeinfo -allsample -withfreq -format vcf4 pheno_SH3GL2_EUR.vcf.gz > pheno_SH3GL2_EUR.annovar.avinput>\n",
      "NOTICE: Finished reading 2529 lines from VCF file\n",
      "NOTICE: A total of 2522 locus in VCF file passed QC threshold, representing 2386 SNPs (1521 transitions and 865 transversions) and 136 indels/substitutions\n",
      "NOTICE: Finished writing allele frequencies based on 36639416 SNP genotypes (23356476 transitions and 13282940 transversions) and 2088416 indels/substitutions for 15356 samples\n",
      "\n",
      "NOTICE: Running with system command </home/jupyter/tools/annovar/table_annovar.pl pheno_SH3GL2_EUR.annovar.avinput /home/jupyter/tools/annovar/humandb/ -buildver hg38 -outfile pheno_SH3GL2_EUR.annovar -remove -protocol refGene,clinvar_20140902 -operation g,f --nopolish -nastring . -otherinfo>\n",
      "-----------------------------------------------------------------\n",
      "NOTICE: Processing operation=g protocol=refGene\n",
      "\n",
      "NOTICE: Running with system command <annotate_variation.pl -geneanno -buildver hg38 -dbtype refGene -outfile pheno_SH3GL2_EUR.annovar.refGene -exonsort -nofirstcodondel pheno_SH3GL2_EUR.annovar.avinput /home/jupyter/tools/annovar/humandb/>\n",
      "NOTICE: Output files are written to pheno_SH3GL2_EUR.annovar.refGene.variant_function, pheno_SH3GL2_EUR.annovar.refGene.exonic_variant_function\n",
      "NOTICE: Reading gene annotation from /home/jupyter/tools/annovar/humandb/hg38_refGene.txt ... Done with 88819 transcripts (including 21511 without coding sequence annotation) for 28307 unique genes\n",
      "NOTICE: Processing next batch with 2522 unique variants in 2522 input lines\n",
      "NOTICE: Reading FASTA sequences from /home/jupyter/tools/annovar/humandb/hg38_refGeneMrna.fa ... Done with 1 sequences\n",
      "WARNING: A total of 606 sequences will be ignored due to lack of correct ORF annotation\n",
      "-----------------------------------------------------------------\n",
      "NOTICE: Processing operation=f protocol=clinvar_20140902\n",
      "\n",
      "NOTICE: Running system command <annotate_variation.pl -filter -dbtype clinvar_20140902 -buildver hg38 -outfile pheno_SH3GL2_EUR.annovar pheno_SH3GL2_EUR.annovar.avinput /home/jupyter/tools/annovar/humandb/>\n",
      "NOTICE: the --dbtype clinvar_20140902 is assumed to be in generic ANNOVAR database format\n",
      "NOTICE: Output file with variants matching filtering criteria is written to pheno_SH3GL2_EUR.annovar.hg38_clinvar_20140902_dropped, and output file with other variants is written to pheno_SH3GL2_EUR.annovar.hg38_clinvar_20140902_filtered\n",
      "NOTICE: Processing next batch with 2522 unique variants in 2522 input lines\n",
      "NOTICE: Database index loaded. Total number of bins is 44781 and the number of bins to be scanned is 1\n",
      "NOTICE: Scanning filter database /home/jupyter/tools/annovar/humandb/hg38_clinvar_20140902.txt...Done\n",
      "-----------------------------------------------------------------\n",
      "NOTICE: Multianno output file is written to pheno_SH3GL2_EUR.annovar.hg38_multianno.txt\n",
      "NOTICE: Reading from pheno_SH3GL2_EUR.annovar.hg38_multianno.txt\n",
      "-----------------------------------------------------------------\n",
      "NOTICE: VCF output is written to pheno_SH3GL2_EUR.annovar.hg38_multianno.vcf\n"
     ]
    }
   ],
   "source": [
    "%%bash\n",
    "\n",
    "WORK_DIR='/home/jupyter/SH3GL2_GP2/'\n",
    "cd $WORK_DIR\n",
    "\n",
    "### Annotate variants using ANNOVAR: https://annovar.openbioinformatics.org/en/latest/ \n",
    "perl /home/jupyter/tools/annovar/table_annovar.pl pheno_SH3GL2_EUR.vcf.gz /home/jupyter/tools/annovar/humandb/ -buildver hg38 \\\n",
    "-out pheno_SH3GL2_EUR.annovar \\\n",
    "-remove -protocol refGene,clinvar_20140902 \\\n",
    "-operation g,f \\\n",
    "--nopolish \\\n",
    "-nastring . \\\n",
    "-vcfinput"
   ]
  },
  {
   "cell_type": "markdown",
   "metadata": {},
   "source": [
    "## Extract coding and non-syn variants"
   ]
  },
  {
   "cell_type": "code",
   "execution_count": 40,
   "metadata": {
    "scrolled": true
   },
   "outputs": [
    {
     "data": {
      "text/html": [
       "<div>\n",
       "<style scoped>\n",
       "    .dataframe tbody tr th:only-of-type {\n",
       "        vertical-align: middle;\n",
       "    }\n",
       "\n",
       "    .dataframe tbody tr th {\n",
       "        vertical-align: top;\n",
       "    }\n",
       "\n",
       "    .dataframe thead th {\n",
       "        text-align: right;\n",
       "    }\n",
       "</style>\n",
       "<table border=\"1\" class=\"dataframe\">\n",
       "  <thead>\n",
       "    <tr style=\"text-align: right;\">\n",
       "      <th></th>\n",
       "      <th>Chr</th>\n",
       "      <th>Start</th>\n",
       "      <th>End</th>\n",
       "      <th>Ref</th>\n",
       "      <th>Alt</th>\n",
       "      <th>Func.refGene</th>\n",
       "      <th>Gene.refGene</th>\n",
       "      <th>GeneDetail.refGene</th>\n",
       "      <th>ExonicFunc.refGene</th>\n",
       "      <th>AAChange.refGene</th>\n",
       "      <th>...</th>\n",
       "      <th>Otherinfo15359</th>\n",
       "      <th>Otherinfo15360</th>\n",
       "      <th>Otherinfo15361</th>\n",
       "      <th>Otherinfo15362</th>\n",
       "      <th>Otherinfo15363</th>\n",
       "      <th>Otherinfo15364</th>\n",
       "      <th>Otherinfo15365</th>\n",
       "      <th>Otherinfo15366</th>\n",
       "      <th>Otherinfo15367</th>\n",
       "      <th>Otherinfo15368</th>\n",
       "    </tr>\n",
       "  </thead>\n",
       "  <tbody>\n",
       "    <tr>\n",
       "      <th>0</th>\n",
       "      <td>9</td>\n",
       "      <td>17579156</td>\n",
       "      <td>17579156</td>\n",
       "      <td>A</td>\n",
       "      <td>G</td>\n",
       "      <td>UTR5</td>\n",
       "      <td>SH3GL2</td>\n",
       "      <td>NM_003026:c.-87A&gt;G</td>\n",
       "      <td>.</td>\n",
       "      <td>.</td>\n",
       "      <td>...</td>\n",
       "      <td>0/0</td>\n",
       "      <td>0/0</td>\n",
       "      <td>0/0</td>\n",
       "      <td>0/0</td>\n",
       "      <td>0/0</td>\n",
       "      <td>0/0</td>\n",
       "      <td>0/0</td>\n",
       "      <td>0/0</td>\n",
       "      <td>0/0</td>\n",
       "      <td>0/0</td>\n",
       "    </tr>\n",
       "    <tr>\n",
       "      <th>1</th>\n",
       "      <td>9</td>\n",
       "      <td>17579165</td>\n",
       "      <td>17579165</td>\n",
       "      <td>C</td>\n",
       "      <td>T</td>\n",
       "      <td>UTR5</td>\n",
       "      <td>SH3GL2</td>\n",
       "      <td>NM_003026:c.-78C&gt;T</td>\n",
       "      <td>.</td>\n",
       "      <td>.</td>\n",
       "      <td>...</td>\n",
       "      <td>0/0</td>\n",
       "      <td>0/0</td>\n",
       "      <td>0/0</td>\n",
       "      <td>0/0</td>\n",
       "      <td>0/0</td>\n",
       "      <td>0/1</td>\n",
       "      <td>0/0</td>\n",
       "      <td>0/0</td>\n",
       "      <td>0/0</td>\n",
       "      <td>0/0</td>\n",
       "    </tr>\n",
       "    <tr>\n",
       "      <th>2</th>\n",
       "      <td>9</td>\n",
       "      <td>17579206</td>\n",
       "      <td>17579206</td>\n",
       "      <td>C</td>\n",
       "      <td>T</td>\n",
       "      <td>UTR5</td>\n",
       "      <td>SH3GL2</td>\n",
       "      <td>NM_003026:c.-37C&gt;T</td>\n",
       "      <td>.</td>\n",
       "      <td>.</td>\n",
       "      <td>...</td>\n",
       "      <td>0/0</td>\n",
       "      <td>0/0</td>\n",
       "      <td>0/0</td>\n",
       "      <td>0/0</td>\n",
       "      <td>0/0</td>\n",
       "      <td>0/0</td>\n",
       "      <td>0/0</td>\n",
       "      <td>0/0</td>\n",
       "      <td>0/0</td>\n",
       "      <td>0/0</td>\n",
       "    </tr>\n",
       "    <tr>\n",
       "      <th>3</th>\n",
       "      <td>9</td>\n",
       "      <td>17579372</td>\n",
       "      <td>17579372</td>\n",
       "      <td>C</td>\n",
       "      <td>T</td>\n",
       "      <td>intronic</td>\n",
       "      <td>SH3GL2</td>\n",
       "      <td>.</td>\n",
       "      <td>.</td>\n",
       "      <td>.</td>\n",
       "      <td>...</td>\n",
       "      <td>0/0</td>\n",
       "      <td>0/1</td>\n",
       "      <td>0/0</td>\n",
       "      <td>0/0</td>\n",
       "      <td>1/1</td>\n",
       "      <td>0/1</td>\n",
       "      <td>0/1</td>\n",
       "      <td>0/1</td>\n",
       "      <td>0/1</td>\n",
       "      <td>1/1</td>\n",
       "    </tr>\n",
       "    <tr>\n",
       "      <th>4</th>\n",
       "      <td>9</td>\n",
       "      <td>17579393</td>\n",
       "      <td>17579393</td>\n",
       "      <td>C</td>\n",
       "      <td>A</td>\n",
       "      <td>intronic</td>\n",
       "      <td>SH3GL2</td>\n",
       "      <td>.</td>\n",
       "      <td>.</td>\n",
       "      <td>.</td>\n",
       "      <td>...</td>\n",
       "      <td>0/0</td>\n",
       "      <td>0/0</td>\n",
       "      <td>0/0</td>\n",
       "      <td>0/0</td>\n",
       "      <td>0/0</td>\n",
       "      <td>0/0</td>\n",
       "      <td>0/0</td>\n",
       "      <td>0/0</td>\n",
       "      <td>0/0</td>\n",
       "      <td>0/0</td>\n",
       "    </tr>\n",
       "    <tr>\n",
       "      <th>...</th>\n",
       "      <td>...</td>\n",
       "      <td>...</td>\n",
       "      <td>...</td>\n",
       "      <td>...</td>\n",
       "      <td>...</td>\n",
       "      <td>...</td>\n",
       "      <td>...</td>\n",
       "      <td>...</td>\n",
       "      <td>...</td>\n",
       "      <td>...</td>\n",
       "      <td>...</td>\n",
       "      <td>...</td>\n",
       "      <td>...</td>\n",
       "      <td>...</td>\n",
       "      <td>...</td>\n",
       "      <td>...</td>\n",
       "      <td>...</td>\n",
       "      <td>...</td>\n",
       "      <td>...</td>\n",
       "      <td>...</td>\n",
       "      <td>...</td>\n",
       "    </tr>\n",
       "    <tr>\n",
       "      <th>2517</th>\n",
       "      <td>9</td>\n",
       "      <td>17796670</td>\n",
       "      <td>17796670</td>\n",
       "      <td>G</td>\n",
       "      <td>T</td>\n",
       "      <td>UTR3</td>\n",
       "      <td>SH3GL2</td>\n",
       "      <td>NM_003026:c.*927G&gt;T</td>\n",
       "      <td>.</td>\n",
       "      <td>.</td>\n",
       "      <td>...</td>\n",
       "      <td>1/1</td>\n",
       "      <td>0/1</td>\n",
       "      <td>0/0</td>\n",
       "      <td>0/1</td>\n",
       "      <td>0/1</td>\n",
       "      <td>0/0</td>\n",
       "      <td>0/0</td>\n",
       "      <td>0/1</td>\n",
       "      <td>0/0</td>\n",
       "      <td>0/1</td>\n",
       "    </tr>\n",
       "    <tr>\n",
       "      <th>2518</th>\n",
       "      <td>9</td>\n",
       "      <td>17796672</td>\n",
       "      <td>17796672</td>\n",
       "      <td>C</td>\n",
       "      <td>A</td>\n",
       "      <td>UTR3</td>\n",
       "      <td>SH3GL2</td>\n",
       "      <td>NM_003026:c.*929C&gt;A</td>\n",
       "      <td>.</td>\n",
       "      <td>.</td>\n",
       "      <td>...</td>\n",
       "      <td>0/0</td>\n",
       "      <td>0/0</td>\n",
       "      <td>0/0</td>\n",
       "      <td>0/0</td>\n",
       "      <td>0/0</td>\n",
       "      <td>0/0</td>\n",
       "      <td>0/0</td>\n",
       "      <td>0/0</td>\n",
       "      <td>0/0</td>\n",
       "      <td>0/0</td>\n",
       "    </tr>\n",
       "    <tr>\n",
       "      <th>2519</th>\n",
       "      <td>9</td>\n",
       "      <td>17796950</td>\n",
       "      <td>17796950</td>\n",
       "      <td>C</td>\n",
       "      <td>G</td>\n",
       "      <td>UTR3</td>\n",
       "      <td>SH3GL2</td>\n",
       "      <td>NM_003026:c.*1207C&gt;G</td>\n",
       "      <td>.</td>\n",
       "      <td>.</td>\n",
       "      <td>...</td>\n",
       "      <td>0/0</td>\n",
       "      <td>0/0</td>\n",
       "      <td>0/0</td>\n",
       "      <td>0/0</td>\n",
       "      <td>0/0</td>\n",
       "      <td>0/0</td>\n",
       "      <td>0/0</td>\n",
       "      <td>0/0</td>\n",
       "      <td>0/0</td>\n",
       "      <td>0/0</td>\n",
       "    </tr>\n",
       "    <tr>\n",
       "      <th>2520</th>\n",
       "      <td>9</td>\n",
       "      <td>17796975</td>\n",
       "      <td>17796975</td>\n",
       "      <td>C</td>\n",
       "      <td>T</td>\n",
       "      <td>UTR3</td>\n",
       "      <td>SH3GL2</td>\n",
       "      <td>NM_003026:c.*1232C&gt;T</td>\n",
       "      <td>.</td>\n",
       "      <td>.</td>\n",
       "      <td>...</td>\n",
       "      <td>0/0</td>\n",
       "      <td>0/0</td>\n",
       "      <td>0/0</td>\n",
       "      <td>0/0</td>\n",
       "      <td>0/0</td>\n",
       "      <td>0/0</td>\n",
       "      <td>0/0</td>\n",
       "      <td>0/0</td>\n",
       "      <td>0/0</td>\n",
       "      <td>0/0</td>\n",
       "    </tr>\n",
       "    <tr>\n",
       "      <th>2521</th>\n",
       "      <td>9</td>\n",
       "      <td>17797007</td>\n",
       "      <td>17797007</td>\n",
       "      <td>C</td>\n",
       "      <td>T</td>\n",
       "      <td>UTR3</td>\n",
       "      <td>SH3GL2</td>\n",
       "      <td>NM_003026:c.*1264C&gt;T</td>\n",
       "      <td>.</td>\n",
       "      <td>.</td>\n",
       "      <td>...</td>\n",
       "      <td>0/0</td>\n",
       "      <td>0/0</td>\n",
       "      <td>0/0</td>\n",
       "      <td>0/0</td>\n",
       "      <td>0/0</td>\n",
       "      <td>0/0</td>\n",
       "      <td>0/0</td>\n",
       "      <td>0/0</td>\n",
       "      <td>0/0</td>\n",
       "      <td>0/0</td>\n",
       "    </tr>\n",
       "  </tbody>\n",
       "</table>\n",
       "<p>2522 rows × 15379 columns</p>\n",
       "</div>"
      ],
      "text/plain": [
       "      Chr     Start       End Ref Alt Func.refGene Gene.refGene  \\\n",
       "0       9  17579156  17579156   A   G         UTR5       SH3GL2   \n",
       "1       9  17579165  17579165   C   T         UTR5       SH3GL2   \n",
       "2       9  17579206  17579206   C   T         UTR5       SH3GL2   \n",
       "3       9  17579372  17579372   C   T     intronic       SH3GL2   \n",
       "4       9  17579393  17579393   C   A     intronic       SH3GL2   \n",
       "...   ...       ...       ...  ..  ..          ...          ...   \n",
       "2517    9  17796670  17796670   G   T         UTR3       SH3GL2   \n",
       "2518    9  17796672  17796672   C   A         UTR3       SH3GL2   \n",
       "2519    9  17796950  17796950   C   G         UTR3       SH3GL2   \n",
       "2520    9  17796975  17796975   C   T         UTR3       SH3GL2   \n",
       "2521    9  17797007  17797007   C   T         UTR3       SH3GL2   \n",
       "\n",
       "        GeneDetail.refGene ExonicFunc.refGene AAChange.refGene  ...  \\\n",
       "0       NM_003026:c.-87A>G                  .                .  ...   \n",
       "1       NM_003026:c.-78C>T                  .                .  ...   \n",
       "2       NM_003026:c.-37C>T                  .                .  ...   \n",
       "3                        .                  .                .  ...   \n",
       "4                        .                  .                .  ...   \n",
       "...                    ...                ...              ...  ...   \n",
       "2517   NM_003026:c.*927G>T                  .                .  ...   \n",
       "2518   NM_003026:c.*929C>A                  .                .  ...   \n",
       "2519  NM_003026:c.*1207C>G                  .                .  ...   \n",
       "2520  NM_003026:c.*1232C>T                  .                .  ...   \n",
       "2521  NM_003026:c.*1264C>T                  .                .  ...   \n",
       "\n",
       "     Otherinfo15359  Otherinfo15360 Otherinfo15361 Otherinfo15362  \\\n",
       "0               0/0             0/0            0/0            0/0   \n",
       "1               0/0             0/0            0/0            0/0   \n",
       "2               0/0             0/0            0/0            0/0   \n",
       "3               0/0             0/1            0/0            0/0   \n",
       "4               0/0             0/0            0/0            0/0   \n",
       "...             ...             ...            ...            ...   \n",
       "2517            1/1             0/1            0/0            0/1   \n",
       "2518            0/0             0/0            0/0            0/0   \n",
       "2519            0/0             0/0            0/0            0/0   \n",
       "2520            0/0             0/0            0/0            0/0   \n",
       "2521            0/0             0/0            0/0            0/0   \n",
       "\n",
       "      Otherinfo15363  Otherinfo15364 Otherinfo15365 Otherinfo15366  \\\n",
       "0                0/0             0/0            0/0            0/0   \n",
       "1                0/0             0/1            0/0            0/0   \n",
       "2                0/0             0/0            0/0            0/0   \n",
       "3                1/1             0/1            0/1            0/1   \n",
       "4                0/0             0/0            0/0            0/0   \n",
       "...              ...             ...            ...            ...   \n",
       "2517             0/1             0/0            0/0            0/1   \n",
       "2518             0/0             0/0            0/0            0/0   \n",
       "2519             0/0             0/0            0/0            0/0   \n",
       "2520             0/0             0/0            0/0            0/0   \n",
       "2521             0/0             0/0            0/0            0/0   \n",
       "\n",
       "     Otherinfo15367 Otherinfo15368  \n",
       "0               0/0            0/0  \n",
       "1               0/0            0/0  \n",
       "2               0/0            0/0  \n",
       "3               0/1            1/1  \n",
       "4               0/0            0/0  \n",
       "...             ...            ...  \n",
       "2517            0/0            0/1  \n",
       "2518            0/0            0/0  \n",
       "2519            0/0            0/0  \n",
       "2520            0/0            0/0  \n",
       "2521            0/0            0/0  \n",
       "\n",
       "[2522 rows x 15379 columns]"
      ]
     },
     "execution_count": 40,
     "metadata": {},
     "output_type": "execute_result"
    }
   ],
   "source": [
    "# Visualize multianno file\n",
    "SH3GL2_EUR = pd.read_csv(f'{WORK_DIR}/pheno_SH3GL2_EUR.annovar.hg38_multianno.txt', sep = '\\t')\n",
    "SH3GL2_EUR"
   ]
  },
  {
   "cell_type": "code",
   "execution_count": 41,
   "metadata": {
    "code_folding": []
   },
   "outputs": [
    {
     "data": {
      "text/plain": [
       "Chr               2522\n",
       "Start             2522\n",
       "End               2522\n",
       "Ref               2522\n",
       "Alt               2522\n",
       "                  ... \n",
       "Otherinfo15364    2522\n",
       "Otherinfo15365    2522\n",
       "Otherinfo15366    2522\n",
       "Otherinfo15367    2522\n",
       "Otherinfo15368    2522\n",
       "Length: 15379, dtype: int64"
      ]
     },
     "execution_count": 41,
     "metadata": {},
     "output_type": "execute_result"
    }
   ],
   "source": [
    "#Number of total varints \n",
    "SH3GL2_EUR.count()"
   ]
  },
  {
   "cell_type": "code",
   "execution_count": 42,
   "metadata": {
    "scrolled": false
   },
   "outputs": [
    {
     "data": {
      "text/plain": [
       "Chr               4\n",
       "Start             4\n",
       "End               4\n",
       "Ref               4\n",
       "Alt               4\n",
       "                 ..\n",
       "Otherinfo15364    4\n",
       "Otherinfo15365    4\n",
       "Otherinfo15366    4\n",
       "Otherinfo15367    4\n",
       "Otherinfo15368    4\n",
       "Length: 15379, dtype: int64"
      ]
     },
     "execution_count": 42,
     "metadata": {},
     "output_type": "execute_result"
    }
   ],
   "source": [
    "# Filter exonic variants\n",
    "coding_EUR = SH3GL2_EUR[SH3GL2_EUR['Func.refGene'] == 'exonic']\n",
    "coding_EUR.count()"
   ]
  },
  {
   "cell_type": "code",
   "execution_count": 45,
   "metadata": {},
   "outputs": [
    {
     "data": {
      "text/html": [
       "<div>\n",
       "<style scoped>\n",
       "    .dataframe tbody tr th:only-of-type {\n",
       "        vertical-align: middle;\n",
       "    }\n",
       "\n",
       "    .dataframe tbody tr th {\n",
       "        vertical-align: top;\n",
       "    }\n",
       "\n",
       "    .dataframe thead th {\n",
       "        text-align: right;\n",
       "    }\n",
       "</style>\n",
       "<table border=\"1\" class=\"dataframe\">\n",
       "  <thead>\n",
       "    <tr style=\"text-align: right;\">\n",
       "      <th></th>\n",
       "      <th>Chr</th>\n",
       "      <th>Start</th>\n",
       "      <th>End</th>\n",
       "      <th>Ref</th>\n",
       "      <th>Alt</th>\n",
       "      <th>Func.refGene</th>\n",
       "      <th>Gene.refGene</th>\n",
       "      <th>GeneDetail.refGene</th>\n",
       "      <th>ExonicFunc.refGene</th>\n",
       "      <th>AAChange.refGene</th>\n",
       "      <th>...</th>\n",
       "      <th>Otherinfo15359</th>\n",
       "      <th>Otherinfo15360</th>\n",
       "      <th>Otherinfo15361</th>\n",
       "      <th>Otherinfo15362</th>\n",
       "      <th>Otherinfo15363</th>\n",
       "      <th>Otherinfo15364</th>\n",
       "      <th>Otherinfo15365</th>\n",
       "      <th>Otherinfo15366</th>\n",
       "      <th>Otherinfo15367</th>\n",
       "      <th>Otherinfo15368</th>\n",
       "    </tr>\n",
       "  </thead>\n",
       "  <tbody>\n",
       "    <tr>\n",
       "      <th>2421</th>\n",
       "      <td>9</td>\n",
       "      <td>17786424</td>\n",
       "      <td>17786424</td>\n",
       "      <td>C</td>\n",
       "      <td>T</td>\n",
       "      <td>exonic</td>\n",
       "      <td>SH3GL2</td>\n",
       "      <td>.</td>\n",
       "      <td>synonymous SNV</td>\n",
       "      <td>SH3GL2:NM_003026:exon4:c.C231T:p.I77I</td>\n",
       "      <td>...</td>\n",
       "      <td>0/0</td>\n",
       "      <td>0/0</td>\n",
       "      <td>0/0</td>\n",
       "      <td>0/0</td>\n",
       "      <td>0/0</td>\n",
       "      <td>0/0</td>\n",
       "      <td>0/0</td>\n",
       "      <td>0/0</td>\n",
       "      <td>0/0</td>\n",
       "      <td>0/0</td>\n",
       "    </tr>\n",
       "    <tr>\n",
       "      <th>2422</th>\n",
       "      <td>9</td>\n",
       "      <td>17786430</td>\n",
       "      <td>17786430</td>\n",
       "      <td>C</td>\n",
       "      <td>T</td>\n",
       "      <td>exonic</td>\n",
       "      <td>SH3GL2</td>\n",
       "      <td>.</td>\n",
       "      <td>synonymous SNV</td>\n",
       "      <td>SH3GL2:NM_003026:exon4:c.C237T:p.G79G</td>\n",
       "      <td>...</td>\n",
       "      <td>0/0</td>\n",
       "      <td>0/0</td>\n",
       "      <td>0/0</td>\n",
       "      <td>0/0</td>\n",
       "      <td>0/0</td>\n",
       "      <td>0/0</td>\n",
       "      <td>0/0</td>\n",
       "      <td>0/0</td>\n",
       "      <td>0/0</td>\n",
       "      <td>0/0</td>\n",
       "    </tr>\n",
       "    <tr>\n",
       "      <th>2469</th>\n",
       "      <td>9</td>\n",
       "      <td>17791299</td>\n",
       "      <td>17791299</td>\n",
       "      <td>G</td>\n",
       "      <td>A</td>\n",
       "      <td>exonic</td>\n",
       "      <td>SH3GL2</td>\n",
       "      <td>.</td>\n",
       "      <td>synonymous SNV</td>\n",
       "      <td>SH3GL2:NM_003026:exon7:c.G693A:p.Q231Q</td>\n",
       "      <td>...</td>\n",
       "      <td>0/0</td>\n",
       "      <td>0/0</td>\n",
       "      <td>0/0</td>\n",
       "      <td>0/0</td>\n",
       "      <td>0/0</td>\n",
       "      <td>0/0</td>\n",
       "      <td>0/0</td>\n",
       "      <td>0/0</td>\n",
       "      <td>0/0</td>\n",
       "      <td>0/0</td>\n",
       "    </tr>\n",
       "  </tbody>\n",
       "</table>\n",
       "<p>3 rows × 15379 columns</p>\n",
       "</div>"
      ],
      "text/plain": [
       "      Chr     Start       End Ref Alt Func.refGene Gene.refGene  \\\n",
       "2421    9  17786424  17786424   C   T       exonic       SH3GL2   \n",
       "2422    9  17786430  17786430   C   T       exonic       SH3GL2   \n",
       "2469    9  17791299  17791299   G   A       exonic       SH3GL2   \n",
       "\n",
       "     GeneDetail.refGene ExonicFunc.refGene  \\\n",
       "2421                  .     synonymous SNV   \n",
       "2422                  .     synonymous SNV   \n",
       "2469                  .     synonymous SNV   \n",
       "\n",
       "                            AAChange.refGene  ... Otherinfo15359  \\\n",
       "2421   SH3GL2:NM_003026:exon4:c.C231T:p.I77I  ...            0/0   \n",
       "2422   SH3GL2:NM_003026:exon4:c.C237T:p.G79G  ...            0/0   \n",
       "2469  SH3GL2:NM_003026:exon7:c.G693A:p.Q231Q  ...            0/0   \n",
       "\n",
       "      Otherinfo15360 Otherinfo15361 Otherinfo15362  Otherinfo15363  \\\n",
       "2421             0/0            0/0            0/0             0/0   \n",
       "2422             0/0            0/0            0/0             0/0   \n",
       "2469             0/0            0/0            0/0             0/0   \n",
       "\n",
       "      Otherinfo15364 Otherinfo15365 Otherinfo15366 Otherinfo15367  \\\n",
       "2421             0/0            0/0            0/0            0/0   \n",
       "2422             0/0            0/0            0/0            0/0   \n",
       "2469             0/0            0/0            0/0            0/0   \n",
       "\n",
       "     Otherinfo15368  \n",
       "2421            0/0  \n",
       "2422            0/0  \n",
       "2469            0/0  \n",
       "\n",
       "[3 rows x 15379 columns]"
      ]
     },
     "execution_count": 45,
     "metadata": {},
     "output_type": "execute_result"
    }
   ],
   "source": [
    "# Filter exonic and syn vars\n",
    "coding_synonymous_EUR = SH3GL2_EUR[(SH3GL2_EUR['Func.refGene'] == 'exonic') & (SH3GL2_EUR['ExonicFunc.refGene'] == 'synonymous SNV')]\n",
    "coding_synonymous_EUR"
   ]
  },
  {
   "cell_type": "code",
   "execution_count": 46,
   "metadata": {},
   "outputs": [
    {
     "data": {
      "text/html": [
       "<div>\n",
       "<style scoped>\n",
       "    .dataframe tbody tr th:only-of-type {\n",
       "        vertical-align: middle;\n",
       "    }\n",
       "\n",
       "    .dataframe tbody tr th {\n",
       "        vertical-align: top;\n",
       "    }\n",
       "\n",
       "    .dataframe thead th {\n",
       "        text-align: right;\n",
       "    }\n",
       "</style>\n",
       "<table border=\"1\" class=\"dataframe\">\n",
       "  <thead>\n",
       "    <tr style=\"text-align: right;\">\n",
       "      <th></th>\n",
       "      <th>Chr</th>\n",
       "      <th>Start</th>\n",
       "      <th>End</th>\n",
       "      <th>Ref</th>\n",
       "      <th>Alt</th>\n",
       "      <th>Func.refGene</th>\n",
       "      <th>Gene.refGene</th>\n",
       "      <th>GeneDetail.refGene</th>\n",
       "      <th>ExonicFunc.refGene</th>\n",
       "      <th>AAChange.refGene</th>\n",
       "      <th>...</th>\n",
       "      <th>Otherinfo15359</th>\n",
       "      <th>Otherinfo15360</th>\n",
       "      <th>Otherinfo15361</th>\n",
       "      <th>Otherinfo15362</th>\n",
       "      <th>Otherinfo15363</th>\n",
       "      <th>Otherinfo15364</th>\n",
       "      <th>Otherinfo15365</th>\n",
       "      <th>Otherinfo15366</th>\n",
       "      <th>Otherinfo15367</th>\n",
       "      <th>Otherinfo15368</th>\n",
       "    </tr>\n",
       "  </thead>\n",
       "  <tbody>\n",
       "    <tr>\n",
       "      <th>2489</th>\n",
       "      <td>9</td>\n",
       "      <td>17793465</td>\n",
       "      <td>17793465</td>\n",
       "      <td>G</td>\n",
       "      <td>T</td>\n",
       "      <td>exonic</td>\n",
       "      <td>SH3GL2</td>\n",
       "      <td>.</td>\n",
       "      <td>nonsynonymous SNV</td>\n",
       "      <td>SH3GL2:NM_003026:exon8:c.G827T:p.G276V</td>\n",
       "      <td>...</td>\n",
       "      <td>0/0</td>\n",
       "      <td>0/0</td>\n",
       "      <td>0/0</td>\n",
       "      <td>0/0</td>\n",
       "      <td>0/0</td>\n",
       "      <td>0/0</td>\n",
       "      <td>0/0</td>\n",
       "      <td>0/0</td>\n",
       "      <td>0/0</td>\n",
       "      <td>0/0</td>\n",
       "    </tr>\n",
       "  </tbody>\n",
       "</table>\n",
       "<p>1 rows × 15379 columns</p>\n",
       "</div>"
      ],
      "text/plain": [
       "      Chr     Start       End Ref Alt Func.refGene Gene.refGene  \\\n",
       "2489    9  17793465  17793465   G   T       exonic       SH3GL2   \n",
       "\n",
       "     GeneDetail.refGene ExonicFunc.refGene  \\\n",
       "2489                  .  nonsynonymous SNV   \n",
       "\n",
       "                            AAChange.refGene  ... Otherinfo15359  \\\n",
       "2489  SH3GL2:NM_003026:exon8:c.G827T:p.G276V  ...            0/0   \n",
       "\n",
       "      Otherinfo15360 Otherinfo15361 Otherinfo15362  Otherinfo15363  \\\n",
       "2489             0/0            0/0            0/0             0/0   \n",
       "\n",
       "      Otherinfo15364 Otherinfo15365 Otherinfo15366 Otherinfo15367  \\\n",
       "2489             0/0            0/0            0/0            0/0   \n",
       "\n",
       "     Otherinfo15368  \n",
       "2489            0/0  \n",
       "\n",
       "[1 rows x 15379 columns]"
      ]
     },
     "execution_count": 46,
     "metadata": {},
     "output_type": "execute_result"
    }
   ],
   "source": [
    "# Filter exonic and non-syn vars\n",
    "coding_nonsynonymous_EUR = SH3GL2_EUR[(SH3GL2_EUR['Func.refGene'] == 'exonic') & (SH3GL2_EUR['ExonicFunc.refGene'] == 'nonsynonymous SNV')]\n",
    "coding_nonsynonymous_EUR"
   ]
  },
  {
   "cell_type": "code",
   "execution_count": 47,
   "metadata": {
    "scrolled": true
   },
   "outputs": [
    {
     "name": "stdout",
     "output_type": "stream",
     "text": [
      "      Chr     Start       End Ref Alt Func.refGene Gene.refGene  \\\n",
      "2489    9  17793465  17793465   G   T       exonic       SH3GL2   \n",
      "\n",
      "     GeneDetail.refGene ExonicFunc.refGene  \\\n",
      "2489                  .  nonsynonymous SNV   \n",
      "\n",
      "                            AAChange.refGene  ... Otherinfo15359  \\\n",
      "2489  SH3GL2:NM_003026:exon8:c.G827T:p.G276V  ...            0/0   \n",
      "\n",
      "      Otherinfo15360 Otherinfo15361 Otherinfo15362  Otherinfo15363  \\\n",
      "2489             0/0            0/0            0/0             0/0   \n",
      "\n",
      "      Otherinfo15364 Otherinfo15365 Otherinfo15366 Otherinfo15367  \\\n",
      "2489             0/0            0/0            0/0            0/0   \n",
      "\n",
      "     Otherinfo15368  \n",
      "2489            0/0  \n",
      "\n",
      "[1 rows x 15379 columns]\n"
     ]
    }
   ],
   "source": [
    "print(coding_nonsynonymous_EUR)"
   ]
  },
  {
   "cell_type": "code",
   "execution_count": 48,
   "metadata": {},
   "outputs": [],
   "source": [
    "coding_nonsynonymous_EUR.to_csv(f'{WORK_DIR}/coding_nonsynonymous.txt', sep = '\\t', index = False)"
   ]
  },
  {
   "cell_type": "code",
   "execution_count": 49,
   "metadata": {},
   "outputs": [
    {
     "data": {
      "text/plain": [
       "Chr               2505\n",
       "Start             2505\n",
       "End               2505\n",
       "Ref               2505\n",
       "Alt               2505\n",
       "                  ... \n",
       "Otherinfo15364    2505\n",
       "Otherinfo15365    2505\n",
       "Otherinfo15366    2505\n",
       "Otherinfo15367    2505\n",
       "Otherinfo15368    2505\n",
       "Length: 15379, dtype: int64"
      ]
     },
     "execution_count": 49,
     "metadata": {},
     "output_type": "execute_result"
    }
   ],
   "source": [
    "# Filter intronic variants\n",
    "intronic_EUR = SH3GL2_EUR[SH3GL2_EUR['Func.refGene'] == 'intronic']\n",
    "intronic_EUR.count()"
   ]
  },
  {
   "cell_type": "code",
   "execution_count": 50,
   "metadata": {},
   "outputs": [
    {
     "data": {
      "text/plain": [
       "Chr               10\n",
       "Start             10\n",
       "End               10\n",
       "Ref               10\n",
       "Alt               10\n",
       "                  ..\n",
       "Otherinfo15364    10\n",
       "Otherinfo15365    10\n",
       "Otherinfo15366    10\n",
       "Otherinfo15367    10\n",
       "Otherinfo15368    10\n",
       "Length: 15379, dtype: int64"
      ]
     },
     "execution_count": 50,
     "metadata": {},
     "output_type": "execute_result"
    }
   ],
   "source": [
    "# Filter UTR3 variants\n",
    "UTR3_EUR = SH3GL2_EUR[SH3GL2_EUR['Func.refGene'] == ('UTR3')]\n",
    "UTR3_EUR.count()"
   ]
  },
  {
   "cell_type": "code",
   "execution_count": 51,
   "metadata": {},
   "outputs": [
    {
     "data": {
      "text/plain": [
       "Chr               3\n",
       "Start             3\n",
       "End               3\n",
       "Ref               3\n",
       "Alt               3\n",
       "                 ..\n",
       "Otherinfo15364    3\n",
       "Otherinfo15365    3\n",
       "Otherinfo15366    3\n",
       "Otherinfo15367    3\n",
       "Otherinfo15368    3\n",
       "Length: 15379, dtype: int64"
      ]
     },
     "execution_count": 51,
     "metadata": {},
     "output_type": "execute_result"
    }
   ],
   "source": [
    "# Filter UTR5 variants\n",
    "UTR5_EUR = SH3GL2_EUR[SH3GL2_EUR['Func.refGene'] == ('UTR5')]\n",
    "UTR5_EUR.count()"
   ]
  },
  {
   "cell_type": "code",
   "execution_count": 52,
   "metadata": {},
   "outputs": [],
   "source": [
    "# Calculate freq - cases vs controls"
   ]
  },
  {
   "cell_type": "code",
   "execution_count": 53,
   "metadata": {},
   "outputs": [],
   "source": [
    "reduced_coding_nonsynonymous_EUR = coding_nonsynonymous_EUR[[\"Chr\", \"Start\", \"End\", \"Gene.refGene\"]]\n",
    "reduced_coding_nonsynonymous_EUR.to_csv(f'{WORK_DIR}/reduced_coding_nonsynonymous_EUR.txt', sep = '\\t', index = False, header= False)"
   ]
  },
  {
   "cell_type": "code",
   "execution_count": 54,
   "metadata": {},
   "outputs": [
    {
     "name": "stdout",
     "output_type": "stream",
     "text": [
      "PLINK v1.90b6.9 64-bit (4 Mar 2019)            www.cog-genomics.org/plink/1.9/\n",
      "(C) 2005-2019 Shaun Purcell, Christopher Chang   GNU General Public License v3\n",
      "Logging to coding_nonsynonymous_pheno_SH3GL2_EUR.log.\n",
      "Options in effect:\n",
      "  --adjust\n",
      "  --allow-no-sex\n",
      "  --assoc\n",
      "  --bfile pheno_SH3GL2_EUR\n",
      "  --ci 0.95\n",
      "  --extract range reduced_coding_nonsynonymous_EUR.txt\n",
      "  --out coding_nonsynonymous_pheno_SH3GL2_EUR\n",
      "\n",
      "7450 MB RAM detected; reserving 3725 MB for main workspace.\n",
      "2522 variants loaded from .bim file.\n",
      "15356 people (9460 males, 5896 females) loaded from .fam.\n",
      "14196 phenotype values loaded from .fam.\n",
      "--extract range: 2521 variants excluded.\n",
      "--extract range: 1 variant remaining.\n",
      "Using 1 thread (no multithreaded calculations invoked).\n",
      "Before main variant filters, 15356 founders and 0 nonfounders present.\n",
      "Calculating allele frequencies... 0%\b\b1%\b\b2%\b\b3%\b\b4%\b\b5%\b\b6%\b\b7%\b\b8%\b\b9%\b\b10%\b\b\b11%\b\b\b12%\b\b\b13%\b\b\b14%\b\b\b15%\b\b\b16%\b\b\b17%\b\b\b18%\b\b\b19%\b\b\b20%\b\b\b21%\b\b\b22%\b\b\b23%\b\b\b24%\b\b\b25%\b\b\b26%\b\b\b27%\b\b\b28%\b\b\b29%\b\b\b30%\b\b\b31%\b\b\b32%\b\b\b33%\b\b\b34%\b\b\b35%\b\b\b36%\b\b\b37%\b\b\b38%\b\b\b39%\b\b\b40%\b\b\b41%\b\b\b42%\b\b\b43%\b\b\b44%\b\b\b45%\b\b\b46%\b\b\b47%\b\b\b48%\b\b\b49%\b\b\b50%\b\b\b51%\b\b\b52%\b\b\b53%\b\b\b54%\b\b\b55%\b\b\b56%\b\b\b57%\b\b\b58%\b\b\b59%\b\b\b60%\b\b\b61%\b\b\b62%\b\b\b63%\b\b\b64%\b\b\b65%\b\b\b66%\b\b\b67%\b\b\b68%\b\b\b69%\b\b\b70%\b\b\b71%\b\b\b72%\b\b\b73%\b\b\b74%\b\b\b75%\b\b\b76%\b\b\b77%\b\b\b78%\b\b\b79%\b\b\b80%\b\b\b81%\b\b\b82%\b\b\b83%\b\b\b84%\b\b\b85%\b\b\b86%\b\b\b87%\b\b\b88%\b\b\b89%\b\b\b90%\b\b\b91%\b\b\b92%\b\b\b93%\b\b\b94%\b\b\b95%\b\b\b96%\b\b\b97%\b\b\b98%\b\b\b99%\b\b\b\b done.\n",
      "Total genotyping rate is 0.99974.\n",
      "1 variant and 15356 people pass filters and QC.\n",
      "Among remaining phenotypes, 9230 are cases and 4966 are controls.  (1160\n",
      "phenotypes are missing.)\n",
      "Writing C/C --assoc report to coding_nonsynonymous_pheno_SH3GL2_EUR.assoc ...\n",
      "0%\b\bdone.\n",
      "--adjust: Genomic inflation est. lambda (based on median chisq) = 1.\n",
      "0%\b\b1%\b\b2%\b\b3%\b\b4%\b\b5%\b\b6%\b\b7%\b\b8%\b\b9%\b\b10%\b\b\b11%\b\b\b12%\b\b\b13%\b\b\b14%\b\b\b15%\b\b\b16%\b\b\b17%\b\b\b18%\b\b\b19%\b\b\b20%\b\b\b21%\b\b\b22%\b\b\b23%\b\b\b24%\b\b\b25%\b\b\b26%\b\b\b27%\b\b\b28%\b\b\b29%\b\b\b30%\b\b\b31%\b\b\b32%\b\b\b33%\b\b\b34%\b\b\b35%\b\b\b36%\b\b\b37%\b\b\b38%\b\b\b39%\b\b\b40%\b\b\b41%\b\b\b42%\b\b\b43%\b\b\b44%\b\b\b45%\b\b\b46%\b\b\b47%\b\b\b48%\b\b\b49%\b\b\b50%\b\b\b51%\b\b\b52%\b\b\b53%\b\b\b54%\b\b\b55%\b\b\b56%\b\b\b57%\b\b\b58%\b\b\b59%\b\b\b60%\b\b\b61%\b\b\b62%\b\b\b63%\b\b\b64%\b\b\b65%\b\b\b66%\b\b\b67%\b\b\b68%\b\b\b69%\b\b\b70%\b\b\b71%\b\b\b72%\b\b\b73%\b\b\b74%\b\b\b75%\b\b\b76%\b\b\b77%\b\b\b78%\b\b\b79%\b\b\b80%\b\b\b81%\b\b\b82%\b\b\b83%\b\b\b84%\b\b\b85%\b\b\b86%\b\b\b87%\b\b\b88%\b\b\b89%\b\b\b90%\b\b\b91%\b\b\b92%\b\b\b93%\b\b\b94%\b\b\b95%\b\b\b96%\b\b\b97%\b\b\b98%\b\b\b99%\b\b\b--adjust values (1 variant) written to\n",
      "coding_nonsynonymous_pheno_SH3GL2_EUR.assoc.adjusted .\n"
     ]
    }
   ],
   "source": [
    "%%bash\n",
    "\n",
    "WORK_DIR='/home/jupyter/SH3GL2_GP2/'\n",
    "cd $WORK_DIR\n",
    "\n",
    "/home/jupyter/tools/plink --bfile pheno_SH3GL2_EUR --extract range reduced_coding_nonsynonymous_EUR.txt --assoc --ci 0.95 --adjust --out coding_nonsynonymous_pheno_SH3GL2_EUR --allow-no-sex"
   ]
  },
  {
   "cell_type": "code",
   "execution_count": 55,
   "metadata": {},
   "outputs": [
    {
     "name": "stdout",
     "output_type": "stream",
     "text": [
      "PLINK v1.90b6.9 64-bit (4 Mar 2019)            www.cog-genomics.org/plink/1.9/\n",
      "(C) 2005-2019 Shaun Purcell, Christopher Chang   GNU General Public License v3\n",
      "Logging to coding_nonsynonymous_EUR_rare_0.05.log.\n",
      "Options in effect:\n",
      "  --allow-no-sex\n",
      "  --bfile pheno_SH3GL2_EUR\n",
      "  --extract range reduced_coding_nonsynonymous_EUR.txt\n",
      "  --make-bed\n",
      "  --max-maf 0.05\n",
      "  --out coding_nonsynonymous_EUR_rare_0.05\n",
      "\n",
      "7450 MB RAM detected; reserving 3725 MB for main workspace.\n",
      "2522 variants loaded from .bim file.\n",
      "15356 people (9460 males, 5896 females) loaded from .fam.\n",
      "14196 phenotype values loaded from .fam.\n",
      "--extract range: 2521 variants excluded.\n",
      "--extract range: 1 variant remaining.\n",
      "Using 1 thread (no multithreaded calculations invoked).\n",
      "Before main variant filters, 15356 founders and 0 nonfounders present.\n",
      "Calculating allele frequencies... 0%\b\b1%\b\b2%\b\b3%\b\b4%\b\b5%\b\b6%\b\b7%\b\b8%\b\b9%\b\b10%\b\b\b11%\b\b\b12%\b\b\b13%\b\b\b14%\b\b\b15%\b\b\b16%\b\b\b17%\b\b\b18%\b\b\b19%\b\b\b20%\b\b\b21%\b\b\b22%\b\b\b23%\b\b\b24%\b\b\b25%\b\b\b26%\b\b\b27%\b\b\b28%\b\b\b29%\b\b\b30%\b\b\b31%\b\b\b32%\b\b\b33%\b\b\b34%\b\b\b35%\b\b\b36%\b\b\b37%\b\b\b38%\b\b\b39%\b\b\b40%\b\b\b41%\b\b\b42%\b\b\b43%\b\b\b44%\b\b\b45%\b\b\b46%\b\b\b47%\b\b\b48%\b\b\b49%\b\b\b50%\b\b\b51%\b\b\b52%\b\b\b53%\b\b\b54%\b\b\b55%\b\b\b56%\b\b\b57%\b\b\b58%\b\b\b59%\b\b\b60%\b\b\b61%\b\b\b62%\b\b\b63%\b\b\b64%\b\b\b65%\b\b\b66%\b\b\b67%\b\b\b68%\b\b\b69%\b\b\b70%\b\b\b71%\b\b\b72%\b\b\b73%\b\b\b74%\b\b\b75%\b\b\b76%\b\b\b77%\b\b\b78%\b\b\b79%\b\b\b80%\b\b\b81%\b\b\b82%\b\b\b83%\b\b\b84%\b\b\b85%\b\b\b86%\b\b\b87%\b\b\b88%\b\b\b89%\b\b\b90%\b\b\b91%\b\b\b92%\b\b\b93%\b\b\b94%\b\b\b95%\b\b\b96%\b\b\b97%\b\b\b98%\b\b\b99%\b\b\b\b done.\n",
      "Total genotyping rate is 0.99974.\n",
      "0 variants removed due to minor allele threshold(s)\n",
      "(--maf/--max-maf/--mac/--max-mac).\n",
      "1 variant and 15356 people pass filters and QC.\n",
      "Among remaining phenotypes, 9230 are cases and 4966 are controls.  (1160\n",
      "phenotypes are missing.)\n",
      "--make-bed to coding_nonsynonymous_EUR_rare_0.05.bed +\n",
      "coding_nonsynonymous_EUR_rare_0.05.bim + coding_nonsynonymous_EUR_rare_0.05.fam\n",
      "... 0%\b\b1%\b\b2%\b\b3%\b\b4%\b\b5%\b\b6%\b\b7%\b\b8%\b\b9%\b\b10%\b\b\b11%\b\b\b12%\b\b\b13%\b\b\b14%\b\b\b15%\b\b\b16%\b\b\b17%\b\b\b18%\b\b\b19%\b\b\b20%\b\b\b21%\b\b\b22%\b\b\b23%\b\b\b24%\b\b\b25%\b\b\b26%\b\b\b27%\b\b\b28%\b\b\b29%\b\b\b30%\b\b\b31%\b\b\b32%\b\b\b33%\b\b\b34%\b\b\b35%\b\b\b36%\b\b\b37%\b\b\b38%\b\b\b39%\b\b\b40%\b\b\b41%\b\b\b42%\b\b\b43%\b\b\b44%\b\b\b45%\b\b\b46%\b\b\b47%\b\b\b48%\b\b\b49%\b\b\b50%\b\b\b51%\b\b\b52%\b\b\b53%\b\b\b54%\b\b\b55%\b\b\b56%\b\b\b57%\b\b\b58%\b\b\b59%\b\b\b60%\b\b\b61%\b\b\b62%\b\b\b63%\b\b\b64%\b\b\b65%\b\b\b66%\b\b\b67%\b\b\b68%\b\b\b69%\b\b\b70%\b\b\b71%\b\b\b72%\b\b\b73%\b\b\b74%\b\b\b75%\b\b\b76%\b\b\b77%\b\b\b78%\b\b\b79%\b\b\b80%\b\b\b81%\b\b\b82%\b\b\b83%\b\b\b84%\b\b\b85%\b\b\b86%\b\b\b87%\b\b\b88%\b\b\b89%\b\b\b90%\b\b\b91%\b\b\b92%\b\b\b93%\b\b\b94%\b\b\b95%\b\b\b96%\b\b\b97%\b\b\b98%\b\b\b99%\b\b\bdone.\n"
     ]
    }
   ],
   "source": [
    "%%bash\n",
    "\n",
    "WORK_DIR='/home/jupyter/SH3GL2_GP2/'\n",
    "cd $WORK_DIR\n",
    "\n",
    "/home/jupyter/tools/plink --bfile pheno_SH3GL2_EUR --extract range reduced_coding_nonsynonymous_EUR.txt --make-bed --max-maf 0.05 --out coding_nonsynonymous_EUR_rare_0.05 --allow-no-sex"
   ]
  },
  {
   "cell_type": "code",
   "execution_count": 56,
   "metadata": {},
   "outputs": [
    {
     "data": {
      "text/html": [
       "<div>\n",
       "<style scoped>\n",
       "    .dataframe tbody tr th:only-of-type {\n",
       "        vertical-align: middle;\n",
       "    }\n",
       "\n",
       "    .dataframe tbody tr th {\n",
       "        vertical-align: top;\n",
       "    }\n",
       "\n",
       "    .dataframe thead th {\n",
       "        text-align: right;\n",
       "    }\n",
       "</style>\n",
       "<table border=\"1\" class=\"dataframe\">\n",
       "  <thead>\n",
       "    <tr style=\"text-align: right;\">\n",
       "      <th></th>\n",
       "      <th>CHR</th>\n",
       "      <th>SNP</th>\n",
       "      <th>BP</th>\n",
       "      <th>A1</th>\n",
       "      <th>F_A</th>\n",
       "      <th>F_U</th>\n",
       "      <th>A2</th>\n",
       "      <th>CHISQ</th>\n",
       "      <th>P</th>\n",
       "      <th>OR</th>\n",
       "      <th>SE</th>\n",
       "      <th>L95</th>\n",
       "      <th>U95</th>\n",
       "    </tr>\n",
       "  </thead>\n",
       "  <tbody>\n",
       "    <tr>\n",
       "      <th>0</th>\n",
       "      <td>9</td>\n",
       "      <td>chr9:17793465:G:T</td>\n",
       "      <td>17793465</td>\n",
       "      <td>T</td>\n",
       "      <td>0.003955</td>\n",
       "      <td>0.003828</td>\n",
       "      <td>G</td>\n",
       "      <td>0.02706</td>\n",
       "      <td>0.8693</td>\n",
       "      <td>1.034</td>\n",
       "      <td>0.2004</td>\n",
       "      <td>0.6978</td>\n",
       "      <td>1.531</td>\n",
       "    </tr>\n",
       "  </tbody>\n",
       "</table>\n",
       "</div>"
      ],
      "text/plain": [
       "   CHR                SNP        BP A1       F_A       F_U A2    CHISQ  \\\n",
       "0    9  chr9:17793465:G:T  17793465  T  0.003955  0.003828  G  0.02706   \n",
       "\n",
       "        P     OR      SE     L95    U95  \n",
       "0  0.8693  1.034  0.2004  0.6978  1.531  "
      ]
     },
     "execution_count": 56,
     "metadata": {},
     "output_type": "execute_result"
    }
   ],
   "source": [
    "SH3GL2_EUR_freq = pd.read_csv(f'{WORK_DIR}coding_nonsynonymous_pheno_SH3GL2_EUR.assoc', delim_whitespace=True)\n",
    "SH3GL2_EUR_freq"
   ]
  },
  {
   "cell_type": "code",
   "execution_count": 57,
   "metadata": {},
   "outputs": [
    {
     "data": {
      "text/html": [
       "<div>\n",
       "<style scoped>\n",
       "    .dataframe tbody tr th:only-of-type {\n",
       "        vertical-align: middle;\n",
       "    }\n",
       "\n",
       "    .dataframe tbody tr th {\n",
       "        vertical-align: top;\n",
       "    }\n",
       "\n",
       "    .dataframe thead th {\n",
       "        text-align: right;\n",
       "    }\n",
       "</style>\n",
       "<table border=\"1\" class=\"dataframe\">\n",
       "  <thead>\n",
       "    <tr style=\"text-align: right;\">\n",
       "      <th></th>\n",
       "      <th>CHR</th>\n",
       "      <th>SNP</th>\n",
       "      <th>UNADJ</th>\n",
       "      <th>GC</th>\n",
       "      <th>BONF</th>\n",
       "      <th>HOLM</th>\n",
       "      <th>SIDAK_SS</th>\n",
       "      <th>SIDAK_SD</th>\n",
       "      <th>FDR_BH</th>\n",
       "      <th>FDR_BY</th>\n",
       "    </tr>\n",
       "  </thead>\n",
       "  <tbody>\n",
       "    <tr>\n",
       "      <th>0</th>\n",
       "      <td>9</td>\n",
       "      <td>chr9:17793465:G:T</td>\n",
       "      <td>0.8693</td>\n",
       "      <td>0.8693</td>\n",
       "      <td>0.8693</td>\n",
       "      <td>0.8693</td>\n",
       "      <td>0.8693</td>\n",
       "      <td>0.8693</td>\n",
       "      <td>0.8693</td>\n",
       "      <td>0.8693</td>\n",
       "    </tr>\n",
       "  </tbody>\n",
       "</table>\n",
       "</div>"
      ],
      "text/plain": [
       "   CHR                SNP   UNADJ      GC    BONF    HOLM  SIDAK_SS  SIDAK_SD  \\\n",
       "0    9  chr9:17793465:G:T  0.8693  0.8693  0.8693  0.8693    0.8693    0.8693   \n",
       "\n",
       "   FDR_BH  FDR_BY  \n",
       "0  0.8693  0.8693  "
      ]
     },
     "execution_count": 57,
     "metadata": {},
     "output_type": "execute_result"
    }
   ],
   "source": [
    "SH3GL2_EUR_freq_adj = pd.read_csv(f'{WORK_DIR}coding_nonsynonymous_pheno_SH3GL2_EUR.assoc.adjusted', delim_whitespace=True)\n",
    "SH3GL2_EUR_freq_adj"
   ]
  },
  {
   "cell_type": "markdown",
   "metadata": {},
   "source": [
    "## Calculate freq of HMZ in cases versus controls"
   ]
  },
  {
   "cell_type": "code",
   "execution_count": 58,
   "metadata": {},
   "outputs": [
    {
     "name": "stdout",
     "output_type": "stream",
     "text": [
      "PLINK v1.90b6.9 64-bit (4 Mar 2019)            www.cog-genomics.org/plink/1.9/\n",
      "(C) 2005-2019 Shaun Purcell, Christopher Chang   GNU General Public License v3\n",
      "Logging to coding_nonsynonymous_pheno_SH3GL2_EUR.log.\n",
      "Options in effect:\n",
      "  --bfile pheno_SH3GL2_EUR\n",
      "  --extract range reduced_coding_nonsynonymous_EUR.txt\n",
      "  --out coding_nonsynonymous_pheno_SH3GL2_EUR\n",
      "  --recode A\n",
      "\n",
      "7450 MB RAM detected; reserving 3725 MB for main workspace.\n",
      "2522 variants loaded from .bim file.\n",
      "15356 people (9460 males, 5896 females) loaded from .fam.\n",
      "14196 phenotype values loaded from .fam.\n",
      "--extract range: 2521 variants excluded.\n",
      "--extract range: 1 variant remaining.\n",
      "Using 1 thread (no multithreaded calculations invoked).\n",
      "Before main variant filters, 15356 founders and 0 nonfounders present.\n",
      "Calculating allele frequencies... 0%\b\b1%\b\b2%\b\b3%\b\b4%\b\b5%\b\b6%\b\b7%\b\b8%\b\b9%\b\b10%\b\b\b11%\b\b\b12%\b\b\b13%\b\b\b14%\b\b\b15%\b\b\b16%\b\b\b17%\b\b\b18%\b\b\b19%\b\b\b20%\b\b\b21%\b\b\b22%\b\b\b23%\b\b\b24%\b\b\b25%\b\b\b26%\b\b\b27%\b\b\b28%\b\b\b29%\b\b\b30%\b\b\b31%\b\b\b32%\b\b\b33%\b\b\b34%\b\b\b35%\b\b\b36%\b\b\b37%\b\b\b38%\b\b\b39%\b\b\b40%\b\b\b41%\b\b\b42%\b\b\b43%\b\b\b44%\b\b\b45%\b\b\b46%\b\b\b47%\b\b\b48%\b\b\b49%\b\b\b50%\b\b\b51%\b\b\b52%\b\b\b53%\b\b\b54%\b\b\b55%\b\b\b56%\b\b\b57%\b\b\b58%\b\b\b59%\b\b\b60%\b\b\b61%\b\b\b62%\b\b\b63%\b\b\b64%\b\b\b65%\b\b\b66%\b\b\b67%\b\b\b68%\b\b\b69%\b\b\b70%\b\b\b71%\b\b\b72%\b\b\b73%\b\b\b74%\b\b\b75%\b\b\b76%\b\b\b77%\b\b\b78%\b\b\b79%\b\b\b80%\b\b\b81%\b\b\b82%\b\b\b83%\b\b\b84%\b\b\b85%\b\b\b86%\b\b\b87%\b\b\b88%\b\b\b89%\b\b\b90%\b\b\b91%\b\b\b92%\b\b\b93%\b\b\b94%\b\b\b95%\b\b\b96%\b\b\b97%\b\b\b98%\b\b\b99%\b\b\b\b done.\n",
      "Total genotyping rate is 0.99974.\n",
      "1 variant and 15356 people pass filters and QC.\n",
      "Among remaining phenotypes, 9230 are cases and 4966 are controls.  (1160\n",
      "phenotypes are missing.)\n",
      "--recode A to coding_nonsynonymous_pheno_SH3GL2_EUR.raw ... 0%\b\b1%\b\b2%\b\b3%\b\b4%\b\b5%\b\b6%\b\b7%\b\b8%\b\b9%\b\b10%\b\b\b11%\b\b\b12%\b\b\b13%\b\b\b14%\b\b\b15%\b\b\b16%\b\b\b17%\b\b\b18%\b\b\b19%\b\b\b20%\b\b\b21%\b\b\b22%\b\b\b23%\b\b\b24%\b\b\b25%\b\b\b26%\b\b\b27%\b\b\b28%\b\b\b29%\b\b\b30%\b\b\b31%\b\b\b32%\b\b\b33%\b\b\b34%\b\b\b35%\b\b\b36%\b\b\b37%\b\b\b38%\b\b\b39%\b\b\b40%\b\b\b41%\b\b\b42%\b\b\b43%\b\b\b44%\b\b\b45%\b\b\b46%\b\b\b47%\b\b\b48%\b\b\b49%\b\b\b50%\b\b\b51%\b\b\b52%\b\b\b53%\b\b\b54%\b\b\b55%\b\b\b56%\b\b\b57%\b\b\b58%\b\b\b59%\b\b\b60%\b\b\b61%\b\b\b62%\b\b\b63%\b\b\b64%\b\b\b65%\b\b\b66%\b\b\b67%\b\b\b68%\b\b\b69%\b\b\b70%\b\b\b71%\b\b\b72%\b\b\b73%\b\b\b74%\b\b\b75%\b\b\b76%\b\b\b77%\b\b\b78%\b\b\b79%\b\b\b80%\b\b\b81%\b\b\b82%\b\b\b83%\b\b\b84%\b\b\b85%\b\b\b86%\b\b\b87%\b\b\b88%\b\b\b89%\b\b\b90%\b\b\b91%\b\b\b92%\b\b\b93%\b\b\b94%\b\b\b95%\b\b\b96%\b\b\b97%\b\b\b98%\b\b\b99%\b\b\bdone.\n"
     ]
    }
   ],
   "source": [
    "%%bash\n",
    "\n",
    "WORK_DIR='/home/jupyter/SH3GL2_GP2/'\n",
    "cd $WORK_DIR\n",
    "\n",
    "/home/jupyter/tools/plink --bfile pheno_SH3GL2_EUR --extract range reduced_coding_nonsynonymous_EUR.txt --recode A --out coding_nonsynonymous_pheno_SH3GL2_EUR"
   ]
  },
  {
   "cell_type": "code",
   "execution_count": 59,
   "metadata": {
    "scrolled": true
   },
   "outputs": [
    {
     "data": {
      "text/html": [
       "<div>\n",
       "<style scoped>\n",
       "    .dataframe tbody tr th:only-of-type {\n",
       "        vertical-align: middle;\n",
       "    }\n",
       "\n",
       "    .dataframe tbody tr th {\n",
       "        vertical-align: top;\n",
       "    }\n",
       "\n",
       "    .dataframe thead th {\n",
       "        text-align: right;\n",
       "    }\n",
       "</style>\n",
       "<table border=\"1\" class=\"dataframe\">\n",
       "  <thead>\n",
       "    <tr style=\"text-align: right;\">\n",
       "      <th></th>\n",
       "      <th>FID</th>\n",
       "      <th>IID</th>\n",
       "      <th>PAT</th>\n",
       "      <th>MAT</th>\n",
       "      <th>SEX</th>\n",
       "      <th>PHENOTYPE</th>\n",
       "      <th>chr9:17793465:G:T_T</th>\n",
       "    </tr>\n",
       "  </thead>\n",
       "  <tbody>\n",
       "    <tr>\n",
       "      <th>0</th>\n",
       "      <td>0</td>\n",
       "      <td>APGS_000001_s1</td>\n",
       "      <td>0</td>\n",
       "      <td>0</td>\n",
       "      <td>1</td>\n",
       "      <td>2</td>\n",
       "      <td>0.0</td>\n",
       "    </tr>\n",
       "    <tr>\n",
       "      <th>1</th>\n",
       "      <td>0</td>\n",
       "      <td>APGS_000002_s1</td>\n",
       "      <td>0</td>\n",
       "      <td>0</td>\n",
       "      <td>1</td>\n",
       "      <td>2</td>\n",
       "      <td>0.0</td>\n",
       "    </tr>\n",
       "    <tr>\n",
       "      <th>2</th>\n",
       "      <td>0</td>\n",
       "      <td>APGS_000003_s1</td>\n",
       "      <td>0</td>\n",
       "      <td>0</td>\n",
       "      <td>1</td>\n",
       "      <td>2</td>\n",
       "      <td>0.0</td>\n",
       "    </tr>\n",
       "    <tr>\n",
       "      <th>3</th>\n",
       "      <td>0</td>\n",
       "      <td>APGS_000004_s1</td>\n",
       "      <td>0</td>\n",
       "      <td>0</td>\n",
       "      <td>2</td>\n",
       "      <td>2</td>\n",
       "      <td>0.0</td>\n",
       "    </tr>\n",
       "    <tr>\n",
       "      <th>4</th>\n",
       "      <td>0</td>\n",
       "      <td>APGS_000005_s1</td>\n",
       "      <td>0</td>\n",
       "      <td>0</td>\n",
       "      <td>1</td>\n",
       "      <td>2</td>\n",
       "      <td>0.0</td>\n",
       "    </tr>\n",
       "  </tbody>\n",
       "</table>\n",
       "</div>"
      ],
      "text/plain": [
       "   FID             IID  PAT  MAT  SEX  PHENOTYPE  chr9:17793465:G:T_T\n",
       "0    0  APGS_000001_s1    0    0    1          2                  0.0\n",
       "1    0  APGS_000002_s1    0    0    1          2                  0.0\n",
       "2    0  APGS_000003_s1    0    0    1          2                  0.0\n",
       "3    0  APGS_000004_s1    0    0    2          2                  0.0\n",
       "4    0  APGS_000005_s1    0    0    1          2                  0.0"
      ]
     },
     "execution_count": 59,
     "metadata": {},
     "output_type": "execute_result"
    }
   ],
   "source": [
    "SH3GL2_EUR_recode = pd.read_csv(f'{WORK_DIR}coding_nonsynonymous_pheno_SH3GL2_EUR.raw', delim_whitespace=True)\n",
    "SH3GL2_EUR_recode.head()"
   ]
  },
  {
   "cell_type": "code",
   "execution_count": 60,
   "metadata": {},
   "outputs": [
    {
     "name": "stdout",
     "output_type": "stream",
     "text": [
      "PLINK v1.90b6.9 64-bit (4 Mar 2019)            www.cog-genomics.org/plink/1.9/\n",
      "(C) 2005-2019 Shaun Purcell, Christopher Chang   GNU General Public License v3\n",
      "Logging to coding_nonsynonymous_pheno_SH3GL2_EUR.log.\n",
      "Options in effect:\n",
      "  --bfile pheno_SH3GL2_EUR\n",
      "  --extract range reduced_coding_nonsynonymous_EUR.txt\n",
      "  --out coding_nonsynonymous_pheno_SH3GL2_EUR\n",
      "  --recode A\n",
      "\n",
      "7450 MB RAM detected; reserving 3725 MB for main workspace.\n",
      "2522 variants loaded from .bim file.\n",
      "15356 people (9460 males, 5896 females) loaded from .fam.\n",
      "14196 phenotype values loaded from .fam.\n",
      "--extract range: 2521 variants excluded.\n",
      "--extract range: 1 variant remaining.\n",
      "Using 1 thread (no multithreaded calculations invoked).\n",
      "Before main variant filters, 15356 founders and 0 nonfounders present.\n",
      "Calculating allele frequencies... 0%\b\b1%\b\b2%\b\b3%\b\b4%\b\b5%\b\b6%\b\b7%\b\b8%\b\b9%\b\b10%\b\b\b11%\b\b\b12%\b\b\b13%\b\b\b14%\b\b\b15%\b\b\b16%\b\b\b17%\b\b\b18%\b\b\b19%\b\b\b20%\b\b\b21%\b\b\b22%\b\b\b23%\b\b\b24%\b\b\b25%\b\b\b26%\b\b\b27%\b\b\b28%\b\b\b29%\b\b\b30%\b\b\b31%\b\b\b32%\b\b\b33%\b\b\b34%\b\b\b35%\b\b\b36%\b\b\b37%\b\b\b38%\b\b\b39%\b\b\b40%\b\b\b41%\b\b\b42%\b\b\b43%\b\b\b44%\b\b\b45%\b\b\b46%\b\b\b47%\b\b\b48%\b\b\b49%\b\b\b50%\b\b\b51%\b\b\b52%\b\b\b53%\b\b\b54%\b\b\b55%\b\b\b56%\b\b\b57%\b\b\b58%\b\b\b59%\b\b\b60%\b\b\b61%\b\b\b62%\b\b\b63%\b\b\b64%\b\b\b65%\b\b\b66%\b\b\b67%\b\b\b68%\b\b\b69%\b\b\b70%\b\b\b71%\b\b\b72%\b\b\b73%\b\b\b74%\b\b\b75%\b\b\b76%\b\b\b77%\b\b\b78%\b\b\b79%\b\b\b80%\b\b\b81%\b\b\b82%\b\b\b83%\b\b\b84%\b\b\b85%\b\b\b86%\b\b\b87%\b\b\b88%\b\b\b89%\b\b\b90%\b\b\b91%\b\b\b92%\b\b\b93%\b\b\b94%\b\b\b95%\b\b\b96%\b\b\b97%\b\b\b98%\b\b\b99%\b\b\b\b done.\n",
      "Total genotyping rate is 0.99974.\n",
      "1 variant and 15356 people pass filters and QC.\n",
      "Among remaining phenotypes, 9230 are cases and 4966 are controls.  (1160\n",
      "phenotypes are missing.)\n",
      "--recode A to coding_nonsynonymous_pheno_SH3GL2_EUR.raw ... 0%\b\b1%\b\b2%\b\b3%\b\b4%\b\b5%\b\b6%\b\b7%\b\b8%\b\b9%\b\b10%\b\b\b11%\b\b\b12%\b\b\b13%\b\b\b14%\b\b\b15%\b\b\b16%\b\b\b17%\b\b\b18%\b\b\b19%\b\b\b20%\b\b\b21%\b\b\b22%\b\b\b23%\b\b\b24%\b\b\b25%\b\b\b26%\b\b\b27%\b\b\b28%\b\b\b29%\b\b\b30%\b\b\b31%\b\b\b32%\b\b\b33%\b\b\b34%\b\b\b35%\b\b\b36%\b\b\b37%\b\b\b38%\b\b\b39%\b\b\b40%\b\b\b41%\b\b\b42%\b\b\b43%\b\b\b44%\b\b\b45%\b\b\b46%\b\b\b47%\b\b\b48%\b\b\b49%\b\b\b50%\b\b\b51%\b\b\b52%\b\b\b53%\b\b\b54%\b\b\b55%\b\b\b56%\b\b\b57%\b\b\b58%\b\b\b59%\b\b\b60%\b\b\b61%\b\b\b62%\b\b\b63%\b\b\b64%\b\b\b65%\b\b\b66%\b\b\b67%\b\b\b68%\b\b\b69%\b\b\b70%\b\b\b71%\b\b\b72%\b\b\b73%\b\b\b74%\b\b\b75%\b\b\b76%\b\b\b77%\b\b\b78%\b\b\b79%\b\b\b80%\b\b\b81%\b\b\b82%\b\b\b83%\b\b\b84%\b\b\b85%\b\b\b86%\b\b\b87%\b\b\b88%\b\b\b89%\b\b\b90%\b\b\b91%\b\b\b92%\b\b\b93%\b\b\b94%\b\b\b95%\b\b\b96%\b\b\b97%\b\b\b98%\b\b\b99%\b\b\bdone.\n"
     ]
    }
   ],
   "source": [
    "%%bash\n",
    "\n",
    "WORK_DIR='/home/jupyter/SH3GL2_GP2/'\n",
    "cd $WORK_DIR\n",
    "\n",
    "/home/jupyter/tools/plink --bfile  pheno_SH3GL2_EUR --extract range reduced_coding_nonsynonymous_EUR.txt --recode A --out coding_nonsynonymous_pheno_SH3GL2_EUR"
   ]
  },
  {
   "cell_type": "code",
   "execution_count": 61,
   "metadata": {},
   "outputs": [
    {
     "data": {
      "text/html": [
       "<div>\n",
       "<style scoped>\n",
       "    .dataframe tbody tr th:only-of-type {\n",
       "        vertical-align: middle;\n",
       "    }\n",
       "\n",
       "    .dataframe tbody tr th {\n",
       "        vertical-align: top;\n",
       "    }\n",
       "\n",
       "    .dataframe thead th {\n",
       "        text-align: right;\n",
       "    }\n",
       "</style>\n",
       "<table border=\"1\" class=\"dataframe\">\n",
       "  <thead>\n",
       "    <tr style=\"text-align: right;\">\n",
       "      <th></th>\n",
       "      <th>FID</th>\n",
       "      <th>IID</th>\n",
       "      <th>PAT</th>\n",
       "      <th>MAT</th>\n",
       "      <th>SEX</th>\n",
       "      <th>PHENOTYPE</th>\n",
       "      <th>chr9:17793465:G:T_T</th>\n",
       "    </tr>\n",
       "  </thead>\n",
       "  <tbody>\n",
       "  </tbody>\n",
       "</table>\n",
       "</div>"
      ],
      "text/plain": [
       "Empty DataFrame\n",
       "Columns: [FID, IID, PAT, MAT, SEX, PHENOTYPE, chr9:17793465:G:T_T]\n",
       "Index: []"
      ]
     },
     "execution_count": 61,
     "metadata": {},
     "output_type": "execute_result"
    }
   ],
   "source": [
    "# Explore HMZs for chr9:17793465:G:T_T in cases\n",
    "SH3GL2_hom_cases_EUR = SH3GL2_EUR_recode[(SH3GL2_EUR_recode['chr9:17793465:G:T_T'] == 2) & (SH3GL2_EUR_recode['PHENOTYPE'] == 2)]\n",
    "SH3GL2_hom_cases_EUR.head()"
   ]
  },
  {
   "cell_type": "code",
   "execution_count": 62,
   "metadata": {},
   "outputs": [
    {
     "data": {
      "text/html": [
       "<div>\n",
       "<style scoped>\n",
       "    .dataframe tbody tr th:only-of-type {\n",
       "        vertical-align: middle;\n",
       "    }\n",
       "\n",
       "    .dataframe tbody tr th {\n",
       "        vertical-align: top;\n",
       "    }\n",
       "\n",
       "    .dataframe thead th {\n",
       "        text-align: right;\n",
       "    }\n",
       "</style>\n",
       "<table border=\"1\" class=\"dataframe\">\n",
       "  <thead>\n",
       "    <tr style=\"text-align: right;\">\n",
       "      <th></th>\n",
       "      <th>FID</th>\n",
       "      <th>IID</th>\n",
       "      <th>PAT</th>\n",
       "      <th>MAT</th>\n",
       "      <th>SEX</th>\n",
       "      <th>PHENOTYPE</th>\n",
       "      <th>chr9:17793465:G:T_T</th>\n",
       "    </tr>\n",
       "  </thead>\n",
       "  <tbody>\n",
       "  </tbody>\n",
       "</table>\n",
       "</div>"
      ],
      "text/plain": [
       "Empty DataFrame\n",
       "Columns: [FID, IID, PAT, MAT, SEX, PHENOTYPE, chr9:17793465:G:T_T]\n",
       "Index: []"
      ]
     },
     "execution_count": 62,
     "metadata": {},
     "output_type": "execute_result"
    }
   ],
   "source": [
    "# Explore HMZs for chr9:17793465:G:T_T in cases   el que hay es: 17793465\n",
    "SH3GL2_hom_cases_EUR2 = SH3GL2_EUR_recode[(SH3GL2_EUR_recode['chr9:17793465:G:T_T'] == 2) & (SH3GL2_EUR_recode['PHENOTYPE'] == 2)]\n",
    "SH3GL2_hom_cases_EUR2.head()"
   ]
  },
  {
   "cell_type": "code",
   "execution_count": 63,
   "metadata": {},
   "outputs": [
    {
     "data": {
      "text/plain": [
       "(0, 7)"
      ]
     },
     "execution_count": 63,
     "metadata": {},
     "output_type": "execute_result"
    }
   ],
   "source": [
    "SH3GL2_hom_cases_EUR2.shape"
   ]
  },
  {
   "cell_type": "code",
   "execution_count": 64,
   "metadata": {},
   "outputs": [
    {
     "data": {
      "text/html": [
       "<div>\n",
       "<style scoped>\n",
       "    .dataframe tbody tr th:only-of-type {\n",
       "        vertical-align: middle;\n",
       "    }\n",
       "\n",
       "    .dataframe tbody tr th {\n",
       "        vertical-align: top;\n",
       "    }\n",
       "\n",
       "    .dataframe thead th {\n",
       "        text-align: right;\n",
       "    }\n",
       "</style>\n",
       "<table border=\"1\" class=\"dataframe\">\n",
       "  <thead>\n",
       "    <tr style=\"text-align: right;\">\n",
       "      <th></th>\n",
       "      <th>FID</th>\n",
       "      <th>IID</th>\n",
       "      <th>PAT</th>\n",
       "      <th>MAT</th>\n",
       "      <th>SEX</th>\n",
       "      <th>PHENOTYPE</th>\n",
       "      <th>chr9:17793465:G:T_T</th>\n",
       "    </tr>\n",
       "  </thead>\n",
       "  <tbody>\n",
       "  </tbody>\n",
       "</table>\n",
       "</div>"
      ],
      "text/plain": [
       "Empty DataFrame\n",
       "Columns: [FID, IID, PAT, MAT, SEX, PHENOTYPE, chr9:17793465:G:T_T]\n",
       "Index: []"
      ]
     },
     "execution_count": 64,
     "metadata": {},
     "output_type": "execute_result"
    }
   ],
   "source": [
    "# Explore HMZs for chr9:17793465:G:T_T in controls\n",
    "SH3GL2_hom_controls_EUR2 = SH3GL2_EUR_recode[(SH3GL2_EUR_recode['chr9:17793465:G:T_T'] == 2) & (SH3GL2_EUR_recode['PHENOTYPE'] == 1)]\n",
    "SH3GL2_hom_controls_EUR2.head()"
   ]
  },
  {
   "cell_type": "code",
   "execution_count": 65,
   "metadata": {},
   "outputs": [
    {
     "data": {
      "text/plain": [
       "(0, 7)"
      ]
     },
     "execution_count": 65,
     "metadata": {},
     "output_type": "execute_result"
    }
   ],
   "source": [
    "SH3GL2_hom_controls_EUR2.shape"
   ]
  },
  {
   "cell_type": "markdown",
   "metadata": {},
   "source": [
    "## Save out results..!"
   ]
  },
  {
   "cell_type": "code",
   "execution_count": 62,
   "metadata": {},
   "outputs": [
    {
     "name": "stderr",
     "output_type": "stream",
     "text": [
      "Executing: gsutil -mu terra-18d8e41c cp -r /home/jupyter/SH3GL2_GP2/ gs://fc-f7a400c1-827e-48f8-b7b6-90c488a000a4\n"
     ]
    },
    {
     "name": "stdout",
     "output_type": "stream",
     "text": [
      "Copying file:///home/jupyter/SH3GL2_GP2/pheno_SH3GL2_AFR.vcf.gz [Content-Type=text/vcard]...\n",
      "Copying file:///home/jupyter/SH3GL2_GP2/chr9_AAC_release5.psam [Content-Type=application/octet-stream]...\n",
      "Copying file:///home/jupyter/SH3GL2_GP2/chr9_AJ_release5.pgen [Content-Type=application/octet-stream]...\n",
      "Copying file:///home/jupyter/SH3GL2_GP2/pheno_SH3GL2_AFR.bed [Content-Type=application/octet-stream]...\n",
      "Copying file:///home/jupyter/SH3GL2_GP2/chr9_FIN_release5.log [Content-Type=application/octet-stream]...\n",
      "==> NOTE: You are uploading one or more large file(s), which would run          \n",
      "significantly faster if you enable parallel composite uploads. This\n",
      "feature can be enabled by editing the\n",
      "\"parallel_composite_upload_threshold\" value in your .boto\n",
      "configuration file. However, note that if you do this large files will\n",
      "be uploaded as `composite objects\n",
      "<https://cloud.google.com/storage/docs/composite-objects>`_,which\n",
      "means that any user who downloads such objects will need to have a\n",
      "compiled crcmod installed (see \"gsutil help crcmod\"). This is because\n",
      "without a compiled crcmod, computing checksums on composite objects is\n",
      "so slow that gsutil disables downloads of composite objects.\n",
      "\n",
      "Copying file:///home/jupyter/SH3GL2_GP2/pheno_SH3GL2_EUR.annovar.hg38_multianno.vcf [Content-Type=text/vcard]...\n",
      "Copying file:///home/jupyter/SH3GL2_GP2/chr9_AFR_release5.pvar [Content-Type=application/octet-stream]...\n",
      "Copying file:///home/jupyter/SH3GL2_GP2/reduced_coding_nonsynonymous_EUR.txt [Content-Type=text/plain]...\n",
      "Copying file:///home/jupyter/SH3GL2_GP2/pheno_SH3GL2_MDE.annovar.hg38_multianno.txt [Content-Type=text/plain]...\n",
      "Copying file:///home/jupyter/SH3GL2_GP2/chr9_AFR_release4.pgen [Content-Type=application/octet-stream]...\n",
      "Copying file:///home/jupyter/SH3GL2_GP2/pheno_SH3GL2_AAC.bed [Content-Type=application/octet-stream]...\n",
      "Copying file:///home/jupyter/SH3GL2_GP2/pheno_SH3GL2_AAC.vcf.gz [Content-Type=text/vcard]...\n",
      "Copying file:///home/jupyter/SH3GL2_GP2/coding_nonsynonymous_EUR_rare_0.05.bim [Content-Type=application/octet-stream]...\n",
      "Copying file:///home/jupyter/SH3GL2_GP2/pheno_SH3GL2_FIN.bed [Content-Type=application/octet-stream]...\n",
      "Copying file:///home/jupyter/SH3GL2_GP2/pheno_SH3GL2_AAC.annovar.avinput [Content-Type=application/octet-stream]...\n",
      "Copying file:///home/jupyter/SH3GL2_GP2/pheno_SH3GL2_AJ.log [Content-Type=application/octet-stream]...\n",
      "Copying file:///home/jupyter/SH3GL2_GP2/chr9_MDE_release5.psam [Content-Type=application/octet-stream]...\n",
      "Copying file:///home/jupyter/SH3GL2_GP2/coding_nonsynonymous_EUR_rare_0.05.fam [Content-Type=application/octet-stream]...\n",
      "Copying file:///home/jupyter/SH3GL2_GP2/coding_nonsynonymous_pheno_SH3GL2_EUR.raw [Content-Type=application/octet-stream]...\n",
      "Copying file:///home/jupyter/SH3GL2_GP2/coding_nonsynonymous_pheno_SH3GL2_AJ.log [Content-Type=application/octet-stream]...\n",
      "Copying file:///home/jupyter/SH3GL2_GP2/chr9_AMR_release5.pgen [Content-Type=application/octet-stream]...\n",
      "Copying file:///home/jupyter/SH3GL2_GP2/chr9_CAS_release5.pgen [Content-Type=application/octet-stream]...\n",
      "Copying file:///home/jupyter/SH3GL2_GP2/chr9_AFR_release5.psam [Content-Type=application/octet-stream]...\n",
      "Copying file:///home/jupyter/SH3GL2_GP2/temp.log [Content-Type=application/octet-stream]...\n",
      "Copying file:///home/jupyter/SH3GL2_GP2/pheno_SH3GL2_AMR.fam [Content-Type=application/octet-stream]...\n",
      "Copying file:///home/jupyter/SH3GL2_GP2/pheno_SH3GL2_CAS.vcf.gz [Content-Type=text/vcard]...\n",
      "Copying file:///home/jupyter/SH3GL2_GP2/pheno_SH3GL2_AJ.bim [Content-Type=application/octet-stream]...\n",
      "Copying file:///home/jupyter/SH3GL2_GP2/pheno_SH3GL2_AMR.vcf.gz.tbi [Content-Type=application/octet-stream]...\n",
      "Copying file:///home/jupyter/SH3GL2_GP2/coding_nonsynonymous_MDE_rare_0.05.log [Content-Type=application/octet-stream]...\n",
      "Copying file:///home/jupyter/SH3GL2_GP2/pheno_SH3GL2_CAS.vcf [Content-Type=text/vcard]...\n",
      "Copying file:///home/jupyter/SH3GL2_GP2/coding_nonsynonymous_CAS_rare_0.05.log [Content-Type=application/octet-stream]...\n",
      "Copying file:///home/jupyter/SH3GL2_GP2/coding_nonsynonymous_AAC_rare_0.05.log [Content-Type=application/octet-stream]...\n",
      "Copying file:///home/jupyter/SH3GL2_GP2/SEX.txt [Content-Type=text/plain]...    \n",
      "Copying file:///home/jupyter/SH3GL2_GP2/pheno_SH3GL2_EUR.vcf [Content-Type=text/vcard]...\n",
      "Copying file:///home/jupyter/SH3GL2_GP2/pheno_SH3GL2_EUR.annovar.avinput [Content-Type=application/octet-stream]...\n",
      "Copying file:///home/jupyter/SH3GL2_GP2/pheno_SH3GL2_AJ.vcf.gz [Content-Type=text/vcard]...\n",
      "Copying file:///home/jupyter/SH3GL2_GP2/pheno_SH3GL2_CAS.bed [Content-Type=application/octet-stream]...\n",
      "Copying file:///home/jupyter/SH3GL2_GP2/pheno_SH3GL2_AMR.log [Content-Type=application/octet-stream]...\n",
      "Copying file:///home/jupyter/SH3GL2_GP2/pheno_SH3GL2_AAC.bim [Content-Type=application/octet-stream]...\n",
      "Copying file:///home/jupyter/SH3GL2_GP2/pheno_SH3GL2_AMR.nosex [Content-Type=application/octet-stream]...\n",
      "Copying file:///home/jupyter/SH3GL2_GP2/pheno_SH3GL2_AJ.vcf.gz.tbi [Content-Type=application/octet-stream]...\n",
      "Copying file:///home/jupyter/SH3GL2_GP2/pheno_SH3GL2_AMR.annovar.hg38_multianno.vcf [Content-Type=text/vcard]...\n",
      "Copying file:///home/jupyter/SH3GL2_GP2/chr9_EUR_release5.log [Content-Type=application/octet-stream]...\n",
      "Copying file:///home/jupyter/SH3GL2_GP2/chr9_AFR_release4.psam [Content-Type=application/octet-stream]...\n",
      "Copying file:///home/jupyter/SH3GL2_GP2/chr9_AMR_release5.log [Content-Type=application/octet-stream]...\n",
      "Copying file:///home/jupyter/SH3GL2_GP2/pheno_SH3GL2_CAS.vcf.gz.tbi [Content-Type=application/octet-stream]...\n",
      "Copying file:///home/jupyter/SH3GL2_GP2/pheno_SH3GL2_AFR.annovar.avinput [Content-Type=application/octet-stream]...\n",
      "Copying file:///home/jupyter/SH3GL2_GP2/pheno_SH3GL2_AJ.annovar.hg38_multianno.vcf [Content-Type=text/vcard]...\n",
      "Copying file:///home/jupyter/SH3GL2_GP2/pheno_SH3GL2_AMR.bim [Content-Type=application/octet-stream]...\n",
      "Copying file:///home/jupyter/SH3GL2_GP2/pheno_SH3GL2_CAS.annovar.hg38_multianno.txt [Content-Type=text/plain]...\n",
      "Copying file:///home/jupyter/SH3GL2_GP2/reduced_coding_nonsynonymous_AAC.txt [Content-Type=text/plain]...\n",
      "Copying file:///home/jupyter/SH3GL2_GP2/reduced_coding_nonsynonymous_FIN.txt [Content-Type=text/plain]...\n",
      "Copying file:///home/jupyter/SH3GL2_GP2/chr9_EUR_release5.psam [Content-Type=application/octet-stream]...\n",
      "Copying file:///home/jupyter/SH3GL2_GP2/chr9_AJ_release5.pvar [Content-Type=application/octet-stream]...\n",
      "Copying file:///home/jupyter/SH3GL2_GP2/chr9_CAS_release5.psam [Content-Type=application/octet-stream]...\n",
      "Copying file:///home/jupyter/SH3GL2_GP2/pheno_SH3GL2_MDE.log [Content-Type=application/octet-stream]...\n",
      "Copying file:///home/jupyter/SH3GL2_GP2/pheno_SH3GL2_FIN.fam [Content-Type=application/octet-stream]...\n",
      "Copying file:///home/jupyter/SH3GL2_GP2/pheno_SH3GL2_CAS.annovar.hg38_multianno.vcf [Content-Type=text/vcard]...\n",
      "Copying file:///home/jupyter/SH3GL2_GP2/pheno_SH3GL2_EUR.fam [Content-Type=application/octet-stream]...\n",
      "Copying file:///home/jupyter/SH3GL2_GP2/coding_nonsynonymous_EUR_rare_0.05.bed [Content-Type=application/octet-stream]...\n",
      "Copying file:///home/jupyter/SH3GL2_GP2/pheno_SH3GL2_AAC.annovar.hg38_multianno.txt [Content-Type=text/plain]...\n",
      "Copying file:///home/jupyter/SH3GL2_GP2/master_key_release4_final.csv [Content-Type=text/csv]...\n",
      "Copying file:///home/jupyter/SH3GL2_GP2/coding_nonsynonymous_AFR_rare_0.05.log [Content-Type=application/octet-stream]...\n",
      "Copying file:///home/jupyter/SH3GL2_GP2/pheno_SH3GL2_FIN.annovar.hg38_multianno.vcf [Content-Type=text/vcard]...\n",
      "Copying file:///home/jupyter/SH3GL2_GP2/coding_nonsynonymous_pheno_SH3GL2_FIN.log [Content-Type=application/octet-stream]...\n",
      "Copying file:///home/jupyter/SH3GL2_GP2/coding_nonsynonymous_pheno_SH3GL2_EUR.assoc [Content-Type=application/octet-stream]...\n",
      "Copying file:///home/jupyter/SH3GL2_GP2/pheno_SH3GL2_AAC.annovar.hg38_multianno.vcf [Content-Type=text/vcard]...\n",
      "Copying file:///home/jupyter/SH3GL2_GP2/coding_nonsynonymous_pheno_SH3GL2_EUR.log [Content-Type=application/octet-stream]...\n",
      "Copying file:///home/jupyter/SH3GL2_GP2/pheno_SH3GL2_AFR.vcf.gz.tbi [Content-Type=application/octet-stream]...\n",
      "Copying file:///home/jupyter/SH3GL2_GP2/coding_nonsynonymous_pheno_SH3GL2_AFR.log [Content-Type=application/octet-stream]...\n",
      "Copying file:///home/jupyter/SH3GL2_GP2/pheno_SH3GL2_AFR.annovar.hg38_multianno.txt [Content-Type=text/plain]...\n",
      "Copying file:///home/jupyter/SH3GL2_GP2/chr9_CAS_release5.log [Content-Type=application/octet-stream]...\n",
      "Copying file:///home/jupyter/SH3GL2_GP2/pheno_SH3GL2_FIN.log [Content-Type=application/octet-stream]...\n",
      "Copying file:///home/jupyter/SH3GL2_GP2/pheno_SH3GL2_AJ.annovar.avinput [Content-Type=application/octet-stream]...\n",
      "Copying file:///home/jupyter/SH3GL2_GP2/reduced_coding_nonsynonymous_AJ.txt [Content-Type=text/plain]...\n",
      "Copying file:///home/jupyter/SH3GL2_GP2/coding_nonsynonymous_pheno_SH3GL2_AAC.log [Content-Type=application/octet-stream]...\n",
      "Copying file:///home/jupyter/SH3GL2_GP2/pheno_SH3GL2_MDE.annovar.avinput [Content-Type=application/octet-stream]...\n",
      "Copying file:///home/jupyter/SH3GL2_GP2/coding_nonsynonymous.txt [Content-Type=text/plain]...\n",
      "Copying file:///home/jupyter/SH3GL2_GP2/pheno_SH3GL2_EUR.vcf.gz [Content-Type=text/vcard]...\n",
      "Copying file:///home/jupyter/SH3GL2_GP2/pheno_SH3GL2_AJ.annovar.hg38_multianno.txt [Content-Type=text/plain]...\n",
      "Copying file:///home/jupyter/SH3GL2_GP2/pheno_SH3GL2_EUR.bim [Content-Type=application/octet-stream]...\n",
      "Copying file:///home/jupyter/SH3GL2_GP2/chr9_EUR_release5.pgen [Content-Type=application/octet-stream]...\n",
      "Copying file:///home/jupyter/SH3GL2_GP2/chr9_AMR_release4.pvar [Content-Type=application/octet-stream]...\n",
      "Copying file:///home/jupyter/SH3GL2_GP2/chr9_AMR_release5.pvar [Content-Type=application/octet-stream]...\n",
      "Copying file:///home/jupyter/SH3GL2_GP2/pheno_SH3GL2_AMR.annovar.avinput [Content-Type=application/octet-stream]...\n",
      "Copying file:///home/jupyter/SH3GL2_GP2/pheno_SH3GL2_CAS.bim [Content-Type=application/octet-stream]...\n",
      "Copying file:///home/jupyter/SH3GL2_GP2/pheno_SH3GL2_AFR.annovar.hg38_multianno.vcf [Content-Type=text/vcard]...\n",
      "Copying file:///home/jupyter/SH3GL2_GP2/pheno_SH3GL2_AJ.bed [Content-Type=application/octet-stream]...\n",
      "Copying file:///home/jupyter/SH3GL2_GP2/reduced_coding_nonsynonymous_AFR.txt [Content-Type=text/plain]...\n",
      "Copying file:///home/jupyter/SH3GL2_GP2/pheno_SH3GL2_AAC.log [Content-Type=application/octet-stream]...\n",
      "Copying file:///home/jupyter/SH3GL2_GP2/reduced_coding_nonsynonymous_AMR.txt [Content-Type=text/plain]...\n",
      "Copying file:///home/jupyter/SH3GL2_GP2/pheno_SH3GL2_AFR.bim [Content-Type=application/octet-stream]...\n",
      "Copying file:///home/jupyter/SH3GL2_GP2/PHENO.txt [Content-Type=text/plain]...  \n",
      "Copying file:///home/jupyter/SH3GL2_GP2/chr9_EUR_release5.pvar [Content-Type=application/octet-stream]...\n",
      "Copying file:///home/jupyter/SH3GL2_GP2/pheno_SH3GL2_AAC.vcf.gz.tbi [Content-Type=application/octet-stream]...\n",
      "Copying file:///home/jupyter/SH3GL2_GP2/chr9_AMR_release5.psam [Content-Type=application/octet-stream]...\n",
      "Copying file:///home/jupyter/SH3GL2_GP2/pheno_SH3GL2_AAC.fam [Content-Type=application/octet-stream]...\n",
      "Copying file:///home/jupyter/SH3GL2_GP2/chr9_AFR_release5.log [Content-Type=application/octet-stream]...\n",
      "Copying file:///home/jupyter/SH3GL2_GP2/pheno_SH3GL2_AFR.fam [Content-Type=application/octet-stream]...\n",
      "Copying file:///home/jupyter/SH3GL2_GP2/pheno_SH3GL2_AFR.log [Content-Type=application/octet-stream]...\n",
      "Copying file:///home/jupyter/SH3GL2_GP2/pheno_SH3GL2_FIN.vcf.gz [Content-Type=text/vcard]...\n",
      "Copying file:///home/jupyter/SH3GL2_GP2/chr9_AMR_release4.psam [Content-Type=application/octet-stream]...\n",
      "Copying file:///home/jupyter/SH3GL2_GP2/pheno_SH3GL2_EUR.log [Content-Type=application/octet-stream]...\n",
      "Copying file:///home/jupyter/SH3GL2_GP2/chr9_AFR_release4.log [Content-Type=application/octet-stream]...\n",
      "Copying file:///home/jupyter/SH3GL2_GP2/chr9_AFR_release4.pvar [Content-Type=application/octet-stream]...\n",
      "Copying file:///home/jupyter/SH3GL2_GP2/pheno_SH3GL2_EUR.annovar.hg38_multianno.txt [Content-Type=text/plain]...\n",
      "Copying file:///home/jupyter/SH3GL2_GP2/chr9_FIN_release5.psam [Content-Type=application/octet-stream]...\n",
      "Copying file:///home/jupyter/SH3GL2_GP2/chr9_AAC_release5.log [Content-Type=application/octet-stream]...\n",
      "Copying file:///home/jupyter/SH3GL2_GP2/coding_nonsynonymous_pheno_SH3GL2_MDE.log [Content-Type=application/octet-stream]...\n",
      "Copying file:///home/jupyter/SH3GL2_GP2/pheno_SH3GL2_MDE.vcf.gz [Content-Type=text/vcard]...\n",
      "Copying file:///home/jupyter/SH3GL2_GP2/coding_nonsynonymous_pheno_SH3GL2_EUR.assoc.adjusted [Content-Type=application/octet-stream]...\n",
      "Copying file:///home/jupyter/SH3GL2_GP2/chr9_MDE_release5.log [Content-Type=application/octet-stream]...\n",
      "Copying file:///home/jupyter/SH3GL2_GP2/pheno_SH3GL2_CAS.fam [Content-Type=application/octet-stream]...\n",
      "Copying file:///home/jupyter/SH3GL2_GP2/pheno_SH3GL2_AMR.bed [Content-Type=application/octet-stream]...\n",
      "Copying file:///home/jupyter/SH3GL2_GP2/chr9_AAC_release5.pvar [Content-Type=application/octet-stream]...\n",
      "Copying file:///home/jupyter/SH3GL2_GP2/pheno_SH3GL2_FIN.vcf.gz.tbi [Content-Type=application/octet-stream]...\n",
      "Copying file:///home/jupyter/SH3GL2_GP2/pheno_SH3GL2_CAS.log [Content-Type=application/octet-stream]...\n",
      "Copying file:///home/jupyter/SH3GL2_GP2/chr9_AAC_release5.pgen [Content-Type=application/octet-stream]...\n",
      "Copying file:///home/jupyter/SH3GL2_GP2/pheno_SH3GL2_AMR.vcf.gz [Content-Type=text/vcard]...\n",
      "Copying file:///home/jupyter/SH3GL2_GP2/pheno_SH3GL2_AJ.fam [Content-Type=application/octet-stream]...\n",
      "Copying file:///home/jupyter/SH3GL2_GP2/pheno_SH3GL2_CAS.annovar.avinput [Content-Type=application/octet-stream]...\n",
      "Copying file:///home/jupyter/SH3GL2_GP2/pheno_SH3GL2_EUR.vcf.gz.tbi [Content-Type=application/octet-stream]...\n",
      "Copying file:///home/jupyter/SH3GL2_GP2/coding_nonsynonymous_pheno_SH3GL2_AFR.nosex [Content-Type=application/octet-stream]...\n",
      "Copying file:///home/jupyter/SH3GL2_GP2/chr9_FIN_release5.pgen [Content-Type=application/octet-stream]...\n",
      "Copying file:///home/jupyter/SH3GL2_GP2/chr9_AJ_release5.psam [Content-Type=application/octet-stream]...\n",
      "Copying file:///home/jupyter/SH3GL2_GP2/pheno_SH3GL2_MDE.bim [Content-Type=application/octet-stream]...\n",
      "Copying file:///home/jupyter/SH3GL2_GP2/master_key_release5_final.csv [Content-Type=text/csv]...\n",
      "Copying file:///home/jupyter/SH3GL2_GP2/chr9_AFR_release5.pgen [Content-Type=application/octet-stream]...\n",
      "Copying file:///home/jupyter/SH3GL2_GP2/chr9_FIN_release5.pvar [Content-Type=application/octet-stream]...\n",
      "Copying file:///home/jupyter/SH3GL2_GP2/chr9_AJ_release5.log [Content-Type=application/octet-stream]...\n",
      "Copying file:///home/jupyter/SH3GL2_GP2/pheno_SH3GL2_MDE.fam [Content-Type=application/octet-stream]...\n",
      "Copying file:///home/jupyter/SH3GL2_GP2/pheno_SH3GL2_FIN.annovar.avinput [Content-Type=application/octet-stream]...\n",
      "Copying file:///home/jupyter/SH3GL2_GP2/pheno_SH3GL2_AFR.nosex [Content-Type=application/octet-stream]...\n",
      "Copying file:///home/jupyter/SH3GL2_GP2/chr9_MDE_release5.pvar [Content-Type=application/octet-stream]...\n",
      "Copying file:///home/jupyter/SH3GL2_GP2/chr9_AMR_release4.log [Content-Type=application/octet-stream]...\n",
      "Copying file:///home/jupyter/SH3GL2_GP2/coding_nonsynonymous_pheno_SH3GL2_CAS.log [Content-Type=application/octet-stream]...\n",
      "Copying file:///home/jupyter/SH3GL2_GP2/reduced_coding_nonsynonymous_MDE.txt [Content-Type=text/plain]...\n",
      "Copying file:///home/jupyter/SH3GL2_GP2/pheno_SH3GL2_MDE.vcf.gz.tbi [Content-Type=application/octet-stream]...\n",
      "Copying file:///home/jupyter/SH3GL2_GP2/pheno_SH3GL2_AFR.vcf [Content-Type=text/vcard]...\n",
      "Copying file:///home/jupyter/SH3GL2_GP2/pheno_SH3GL2_FIN.bim [Content-Type=application/octet-stream]...\n",
      "Copying file:///home/jupyter/SH3GL2_GP2/pheno_SH3GL2_FIN.annovar.hg38_multianno.txt [Content-Type=text/plain]...\n",
      "Copying file:///home/jupyter/SH3GL2_GP2/chr9_CAS_release5.pvar [Content-Type=application/octet-stream]...\n",
      "Copying file:///home/jupyter/SH3GL2_GP2/coding_nonsynonymous_pheno_SH3GL2_AMR.log [Content-Type=application/octet-stream]...\n",
      "Copying file:///home/jupyter/SH3GL2_GP2/chr9_AMR_release4.pgen [Content-Type=application/octet-stream]...\n",
      "INFO 0703 18:49:39.115679 retry_util.py] Retrying request, attempt #1...9       \n",
      "Copying file:///home/jupyter/SH3GL2_GP2/reduced_coding_nonsynonymous_CAS.txt [Content-Type=text/plain]...\n",
      "Copying file:///home/jupyter/SH3GL2_GP2/coding_nonsynonymous_EUR_rare_0.05.log [Content-Type=application/octet-stream]...\n",
      "Copying file:///home/jupyter/SH3GL2_GP2/pheno_SH3GL2_MDE.bed [Content-Type=application/octet-stream]...\n",
      "Copying file:///home/jupyter/SH3GL2_GP2/chr9_MDE_release5.pgen [Content-Type=application/octet-stream]...\n",
      "Copying file:///home/jupyter/SH3GL2_GP2/coding_nonsynonymous_AMR_rare_0.05.nosex [Content-Type=application/octet-stream]...\n",
      "Copying file:///home/jupyter/SH3GL2_GP2/pheno_SH3GL2_AMR.vcf [Content-Type=text/vcard]...\n",
      "Copying file:///home/jupyter/SH3GL2_GP2/pheno_SH3GL2_MDE.annovar.hg38_multianno.vcf [Content-Type=text/vcard]...\n",
      "Copying file:///home/jupyter/SH3GL2_GP2/pheno_SH3GL2_EUR.bed [Content-Type=application/octet-stream]...\n",
      "Copying file:///home/jupyter/SH3GL2_GP2/pheno_SH3GL2_AMR.annovar.hg38_multianno.txt [Content-Type=text/plain]...\n",
      "Copying file:///home/jupyter/SH3GL2_GP2/coding_nonsynonymous_pheno_SH3GL2_AMR.nosex [Content-Type=application/octet-stream]...\n",
      "Copying file:///home/jupyter/SH3GL2_GP2/coding_nonsynonymous_AFR_rare_0.05.nosex [Content-Type=application/octet-stream]...\n",
      "Copying file:///home/jupyter/SH3GL2_GP2/coding_nonsynonymous_AMR_rare_0.05.log [Content-Type=application/octet-stream]...\n",
      "- [156/156 files][ 10.7 GiB/ 10.7 GiB] 100% Done  58.8 MiB/s ETA 00:00:00       \n",
      "Operation completed over 156 objects/10.7 GiB.                                   \n"
     ]
    }
   ],
   "source": [
    "shell_do(f'gsutil -mu {BILLING_PROJECT_ID} cp -r {WORK_DIR} {WORKSPACE_BUCKET}')"
   ]
  },
  {
   "cell_type": "code",
   "execution_count": null,
   "metadata": {},
   "outputs": [],
   "source": []
  }
 ],
 "metadata": {
  "kernelspec": {
   "display_name": "Python 3",
   "language": "python",
   "name": "python3"
  },
  "language_info": {
   "codemirror_mode": {
    "name": "ipython",
    "version": 3
   },
   "file_extension": ".py",
   "mimetype": "text/x-python",
   "name": "python",
   "nbconvert_exporter": "python",
   "pygments_lexer": "ipython3",
   "version": "3.7.12"
  },
  "toc": {
   "base_numbering": 1,
   "nav_menu": {
    "height": "248.972px",
    "width": "263.062px"
   },
   "number_sections": true,
   "sideBar": true,
   "skip_h1_title": false,
   "title_cell": "Table of Contents",
   "title_sidebar": "Contents",
   "toc_cell": false,
   "toc_position": {
    "height": "calc(100% - 180px)",
    "left": "10px",
    "top": "150px",
    "width": "268.372px"
   },
   "toc_section_display": true,
   "toc_window_display": false
  }
 },
 "nbformat": 4,
 "nbformat_minor": 2
}
